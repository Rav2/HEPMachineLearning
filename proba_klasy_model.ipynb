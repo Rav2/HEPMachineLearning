{
 "cells": [
  {
   "cell_type": "code",
   "execution_count": 18,
   "metadata": {},
   "outputs": [],
   "source": [
    "from model_dnn \n",
    "\n",
    "\n",
    "\n",
    "\n",
    "\n",
    "\n",
    "    \n"
   ]
  },
  {
   "cell_type": "code",
   "execution_count": 15,
   "metadata": {},
   "outputs": [
    {
     "name": "stdout",
     "output_type": "stream",
     "text": [
      "policzylo mean oraz variance\n",
      "zapisalo je\n",
      "INFO:tensorflow:Using default config.\n",
      "INFO:tensorflow:Using config: {'_model_dir': 'model_probny/model', '_tf_random_seed': None, '_save_summary_steps': 100, '_save_checkpoints_steps': None, '_save_checkpoints_secs': 600, '_session_config': None, '_keep_checkpoint_max': 5, '_keep_checkpoint_every_n_hours': 10000, '_log_step_count_steps': 100, '_train_distribute': None, '_service': None, '_cluster_spec': <tensorflow.python.training.server_lib.ClusterSpec object at 0x7f14a71a2a20>, '_task_type': 'worker', '_task_id': 0, '_global_id_in_cluster': 0, '_master': '', '_evaluation_master': '', '_is_chief': True, '_num_ps_replicas': 0, '_num_worker_replicas': 1}\n"
     ]
    }
   ],
   "source": [
    "model = tworz_folder('model_probny', 'pierwszy',\n",
    "             [30], na_ilu_statystyki = 10000)"
   ]
  },
  {
   "cell_type": "code",
   "execution_count": 20,
   "metadata": {},
   "outputs": [],
   "source": [
    "dataset = input_fn('pierwszy','model_probny', 10,  \n",
    "         True, 1, True, 10,\n",
    "         True )"
   ]
  },
  {
   "cell_type": "code",
   "execution_count": 21,
   "metadata": {},
   "outputs": [
    {
     "name": "stderr",
     "output_type": "stream",
     "text": [
      "/home/pawel/anaconda3/envs/root_tensorflow/lib/python3.6/site-packages/tensorflow/python/client/session.py:1711: UserWarning: An interactive session is already active. This can cause out-of-memory errors in some cases. You must explicitly call `InteractiveSession.close()` to release resources held by the other session(s).\n",
      "  warnings.warn('An interactive session is already active. This can '\n"
     ]
    },
    {
     "data": {
      "text/plain": [
       "({'n': array([[-0.04469895, -0.04469948, -0.04469915, -0.04469931, -0.0446989 ],\n",
       "         [-0.04469895, -0.04469948, -0.04469915, -0.04469931, -0.0446989 ],\n",
       "         [-0.04469895, -0.04469948, -0.04469915, -0.04469931, -0.0446989 ],\n",
       "         [-0.04469895, -0.04469948, -0.04469915, -0.04469931, -0.0446989 ],\n",
       "         [-0.04469895, -0.04469948, -0.04469915, -0.04469931, -0.0446989 ],\n",
       "         [-0.04469895, -0.04469948, -0.04469915, -0.04469931, -0.0446989 ],\n",
       "         [-0.04469895, -0.04469948, -0.04469915, -0.04469931, -0.0446989 ],\n",
       "         [-0.04469895, -0.04469948, -0.04469915, -0.04469931, -0.0446989 ],\n",
       "         [-0.04469895, -0.04469948, -0.04469915, -0.04469931, -0.0446989 ],\n",
       "         [-0.04469895, -0.04469948, -0.04469915, -0.04469931, -0.0446989 ]],\n",
       "        dtype=float32), 'c': array([5, 5, 5, 5, 5, 5, 5, 5, 5, 5])},\n",
       " array([[0],\n",
       "        [0],\n",
       "        [0],\n",
       "        [0],\n",
       "        [0],\n",
       "        [0],\n",
       "        [0],\n",
       "        [0],\n",
       "        [0],\n",
       "        [0]]))"
      ]
     },
     "execution_count": 21,
     "metadata": {},
     "output_type": "execute_result"
    }
   ],
   "source": [
    "costam = dataset.make_one_shot_iterator()\n",
    "sess = tf.InteractiveSession()\n",
    "sess.run(costam.get_next())"
   ]
  },
  {
   "cell_type": "code",
   "execution_count": null,
   "metadata": {},
   "outputs": [],
   "source": []
  }
 ],
 "metadata": {
  "kernelspec": {
   "display_name": "Python 3",
   "language": "python",
   "name": "python3"
  },
  "language_info": {
   "codemirror_mode": {
    "name": "ipython",
    "version": 3
   },
   "file_extension": ".py",
   "mimetype": "text/x-python",
   "name": "python",
   "nbconvert_exporter": "python",
   "pygments_lexer": "ipython3",
   "version": "3.6.5"
  }
 },
 "nbformat": 4,
 "nbformat_minor": 2
}
