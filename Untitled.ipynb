{
 "cells": [
  {
   "cell_type": "code",
   "execution_count": 4,
   "metadata": {},
   "outputs": [],
   "source": [
    "import tensorflow as tf\n",
    "import numpy as np\n",
    "import json\n",
    "import os\n",
    "\n",
    "def zapisz_json(co,gdzie):\n",
    "    f=open(gdzie,'w')\n",
    "    f.write(json.dumps(co))\n",
    "\n",
    "def wczytaj_json(skad):\n",
    "    f=open(skad,'r')\n",
    "    return json.loads(f.read())\n",
    "\n",
    "#nazwa tworzonego, slownik typu nazwa -> rozmiar, c to typu nazwa -> lista_wartosci\n",
    "def tworz_folder_na_podstawie_przykladowego(nazwa_folderu, n, c):\n",
    "    assert not os.path.isdir(nazwa_folderu)\n",
    "    os.mkdir(nazwa_folderu)\n",
    "\n",
    "    lista_numerycznych_typow = []\n",
    "    rozmiar_dotychczasowego = 0\n",
    "    for k in n.keys():\n",
    "        lista_numerycznych_typow.append((k, rozmiar_dotychczasowego, rozmiar_dotychczasowego + n[k]))\n",
    "        rozmiar_dotychczasowego += n[k]\n",
    "    zapisz_json(lista_numerycznych_typow, nazwa_folderu + \"/n\")\n",
    "    \n",
    "    lista_kategorycznch_typow = []\n",
    "    for k in c.keys():\n",
    "        lista_kategorycznch_typow.append((k, c[k]))\n",
    "    zapisz_json(lista_kategorycznch_typow, nazwa_folderu + \"/c\")\n",
    "\n",
    "\n",
    "\n",
    "\n",
    "\n",
    "    \n",
    "    \n",
    "\n",
    "\n",
    "\n"
   ]
  },
  {
   "cell_type": "code",
   "execution_count": 5,
   "metadata": {},
   "outputs": [],
   "source": [
    "tworz_folder_na_podstawie_przykladowego('pierwszy', {'a': 2, 'b': 3}, {'c': [1,2,5]})"
   ]
  },
  {
   "cell_type": "code",
   "execution_count": null,
   "metadata": {},
   "outputs": [],
   "source": []
  }
 ],
 "metadata": {
  "kernelspec": {
   "display_name": "Python 3",
   "language": "python",
   "name": "python3"
  },
  "language_info": {
   "codemirror_mode": {
    "name": "ipython",
    "version": 3
   },
   "file_extension": ".py",
   "mimetype": "text/x-python",
   "name": "python",
   "nbconvert_exporter": "python",
   "pygments_lexer": "ipython3",
   "version": "3.6.5"
  }
 },
 "nbformat": 4,
 "nbformat_minor": 2
}
