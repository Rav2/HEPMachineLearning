{
 "cells": [
  {
   "cell_type": "code",
   "execution_count": 17,
   "metadata": {},
   "outputs": [],
   "source": [
    "import tensorflow as tf\n",
    "import numpy as np\n",
    "import json\n",
    "import os\n",
    "\n",
    "def zapisz_json(co,gdzie):\n",
    "    f=open(gdzie,'w')\n",
    "    f.write(json.dumps(co))\n",
    "\n",
    "def wczytaj_json(skad):\n",
    "    f=open(skad,'r')\n",
    "    return json.loads(f.read())\n",
    "\n",
    "# The following functions can be used to convert a value to a type compatible\n",
    "# with tf.Example. values to lista takich rzeczy.\n",
    "\n",
    "def _bytes_feature(values):\n",
    "  \"\"\"Returns a bytes_list from a string / byte.\"\"\"\n",
    "  return tf.train.Feature(bytes_list=tf.train.BytesList(value=values))\n",
    "\n",
    "def _float_feature(values):\n",
    "  \"\"\"Returns a float_list from a float / double.\"\"\"\n",
    "  return tf.train.Feature(float_list=tf.train.FloatList(value=values))\n",
    "\n",
    "def _int64_feature(values):\n",
    "  \"\"\"Returns an int64_list from a bool / enum / int / uint.\"\"\"\n",
    "  return tf.train.Feature(int64_list=tf.train.Int64List(value=values))\n",
    "\n",
    "#nazwa tworzonego, slownik typu nazwa -> rozmiar, c to typu nazwa -> lista_wartosci\n",
    "# zwraca writer sluzacy do pisania do tego czegos\n",
    "def tworz_folder_na_podstawie_przykladowego(nazwa_folderu, n, c):\n",
    "    assert not os.path.isdir(nazwa_folderu)\n",
    "    os.mkdir(nazwa_folderu)\n",
    "\n",
    "    lista_numerycznych_typow = []\n",
    "    rozmiar_dotychczasowego = 0\n",
    "    for k in n.keys():\n",
    "        lista_numerycznych_typow.append((k, rozmiar_dotychczasowego, rozmiar_dotychczasowego + n[k]))\n",
    "        rozmiar_dotychczasowego += n[k]\n",
    "    zapisz_json(lista_numerycznych_typow, nazwa_folderu + \"/n\")\n",
    "    \n",
    "    lista_kategorycznch_typow = []\n",
    "    for k in c.keys():\n",
    "        lista_kategorycznch_typow.append((k, c[k]))\n",
    "    zapisz_json(lista_kategorycznch_typow, nazwa_folderu + \"/c\")\n",
    "    writer = tf.python_io.TFRecordWriter(nazwa_folderu + '/dane')\n",
    "    return lista_numerycznych_typow, lista_kategorycznch_typow, writer\n",
    "\n",
    "# n to slownik nazwa -> lista lub numpy tablica shapu (k,), c to nazwa -> wartosc, l to 0 lub 1\n",
    "#pamietaj by po wszystkim zrobic writer.close()\n",
    "def zapisz_jeden_przyklad(n, c, l, lnt, lkt, writer):\n",
    "    slownik_danych = {}\n",
    "    slownik_danych['l'] = _int64_feature([l])\n",
    "    \n",
    "    lista_numerycznych = []\n",
    "    for i in range(len(lnt)):\n",
    "        rozwazany = lnt[i]\n",
    "        lista_numerycznych += n[rozwazany[0]]\n",
    "    slownik_danych['n']= _float_feature(lista_numerycznych)\n",
    "\n",
    "    lista_kategorycznch= []\n",
    "    for i in range(len(lkt)):\n",
    "        rozwazany = lkt[i]\n",
    "        lista_kategorycznch += [c[rozwazany[0]] ]\n",
    "    slownik_danych['c']= _int64_feature(lista_kategorycznch)\n",
    "    \n",
    "\n",
    "    tr_ex = tf.train.Example(features= tf.train.Features(\n",
    "        feature = slownik_danych))\n",
    "    writer.write(tr_ex.SerializeToString())\n",
    "\n",
    "def tworz_slownik_typow_potrzebny_do_parsowania(nazwa_folderu):\n",
    "    lista_numerycznych = wczytaj_json(nazwa_folderu + '/n')\n",
    "    laczna_liczba = lista_numerycznych[len(lista_numerycznych) - 1][2]\n",
    "    lista_kategorycznych = wczytaj_json(nazwa_folderu + '/c')\n",
    "\n",
    "    read_features= {}\n",
    "    read_features['n'] = tf.FixedLenFeature([laczna_liczba], dtype=tf.float32)\n",
    "    read_features['c'] = tf.FixedLenFeature([len(lista_kategorycznych)], dtype=tf.int64)\n",
    "    read_features['l'] = tf.FixedLenFeature([1], dtype=tf.int64)\n",
    "    return read_features\n",
    "\n",
    "def wyrwij_label(slownik):\n",
    "    l= slownik.pop('l')\n",
    "    return slownik, l\n",
    "\n",
    "def odczytaj_dataset(nazwa_folderu):\n",
    "    dataset = tf.data.TFRecordDataset(nazwa_folderu + '/dane')\n",
    "    return dataset\n",
    "\n",
    "def parsuj_po_jednym(nazwa_folderu):\n",
    "    read_features = tworz_slownik_typow_potrzebny_do_parsowania(nazwa_folderu)\n",
    "    def parsuj(serialized_example):\n",
    "        return tf.parse_single_example(serialized=serialized_example,\n",
    "                                        features=read_features)\n",
    "    dataset = odczytaj_dataset(nazwa_folderu)\n",
    "    dataset = dataset.map(parsuj)\n",
    "    return dataset\n",
    "\n",
    "def parsuj_i_batchuj(nazwa_folderu, batch_size):\n",
    "    read_features = tworz_slownik_typow_potrzebny_do_parsowania(nazwa_folderu)\n",
    "    def parsuj(serialized_examples):\n",
    "         return tf.parse_example(serialized=serialized_examples,\n",
    "                                        features=read_features)\n",
    "    dataset = odczytaj_dataset(nazwa_folderu)\n",
    "    dataset= dataset.batch(batch_size)\n",
    "    dataset = dataset.map(parsuj)\n",
    "    return dataset\n",
    "\n",
    "\n",
    "    \n",
    "    \n",
    "\n",
    "\n",
    "\n"
   ]
  },
  {
   "cell_type": "code",
   "execution_count": null,
   "metadata": {},
   "outputs": [],
   "source": []
  },
  {
   "cell_type": "code",
   "execution_count": 2,
   "metadata": {},
   "outputs": [],
   "source": [
    "lnt, lkt, writer = tworz_folder_na_podstawie_przykladowego('pierwszy', {'a': 2, 'b': 3}, {'c': [1,2,5]})"
   ]
  },
  {
   "cell_type": "code",
   "execution_count": 3,
   "metadata": {},
   "outputs": [
    {
     "data": {
      "text/plain": [
       "[('c', [1, 2, 5])]"
      ]
     },
     "execution_count": 3,
     "metadata": {},
     "output_type": "execute_result"
    }
   ],
   "source": [
    "lkt"
   ]
  },
  {
   "cell_type": "code",
   "execution_count": null,
   "metadata": {},
   "outputs": [],
   "source": []
  },
  {
   "cell_type": "code",
   "execution_count": 6,
   "metadata": {},
   "outputs": [],
   "source": [
    "for i in range(1000):\n",
    "    zapisz_jeden_przyklad({'a':[5,6], 'b':[8,9,11]}, {'c':5}, 0, lnt, lkt, writer)"
   ]
  },
  {
   "cell_type": "code",
   "execution_count": 7,
   "metadata": {},
   "outputs": [],
   "source": [
    "zapisz_jeden_przyklad({'a':[50,60], 'b':[80,90,110]}, {'c':5}, 1, lnt, lkt, writer)"
   ]
  },
  {
   "cell_type": "code",
   "execution_count": 8,
   "metadata": {},
   "outputs": [],
   "source": [
    "writer.close()"
   ]
  },
  {
   "cell_type": "code",
   "execution_count": 18,
   "metadata": {},
   "outputs": [],
   "source": [
    "dataset = parsuj_i_batchuj('pierwszy',3)\n",
    "costam = dataset.make_one_shot_iterator()"
   ]
  },
  {
   "cell_type": "code",
   "execution_count": 19,
   "metadata": {},
   "outputs": [
    {
     "name": "stderr",
     "output_type": "stream",
     "text": [
      "/home/pawel/anaconda3/envs/root_tensorflow/lib/python3.6/site-packages/tensorflow/python/client/session.py:1711: UserWarning: An interactive session is already active. This can cause out-of-memory errors in some cases. You must explicitly call `InteractiveSession.close()` to release resources held by the other session(s).\n",
      "  warnings.warn('An interactive session is already active. This can '\n"
     ]
    }
   ],
   "source": [
    "sess = tf.InteractiveSession()"
   ]
  },
  {
   "cell_type": "code",
   "execution_count": 20,
   "metadata": {},
   "outputs": [
    {
     "data": {
      "text/plain": [
       "{'c': array([[5],\n",
       "        [5],\n",
       "        [5]]), 'l': array([[0],\n",
       "        [1],\n",
       "        [0]]), 'n': array([[  5.,   6.,   8.,   9.,  11.],\n",
       "        [ 50.,  60.,  80.,  90., 110.],\n",
       "        [  5.,   6.,   8.,   9.,  11.]], dtype=float32)}"
      ]
     },
     "execution_count": 20,
     "metadata": {},
     "output_type": "execute_result"
    }
   ],
   "source": [
    "\n",
    "sess.run(costam.get_next())"
   ]
  },
  {
   "cell_type": "code",
   "execution_count": null,
   "metadata": {},
   "outputs": [],
   "source": []
  },
  {
   "cell_type": "code",
   "execution_count": null,
   "metadata": {},
   "outputs": [],
   "source": []
  }
 ],
 "metadata": {
  "kernelspec": {
   "display_name": "Python 3",
   "language": "python",
   "name": "python3"
  },
  "language_info": {
   "codemirror_mode": {
    "name": "ipython",
    "version": 3
   },
   "file_extension": ".py",
   "mimetype": "text/x-python",
   "name": "python",
   "nbconvert_exporter": "python",
   "pygments_lexer": "ipython3",
   "version": "3.6.5"
  }
 },
 "nbformat": 4,
 "nbformat_minor": 2
}
