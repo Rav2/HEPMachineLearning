{
 "cells": [
  {
   "cell_type": "code",
   "execution_count": 1,
   "metadata": {},
   "outputs": [],
   "source": [
    "import numpy as np"
   ]
  },
  {
   "cell_type": "code",
   "execution_count": 2,
   "metadata": {},
   "outputs": [],
   "source": [
    "import user_defined_function as us"
   ]
  },
  {
   "cell_type": "code",
   "execution_count": 3,
   "metadata": {},
   "outputs": [],
   "source": [
    "import os"
   ]
  },
  {
   "cell_type": "code",
   "execution_count": 4,
   "metadata": {},
   "outputs": [],
   "source": [
    "#mozna zamiast te dane pobierac to samemu wrzucic je do folderu data\n",
    "os.system(\"mkdir data\")\n",
    "os.chdir(\"data\")\n",
    "os.system(\"wget http://akalinow.web.cern.ch/akalinow/MachineLearning/TauTauMass/data/htt_features_train.pkl\")\n",
    "os.system(\"wget http://akalinow.web.cern.ch/akalinow/MachineLearning/TauTauMass/data/htt_features_ggH125.pkl\")\n",
    "os.chdir(\"..\")"
   ]
  },
  {
   "cell_type": "code",
   "execution_count": 4,
   "metadata": {},
   "outputs": [
    {
     "name": "stdout",
     "output_type": "stream",
     "text": [
      "no of legs:  4\n",
      "no of jets:  3\n",
      "global params:  dict_keys(['genMass', 'caMass', 'covMET11', 'covMET10', 'fastMTTMass', 'visMass', 'covMET00', 'covMET01'])\n",
      "object properties: dict_keys(['leg_2_deepTau2017v1tauVSall', 'leg_2_ip3d', 'leg_2_hasSecondaryVertex', 'leg_2_ptWeightedDrSignal', 'leg_2_gjAngleDiff', 'leg_3_charge', 'leg_1_combreliso', 'leg_2_neutralIsoPtSum', 'leg_2_dxy', 'leg_2_charge', 'leg_2_flightLengthSig', 'leg_2_byIsolationMVArun2v1DBoldDMwLTraw', 'leg_2_dxy_Sig', 'leg_2_ptWeightedDphiStrip', 'leg_2_nPhoton', 'leg_2_chargedIsoPtSum', 'leg_2_deepTau2017v1tauVSjet', 'leg_2_puCorrPtSum', 'leg_2_decayMode', 'leg_2_decayDistMag', 'leg_2_ptWeightedDetaStrip', 'leg_2_ptWeightedDrIsolation', 'leg_2_photonPtSumOutsideSignalCone', 'leg_2_byCombinedIsolationDeltaBetaCorrRaw3Hits', 'leg_4_charge', 'leg_2_byIsolationMVArun2v1DBoldDMwLTraw2017v2', 'leg_2_eRatio', 'leg_1_charge', 'leg_2_DPFTau_2016_v1tauVSall'])\n"
     ]
    },
    {
     "data": {
      "text/plain": [
       "(False,\n",
       " {'leg1P4': array([[  62.88297429,  -12.12633   ,  -14.1533341 ,   60.04976063],\n",
       "         [  63.52904048,  -21.59994208,  -34.38325454,  -48.84101907],\n",
       "         [  21.55756739,  -16.91006071,   -8.62170604,   10.15609676],\n",
       "         ...,\n",
       "         [  72.11675758,  -70.4583145 ,   14.90768387,   -3.73855941],\n",
       "         [ 176.3367348 , -105.95011885,  -53.82255428,  130.27164594],\n",
       "         [ 211.71427702,  -15.19899341,    6.27301906, -211.07457042]]),\n",
       "  'leg2P4': array([[  47.77965984,   22.91594657,   -3.48870276,   41.74239034],\n",
       "         [  43.57490565,  -36.16371585,   -0.4750009 ,  -24.23995346],\n",
       "         [   2.04064526,    0.34032148,    1.69599644,   -1.07355981],\n",
       "         ...,\n",
       "         [ 261.62866626,   16.61967113,  -82.40172998, -247.75016316],\n",
       "         [  94.16901761,   87.84880218,   31.71504579,   11.89077851],\n",
       "         [  51.24295891,   41.30888619,   14.6092266 ,   26.51094432]]),\n",
       "  'met': array([[ 12.82800617,  -8.65149879,  -9.47149993],\n",
       "         [ 23.96766255, -12.63167848, -20.36883764],\n",
       "         [ 17.68655609, -15.60498974,   8.32457576],\n",
       "         ...,\n",
       "         [ 34.93817407, -34.37314218,   6.25804317],\n",
       "         [ 18.12451919, -16.13395241,  -8.25795226],\n",
       "         [ 14.37854401, -13.55783707,   4.78827545]])},\n",
       " {},\n",
       " {'fastMTT': array([[ 48.8323288 ],\n",
       "         [ 51.8807373 ],\n",
       "         [ 57.91828537],\n",
       "         ...,\n",
       "         [242.70617676],\n",
       "         [265.20941162],\n",
       "         [249.31611633]]), 'caMass': array([[ 49.54724884],\n",
       "         [ 53.44106293],\n",
       "         [ 60.50553131],\n",
       "         ...,\n",
       "         [247.85118103],\n",
       "         [245.91453552],\n",
       "         [245.9831543 ]]), 'visMass': array([[ 38.16961288],\n",
       "         [ 39.73271561],\n",
       "         [ 12.32320786],\n",
       "         ...,\n",
       "         [201.70617676],\n",
       "         [228.35675049],\n",
       "         [184.2959137 ]])},\n",
       " {},\n",
       " array([[ 50.01182938],\n",
       "        [ 50.03273392],\n",
       "        [ 50.00072098],\n",
       "        ...,\n",
       "        [246.08905029],\n",
       "        [245.00234985],\n",
       "        [246.96044922]]))"
      ]
     },
     "execution_count": 4,
     "metadata": {},
     "output_type": "execute_result"
    }
   ],
   "source": [
    "us.get_data()"
   ]
  },
  {
   "cell_type": "code",
   "execution_count": 5,
   "metadata": {},
   "outputs": [
    {
     "name": "stdout",
     "output_type": "stream",
     "text": [
      "no of legs:  4\n",
      "no of jets:  3\n",
      "global params:  dict_keys(['genMass', 'caMass', 'covMET11', 'covMET10', 'fastMTTMass', 'visMass', 'covMET00', 'covMET01'])\n",
      "object properties: dict_keys(['leg_2_deepTau2017v1tauVSall', 'leg_2_ip3d', 'leg_2_hasSecondaryVertex', 'leg_2_ptWeightedDrSignal', 'leg_2_gjAngleDiff', 'leg_3_charge', 'leg_1_combreliso', 'leg_2_neutralIsoPtSum', 'leg_2_dxy', 'leg_2_charge', 'leg_2_flightLengthSig', 'leg_2_byIsolationMVArun2v1DBoldDMwLTraw', 'leg_2_dxy_Sig', 'leg_2_ptWeightedDphiStrip', 'leg_2_nPhoton', 'leg_2_chargedIsoPtSum', 'leg_2_deepTau2017v1tauVSjet', 'leg_2_puCorrPtSum', 'leg_2_decayMode', 'leg_2_decayDistMag', 'leg_2_ptWeightedDetaStrip', 'leg_2_ptWeightedDrIsolation', 'leg_2_photonPtSumOutsideSignalCone', 'leg_2_byCombinedIsolationDeltaBetaCorrRaw3Hits', 'leg_4_charge', 'leg_2_byIsolationMVArun2v1DBoldDMwLTraw2017v2', 'leg_2_eRatio', 'leg_1_charge', 'leg_2_DPFTau_2016_v1tauVSall'])\n"
     ]
    }
   ],
   "source": [
    "import os\n",
    "os.system(\"rm -r tfr_folder\")\n",
    "import create_tf_records_folder as cr"
   ]
  },
  {
   "cell_type": "code",
   "execution_count": null,
   "metadata": {},
   "outputs": [],
   "source": []
  },
  {
   "cell_type": "code",
   "execution_count": null,
   "metadata": {},
   "outputs": [],
   "source": []
  },
  {
   "cell_type": "code",
   "execution_count": null,
   "metadata": {},
   "outputs": [],
   "source": []
  },
  {
   "cell_type": "code",
   "execution_count": 6,
   "metadata": {},
   "outputs": [],
   "source": [
    "import model_dnn as mod"
   ]
  },
  {
   "cell_type": "code",
   "execution_count": 7,
   "metadata": {},
   "outputs": [
    {
     "name": "stdout",
     "output_type": "stream",
     "text": [
      "INFO:tensorflow:Using default config.\n",
      "INFO:tensorflow:Using config: {'_model_dir': 'model_folder/model', '_tf_random_seed': None, '_save_summary_steps': 100, '_save_checkpoints_steps': None, '_save_checkpoints_secs': 600, '_session_config': allow_soft_placement: true\n",
      "graph_options {\n",
      "  rewrite_options {\n",
      "    meta_optimizer_iterations: ONE\n",
      "  }\n",
      "}\n",
      ", '_keep_checkpoint_max': 5, '_keep_checkpoint_every_n_hours': 10000, '_log_step_count_steps': 100, '_train_distribute': None, '_device_fn': None, '_protocol': None, '_eval_distribute': None, '_experimental_distribute': None, '_service': None, '_cluster_spec': <tensorflow.python.training.server_lib.ClusterSpec object at 0x7f7be0891668>, '_task_type': 'worker', '_task_id': 0, '_global_id_in_cluster': 0, '_master': '', '_evaluation_master': '', '_is_chief': True, '_num_ps_replicas': 0, '_num_worker_replicas': 1}\n",
      "INFO:tensorflow:Calling model_fn.\n",
      "INFO:tensorflow:Done calling model_fn.\n",
      "INFO:tensorflow:Create CheckpointSaverHook.\n",
      "INFO:tensorflow:Graph was finalized.\n",
      "INFO:tensorflow:Running local_init_op.\n",
      "INFO:tensorflow:Done running local_init_op.\n",
      "INFO:tensorflow:Saving checkpoints for 0 into model_folder/model/model.ckpt.\n",
      "INFO:tensorflow:loss = 6706.151, step = 1\n",
      "INFO:tensorflow:Saving checkpoints for 1 into model_folder/model/model.ckpt.\n",
      "INFO:tensorflow:Loss for final step: 6706.151.\n"
     ]
    },
    {
     "data": {
      "text/plain": [
       "<tensorflow.python.estimator.canned.dnn.DNNRegressor at 0x7f7c338f9da0>"
      ]
     },
     "execution_count": 7,
     "metadata": {},
     "output_type": "execute_result"
    }
   ],
   "source": [
    "import os\n",
    "fol = \"model_folder\"\n",
    "os.system(\"rm -r \"+ fol)\n",
    "mod.tworz_folder(fol, \"tfr_folder\", [128, 128, 128, 128], 0.)"
   ]
  },
  {
   "cell_type": "code",
   "execution_count": 9,
   "metadata": {},
   "outputs": [
    {
     "name": "stdout",
     "output_type": "stream",
     "text": [
      "INFO:tensorflow:Using default config.\n",
      "INFO:tensorflow:Using config: {'_model_dir': 'model_folder/model', '_tf_random_seed': None, '_save_summary_steps': 100, '_save_checkpoints_steps': None, '_save_checkpoints_secs': 600, '_session_config': allow_soft_placement: true\n",
      "graph_options {\n",
      "  rewrite_options {\n",
      "    meta_optimizer_iterations: ONE\n",
      "  }\n",
      "}\n",
      ", '_keep_checkpoint_max': 5, '_keep_checkpoint_every_n_hours': 10000, '_log_step_count_steps': 100, '_train_distribute': None, '_device_fn': None, '_protocol': None, '_eval_distribute': None, '_experimental_distribute': None, '_service': None, '_cluster_spec': <tensorflow.python.training.server_lib.ClusterSpec object at 0x7f7c06072d30>, '_task_type': 'worker', '_task_id': 0, '_global_id_in_cluster': 0, '_master': '', '_evaluation_master': '', '_is_chief': True, '_num_ps_replicas': 0, '_num_worker_replicas': 1}\n",
      "INFO:tensorflow:Calling model_fn.\n",
      "INFO:tensorflow:Done calling model_fn.\n",
      "INFO:tensorflow:Create CheckpointSaverHook.\n",
      "INFO:tensorflow:Graph was finalized.\n",
      "INFO:tensorflow:Restoring parameters from model_folder/model/model.ckpt-1001\n",
      "INFO:tensorflow:Running local_init_op.\n",
      "INFO:tensorflow:Done running local_init_op.\n",
      "INFO:tensorflow:Saving checkpoints for 1001 into model_folder/model/model.ckpt.\n",
      "INFO:tensorflow:loss = 3889144.2, step = 1002\n",
      "INFO:tensorflow:global_step/sec: 14.8217\n",
      "INFO:tensorflow:loss = 3932385.5, step = 1102 (6.749 sec)\n",
      "INFO:tensorflow:global_step/sec: 14.0247\n",
      "INFO:tensorflow:loss = 3835095.0, step = 1202 (7.130 sec)\n",
      "INFO:tensorflow:global_step/sec: 14.5883\n",
      "INFO:tensorflow:loss = 3326162.0, step = 1302 (6.856 sec)\n",
      "INFO:tensorflow:global_step/sec: 14.9559\n",
      "INFO:tensorflow:loss = 3644101.5, step = 1402 (6.685 sec)\n",
      "INFO:tensorflow:global_step/sec: 13.4791\n",
      "INFO:tensorflow:loss = 3227840.5, step = 1502 (7.419 sec)\n",
      "INFO:tensorflow:global_step/sec: 14.5847\n",
      "INFO:tensorflow:loss = 3330072.8, step = 1602 (6.857 sec)\n",
      "INFO:tensorflow:global_step/sec: 14.1408\n",
      "INFO:tensorflow:loss = 3384989.0, step = 1702 (7.072 sec)\n",
      "INFO:tensorflow:global_step/sec: 13.5566\n",
      "INFO:tensorflow:loss = 3466856.2, step = 1802 (7.377 sec)\n",
      "INFO:tensorflow:global_step/sec: 12.9006\n",
      "INFO:tensorflow:loss = 3129291.0, step = 1902 (7.752 sec)\n",
      "INFO:tensorflow:Saving checkpoints for 2001 into model_folder/model/model.ckpt.\n",
      "INFO:tensorflow:Loss for final step: 3022072.2.\n",
      "0.07262931394577027\n"
     ]
    }
   ],
   "source": [
    "import time\n",
    "steps = 1000\n",
    "start = time.time()\n",
    "mod.train(\"tfr_folder\", \"model_folder\", steps, \n",
    "         True, 4096, czy_shuffle=True, buffer_size=100000)\n",
    "end = time.time()\n",
    "delta = end - start\n",
    "time_per_batch = delta / steps\n",
    "print(time_per_batch)"
   ]
  },
  {
   "cell_type": "code",
   "execution_count": 31,
   "metadata": {},
   "outputs": [],
   "source": [
    "#to jest w sek na batch"
   ]
  },
  {
   "cell_type": "code",
   "execution_count": 37,
   "metadata": {},
   "outputs": [],
   "source": [
    "kalinowskiego_na_batch = 0.1608"
   ]
  },
  {
   "cell_type": "code",
   "execution_count": 38,
   "metadata": {},
   "outputs": [],
   "source": []
  },
  {
   "cell_type": "code",
   "execution_count": 39,
   "metadata": {},
   "outputs": [
    {
     "data": {
      "text/plain": [
       "36.053811659192824"
      ]
     },
     "execution_count": 39,
     "metadata": {},
     "output_type": "execute_result"
    }
   ],
   "source": [
    "kalinowskiego_na_batch / time_per_batch"
   ]
  },
  {
   "cell_type": "code",
   "execution_count": null,
   "metadata": {},
   "outputs": [],
   "source": []
  }
 ],
 "metadata": {
  "kernelspec": {
   "display_name": "Python 3",
   "language": "python",
   "name": "python3"
  },
  "language_info": {
   "codemirror_mode": {
    "name": "ipython",
    "version": 3
   },
   "file_extension": ".py",
   "mimetype": "text/x-python",
   "name": "python",
   "nbconvert_exporter": "python",
   "pygments_lexer": "ipython3",
   "version": "3.6.8"
  }
 },
 "nbformat": 4,
 "nbformat_minor": 2
}
