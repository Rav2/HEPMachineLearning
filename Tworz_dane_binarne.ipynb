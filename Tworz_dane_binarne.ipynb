{
 "cells": [
  {
   "cell_type": "code",
   "execution_count": 3,
   "metadata": {},
   "outputs": [
    {
     "name": "stdout",
     "output_type": "stream",
     "text": [
      "Welcome to JupyROOT 6.15/01\n"
     ]
    }
   ],
   "source": [
    "import zapisywacz as zap\n",
    "#import model_dnn as mod\n",
    "import numpy as np\n",
    "import matplotlib.pyplot as plt\n",
    "import read_tree as rt"
   ]
  },
  {
   "cell_type": "code",
   "execution_count": 4,
   "metadata": {},
   "outputs": [],
   "source": [
    "sciezka_sygnalu=\"data_rootowe_obrobione/MT_GluGlu.root\"\n",
    "sciezka_tla=\"data_rootowe_obrobione/MT_WJets.root\""
   ]
  },
  {
   "cell_type": "code",
   "execution_count": 5,
   "metadata": {},
   "outputs": [],
   "source": [
    "def wczytaj_do_pythonowych(sciezka_rootowego):\n",
    "    \"\"\"funkcja zwraca pythonowe w wygodnej do uzycia formie\"\"\"\n",
    "    legs, jets, global_params, properties = rt.read_tree(file_name=sciezka_rootowego)\n",
    "    #te rzeczy sa zle, bo maja niewygodny format oraz global_params[\"nJets30\"] ma\n",
    "    #zdublowane dane, to znaczy [1,1,3,3,5,5 ...]\n",
    "    #mozna to sprawdzic ta metoda\n",
    "    #nJets30 ma od 0 do 6 a nawet do 8,\n",
    "    #leg_1_charge ma -1 oraz 1\n",
    "    #leg_2_charge ma -1 oraz 1\n",
    "    #'leg_2_decayMode' ma 0,1,10\n",
    "    kategoryczne=[\"nJets30\",\"leg_1_charge\",\"leg_2_charge\",'leg_2_decayMode']\n",
    "    zdublowany_klucz=\"nJets30\"\n",
    "    def czy_zdublowane(tab):\n",
    "        for i in range(len(tab)//2):\n",
    "            if tab[2*i] != tab[2*i+1]:\n",
    "                print (\"kontrprzylad dla tezy, ze to jest zdublowana lista\")\n",
    "                assert False\n",
    "    czy_zdublowane(global_params[zdublowany_klucz])\n",
    "    def wyintuj_kategoryczne(slownik):\n",
    "        for k in slownik.keys():\n",
    "            if k in kategoryczne:\n",
    "                slownik[k]=np.array(slownik[k],dtype=int)\n",
    "    wyintuj_kategoryczne(global_params)\n",
    "    wyintuj_kategoryczne(properties)\n",
    "    odrzucane_rzeczy=[\"BJetBetaScore\"]\n",
    "    #jets 1 jest zle, wszystkie dane tam sa stale chyba\n",
    "    del jets[1]\n",
    "    def wyrzuc_odrzucone(slownik):\n",
    "        klucze=list(slownik.keys())\n",
    "        for k in klucze:\n",
    "            if k in odrzucane_rzeczy:\n",
    "                del slownik[k]\n",
    "    wyrzuc_odrzucone(global_params)\n",
    "    wyrzuc_odrzucone(properties)\n",
    "    do_zlogarytmowania_z_dodaniem_0_01=[\"higgsMassTrans\",\"higgsPT\",\"visMass\",\n",
    "                                        \"leg_1_combreliso\",\"leg_2_byCombinedIsolationDeltaBetaCorrRaw3Hits\"]\n",
    "    def zlogarytmoj(slownik):\n",
    "        for k in slownik.keys():\n",
    "            if k in do_zlogarytmowania_z_dodaniem_0_01:\n",
    "                slownik[k]=np.log(np.array(slownik[k])+0.01)\n",
    "    zlogarytmoj(global_params)\n",
    "    zlogarytmoj(properties)\n",
    "    def zlogarytmoj_energie(tab):\n",
    "        for i in range(len(tab)):\n",
    "            tab[i][0]=np.log(np.array(tab[i][0])+0.01)\n",
    "    zlogarytmoj_energie(legs)\n",
    "    zlogarytmoj_energie(jets)\n",
    "    def f1(x):\n",
    "        return np.log((1.-x))\n",
    "    do_zrobienia_f1=[\"leg_2_byIsolationMVArun2v1DBoldDMwLTraw\"]\n",
    "    def zrob_f1(slownik):\n",
    "        for k in slownik.keys():\n",
    "            if k in do_zrobienia_f1:\n",
    "                slownik[k]=f1(np.array(slownik[k]))\n",
    "    zrob_f1(global_params)\n",
    "    zrob_f1(properties)\n",
    "    def przerob_legs_lub_jets(tab):\n",
    "        tab=np.array(tab)\n",
    "        return np.transpose(tab,(2,0,1))\n",
    "    def przerob_global_params_lub_properties(slownik):\n",
    "        wyrzut=[]\n",
    "        jeden_z_kluczy=list(slownik.keys())[0]\n",
    "        #uwaga hakerstwo\n",
    "        liczba_przypadkow=0\n",
    "        if jeden_z_kluczy==zdublowany_klucz:\n",
    "            liczba_przypadkow=len(slownik[jeden_z_kluczy]) //2\n",
    "        else:\n",
    "            liczba_przypadkow=len(slownik[jeden_z_kluczy])\n",
    "        for i in range(liczba_przypadkow):\n",
    "            doczepiany={}\n",
    "            for k in slownik.keys():\n",
    "                if k != zdublowany_klucz:\n",
    "                    doczepiany[k]=slownik[k][i]\n",
    "                else:\n",
    "                    doczepiany[k]=slownik[k][2*i]\n",
    "            wyrzut.append(doczepiany)\n",
    "        return wyrzut\n",
    "    legs=przerob_legs_lub_jets(legs)\n",
    "    jets=przerob_legs_lub_jets(jets)\n",
    "    global_params=przerob_global_params_lub_properties(global_params)\n",
    "    properties=przerob_global_params_lub_properties(properties)\n",
    "    return legs, jets, global_params, properties"
   ]
  },
  {
   "cell_type": "code",
   "execution_count": 19,
   "metadata": {},
   "outputs": [],
   "source": [
    "slownik_kategorycznych={\"nJets30\":[0,1,2,3,4,5,6,7,8],\n",
    "                       \"leg_1_charge\":[-1,1],\n",
    "                       \"leg_2_charge\":[-1,1],\n",
    "                       \"leg_2_decayMode\":[0,1,10]}"
   ]
  },
  {
   "cell_type": "code",
   "execution_count": null,
   "metadata": {},
   "outputs": [],
   "source": []
  },
  {
   "cell_type": "code",
   "execution_count": 6,
   "metadata": {},
   "outputs": [
    {
     "name": "stdout",
     "output_type": "stream",
     "text": [
      "[ML]\tOpening root file for python conversion.\n",
      "[ML]\tReading data from TTree.\n",
      "[ML]\tConversion to python successful!\n",
      "[ML]\tOpening root file for python conversion.\n",
      "[ML]\tReading data from TTree.\n",
      "[ML]\tConversion to python successful!\n"
     ]
    }
   ],
   "source": [
    "legs_syg, jets_syg, global_params_syg, properties_syg=\\\n",
    "wczytaj_do_pythonowych(sciezka_sygnalu)\n",
    "legs_tlo, jets_tlo, global_params_tlo, properties_tlo=\\\n",
    "wczytaj_do_pythonowych(sciezka_tla)"
   ]
  },
  {
   "cell_type": "code",
   "execution_count": 10,
   "metadata": {},
   "outputs": [
    {
     "name": "stdout",
     "output_type": "stream",
     "text": [
      "3087\n",
      "59083\n"
     ]
    }
   ],
   "source": [
    "liczba_przypadkow_tlo=len(legs_tlo)\n",
    "liczba_przypadkow_syg=len(legs_syg)\n",
    "print(liczba_przypadkow_tlo)\n",
    "print(liczba_przypadkow_syg)"
   ]
  },
  {
   "cell_type": "code",
   "execution_count": 14,
   "metadata": {},
   "outputs": [
    {
     "name": "stdout",
     "output_type": "stream",
     "text": [
      "(59083, 2, 4)\n",
      "(59083, 1, 4)\n"
     ]
    }
   ],
   "source": [
    "print (legs_syg.shape)\n",
    "print (jets_syg.shape)"
   ]
  },
  {
   "cell_type": "code",
   "execution_count": 17,
   "metadata": {},
   "outputs": [
    {
     "data": {
      "text/plain": [
       "{'higgsMassTrans': 2.6793719558045055,\n",
       " 'higgsPT': 2.901246907610941,\n",
       " 'nJets30': 0,\n",
       " 'visMass': 3.9368709061941067}"
      ]
     },
     "execution_count": 17,
     "metadata": {},
     "output_type": "execute_result"
    }
   ],
   "source": [
    "global_params_syg[0]"
   ]
  },
  {
   "cell_type": "code",
   "execution_count": 18,
   "metadata": {},
   "outputs": [
    {
     "data": {
      "text/plain": [
       "{'leg_1_charge': 1,\n",
       " 'leg_1_combreliso': -3.3837063308792876,\n",
       " 'leg_2_byCombinedIsolationDeltaBetaCorrRaw3Hits': -4.605170185988091,\n",
       " 'leg_2_byIsolationMVArun2v1DBoldDMwLTraw': -3.542529797871357,\n",
       " 'leg_2_charge': -1,\n",
       " 'leg_2_decayMode': 1}"
      ]
     },
     "execution_count": 18,
     "metadata": {},
     "output_type": "execute_result"
    }
   ],
   "source": [
    "properties_syg[0]"
   ]
  },
  {
   "cell_type": "code",
   "execution_count": 28,
   "metadata": {},
   "outputs": [],
   "source": [
    "def rob_numeryczne(legs, jets, global_params, properties):\n",
    "    w = {}\n",
    "    w['legs'] = len(legs[0].reshape((-1,)))\n",
    "    w['jets'] = len(jets[0].reshape((-1,)))\n",
    "    for s in [global_params, properties]:\n",
    "        for k in s[0].keys():\n",
    "            if (not (k in slownik_kategorycznych)):\n",
    "                w[k] = 1\n",
    "    return w"
   ]
  },
  {
   "cell_type": "code",
   "execution_count": 29,
   "metadata": {},
   "outputs": [],
   "source": [
    "slownik_numerycznych = rob_numeryczne(legs_syg, jets_syg, global_params_syg\n",
    "                                ,properties_syg)"
   ]
  },
  {
   "cell_type": "code",
   "execution_count": 30,
   "metadata": {},
   "outputs": [
    {
     "data": {
      "text/plain": [
       "{'legs': 8,\n",
       " 'jets': 4,\n",
       " 'higgsMassTrans': 1,\n",
       " 'higgsPT': 1,\n",
       " 'visMass': 1,\n",
       " 'leg_1_combreliso': 1,\n",
       " 'leg_2_byCombinedIsolationDeltaBetaCorrRaw3Hits': 1,\n",
       " 'leg_2_byIsolationMVArun2v1DBoldDMwLTraw': 1}"
      ]
     },
     "execution_count": 30,
     "metadata": {},
     "output_type": "execute_result"
    }
   ],
   "source": [
    "slownik_numerycznych "
   ]
  },
  {
   "cell_type": "code",
   "execution_count": 32,
   "metadata": {},
   "outputs": [],
   "source": [
    "def rob_jeden_przypadek(i, legs, jets, global_params, properties):\n",
    "    n = {}\n",
    "    c = {}\n",
    "    n['legs'] = legs[i].reshape((-1,))\n",
    "    n['jets'] = jets[i].reshape((-1,))\n",
    "    for s in [global_params, properties]:\n",
    "        for k in s[i].keys():\n",
    "            if ( k in slownik_kategorycznych):\n",
    "                c[k] = s[i][k]\n",
    "            else:\n",
    "                n[k] = s[i][k]\n",
    "    return n, c"
   ]
  },
  {
   "cell_type": "code",
   "execution_count": 33,
   "metadata": {},
   "outputs": [
    {
     "data": {
      "text/plain": [
       "({'legs': array([  3.39761832,  16.25114959,  14.21720409,  20.65775908,\n",
       "           4.45590599, -32.5085886 , -45.41972008, -65.55087095]),\n",
       "  'jets': array([-4.60517019,  0.        ,  0.        ,  0.        ]),\n",
       "  'higgsMassTrans': 3.620412168348662,\n",
       "  'higgsPT': 3.9811968611061324,\n",
       "  'visMass': 4.6153824291135415,\n",
       "  'leg_1_combreliso': -2.3230754541619603,\n",
       "  'leg_2_byCombinedIsolationDeltaBetaCorrRaw3Hits': -0.44945209087010646,\n",
       "  'leg_2_byIsolationMVArun2v1DBoldDMwLTraw': -2.931676502631464},\n",
       " {'nJets30': 1, 'leg_1_charge': 1, 'leg_2_charge': -1, 'leg_2_decayMode': 1})"
      ]
     },
     "execution_count": 33,
     "metadata": {},
     "output_type": "execute_result"
    }
   ],
   "source": [
    "rob_jeden_przypadek(5, legs_syg, jets_syg, global_params_syg, \n",
    "                   properties_syg)"
   ]
  },
  {
   "cell_type": "code",
   "execution_count": 39,
   "metadata": {},
   "outputs": [],
   "source": [
    "ln_syg, lk_syg, wr_syg = zap.tworz_folder_do_zapisu('sygnal', slownik_numerycznych, \n",
    "                          slownik_kategorycznych)\n",
    "ln_tlo, lk_tlo, wr_tlo = zap.tworz_folder_do_zapisu('tlo', slownik_numerycznych,\n",
    "                          slownik_kategorycznych)"
   ]
  },
  {
   "cell_type": "code",
   "execution_count": 40,
   "metadata": {},
   "outputs": [],
   "source": [
    "for i in range(liczba_przypadkow_syg):\n",
    "    n,c = rob_jeden_przypadek(i, legs_syg, jets_syg, \n",
    "                             global_params_syg, \n",
    "                             properties_syg)\n",
    "    zap.zapisz_jeden_przyklad(n, c, 1, ln_syg, lk_syg, wr_syg)\n",
    "wr_syg.close()"
   ]
  },
  {
   "cell_type": "code",
   "execution_count": null,
   "metadata": {},
   "outputs": [],
   "source": []
  },
  {
   "cell_type": "code",
   "execution_count": 41,
   "metadata": {},
   "outputs": [],
   "source": [
    "for i in range(liczba_przypadkow_tlo):\n",
    "    n,c = rob_jeden_przypadek(i, legs_tlo, jets_tlo, \n",
    "                             global_params_tlo, \n",
    "                             properties_tlo)\n",
    "    zap.zapisz_jeden_przyklad(n, c, 0, ln_tlo, lk_tlo, wr_tlo)\n",
    "wr_tlo.close()\n"
   ]
  },
  {
   "cell_type": "code",
   "execution_count": 42,
   "metadata": {},
   "outputs": [],
   "source": [
    "#teraz mieszanie tych danych"
   ]
  },
  {
   "cell_type": "code",
   "execution_count": 43,
   "metadata": {},
   "outputs": [],
   "source": [
    "import tensorflow as tf"
   ]
  },
  {
   "cell_type": "code",
   "execution_count": 44,
   "metadata": {},
   "outputs": [],
   "source": [
    "import model_dnn as mod"
   ]
  },
  {
   "cell_type": "code",
   "execution_count": 50,
   "metadata": {},
   "outputs": [],
   "source": [
    "\n",
    "def rob_pary_indexow_syg_tlo(od_kad, do_kad):\n",
    "    od_kad_syg = int(od_kad * liczba_przypadkow_syg)\n",
    "    od_kad_tlo = int(od_kad * liczba_przypadkow_tlo)\n",
    "    \n",
    "    do_kad_syg = int(do_kad * liczba_przypadkow_syg)\n",
    "    do_kad_tlo = int(do_kad * liczba_przypadkow_tlo)\n",
    "    \n",
    "    lista = []\n",
    "    for i in range(do_kad_syg - od_kad_syg):\n",
    "        lista.append((\n",
    "            od_kad_syg + i,\n",
    "            od_kad_tlo + (i % (do_kad_tlo - od_kad_tlo))))\n",
    "    return lista\n",
    "    "
   ]
  },
  {
   "cell_type": "code",
   "execution_count": 51,
   "metadata": {},
   "outputs": [],
   "source": [
    "ln_tr, lk_tr, wr_tr = zap.tworz_folder_do_zapisu('train', slownik_numerycznych, \n",
    "                          slownik_kategorycznych)\n",
    "ln_va, lk_va, wr_va = zap.tworz_folder_do_zapisu('val', slownik_numerycznych, \n",
    "                          slownik_kategorycznych)\n",
    "ln_te, lk_te, wr_te = zap.tworz_folder_do_zapisu('test', slownik_numerycznych, \n",
    "                          slownik_kategorycznych)"
   ]
  },
  {
   "cell_type": "code",
   "execution_count": 54,
   "metadata": {},
   "outputs": [],
   "source": [
    "def zapisz(od_kad, do_kad, ln, lk, wr):\n",
    "    lista = rob_pary_indexow_syg_tlo(od_kad, do_kad)\n",
    "    for para in lista:\n",
    "        in_syg, in_tlo = para\n",
    "        n,c = rob_jeden_przypadek(in_syg, legs_syg, jets_syg, \n",
    "                             global_params_syg, \n",
    "                             properties_syg)\n",
    "        \n",
    "        zap.zapisz_jeden_przyklad(n, c, 1, ln, lk, wr)\n",
    "        n,c = rob_jeden_przypadek(in_tlo, legs_tlo, jets_tlo, \n",
    "                             global_params_tlo, \n",
    "                             properties_tlo)\n",
    "        \n",
    "        zap.zapisz_jeden_przyklad(n, c, 0, ln, lk, wr)\n",
    "    \n",
    "        "
   ]
  },
  {
   "cell_type": "code",
   "execution_count": 55,
   "metadata": {},
   "outputs": [],
   "source": [
    "zapisz(0., 0.8, ln_tr, lk_tr, wr_tr)"
   ]
  },
  {
   "cell_type": "code",
   "execution_count": 57,
   "metadata": {},
   "outputs": [],
   "source": [
    "zapisz(0.8, 0.9, ln_va, lk_va, wr_va)"
   ]
  },
  {
   "cell_type": "code",
   "execution_count": 58,
   "metadata": {},
   "outputs": [],
   "source": [
    "zapisz(0.9, 1., ln_te, lk_te, wr_te)"
   ]
  },
  {
   "cell_type": "code",
   "execution_count": 59,
   "metadata": {},
   "outputs": [],
   "source": [
    "wr_tr.close()\n",
    "wr_te.close()\n",
    "wr_va.close()"
   ]
  },
  {
   "cell_type": "code",
   "execution_count": null,
   "metadata": {},
   "outputs": [],
   "source": []
  }
 ],
 "metadata": {
  "kernelspec": {
   "display_name": "Python 3",
   "language": "python",
   "name": "python3"
  },
  "language_info": {
   "codemirror_mode": {
    "name": "ipython",
    "version": 3
   },
   "file_extension": ".py",
   "mimetype": "text/x-python",
   "name": "python",
   "nbconvert_exporter": "python",
   "pygments_lexer": "ipython3",
   "version": "3.6.5"
  }
 },
 "nbformat": 4,
 "nbformat_minor": 2
}
