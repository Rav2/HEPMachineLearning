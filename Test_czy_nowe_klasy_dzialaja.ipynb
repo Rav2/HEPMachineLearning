{
 "cells": [
  {
   "cell_type": "code",
   "execution_count": 1,
   "metadata": {},
   "outputs": [],
   "source": [
    "import tensorflow as tf\n",
    "import numpy as np\n",
    "import zapisywacz as zap\n",
    "import model_dnn as mod"
   ]
  },
  {
   "cell_type": "code",
   "execution_count": 2,
   "metadata": {},
   "outputs": [],
   "source": [
    "typy_numeryczne = {'xy': 2, 'z': 1}"
   ]
  },
  {
   "cell_type": "code",
   "execution_count": 3,
   "metadata": {},
   "outputs": [],
   "source": [
    "typy_kategoryczne = {'cat1':[3,4], \n",
    "                        'cat2': [6,7]}"
   ]
  },
  {
   "cell_type": "code",
   "execution_count": 4,
   "metadata": {},
   "outputs": [],
   "source": [
    "ln, lk, wr = zap.tworz_folder_do_zapisu('kolko_w_kolku', \n",
    "                          typy_numeryczne,\n",
    "                          typy_kategoryczne)"
   ]
  },
  {
   "cell_type": "code",
   "execution_count": 5,
   "metadata": {},
   "outputs": [],
   "source": [
    "def daj_dane():\n",
    "    if (np.random.normal() > 0.):\n",
    "        x= np.random.normal(1,2)\n",
    "        y= np.random.normal(0,3)\n",
    "        z= np.random.normal(0,3)\n",
    "        c1= np.random.choice([3,4])\n",
    "        c2= np.random.choice([6,7])\n",
    "        return {'xy':[x, y],\n",
    "               'z': z},{\n",
    "                'cat1':c1,\n",
    "                'cat2':c2\n",
    "                    }, 1\n",
    "    else:\n",
    "        x= np.random.normal(-1,2)\n",
    "        y= np.random.normal(0,1)\n",
    "        z= np.random.normal(0,5)\n",
    "        c1= np.random.choice([3,4])\n",
    "        c2= np.random.choice([6,7])\n",
    "        return {'xy':[x, y],\n",
    "               'z': [z]},{\n",
    "                'cat1':c1,\n",
    "                'cat2':c2\n",
    "                    }, 0\n",
    "        \n",
    "        \n",
    "        "
   ]
  },
  {
   "cell_type": "code",
   "execution_count": 6,
   "metadata": {},
   "outputs": [
    {
     "ename": "TypeError",
     "evalue": "unhashable type: 'list'",
     "output_type": "error",
     "traceback": [
      "\u001b[0;31m---------------------------------------------------------------------------\u001b[0m",
      "\u001b[0;31mTypeError\u001b[0m                                 Traceback (most recent call last)",
      "\u001b[0;32m<ipython-input-6-aa1e6122089a>\u001b[0m in \u001b[0;36m<module>\u001b[0;34m()\u001b[0m\n\u001b[1;32m      1\u001b[0m \u001b[0;32mfor\u001b[0m \u001b[0mi\u001b[0m \u001b[0;32min\u001b[0m \u001b[0mrange\u001b[0m\u001b[0;34m(\u001b[0m\u001b[0;36m100000\u001b[0m\u001b[0;34m)\u001b[0m\u001b[0;34m:\u001b[0m\u001b[0;34m\u001b[0m\u001b[0m\n\u001b[1;32m      2\u001b[0m     \u001b[0mn\u001b[0m\u001b[0;34m,\u001b[0m\u001b[0mc\u001b[0m\u001b[0;34m,\u001b[0m\u001b[0ml\u001b[0m \u001b[0;34m=\u001b[0m \u001b[0mdaj_dane\u001b[0m\u001b[0;34m(\u001b[0m\u001b[0;34m)\u001b[0m\u001b[0;34m\u001b[0m\u001b[0m\n\u001b[0;32m----> 3\u001b[0;31m     \u001b[0mzap\u001b[0m\u001b[0;34m.\u001b[0m\u001b[0mzapisz_jeden_przyklad\u001b[0m\u001b[0;34m(\u001b[0m\u001b[0mn\u001b[0m\u001b[0;34m,\u001b[0m \u001b[0mc\u001b[0m\u001b[0;34m,\u001b[0m \u001b[0ml\u001b[0m\u001b[0;34m,\u001b[0m \u001b[0mln\u001b[0m\u001b[0;34m,\u001b[0m \u001b[0mlk\u001b[0m\u001b[0;34m,\u001b[0m \u001b[0mwr\u001b[0m\u001b[0;34m)\u001b[0m\u001b[0;34m\u001b[0m\u001b[0m\n\u001b[0m",
      "\u001b[0;32m~/Desktop/zespolowy_studencki_ostatnia_prosta/szybsze_klasy/zapisywacz.py\u001b[0m in \u001b[0;36mzapisz_jeden_przyklad\u001b[0;34m(n, c, l, lnt, lkt, writer)\u001b[0m\n\u001b[1;32m     69\u001b[0m     \u001b[0;32mfor\u001b[0m \u001b[0mi\u001b[0m \u001b[0;32min\u001b[0m \u001b[0mrange\u001b[0m\u001b[0;34m(\u001b[0m\u001b[0mlen\u001b[0m\u001b[0;34m(\u001b[0m\u001b[0mlnt\u001b[0m\u001b[0;34m)\u001b[0m\u001b[0;34m)\u001b[0m\u001b[0;34m:\u001b[0m\u001b[0;34m\u001b[0m\u001b[0m\n\u001b[1;32m     70\u001b[0m         \u001b[0mrozwazany\u001b[0m \u001b[0;34m=\u001b[0m \u001b[0mlnt\u001b[0m\u001b[0;34m[\u001b[0m\u001b[0mi\u001b[0m\u001b[0;34m]\u001b[0m\u001b[0;34m\u001b[0m\u001b[0m\n\u001b[0;32m---> 71\u001b[0;31m         \u001b[0mlista_numerycznych\u001b[0m \u001b[0;34m+=\u001b[0m \u001b[0mn\u001b[0m\u001b[0;34m[\u001b[0m\u001b[0mpoprawiacz_numerycznego\u001b[0m\u001b[0;34m(\u001b[0m \u001b[0mrozwazany\u001b[0m\u001b[0;34m[\u001b[0m\u001b[0;36m0\u001b[0m\u001b[0;34m]\u001b[0m \u001b[0;34m)\u001b[0m\u001b[0;34m]\u001b[0m\u001b[0;34m\u001b[0m\u001b[0m\n\u001b[0m\u001b[1;32m     72\u001b[0m     \u001b[0mslownik_danych\u001b[0m\u001b[0;34m[\u001b[0m\u001b[0;34m'n'\u001b[0m\u001b[0;34m]\u001b[0m\u001b[0;34m=\u001b[0m \u001b[0m_float_feature\u001b[0m\u001b[0;34m(\u001b[0m\u001b[0mlista_numerycznych\u001b[0m\u001b[0;34m)\u001b[0m\u001b[0;34m\u001b[0m\u001b[0m\n\u001b[1;32m     73\u001b[0m \u001b[0;34m\u001b[0m\u001b[0m\n",
      "\u001b[0;31mTypeError\u001b[0m: unhashable type: 'list'"
     ]
    }
   ],
   "source": [
    "for i in range(100000):\n",
    "    n,c,l = daj_dane()\n",
    "    zap.zapisz_jeden_przyklad(n, c, l, ln, lk, wr)"
   ]
  },
  {
   "cell_type": "code",
   "execution_count": null,
   "metadata": {},
   "outputs": [],
   "source": [
    "wr.close() # jak zamkniemy zamkniety to kernel umrze"
   ]
  },
  {
   "cell_type": "code",
   "execution_count": 7,
   "metadata": {},
   "outputs": [
    {
     "data": {
      "text/plain": [
       "[['xy', 0, 2], ['z', 2, 3]]"
      ]
     },
     "execution_count": 7,
     "metadata": {},
     "output_type": "execute_result"
    }
   ],
   "source": [
    "zap.wczytaj_typy_numerycznych('kolko_w_kolku')"
   ]
  },
  {
   "cell_type": "code",
   "execution_count": 8,
   "metadata": {},
   "outputs": [
    {
     "data": {
      "text/plain": [
       "[['cat1', [3, 4]], ['cat2', [6, 7]]]"
      ]
     },
     "execution_count": 8,
     "metadata": {},
     "output_type": "execute_result"
    }
   ],
   "source": [
    "zap.wczytaj_typy_kategorycznych('kolko_w_kolku')"
   ]
  },
  {
   "cell_type": "code",
   "execution_count": 9,
   "metadata": {},
   "outputs": [],
   "source": [
    "dataset = zap.parsuj_i_batchuj('kolko_w_kolku', 5, 1)"
   ]
  },
  {
   "cell_type": "code",
   "execution_count": 10,
   "metadata": {},
   "outputs": [],
   "source": [
    "def podejrzyj_1_z_dataset(dataset):\n",
    "    iteratorek = dataset.make_one_shot_iterator()\n",
    "    with tf.Session() as sess:\n",
    "        return sess.run(iteratorek.get_next())"
   ]
  },
  {
   "cell_type": "code",
   "execution_count": 11,
   "metadata": {},
   "outputs": [
    {
     "ename": "OutOfRangeError",
     "evalue": "End of sequence\n\t [[Node: IteratorGetNext = IteratorGetNext[output_shapes=[[?,2], [?,1], [?,3]], output_types=[DT_INT64, DT_INT64, DT_FLOAT], _device=\"/job:localhost/replica:0/task:0/device:CPU:0\"](OneShotIterator)]]\n\nCaused by op 'IteratorGetNext', defined at:\n  File \"/home/pawel/anaconda3/envs/root_tensorflow/lib/python3.6/runpy.py\", line 193, in _run_module_as_main\n    \"__main__\", mod_spec)\n  File \"/home/pawel/anaconda3/envs/root_tensorflow/lib/python3.6/runpy.py\", line 85, in _run_code\n    exec(code, run_globals)\n  File \"/home/pawel/anaconda3/envs/root_tensorflow/lib/python3.6/site-packages/ipykernel_launcher.py\", line 16, in <module>\n    app.launch_new_instance()\n  File \"/home/pawel/anaconda3/envs/root_tensorflow/lib/python3.6/site-packages/traitlets/config/application.py\", line 658, in launch_instance\n    app.start()\n  File \"/home/pawel/anaconda3/envs/root_tensorflow/lib/python3.6/site-packages/ipykernel/kernelapp.py\", line 486, in start\n    self.io_loop.start()\n  File \"/home/pawel/anaconda3/envs/root_tensorflow/lib/python3.6/site-packages/tornado/platform/asyncio.py\", line 127, in start\n    self.asyncio_loop.run_forever()\n  File \"/home/pawel/anaconda3/envs/root_tensorflow/lib/python3.6/asyncio/base_events.py\", line 422, in run_forever\n    self._run_once()\n  File \"/home/pawel/anaconda3/envs/root_tensorflow/lib/python3.6/asyncio/base_events.py\", line 1432, in _run_once\n    handle._run()\n  File \"/home/pawel/anaconda3/envs/root_tensorflow/lib/python3.6/asyncio/events.py\", line 145, in _run\n    self._callback(*self._args)\n  File \"/home/pawel/anaconda3/envs/root_tensorflow/lib/python3.6/site-packages/tornado/platform/asyncio.py\", line 117, in _handle_events\n    handler_func(fileobj, events)\n  File \"/home/pawel/anaconda3/envs/root_tensorflow/lib/python3.6/site-packages/tornado/stack_context.py\", line 276, in null_wrapper\n    return fn(*args, **kwargs)\n  File \"/home/pawel/anaconda3/envs/root_tensorflow/lib/python3.6/site-packages/zmq/eventloop/zmqstream.py\", line 450, in _handle_events\n    self._handle_recv()\n  File \"/home/pawel/anaconda3/envs/root_tensorflow/lib/python3.6/site-packages/zmq/eventloop/zmqstream.py\", line 480, in _handle_recv\n    self._run_callback(callback, msg)\n  File \"/home/pawel/anaconda3/envs/root_tensorflow/lib/python3.6/site-packages/zmq/eventloop/zmqstream.py\", line 432, in _run_callback\n    callback(*args, **kwargs)\n  File \"/home/pawel/anaconda3/envs/root_tensorflow/lib/python3.6/site-packages/tornado/stack_context.py\", line 276, in null_wrapper\n    return fn(*args, **kwargs)\n  File \"/home/pawel/anaconda3/envs/root_tensorflow/lib/python3.6/site-packages/ipykernel/kernelbase.py\", line 283, in dispatcher\n    return self.dispatch_shell(stream, msg)\n  File \"/home/pawel/anaconda3/envs/root_tensorflow/lib/python3.6/site-packages/ipykernel/kernelbase.py\", line 233, in dispatch_shell\n    handler(stream, idents, msg)\n  File \"/home/pawel/anaconda3/envs/root_tensorflow/lib/python3.6/site-packages/ipykernel/kernelbase.py\", line 399, in execute_request\n    user_expressions, allow_stdin)\n  File \"/home/pawel/anaconda3/envs/root_tensorflow/lib/python3.6/site-packages/ipykernel/ipkernel.py\", line 208, in do_execute\n    res = shell.run_cell(code, store_history=store_history, silent=silent)\n  File \"/home/pawel/anaconda3/envs/root_tensorflow/lib/python3.6/site-packages/ipykernel/zmqshell.py\", line 537, in run_cell\n    return super(ZMQInteractiveShell, self).run_cell(*args, **kwargs)\n  File \"/home/pawel/anaconda3/envs/root_tensorflow/lib/python3.6/site-packages/IPython/core/interactiveshell.py\", line 2662, in run_cell\n    raw_cell, store_history, silent, shell_futures)\n  File \"/home/pawel/anaconda3/envs/root_tensorflow/lib/python3.6/site-packages/IPython/core/interactiveshell.py\", line 2785, in _run_cell\n    interactivity=interactivity, compiler=compiler, result=result)\n  File \"/home/pawel/anaconda3/envs/root_tensorflow/lib/python3.6/site-packages/IPython/core/interactiveshell.py\", line 2909, in run_ast_nodes\n    if self.run_code(code, result):\n  File \"/home/pawel/anaconda3/envs/root_tensorflow/lib/python3.6/site-packages/IPython/core/interactiveshell.py\", line 2963, in run_code\n    exec(code_obj, self.user_global_ns, self.user_ns)\n  File \"<ipython-input-11-d7f9412bfd73>\", line 1, in <module>\n    podejrzyj_1_z_dataset(dataset)\n  File \"<ipython-input-10-ce2525f79877>\", line 4, in podejrzyj_1_z_dataset\n    return sess.run(iteratorek.get_next())\n  File \"/home/pawel/anaconda3/envs/root_tensorflow/lib/python3.6/site-packages/tensorflow/python/data/ops/iterator_ops.py\", line 370, in get_next\n    name=name)), self._output_types,\n  File \"/home/pawel/anaconda3/envs/root_tensorflow/lib/python3.6/site-packages/tensorflow/python/ops/gen_dataset_ops.py\", line 1466, in iterator_get_next\n    output_shapes=output_shapes, name=name)\n  File \"/home/pawel/anaconda3/envs/root_tensorflow/lib/python3.6/site-packages/tensorflow/python/framework/op_def_library.py\", line 787, in _apply_op_helper\n    op_def=op_def)\n  File \"/home/pawel/anaconda3/envs/root_tensorflow/lib/python3.6/site-packages/tensorflow/python/framework/ops.py\", line 3392, in create_op\n    op_def=op_def)\n  File \"/home/pawel/anaconda3/envs/root_tensorflow/lib/python3.6/site-packages/tensorflow/python/framework/ops.py\", line 1718, in __init__\n    self._traceback = self._graph._extract_stack()  # pylint: disable=protected-access\n\nOutOfRangeError (see above for traceback): End of sequence\n\t [[Node: IteratorGetNext = IteratorGetNext[output_shapes=[[?,2], [?,1], [?,3]], output_types=[DT_INT64, DT_INT64, DT_FLOAT], _device=\"/job:localhost/replica:0/task:0/device:CPU:0\"](OneShotIterator)]]\n",
     "output_type": "error",
     "traceback": [
      "\u001b[0;31m---------------------------------------------------------------------------\u001b[0m",
      "\u001b[0;31mOutOfRangeError\u001b[0m                           Traceback (most recent call last)",
      "\u001b[0;32m~/anaconda3/envs/root_tensorflow/lib/python3.6/site-packages/tensorflow/python/client/session.py\u001b[0m in \u001b[0;36m_do_call\u001b[0;34m(self, fn, *args)\u001b[0m\n\u001b[1;32m   1321\u001b[0m     \u001b[0;32mtry\u001b[0m\u001b[0;34m:\u001b[0m\u001b[0;34m\u001b[0m\u001b[0m\n\u001b[0;32m-> 1322\u001b[0;31m       \u001b[0;32mreturn\u001b[0m \u001b[0mfn\u001b[0m\u001b[0;34m(\u001b[0m\u001b[0;34m*\u001b[0m\u001b[0margs\u001b[0m\u001b[0;34m)\u001b[0m\u001b[0;34m\u001b[0m\u001b[0m\n\u001b[0m\u001b[1;32m   1323\u001b[0m     \u001b[0;32mexcept\u001b[0m \u001b[0merrors\u001b[0m\u001b[0;34m.\u001b[0m\u001b[0mOpError\u001b[0m \u001b[0;32mas\u001b[0m \u001b[0me\u001b[0m\u001b[0;34m:\u001b[0m\u001b[0;34m\u001b[0m\u001b[0m\n",
      "\u001b[0;32m~/anaconda3/envs/root_tensorflow/lib/python3.6/site-packages/tensorflow/python/client/session.py\u001b[0m in \u001b[0;36m_run_fn\u001b[0;34m(feed_dict, fetch_list, target_list, options, run_metadata)\u001b[0m\n\u001b[1;32m   1306\u001b[0m       return self._call_tf_sessionrun(\n\u001b[0;32m-> 1307\u001b[0;31m           options, feed_dict, fetch_list, target_list, run_metadata)\n\u001b[0m\u001b[1;32m   1308\u001b[0m \u001b[0;34m\u001b[0m\u001b[0m\n",
      "\u001b[0;32m~/anaconda3/envs/root_tensorflow/lib/python3.6/site-packages/tensorflow/python/client/session.py\u001b[0m in \u001b[0;36m_call_tf_sessionrun\u001b[0;34m(self, options, feed_dict, fetch_list, target_list, run_metadata)\u001b[0m\n\u001b[1;32m   1408\u001b[0m           \u001b[0mself\u001b[0m\u001b[0;34m.\u001b[0m\u001b[0m_session\u001b[0m\u001b[0;34m,\u001b[0m \u001b[0moptions\u001b[0m\u001b[0;34m,\u001b[0m \u001b[0mfeed_dict\u001b[0m\u001b[0;34m,\u001b[0m \u001b[0mfetch_list\u001b[0m\u001b[0;34m,\u001b[0m \u001b[0mtarget_list\u001b[0m\u001b[0;34m,\u001b[0m\u001b[0;34m\u001b[0m\u001b[0m\n\u001b[0;32m-> 1409\u001b[0;31m           run_metadata)\n\u001b[0m\u001b[1;32m   1410\u001b[0m     \u001b[0;32melse\u001b[0m\u001b[0;34m:\u001b[0m\u001b[0;34m\u001b[0m\u001b[0m\n",
      "\u001b[0;31mOutOfRangeError\u001b[0m: End of sequence\n\t [[Node: IteratorGetNext = IteratorGetNext[output_shapes=[[?,2], [?,1], [?,3]], output_types=[DT_INT64, DT_INT64, DT_FLOAT], _device=\"/job:localhost/replica:0/task:0/device:CPU:0\"](OneShotIterator)]]",
      "\nDuring handling of the above exception, another exception occurred:\n",
      "\u001b[0;31mOutOfRangeError\u001b[0m                           Traceback (most recent call last)",
      "\u001b[0;32m<ipython-input-11-d7f9412bfd73>\u001b[0m in \u001b[0;36m<module>\u001b[0;34m()\u001b[0m\n\u001b[0;32m----> 1\u001b[0;31m \u001b[0mpodejrzyj_1_z_dataset\u001b[0m\u001b[0;34m(\u001b[0m\u001b[0mdataset\u001b[0m\u001b[0;34m)\u001b[0m\u001b[0;34m\u001b[0m\u001b[0m\n\u001b[0m",
      "\u001b[0;32m<ipython-input-10-ce2525f79877>\u001b[0m in \u001b[0;36mpodejrzyj_1_z_dataset\u001b[0;34m(dataset)\u001b[0m\n\u001b[1;32m      2\u001b[0m     \u001b[0miteratorek\u001b[0m \u001b[0;34m=\u001b[0m \u001b[0mdataset\u001b[0m\u001b[0;34m.\u001b[0m\u001b[0mmake_one_shot_iterator\u001b[0m\u001b[0;34m(\u001b[0m\u001b[0;34m)\u001b[0m\u001b[0;34m\u001b[0m\u001b[0m\n\u001b[1;32m      3\u001b[0m     \u001b[0;32mwith\u001b[0m \u001b[0mtf\u001b[0m\u001b[0;34m.\u001b[0m\u001b[0mSession\u001b[0m\u001b[0;34m(\u001b[0m\u001b[0;34m)\u001b[0m \u001b[0;32mas\u001b[0m \u001b[0msess\u001b[0m\u001b[0;34m:\u001b[0m\u001b[0;34m\u001b[0m\u001b[0m\n\u001b[0;32m----> 4\u001b[0;31m         \u001b[0;32mreturn\u001b[0m \u001b[0msess\u001b[0m\u001b[0;34m.\u001b[0m\u001b[0mrun\u001b[0m\u001b[0;34m(\u001b[0m\u001b[0miteratorek\u001b[0m\u001b[0;34m.\u001b[0m\u001b[0mget_next\u001b[0m\u001b[0;34m(\u001b[0m\u001b[0;34m)\u001b[0m\u001b[0;34m)\u001b[0m\u001b[0;34m\u001b[0m\u001b[0m\n\u001b[0m",
      "\u001b[0;32m~/anaconda3/envs/root_tensorflow/lib/python3.6/site-packages/tensorflow/python/client/session.py\u001b[0m in \u001b[0;36mrun\u001b[0;34m(self, fetches, feed_dict, options, run_metadata)\u001b[0m\n\u001b[1;32m    898\u001b[0m     \u001b[0;32mtry\u001b[0m\u001b[0;34m:\u001b[0m\u001b[0;34m\u001b[0m\u001b[0m\n\u001b[1;32m    899\u001b[0m       result = self._run(None, fetches, feed_dict, options_ptr,\n\u001b[0;32m--> 900\u001b[0;31m                          run_metadata_ptr)\n\u001b[0m\u001b[1;32m    901\u001b[0m       \u001b[0;32mif\u001b[0m \u001b[0mrun_metadata\u001b[0m\u001b[0;34m:\u001b[0m\u001b[0;34m\u001b[0m\u001b[0m\n\u001b[1;32m    902\u001b[0m         \u001b[0mproto_data\u001b[0m \u001b[0;34m=\u001b[0m \u001b[0mtf_session\u001b[0m\u001b[0;34m.\u001b[0m\u001b[0mTF_GetBuffer\u001b[0m\u001b[0;34m(\u001b[0m\u001b[0mrun_metadata_ptr\u001b[0m\u001b[0;34m)\u001b[0m\u001b[0;34m\u001b[0m\u001b[0m\n",
      "\u001b[0;32m~/anaconda3/envs/root_tensorflow/lib/python3.6/site-packages/tensorflow/python/client/session.py\u001b[0m in \u001b[0;36m_run\u001b[0;34m(self, handle, fetches, feed_dict, options, run_metadata)\u001b[0m\n\u001b[1;32m   1133\u001b[0m     \u001b[0;32mif\u001b[0m \u001b[0mfinal_fetches\u001b[0m \u001b[0;32mor\u001b[0m \u001b[0mfinal_targets\u001b[0m \u001b[0;32mor\u001b[0m \u001b[0;34m(\u001b[0m\u001b[0mhandle\u001b[0m \u001b[0;32mand\u001b[0m \u001b[0mfeed_dict_tensor\u001b[0m\u001b[0;34m)\u001b[0m\u001b[0;34m:\u001b[0m\u001b[0;34m\u001b[0m\u001b[0m\n\u001b[1;32m   1134\u001b[0m       results = self._do_run(handle, final_targets, final_fetches,\n\u001b[0;32m-> 1135\u001b[0;31m                              feed_dict_tensor, options, run_metadata)\n\u001b[0m\u001b[1;32m   1136\u001b[0m     \u001b[0;32melse\u001b[0m\u001b[0;34m:\u001b[0m\u001b[0;34m\u001b[0m\u001b[0m\n\u001b[1;32m   1137\u001b[0m       \u001b[0mresults\u001b[0m \u001b[0;34m=\u001b[0m \u001b[0;34m[\u001b[0m\u001b[0;34m]\u001b[0m\u001b[0;34m\u001b[0m\u001b[0m\n",
      "\u001b[0;32m~/anaconda3/envs/root_tensorflow/lib/python3.6/site-packages/tensorflow/python/client/session.py\u001b[0m in \u001b[0;36m_do_run\u001b[0;34m(self, handle, target_list, fetch_list, feed_dict, options, run_metadata)\u001b[0m\n\u001b[1;32m   1314\u001b[0m     \u001b[0;32mif\u001b[0m \u001b[0mhandle\u001b[0m \u001b[0;32mis\u001b[0m \u001b[0;32mNone\u001b[0m\u001b[0;34m:\u001b[0m\u001b[0;34m\u001b[0m\u001b[0m\n\u001b[1;32m   1315\u001b[0m       return self._do_call(_run_fn, feeds, fetches, targets, options,\n\u001b[0;32m-> 1316\u001b[0;31m                            run_metadata)\n\u001b[0m\u001b[1;32m   1317\u001b[0m     \u001b[0;32melse\u001b[0m\u001b[0;34m:\u001b[0m\u001b[0;34m\u001b[0m\u001b[0m\n\u001b[1;32m   1318\u001b[0m       \u001b[0;32mreturn\u001b[0m \u001b[0mself\u001b[0m\u001b[0;34m.\u001b[0m\u001b[0m_do_call\u001b[0m\u001b[0;34m(\u001b[0m\u001b[0m_prun_fn\u001b[0m\u001b[0;34m,\u001b[0m \u001b[0mhandle\u001b[0m\u001b[0;34m,\u001b[0m \u001b[0mfeeds\u001b[0m\u001b[0;34m,\u001b[0m \u001b[0mfetches\u001b[0m\u001b[0;34m)\u001b[0m\u001b[0;34m\u001b[0m\u001b[0m\n",
      "\u001b[0;32m~/anaconda3/envs/root_tensorflow/lib/python3.6/site-packages/tensorflow/python/client/session.py\u001b[0m in \u001b[0;36m_do_call\u001b[0;34m(self, fn, *args)\u001b[0m\n\u001b[1;32m   1333\u001b[0m         \u001b[0;32mexcept\u001b[0m \u001b[0mKeyError\u001b[0m\u001b[0;34m:\u001b[0m\u001b[0;34m\u001b[0m\u001b[0m\n\u001b[1;32m   1334\u001b[0m           \u001b[0;32mpass\u001b[0m\u001b[0;34m\u001b[0m\u001b[0m\n\u001b[0;32m-> 1335\u001b[0;31m       \u001b[0;32mraise\u001b[0m \u001b[0mtype\u001b[0m\u001b[0;34m(\u001b[0m\u001b[0me\u001b[0m\u001b[0;34m)\u001b[0m\u001b[0;34m(\u001b[0m\u001b[0mnode_def\u001b[0m\u001b[0;34m,\u001b[0m \u001b[0mop\u001b[0m\u001b[0;34m,\u001b[0m \u001b[0mmessage\u001b[0m\u001b[0;34m)\u001b[0m\u001b[0;34m\u001b[0m\u001b[0m\n\u001b[0m\u001b[1;32m   1336\u001b[0m \u001b[0;34m\u001b[0m\u001b[0m\n\u001b[1;32m   1337\u001b[0m   \u001b[0;32mdef\u001b[0m \u001b[0m_extend_graph\u001b[0m\u001b[0;34m(\u001b[0m\u001b[0mself\u001b[0m\u001b[0;34m)\u001b[0m\u001b[0;34m:\u001b[0m\u001b[0;34m\u001b[0m\u001b[0m\n",
      "\u001b[0;31mOutOfRangeError\u001b[0m: End of sequence\n\t [[Node: IteratorGetNext = IteratorGetNext[output_shapes=[[?,2], [?,1], [?,3]], output_types=[DT_INT64, DT_INT64, DT_FLOAT], _device=\"/job:localhost/replica:0/task:0/device:CPU:0\"](OneShotIterator)]]\n\nCaused by op 'IteratorGetNext', defined at:\n  File \"/home/pawel/anaconda3/envs/root_tensorflow/lib/python3.6/runpy.py\", line 193, in _run_module_as_main\n    \"__main__\", mod_spec)\n  File \"/home/pawel/anaconda3/envs/root_tensorflow/lib/python3.6/runpy.py\", line 85, in _run_code\n    exec(code, run_globals)\n  File \"/home/pawel/anaconda3/envs/root_tensorflow/lib/python3.6/site-packages/ipykernel_launcher.py\", line 16, in <module>\n    app.launch_new_instance()\n  File \"/home/pawel/anaconda3/envs/root_tensorflow/lib/python3.6/site-packages/traitlets/config/application.py\", line 658, in launch_instance\n    app.start()\n  File \"/home/pawel/anaconda3/envs/root_tensorflow/lib/python3.6/site-packages/ipykernel/kernelapp.py\", line 486, in start\n    self.io_loop.start()\n  File \"/home/pawel/anaconda3/envs/root_tensorflow/lib/python3.6/site-packages/tornado/platform/asyncio.py\", line 127, in start\n    self.asyncio_loop.run_forever()\n  File \"/home/pawel/anaconda3/envs/root_tensorflow/lib/python3.6/asyncio/base_events.py\", line 422, in run_forever\n    self._run_once()\n  File \"/home/pawel/anaconda3/envs/root_tensorflow/lib/python3.6/asyncio/base_events.py\", line 1432, in _run_once\n    handle._run()\n  File \"/home/pawel/anaconda3/envs/root_tensorflow/lib/python3.6/asyncio/events.py\", line 145, in _run\n    self._callback(*self._args)\n  File \"/home/pawel/anaconda3/envs/root_tensorflow/lib/python3.6/site-packages/tornado/platform/asyncio.py\", line 117, in _handle_events\n    handler_func(fileobj, events)\n  File \"/home/pawel/anaconda3/envs/root_tensorflow/lib/python3.6/site-packages/tornado/stack_context.py\", line 276, in null_wrapper\n    return fn(*args, **kwargs)\n  File \"/home/pawel/anaconda3/envs/root_tensorflow/lib/python3.6/site-packages/zmq/eventloop/zmqstream.py\", line 450, in _handle_events\n    self._handle_recv()\n  File \"/home/pawel/anaconda3/envs/root_tensorflow/lib/python3.6/site-packages/zmq/eventloop/zmqstream.py\", line 480, in _handle_recv\n    self._run_callback(callback, msg)\n  File \"/home/pawel/anaconda3/envs/root_tensorflow/lib/python3.6/site-packages/zmq/eventloop/zmqstream.py\", line 432, in _run_callback\n    callback(*args, **kwargs)\n  File \"/home/pawel/anaconda3/envs/root_tensorflow/lib/python3.6/site-packages/tornado/stack_context.py\", line 276, in null_wrapper\n    return fn(*args, **kwargs)\n  File \"/home/pawel/anaconda3/envs/root_tensorflow/lib/python3.6/site-packages/ipykernel/kernelbase.py\", line 283, in dispatcher\n    return self.dispatch_shell(stream, msg)\n  File \"/home/pawel/anaconda3/envs/root_tensorflow/lib/python3.6/site-packages/ipykernel/kernelbase.py\", line 233, in dispatch_shell\n    handler(stream, idents, msg)\n  File \"/home/pawel/anaconda3/envs/root_tensorflow/lib/python3.6/site-packages/ipykernel/kernelbase.py\", line 399, in execute_request\n    user_expressions, allow_stdin)\n  File \"/home/pawel/anaconda3/envs/root_tensorflow/lib/python3.6/site-packages/ipykernel/ipkernel.py\", line 208, in do_execute\n    res = shell.run_cell(code, store_history=store_history, silent=silent)\n  File \"/home/pawel/anaconda3/envs/root_tensorflow/lib/python3.6/site-packages/ipykernel/zmqshell.py\", line 537, in run_cell\n    return super(ZMQInteractiveShell, self).run_cell(*args, **kwargs)\n  File \"/home/pawel/anaconda3/envs/root_tensorflow/lib/python3.6/site-packages/IPython/core/interactiveshell.py\", line 2662, in run_cell\n    raw_cell, store_history, silent, shell_futures)\n  File \"/home/pawel/anaconda3/envs/root_tensorflow/lib/python3.6/site-packages/IPython/core/interactiveshell.py\", line 2785, in _run_cell\n    interactivity=interactivity, compiler=compiler, result=result)\n  File \"/home/pawel/anaconda3/envs/root_tensorflow/lib/python3.6/site-packages/IPython/core/interactiveshell.py\", line 2909, in run_ast_nodes\n    if self.run_code(code, result):\n  File \"/home/pawel/anaconda3/envs/root_tensorflow/lib/python3.6/site-packages/IPython/core/interactiveshell.py\", line 2963, in run_code\n    exec(code_obj, self.user_global_ns, self.user_ns)\n  File \"<ipython-input-11-d7f9412bfd73>\", line 1, in <module>\n    podejrzyj_1_z_dataset(dataset)\n  File \"<ipython-input-10-ce2525f79877>\", line 4, in podejrzyj_1_z_dataset\n    return sess.run(iteratorek.get_next())\n  File \"/home/pawel/anaconda3/envs/root_tensorflow/lib/python3.6/site-packages/tensorflow/python/data/ops/iterator_ops.py\", line 370, in get_next\n    name=name)), self._output_types,\n  File \"/home/pawel/anaconda3/envs/root_tensorflow/lib/python3.6/site-packages/tensorflow/python/ops/gen_dataset_ops.py\", line 1466, in iterator_get_next\n    output_shapes=output_shapes, name=name)\n  File \"/home/pawel/anaconda3/envs/root_tensorflow/lib/python3.6/site-packages/tensorflow/python/framework/op_def_library.py\", line 787, in _apply_op_helper\n    op_def=op_def)\n  File \"/home/pawel/anaconda3/envs/root_tensorflow/lib/python3.6/site-packages/tensorflow/python/framework/ops.py\", line 3392, in create_op\n    op_def=op_def)\n  File \"/home/pawel/anaconda3/envs/root_tensorflow/lib/python3.6/site-packages/tensorflow/python/framework/ops.py\", line 1718, in __init__\n    self._traceback = self._graph._extract_stack()  # pylint: disable=protected-access\n\nOutOfRangeError (see above for traceback): End of sequence\n\t [[Node: IteratorGetNext = IteratorGetNext[output_shapes=[[?,2], [?,1], [?,3]], output_types=[DT_INT64, DT_INT64, DT_FLOAT], _device=\"/job:localhost/replica:0/task:0/device:CPU:0\"](OneShotIterator)]]\n"
     ]
    }
   ],
   "source": [
    "podejrzyj_1_z_dataset(dataset)"
   ]
  },
  {
   "cell_type": "code",
   "execution_count": 12,
   "metadata": {},
   "outputs": [
    {
     "ename": "OutOfRangeError",
     "evalue": "End of sequence\n\t [[Node: IteratorGetNext_1 = IteratorGetNext[output_shapes=[[2], [1], [3]], output_types=[DT_INT64, DT_INT64, DT_FLOAT], _device=\"/job:localhost/replica:0/task:0/device:CPU:0\"](OneShotIterator_1)]]\n\nCaused by op 'IteratorGetNext_1', defined at:\n  File \"/home/pawel/anaconda3/envs/root_tensorflow/lib/python3.6/runpy.py\", line 193, in _run_module_as_main\n    \"__main__\", mod_spec)\n  File \"/home/pawel/anaconda3/envs/root_tensorflow/lib/python3.6/runpy.py\", line 85, in _run_code\n    exec(code, run_globals)\n  File \"/home/pawel/anaconda3/envs/root_tensorflow/lib/python3.6/site-packages/ipykernel_launcher.py\", line 16, in <module>\n    app.launch_new_instance()\n  File \"/home/pawel/anaconda3/envs/root_tensorflow/lib/python3.6/site-packages/traitlets/config/application.py\", line 658, in launch_instance\n    app.start()\n  File \"/home/pawel/anaconda3/envs/root_tensorflow/lib/python3.6/site-packages/ipykernel/kernelapp.py\", line 486, in start\n    self.io_loop.start()\n  File \"/home/pawel/anaconda3/envs/root_tensorflow/lib/python3.6/site-packages/tornado/platform/asyncio.py\", line 127, in start\n    self.asyncio_loop.run_forever()\n  File \"/home/pawel/anaconda3/envs/root_tensorflow/lib/python3.6/asyncio/base_events.py\", line 422, in run_forever\n    self._run_once()\n  File \"/home/pawel/anaconda3/envs/root_tensorflow/lib/python3.6/asyncio/base_events.py\", line 1432, in _run_once\n    handle._run()\n  File \"/home/pawel/anaconda3/envs/root_tensorflow/lib/python3.6/asyncio/events.py\", line 145, in _run\n    self._callback(*self._args)\n  File \"/home/pawel/anaconda3/envs/root_tensorflow/lib/python3.6/site-packages/tornado/platform/asyncio.py\", line 117, in _handle_events\n    handler_func(fileobj, events)\n  File \"/home/pawel/anaconda3/envs/root_tensorflow/lib/python3.6/site-packages/tornado/stack_context.py\", line 276, in null_wrapper\n    return fn(*args, **kwargs)\n  File \"/home/pawel/anaconda3/envs/root_tensorflow/lib/python3.6/site-packages/zmq/eventloop/zmqstream.py\", line 450, in _handle_events\n    self._handle_recv()\n  File \"/home/pawel/anaconda3/envs/root_tensorflow/lib/python3.6/site-packages/zmq/eventloop/zmqstream.py\", line 480, in _handle_recv\n    self._run_callback(callback, msg)\n  File \"/home/pawel/anaconda3/envs/root_tensorflow/lib/python3.6/site-packages/zmq/eventloop/zmqstream.py\", line 432, in _run_callback\n    callback(*args, **kwargs)\n  File \"/home/pawel/anaconda3/envs/root_tensorflow/lib/python3.6/site-packages/tornado/stack_context.py\", line 276, in null_wrapper\n    return fn(*args, **kwargs)\n  File \"/home/pawel/anaconda3/envs/root_tensorflow/lib/python3.6/site-packages/ipykernel/kernelbase.py\", line 283, in dispatcher\n    return self.dispatch_shell(stream, msg)\n  File \"/home/pawel/anaconda3/envs/root_tensorflow/lib/python3.6/site-packages/ipykernel/kernelbase.py\", line 233, in dispatch_shell\n    handler(stream, idents, msg)\n  File \"/home/pawel/anaconda3/envs/root_tensorflow/lib/python3.6/site-packages/ipykernel/kernelbase.py\", line 399, in execute_request\n    user_expressions, allow_stdin)\n  File \"/home/pawel/anaconda3/envs/root_tensorflow/lib/python3.6/site-packages/ipykernel/ipkernel.py\", line 208, in do_execute\n    res = shell.run_cell(code, store_history=store_history, silent=silent)\n  File \"/home/pawel/anaconda3/envs/root_tensorflow/lib/python3.6/site-packages/ipykernel/zmqshell.py\", line 537, in run_cell\n    return super(ZMQInteractiveShell, self).run_cell(*args, **kwargs)\n  File \"/home/pawel/anaconda3/envs/root_tensorflow/lib/python3.6/site-packages/IPython/core/interactiveshell.py\", line 2662, in run_cell\n    raw_cell, store_history, silent, shell_futures)\n  File \"/home/pawel/anaconda3/envs/root_tensorflow/lib/python3.6/site-packages/IPython/core/interactiveshell.py\", line 2785, in _run_cell\n    interactivity=interactivity, compiler=compiler, result=result)\n  File \"/home/pawel/anaconda3/envs/root_tensorflow/lib/python3.6/site-packages/IPython/core/interactiveshell.py\", line 2909, in run_ast_nodes\n    if self.run_code(code, result):\n  File \"/home/pawel/anaconda3/envs/root_tensorflow/lib/python3.6/site-packages/IPython/core/interactiveshell.py\", line 2963, in run_code\n    exec(code_obj, self.user_global_ns, self.user_ns)\n  File \"<ipython-input-12-25a1c3d22efe>\", line 1, in <module>\n    podejrzyj_1_z_dataset(zap.parsuj_po_jednym('kolko_w_kolku'))\n  File \"<ipython-input-10-ce2525f79877>\", line 4, in podejrzyj_1_z_dataset\n    return sess.run(iteratorek.get_next())\n  File \"/home/pawel/anaconda3/envs/root_tensorflow/lib/python3.6/site-packages/tensorflow/python/data/ops/iterator_ops.py\", line 370, in get_next\n    name=name)), self._output_types,\n  File \"/home/pawel/anaconda3/envs/root_tensorflow/lib/python3.6/site-packages/tensorflow/python/ops/gen_dataset_ops.py\", line 1466, in iterator_get_next\n    output_shapes=output_shapes, name=name)\n  File \"/home/pawel/anaconda3/envs/root_tensorflow/lib/python3.6/site-packages/tensorflow/python/framework/op_def_library.py\", line 787, in _apply_op_helper\n    op_def=op_def)\n  File \"/home/pawel/anaconda3/envs/root_tensorflow/lib/python3.6/site-packages/tensorflow/python/framework/ops.py\", line 3392, in create_op\n    op_def=op_def)\n  File \"/home/pawel/anaconda3/envs/root_tensorflow/lib/python3.6/site-packages/tensorflow/python/framework/ops.py\", line 1718, in __init__\n    self._traceback = self._graph._extract_stack()  # pylint: disable=protected-access\n\nOutOfRangeError (see above for traceback): End of sequence\n\t [[Node: IteratorGetNext_1 = IteratorGetNext[output_shapes=[[2], [1], [3]], output_types=[DT_INT64, DT_INT64, DT_FLOAT], _device=\"/job:localhost/replica:0/task:0/device:CPU:0\"](OneShotIterator_1)]]\n",
     "output_type": "error",
     "traceback": [
      "\u001b[0;31m---------------------------------------------------------------------------\u001b[0m",
      "\u001b[0;31mOutOfRangeError\u001b[0m                           Traceback (most recent call last)",
      "\u001b[0;32m~/anaconda3/envs/root_tensorflow/lib/python3.6/site-packages/tensorflow/python/client/session.py\u001b[0m in \u001b[0;36m_do_call\u001b[0;34m(self, fn, *args)\u001b[0m\n\u001b[1;32m   1321\u001b[0m     \u001b[0;32mtry\u001b[0m\u001b[0;34m:\u001b[0m\u001b[0;34m\u001b[0m\u001b[0m\n\u001b[0;32m-> 1322\u001b[0;31m       \u001b[0;32mreturn\u001b[0m \u001b[0mfn\u001b[0m\u001b[0;34m(\u001b[0m\u001b[0;34m*\u001b[0m\u001b[0margs\u001b[0m\u001b[0;34m)\u001b[0m\u001b[0;34m\u001b[0m\u001b[0m\n\u001b[0m\u001b[1;32m   1323\u001b[0m     \u001b[0;32mexcept\u001b[0m \u001b[0merrors\u001b[0m\u001b[0;34m.\u001b[0m\u001b[0mOpError\u001b[0m \u001b[0;32mas\u001b[0m \u001b[0me\u001b[0m\u001b[0;34m:\u001b[0m\u001b[0;34m\u001b[0m\u001b[0m\n",
      "\u001b[0;32m~/anaconda3/envs/root_tensorflow/lib/python3.6/site-packages/tensorflow/python/client/session.py\u001b[0m in \u001b[0;36m_run_fn\u001b[0;34m(feed_dict, fetch_list, target_list, options, run_metadata)\u001b[0m\n\u001b[1;32m   1306\u001b[0m       return self._call_tf_sessionrun(\n\u001b[0;32m-> 1307\u001b[0;31m           options, feed_dict, fetch_list, target_list, run_metadata)\n\u001b[0m\u001b[1;32m   1308\u001b[0m \u001b[0;34m\u001b[0m\u001b[0m\n",
      "\u001b[0;32m~/anaconda3/envs/root_tensorflow/lib/python3.6/site-packages/tensorflow/python/client/session.py\u001b[0m in \u001b[0;36m_call_tf_sessionrun\u001b[0;34m(self, options, feed_dict, fetch_list, target_list, run_metadata)\u001b[0m\n\u001b[1;32m   1408\u001b[0m           \u001b[0mself\u001b[0m\u001b[0;34m.\u001b[0m\u001b[0m_session\u001b[0m\u001b[0;34m,\u001b[0m \u001b[0moptions\u001b[0m\u001b[0;34m,\u001b[0m \u001b[0mfeed_dict\u001b[0m\u001b[0;34m,\u001b[0m \u001b[0mfetch_list\u001b[0m\u001b[0;34m,\u001b[0m \u001b[0mtarget_list\u001b[0m\u001b[0;34m,\u001b[0m\u001b[0;34m\u001b[0m\u001b[0m\n\u001b[0;32m-> 1409\u001b[0;31m           run_metadata)\n\u001b[0m\u001b[1;32m   1410\u001b[0m     \u001b[0;32melse\u001b[0m\u001b[0;34m:\u001b[0m\u001b[0;34m\u001b[0m\u001b[0m\n",
      "\u001b[0;31mOutOfRangeError\u001b[0m: End of sequence\n\t [[Node: IteratorGetNext_1 = IteratorGetNext[output_shapes=[[2], [1], [3]], output_types=[DT_INT64, DT_INT64, DT_FLOAT], _device=\"/job:localhost/replica:0/task:0/device:CPU:0\"](OneShotIterator_1)]]",
      "\nDuring handling of the above exception, another exception occurred:\n",
      "\u001b[0;31mOutOfRangeError\u001b[0m                           Traceback (most recent call last)",
      "\u001b[0;32m<ipython-input-12-25a1c3d22efe>\u001b[0m in \u001b[0;36m<module>\u001b[0;34m()\u001b[0m\n\u001b[0;32m----> 1\u001b[0;31m \u001b[0mpodejrzyj_1_z_dataset\u001b[0m\u001b[0;34m(\u001b[0m\u001b[0mzap\u001b[0m\u001b[0;34m.\u001b[0m\u001b[0mparsuj_po_jednym\u001b[0m\u001b[0;34m(\u001b[0m\u001b[0;34m'kolko_w_kolku'\u001b[0m\u001b[0;34m)\u001b[0m\u001b[0;34m)\u001b[0m\u001b[0;34m\u001b[0m\u001b[0m\n\u001b[0m",
      "\u001b[0;32m<ipython-input-10-ce2525f79877>\u001b[0m in \u001b[0;36mpodejrzyj_1_z_dataset\u001b[0;34m(dataset)\u001b[0m\n\u001b[1;32m      2\u001b[0m     \u001b[0miteratorek\u001b[0m \u001b[0;34m=\u001b[0m \u001b[0mdataset\u001b[0m\u001b[0;34m.\u001b[0m\u001b[0mmake_one_shot_iterator\u001b[0m\u001b[0;34m(\u001b[0m\u001b[0;34m)\u001b[0m\u001b[0;34m\u001b[0m\u001b[0m\n\u001b[1;32m      3\u001b[0m     \u001b[0;32mwith\u001b[0m \u001b[0mtf\u001b[0m\u001b[0;34m.\u001b[0m\u001b[0mSession\u001b[0m\u001b[0;34m(\u001b[0m\u001b[0;34m)\u001b[0m \u001b[0;32mas\u001b[0m \u001b[0msess\u001b[0m\u001b[0;34m:\u001b[0m\u001b[0;34m\u001b[0m\u001b[0m\n\u001b[0;32m----> 4\u001b[0;31m         \u001b[0;32mreturn\u001b[0m \u001b[0msess\u001b[0m\u001b[0;34m.\u001b[0m\u001b[0mrun\u001b[0m\u001b[0;34m(\u001b[0m\u001b[0miteratorek\u001b[0m\u001b[0;34m.\u001b[0m\u001b[0mget_next\u001b[0m\u001b[0;34m(\u001b[0m\u001b[0;34m)\u001b[0m\u001b[0;34m)\u001b[0m\u001b[0;34m\u001b[0m\u001b[0m\n\u001b[0m",
      "\u001b[0;32m~/anaconda3/envs/root_tensorflow/lib/python3.6/site-packages/tensorflow/python/client/session.py\u001b[0m in \u001b[0;36mrun\u001b[0;34m(self, fetches, feed_dict, options, run_metadata)\u001b[0m\n\u001b[1;32m    898\u001b[0m     \u001b[0;32mtry\u001b[0m\u001b[0;34m:\u001b[0m\u001b[0;34m\u001b[0m\u001b[0m\n\u001b[1;32m    899\u001b[0m       result = self._run(None, fetches, feed_dict, options_ptr,\n\u001b[0;32m--> 900\u001b[0;31m                          run_metadata_ptr)\n\u001b[0m\u001b[1;32m    901\u001b[0m       \u001b[0;32mif\u001b[0m \u001b[0mrun_metadata\u001b[0m\u001b[0;34m:\u001b[0m\u001b[0;34m\u001b[0m\u001b[0m\n\u001b[1;32m    902\u001b[0m         \u001b[0mproto_data\u001b[0m \u001b[0;34m=\u001b[0m \u001b[0mtf_session\u001b[0m\u001b[0;34m.\u001b[0m\u001b[0mTF_GetBuffer\u001b[0m\u001b[0;34m(\u001b[0m\u001b[0mrun_metadata_ptr\u001b[0m\u001b[0;34m)\u001b[0m\u001b[0;34m\u001b[0m\u001b[0m\n",
      "\u001b[0;32m~/anaconda3/envs/root_tensorflow/lib/python3.6/site-packages/tensorflow/python/client/session.py\u001b[0m in \u001b[0;36m_run\u001b[0;34m(self, handle, fetches, feed_dict, options, run_metadata)\u001b[0m\n\u001b[1;32m   1133\u001b[0m     \u001b[0;32mif\u001b[0m \u001b[0mfinal_fetches\u001b[0m \u001b[0;32mor\u001b[0m \u001b[0mfinal_targets\u001b[0m \u001b[0;32mor\u001b[0m \u001b[0;34m(\u001b[0m\u001b[0mhandle\u001b[0m \u001b[0;32mand\u001b[0m \u001b[0mfeed_dict_tensor\u001b[0m\u001b[0;34m)\u001b[0m\u001b[0;34m:\u001b[0m\u001b[0;34m\u001b[0m\u001b[0m\n\u001b[1;32m   1134\u001b[0m       results = self._do_run(handle, final_targets, final_fetches,\n\u001b[0;32m-> 1135\u001b[0;31m                              feed_dict_tensor, options, run_metadata)\n\u001b[0m\u001b[1;32m   1136\u001b[0m     \u001b[0;32melse\u001b[0m\u001b[0;34m:\u001b[0m\u001b[0;34m\u001b[0m\u001b[0m\n\u001b[1;32m   1137\u001b[0m       \u001b[0mresults\u001b[0m \u001b[0;34m=\u001b[0m \u001b[0;34m[\u001b[0m\u001b[0;34m]\u001b[0m\u001b[0;34m\u001b[0m\u001b[0m\n",
      "\u001b[0;32m~/anaconda3/envs/root_tensorflow/lib/python3.6/site-packages/tensorflow/python/client/session.py\u001b[0m in \u001b[0;36m_do_run\u001b[0;34m(self, handle, target_list, fetch_list, feed_dict, options, run_metadata)\u001b[0m\n\u001b[1;32m   1314\u001b[0m     \u001b[0;32mif\u001b[0m \u001b[0mhandle\u001b[0m \u001b[0;32mis\u001b[0m \u001b[0;32mNone\u001b[0m\u001b[0;34m:\u001b[0m\u001b[0;34m\u001b[0m\u001b[0m\n\u001b[1;32m   1315\u001b[0m       return self._do_call(_run_fn, feeds, fetches, targets, options,\n\u001b[0;32m-> 1316\u001b[0;31m                            run_metadata)\n\u001b[0m\u001b[1;32m   1317\u001b[0m     \u001b[0;32melse\u001b[0m\u001b[0;34m:\u001b[0m\u001b[0;34m\u001b[0m\u001b[0m\n\u001b[1;32m   1318\u001b[0m       \u001b[0;32mreturn\u001b[0m \u001b[0mself\u001b[0m\u001b[0;34m.\u001b[0m\u001b[0m_do_call\u001b[0m\u001b[0;34m(\u001b[0m\u001b[0m_prun_fn\u001b[0m\u001b[0;34m,\u001b[0m \u001b[0mhandle\u001b[0m\u001b[0;34m,\u001b[0m \u001b[0mfeeds\u001b[0m\u001b[0;34m,\u001b[0m \u001b[0mfetches\u001b[0m\u001b[0;34m)\u001b[0m\u001b[0;34m\u001b[0m\u001b[0m\n",
      "\u001b[0;32m~/anaconda3/envs/root_tensorflow/lib/python3.6/site-packages/tensorflow/python/client/session.py\u001b[0m in \u001b[0;36m_do_call\u001b[0;34m(self, fn, *args)\u001b[0m\n\u001b[1;32m   1333\u001b[0m         \u001b[0;32mexcept\u001b[0m \u001b[0mKeyError\u001b[0m\u001b[0;34m:\u001b[0m\u001b[0;34m\u001b[0m\u001b[0m\n\u001b[1;32m   1334\u001b[0m           \u001b[0;32mpass\u001b[0m\u001b[0;34m\u001b[0m\u001b[0m\n\u001b[0;32m-> 1335\u001b[0;31m       \u001b[0;32mraise\u001b[0m \u001b[0mtype\u001b[0m\u001b[0;34m(\u001b[0m\u001b[0me\u001b[0m\u001b[0;34m)\u001b[0m\u001b[0;34m(\u001b[0m\u001b[0mnode_def\u001b[0m\u001b[0;34m,\u001b[0m \u001b[0mop\u001b[0m\u001b[0;34m,\u001b[0m \u001b[0mmessage\u001b[0m\u001b[0;34m)\u001b[0m\u001b[0;34m\u001b[0m\u001b[0m\n\u001b[0m\u001b[1;32m   1336\u001b[0m \u001b[0;34m\u001b[0m\u001b[0m\n\u001b[1;32m   1337\u001b[0m   \u001b[0;32mdef\u001b[0m \u001b[0m_extend_graph\u001b[0m\u001b[0;34m(\u001b[0m\u001b[0mself\u001b[0m\u001b[0;34m)\u001b[0m\u001b[0;34m:\u001b[0m\u001b[0;34m\u001b[0m\u001b[0m\n",
      "\u001b[0;31mOutOfRangeError\u001b[0m: End of sequence\n\t [[Node: IteratorGetNext_1 = IteratorGetNext[output_shapes=[[2], [1], [3]], output_types=[DT_INT64, DT_INT64, DT_FLOAT], _device=\"/job:localhost/replica:0/task:0/device:CPU:0\"](OneShotIterator_1)]]\n\nCaused by op 'IteratorGetNext_1', defined at:\n  File \"/home/pawel/anaconda3/envs/root_tensorflow/lib/python3.6/runpy.py\", line 193, in _run_module_as_main\n    \"__main__\", mod_spec)\n  File \"/home/pawel/anaconda3/envs/root_tensorflow/lib/python3.6/runpy.py\", line 85, in _run_code\n    exec(code, run_globals)\n  File \"/home/pawel/anaconda3/envs/root_tensorflow/lib/python3.6/site-packages/ipykernel_launcher.py\", line 16, in <module>\n    app.launch_new_instance()\n  File \"/home/pawel/anaconda3/envs/root_tensorflow/lib/python3.6/site-packages/traitlets/config/application.py\", line 658, in launch_instance\n    app.start()\n  File \"/home/pawel/anaconda3/envs/root_tensorflow/lib/python3.6/site-packages/ipykernel/kernelapp.py\", line 486, in start\n    self.io_loop.start()\n  File \"/home/pawel/anaconda3/envs/root_tensorflow/lib/python3.6/site-packages/tornado/platform/asyncio.py\", line 127, in start\n    self.asyncio_loop.run_forever()\n  File \"/home/pawel/anaconda3/envs/root_tensorflow/lib/python3.6/asyncio/base_events.py\", line 422, in run_forever\n    self._run_once()\n  File \"/home/pawel/anaconda3/envs/root_tensorflow/lib/python3.6/asyncio/base_events.py\", line 1432, in _run_once\n    handle._run()\n  File \"/home/pawel/anaconda3/envs/root_tensorflow/lib/python3.6/asyncio/events.py\", line 145, in _run\n    self._callback(*self._args)\n  File \"/home/pawel/anaconda3/envs/root_tensorflow/lib/python3.6/site-packages/tornado/platform/asyncio.py\", line 117, in _handle_events\n    handler_func(fileobj, events)\n  File \"/home/pawel/anaconda3/envs/root_tensorflow/lib/python3.6/site-packages/tornado/stack_context.py\", line 276, in null_wrapper\n    return fn(*args, **kwargs)\n  File \"/home/pawel/anaconda3/envs/root_tensorflow/lib/python3.6/site-packages/zmq/eventloop/zmqstream.py\", line 450, in _handle_events\n    self._handle_recv()\n  File \"/home/pawel/anaconda3/envs/root_tensorflow/lib/python3.6/site-packages/zmq/eventloop/zmqstream.py\", line 480, in _handle_recv\n    self._run_callback(callback, msg)\n  File \"/home/pawel/anaconda3/envs/root_tensorflow/lib/python3.6/site-packages/zmq/eventloop/zmqstream.py\", line 432, in _run_callback\n    callback(*args, **kwargs)\n  File \"/home/pawel/anaconda3/envs/root_tensorflow/lib/python3.6/site-packages/tornado/stack_context.py\", line 276, in null_wrapper\n    return fn(*args, **kwargs)\n  File \"/home/pawel/anaconda3/envs/root_tensorflow/lib/python3.6/site-packages/ipykernel/kernelbase.py\", line 283, in dispatcher\n    return self.dispatch_shell(stream, msg)\n  File \"/home/pawel/anaconda3/envs/root_tensorflow/lib/python3.6/site-packages/ipykernel/kernelbase.py\", line 233, in dispatch_shell\n    handler(stream, idents, msg)\n  File \"/home/pawel/anaconda3/envs/root_tensorflow/lib/python3.6/site-packages/ipykernel/kernelbase.py\", line 399, in execute_request\n    user_expressions, allow_stdin)\n  File \"/home/pawel/anaconda3/envs/root_tensorflow/lib/python3.6/site-packages/ipykernel/ipkernel.py\", line 208, in do_execute\n    res = shell.run_cell(code, store_history=store_history, silent=silent)\n  File \"/home/pawel/anaconda3/envs/root_tensorflow/lib/python3.6/site-packages/ipykernel/zmqshell.py\", line 537, in run_cell\n    return super(ZMQInteractiveShell, self).run_cell(*args, **kwargs)\n  File \"/home/pawel/anaconda3/envs/root_tensorflow/lib/python3.6/site-packages/IPython/core/interactiveshell.py\", line 2662, in run_cell\n    raw_cell, store_history, silent, shell_futures)\n  File \"/home/pawel/anaconda3/envs/root_tensorflow/lib/python3.6/site-packages/IPython/core/interactiveshell.py\", line 2785, in _run_cell\n    interactivity=interactivity, compiler=compiler, result=result)\n  File \"/home/pawel/anaconda3/envs/root_tensorflow/lib/python3.6/site-packages/IPython/core/interactiveshell.py\", line 2909, in run_ast_nodes\n    if self.run_code(code, result):\n  File \"/home/pawel/anaconda3/envs/root_tensorflow/lib/python3.6/site-packages/IPython/core/interactiveshell.py\", line 2963, in run_code\n    exec(code_obj, self.user_global_ns, self.user_ns)\n  File \"<ipython-input-12-25a1c3d22efe>\", line 1, in <module>\n    podejrzyj_1_z_dataset(zap.parsuj_po_jednym('kolko_w_kolku'))\n  File \"<ipython-input-10-ce2525f79877>\", line 4, in podejrzyj_1_z_dataset\n    return sess.run(iteratorek.get_next())\n  File \"/home/pawel/anaconda3/envs/root_tensorflow/lib/python3.6/site-packages/tensorflow/python/data/ops/iterator_ops.py\", line 370, in get_next\n    name=name)), self._output_types,\n  File \"/home/pawel/anaconda3/envs/root_tensorflow/lib/python3.6/site-packages/tensorflow/python/ops/gen_dataset_ops.py\", line 1466, in iterator_get_next\n    output_shapes=output_shapes, name=name)\n  File \"/home/pawel/anaconda3/envs/root_tensorflow/lib/python3.6/site-packages/tensorflow/python/framework/op_def_library.py\", line 787, in _apply_op_helper\n    op_def=op_def)\n  File \"/home/pawel/anaconda3/envs/root_tensorflow/lib/python3.6/site-packages/tensorflow/python/framework/ops.py\", line 3392, in create_op\n    op_def=op_def)\n  File \"/home/pawel/anaconda3/envs/root_tensorflow/lib/python3.6/site-packages/tensorflow/python/framework/ops.py\", line 1718, in __init__\n    self._traceback = self._graph._extract_stack()  # pylint: disable=protected-access\n\nOutOfRangeError (see above for traceback): End of sequence\n\t [[Node: IteratorGetNext_1 = IteratorGetNext[output_shapes=[[2], [1], [3]], output_types=[DT_INT64, DT_INT64, DT_FLOAT], _device=\"/job:localhost/replica:0/task:0/device:CPU:0\"](OneShotIterator_1)]]\n"
     ]
    }
   ],
   "source": [
    "podejrzyj_1_z_dataset(zap.parsuj_po_jednym('kolko_w_kolku'))"
   ]
  },
  {
   "cell_type": "code",
   "execution_count": 14,
   "metadata": {},
   "outputs": [
    {
     "name": "stdout",
     "output_type": "stream",
     "text": [
      "INFO:tensorflow:Using default config.\n",
      "INFO:tensorflow:Using config: {'_model_dir': 'model_kolko_w_kolku/model', '_tf_random_seed': None, '_save_summary_steps': 100, '_save_checkpoints_steps': None, '_save_checkpoints_secs': 600, '_session_config': None, '_keep_checkpoint_max': 5, '_keep_checkpoint_every_n_hours': 10000, '_log_step_count_steps': 100, '_train_distribute': None, '_service': None, '_cluster_spec': <tensorflow.python.training.server_lib.ClusterSpec object at 0x7f769f443da0>, '_task_type': 'worker', '_task_id': 0, '_global_id_in_cluster': 0, '_master': '', '_evaluation_master': '', '_is_chief': True, '_num_ps_replicas': 0, '_num_worker_replicas': 1}\n",
      "INFO:tensorflow:Calling model_fn.\n",
      "INFO:tensorflow:Done calling model_fn.\n",
      "INFO:tensorflow:Create CheckpointSaverHook.\n",
      "INFO:tensorflow:Graph was finalized.\n",
      "INFO:tensorflow:Running local_init_op.\n",
      "INFO:tensorflow:Done running local_init_op.\n",
      "INFO:tensorflow:Saving checkpoints for 1 into model_kolko_w_kolku/model/model.ckpt.\n",
      "INFO:tensorflow:loss = 0.913823, step = 1\n",
      "INFO:tensorflow:Loss for final step: 0.913823.\n"
     ]
    }
   ],
   "source": [
    "model = mod.tworz_folder('model_kolko_w_kolku', \n",
    "                'kolko_w_kolku', [5], 10000)"
   ]
  },
  {
   "cell_type": "code",
   "execution_count": 15,
   "metadata": {},
   "outputs": [
    {
     "name": "stdout",
     "output_type": "stream",
     "text": [
      "INFO:tensorflow:Using default config.\n",
      "INFO:tensorflow:Using config: {'_model_dir': 'model_kolko_w_kolku/model', '_tf_random_seed': None, '_save_summary_steps': 100, '_save_checkpoints_steps': None, '_save_checkpoints_secs': 600, '_session_config': None, '_keep_checkpoint_max': 5, '_keep_checkpoint_every_n_hours': 10000, '_log_step_count_steps': 100, '_train_distribute': None, '_service': None, '_cluster_spec': <tensorflow.python.training.server_lib.ClusterSpec object at 0x7f769f4e3ba8>, '_task_type': 'worker', '_task_id': 0, '_global_id_in_cluster': 0, '_master': '', '_evaluation_master': '', '_is_chief': True, '_num_ps_replicas': 0, '_num_worker_replicas': 1}\n"
     ]
    }
   ],
   "source": [
    "model = mod.wczytaj_model('model_kolko_w_kolku')"
   ]
  },
  {
   "cell_type": "code",
   "execution_count": null,
   "metadata": {},
   "outputs": [],
   "source": []
  },
  {
   "cell_type": "code",
   "execution_count": 16,
   "metadata": {},
   "outputs": [
    {
     "name": "stdout",
     "output_type": "stream",
     "text": [
      "INFO:tensorflow:Using default config.\n",
      "INFO:tensorflow:Using config: {'_model_dir': 'model_kolko_w_kolku/model', '_tf_random_seed': None, '_save_summary_steps': 100, '_save_checkpoints_steps': None, '_save_checkpoints_secs': 600, '_session_config': None, '_keep_checkpoint_max': 5, '_keep_checkpoint_every_n_hours': 10000, '_log_step_count_steps': 100, '_train_distribute': None, '_service': None, '_cluster_spec': <tensorflow.python.training.server_lib.ClusterSpec object at 0x7f769f4e3a20>, '_task_type': 'worker', '_task_id': 0, '_global_id_in_cluster': 0, '_master': '', '_evaluation_master': '', '_is_chief': True, '_num_ps_replicas': 0, '_num_worker_replicas': 1}\n",
      "INFO:tensorflow:Calling model_fn.\n",
      "INFO:tensorflow:Done calling model_fn.\n",
      "INFO:tensorflow:Create CheckpointSaverHook.\n",
      "INFO:tensorflow:Graph was finalized.\n",
      "INFO:tensorflow:Restoring parameters from model_kolko_w_kolku/model/model.ckpt-1\n",
      "INFO:tensorflow:Running local_init_op.\n",
      "INFO:tensorflow:Done running local_init_op.\n",
      "INFO:tensorflow:Saving checkpoints for 2 into model_kolko_w_kolku/model/model.ckpt.\n",
      "INFO:tensorflow:loss = 99.061424, step = 2\n",
      "INFO:tensorflow:Loss for final step: 99.061424.\n"
     ]
    }
   ],
   "source": [
    "mod.train('kolko_w_kolku', 'model_kolko_w_kolku', 1, True)"
   ]
  },
  {
   "cell_type": "code",
   "execution_count": 17,
   "metadata": {},
   "outputs": [
    {
     "name": "stdout",
     "output_type": "stream",
     "text": [
      "INFO:tensorflow:Using default config.\n",
      "INFO:tensorflow:Using config: {'_model_dir': 'model_kolko_w_kolku/model', '_tf_random_seed': None, '_save_summary_steps': 100, '_save_checkpoints_steps': None, '_save_checkpoints_secs': 600, '_session_config': None, '_keep_checkpoint_max': 5, '_keep_checkpoint_every_n_hours': 10000, '_log_step_count_steps': 100, '_train_distribute': None, '_service': None, '_cluster_spec': <tensorflow.python.training.server_lib.ClusterSpec object at 0x7f769f4e3a20>, '_task_type': 'worker', '_task_id': 0, '_global_id_in_cluster': 0, '_master': '', '_evaluation_master': '', '_is_chief': True, '_num_ps_replicas': 0, '_num_worker_replicas': 1}\n",
      "INFO:tensorflow:Calling model_fn.\n",
      "WARNING:tensorflow:Trapezoidal rule is known to produce incorrect PR-AUCs; please switch to \"careful_interpolation\" instead.\n",
      "WARNING:tensorflow:Trapezoidal rule is known to produce incorrect PR-AUCs; please switch to \"careful_interpolation\" instead.\n",
      "INFO:tensorflow:Done calling model_fn.\n",
      "INFO:tensorflow:Starting evaluation at 2019-01-02-15:24:32\n",
      "INFO:tensorflow:Graph was finalized.\n",
      "INFO:tensorflow:Restoring parameters from model_kolko_w_kolku/model/model.ckpt-2\n",
      "INFO:tensorflow:Running local_init_op.\n",
      "INFO:tensorflow:Done running local_init_op.\n",
      "INFO:tensorflow:Finished evaluation at 2019-01-02-15:24:34\n",
      "INFO:tensorflow:Saving dict for global step 2: accuracy = 0.49486, accuracy_baseline = 0.50007, auc = 0.4830507, auc_precision_recall = 0.47835475, average_loss = 0.7534597, global_step = 2, label/mean = 0.50007, loss = 96.35034, precision = 0.49456975, prediction/mean = 0.47643372, recall = 0.46169537\n"
     ]
    },
    {
     "data": {
      "text/plain": [
       "{'accuracy': 0.49486,\n",
       " 'accuracy_baseline': 0.50007,\n",
       " 'auc': 0.4830507,\n",
       " 'auc_precision_recall': 0.47835475,\n",
       " 'average_loss': 0.7534597,\n",
       " 'label/mean': 0.50007,\n",
       " 'loss': 96.35034,\n",
       " 'precision': 0.49456975,\n",
       " 'prediction/mean': 0.47643372,\n",
       " 'recall': 0.46169537,\n",
       " 'global_step': 2}"
      ]
     },
     "execution_count": 17,
     "metadata": {},
     "output_type": "execute_result"
    }
   ],
   "source": [
    "mod.evaluate('kolko_w_kolku',  'model_kolko_w_kolku', 10000)"
   ]
  },
  {
   "cell_type": "code",
   "execution_count": 18,
   "metadata": {},
   "outputs": [
    {
     "name": "stdout",
     "output_type": "stream",
     "text": [
      "INFO:tensorflow:Using default config.\n",
      "INFO:tensorflow:Using config: {'_model_dir': 'model_kolko_w_kolku/model', '_tf_random_seed': None, '_save_summary_steps': 100, '_save_checkpoints_steps': None, '_save_checkpoints_secs': 600, '_session_config': None, '_keep_checkpoint_max': 5, '_keep_checkpoint_every_n_hours': 10000, '_log_step_count_steps': 100, '_train_distribute': None, '_service': None, '_cluster_spec': <tensorflow.python.training.server_lib.ClusterSpec object at 0x7f765bf987b8>, '_task_type': 'worker', '_task_id': 0, '_global_id_in_cluster': 0, '_master': '', '_evaluation_master': '', '_is_chief': True, '_num_ps_replicas': 0, '_num_worker_replicas': 1}\n",
      "INFO:tensorflow:Calling model_fn.\n",
      "INFO:tensorflow:Done calling model_fn.\n",
      "INFO:tensorflow:Create CheckpointSaverHook.\n",
      "INFO:tensorflow:Graph was finalized.\n",
      "INFO:tensorflow:Restoring parameters from model_kolko_w_kolku/model/model.ckpt-2\n",
      "INFO:tensorflow:Running local_init_op.\n",
      "INFO:tensorflow:Done running local_init_op.\n",
      "INFO:tensorflow:Saving checkpoints for 3 into model_kolko_w_kolku/model/model.ckpt.\n",
      "INFO:tensorflow:loss = 99.01048, step = 3\n",
      "INFO:tensorflow:global_step/sec: 427.621\n",
      "INFO:tensorflow:loss = 56.794563, step = 103 (0.235 sec)\n",
      "INFO:tensorflow:global_step/sec: 988.686\n",
      "INFO:tensorflow:loss = 52.50619, step = 203 (0.101 sec)\n",
      "INFO:tensorflow:global_step/sec: 897.126\n",
      "INFO:tensorflow:loss = 48.505043, step = 303 (0.111 sec)\n",
      "INFO:tensorflow:global_step/sec: 983.632\n",
      "INFO:tensorflow:loss = 63.827938, step = 403 (0.102 sec)\n",
      "INFO:tensorflow:global_step/sec: 789.333\n",
      "INFO:tensorflow:loss = 51.351532, step = 503 (0.127 sec)\n",
      "INFO:tensorflow:global_step/sec: 653.805\n",
      "INFO:tensorflow:loss = 45.3741, step = 603 (0.154 sec)\n",
      "INFO:tensorflow:global_step/sec: 683.794\n",
      "INFO:tensorflow:loss = 60.988007, step = 703 (0.145 sec)\n",
      "INFO:tensorflow:global_step/sec: 635.769\n",
      "INFO:tensorflow:loss = 65.17737, step = 803 (0.163 sec)\n",
      "INFO:tensorflow:global_step/sec: 913.65\n",
      "INFO:tensorflow:loss = 52.35521, step = 903 (0.104 sec)\n",
      "INFO:tensorflow:Saving checkpoints for 1002 into model_kolko_w_kolku/model/model.ckpt.\n",
      "INFO:tensorflow:Loss for final step: 61.197403.\n"
     ]
    }
   ],
   "source": [
    "mod.train('kolko_w_kolku', 'model_kolko_w_kolku', 1000, True)"
   ]
  },
  {
   "cell_type": "code",
   "execution_count": 19,
   "metadata": {},
   "outputs": [
    {
     "name": "stdout",
     "output_type": "stream",
     "text": [
      "INFO:tensorflow:Using default config.\n",
      "INFO:tensorflow:Using config: {'_model_dir': 'model_kolko_w_kolku/model', '_tf_random_seed': None, '_save_summary_steps': 100, '_save_checkpoints_steps': None, '_save_checkpoints_secs': 600, '_session_config': None, '_keep_checkpoint_max': 5, '_keep_checkpoint_every_n_hours': 10000, '_log_step_count_steps': 100, '_train_distribute': None, '_service': None, '_cluster_spec': <tensorflow.python.training.server_lib.ClusterSpec object at 0x7f7668a26cf8>, '_task_type': 'worker', '_task_id': 0, '_global_id_in_cluster': 0, '_master': '', '_evaluation_master': '', '_is_chief': True, '_num_ps_replicas': 0, '_num_worker_replicas': 1}\n",
      "INFO:tensorflow:Calling model_fn.\n",
      "WARNING:tensorflow:Trapezoidal rule is known to produce incorrect PR-AUCs; please switch to \"careful_interpolation\" instead.\n",
      "WARNING:tensorflow:Trapezoidal rule is known to produce incorrect PR-AUCs; please switch to \"careful_interpolation\" instead.\n",
      "INFO:tensorflow:Done calling model_fn.\n",
      "INFO:tensorflow:Starting evaluation at 2019-01-02-15:24:38\n",
      "INFO:tensorflow:Graph was finalized.\n",
      "INFO:tensorflow:Restoring parameters from model_kolko_w_kolku/model/model.ckpt-1002\n",
      "INFO:tensorflow:Running local_init_op.\n",
      "INFO:tensorflow:Done running local_init_op.\n",
      "INFO:tensorflow:Finished evaluation at 2019-01-02-15:24:41\n",
      "INFO:tensorflow:Saving dict for global step 1002: accuracy = 0.80493, accuracy_baseline = 0.50007, auc = 0.8917282, auc_precision_recall = 0.9048991, average_loss = 0.40669817, global_step = 1002, label/mean = 0.50007, loss = 52.00744, precision = 0.8231891, prediction/mean = 0.5005917, recall = 0.7767513\n"
     ]
    },
    {
     "data": {
      "text/plain": [
       "{'accuracy': 0.80493,\n",
       " 'accuracy_baseline': 0.50007,\n",
       " 'auc': 0.8917282,\n",
       " 'auc_precision_recall': 0.9048991,\n",
       " 'average_loss': 0.40669817,\n",
       " 'label/mean': 0.50007,\n",
       " 'loss': 52.00744,\n",
       " 'precision': 0.8231891,\n",
       " 'prediction/mean': 0.5005917,\n",
       " 'recall': 0.7767513,\n",
       " 'global_step': 1002}"
      ]
     },
     "execution_count": 19,
     "metadata": {},
     "output_type": "execute_result"
    }
   ],
   "source": [
    "mod.evaluate('kolko_w_kolku',  'model_kolko_w_kolku', 10000)"
   ]
  },
  {
   "cell_type": "code",
   "execution_count": 20,
   "metadata": {},
   "outputs": [
    {
     "name": "stdout",
     "output_type": "stream",
     "text": [
      "INFO:tensorflow:Using default config.\n",
      "INFO:tensorflow:Using config: {'_model_dir': 'model_kolko_w_kolku/model', '_tf_random_seed': None, '_save_summary_steps': 100, '_save_checkpoints_steps': None, '_save_checkpoints_secs': 600, '_session_config': None, '_keep_checkpoint_max': 5, '_keep_checkpoint_every_n_hours': 10000, '_log_step_count_steps': 100, '_train_distribute': None, '_service': None, '_cluster_spec': <tensorflow.python.training.server_lib.ClusterSpec object at 0x7f7668a82278>, '_task_type': 'worker', '_task_id': 0, '_global_id_in_cluster': 0, '_master': '', '_evaluation_master': '', '_is_chief': True, '_num_ps_replicas': 0, '_num_worker_replicas': 1}\n",
      "INFO:tensorflow:Calling model_fn.\n",
      "INFO:tensorflow:Done calling model_fn.\n",
      "INFO:tensorflow:Create CheckpointSaverHook.\n",
      "INFO:tensorflow:Graph was finalized.\n",
      "INFO:tensorflow:Restoring parameters from model_kolko_w_kolku/model/model.ckpt-1002\n",
      "INFO:tensorflow:Running local_init_op.\n",
      "INFO:tensorflow:Done running local_init_op.\n",
      "INFO:tensorflow:Saving checkpoints for 1003 into model_kolko_w_kolku/model/model.ckpt.\n",
      "INFO:tensorflow:loss = 60.609547, step = 1003\n",
      "INFO:tensorflow:global_step/sec: 513.428\n",
      "INFO:tensorflow:loss = 52.842014, step = 1103 (0.196 sec)\n",
      "INFO:tensorflow:global_step/sec: 970.83\n",
      "INFO:tensorflow:loss = 53.092323, step = 1203 (0.103 sec)\n",
      "INFO:tensorflow:global_step/sec: 586.572\n",
      "INFO:tensorflow:loss = 43.13885, step = 1303 (0.175 sec)\n",
      "INFO:tensorflow:global_step/sec: 644.44\n",
      "INFO:tensorflow:loss = 57.68686, step = 1403 (0.151 sec)\n",
      "INFO:tensorflow:global_step/sec: 682.387\n",
      "INFO:tensorflow:loss = 44.961674, step = 1503 (0.147 sec)\n",
      "INFO:tensorflow:global_step/sec: 956.763\n",
      "INFO:tensorflow:loss = 61.267693, step = 1603 (0.103 sec)\n",
      "INFO:tensorflow:global_step/sec: 986.324\n",
      "INFO:tensorflow:loss = 47.046333, step = 1703 (0.101 sec)\n",
      "INFO:tensorflow:global_step/sec: 955.867\n",
      "INFO:tensorflow:loss = 49.83809, step = 1803 (0.105 sec)\n",
      "INFO:tensorflow:global_step/sec: 923.589\n",
      "INFO:tensorflow:loss = 53.274776, step = 1903 (0.108 sec)\n",
      "INFO:tensorflow:global_step/sec: 938.613\n",
      "INFO:tensorflow:loss = 52.04233, step = 2003 (0.107 sec)\n",
      "INFO:tensorflow:global_step/sec: 938.436\n",
      "INFO:tensorflow:loss = 55.844044, step = 2103 (0.106 sec)\n",
      "INFO:tensorflow:global_step/sec: 990.299\n",
      "INFO:tensorflow:loss = 44.683807, step = 2203 (0.101 sec)\n",
      "INFO:tensorflow:global_step/sec: 1012.22\n",
      "INFO:tensorflow:loss = 42.71251, step = 2303 (0.099 sec)\n",
      "INFO:tensorflow:global_step/sec: 919.622\n",
      "INFO:tensorflow:loss = 47.796326, step = 2403 (0.109 sec)\n",
      "INFO:tensorflow:global_step/sec: 940.889\n",
      "INFO:tensorflow:loss = 55.965096, step = 2503 (0.106 sec)\n",
      "INFO:tensorflow:global_step/sec: 943.074\n",
      "INFO:tensorflow:loss = 50.304394, step = 2603 (0.106 sec)\n",
      "INFO:tensorflow:global_step/sec: 985.573\n",
      "INFO:tensorflow:loss = 56.635002, step = 2703 (0.102 sec)\n",
      "INFO:tensorflow:global_step/sec: 1017.66\n",
      "INFO:tensorflow:loss = 60.664307, step = 2803 (0.098 sec)\n",
      "INFO:tensorflow:global_step/sec: 947.54\n",
      "INFO:tensorflow:loss = 38.627983, step = 2903 (0.106 sec)\n",
      "INFO:tensorflow:global_step/sec: 1010.27\n",
      "INFO:tensorflow:loss = 46.503, step = 3003 (0.099 sec)\n",
      "INFO:tensorflow:global_step/sec: 955.311\n",
      "INFO:tensorflow:loss = 51.04733, step = 3103 (0.105 sec)\n",
      "INFO:tensorflow:global_step/sec: 1021.19\n",
      "INFO:tensorflow:loss = 49.12712, step = 3203 (0.098 sec)\n",
      "INFO:tensorflow:global_step/sec: 1050.95\n",
      "INFO:tensorflow:loss = 50.978935, step = 3303 (0.095 sec)\n",
      "INFO:tensorflow:global_step/sec: 942.1\n",
      "INFO:tensorflow:loss = 49.29859, step = 3403 (0.106 sec)\n",
      "INFO:tensorflow:global_step/sec: 1023.97\n",
      "INFO:tensorflow:loss = 52.435852, step = 3503 (0.098 sec)\n",
      "INFO:tensorflow:global_step/sec: 977.506\n",
      "INFO:tensorflow:loss = 48.102802, step = 3603 (0.102 sec)\n",
      "INFO:tensorflow:global_step/sec: 1009.88\n",
      "INFO:tensorflow:loss = 56.365463, step = 3703 (0.099 sec)\n",
      "INFO:tensorflow:global_step/sec: 827.973\n",
      "INFO:tensorflow:loss = 56.459, step = 3803 (0.122 sec)\n",
      "INFO:tensorflow:global_step/sec: 708.722\n",
      "INFO:tensorflow:loss = 50.332954, step = 3903 (0.142 sec)\n",
      "INFO:tensorflow:global_step/sec: 525.643\n",
      "INFO:tensorflow:loss = 46.213257, step = 4003 (0.191 sec)\n",
      "INFO:tensorflow:global_step/sec: 576.135\n",
      "INFO:tensorflow:loss = 48.145203, step = 4103 (0.172 sec)\n",
      "INFO:tensorflow:global_step/sec: 917.666\n",
      "INFO:tensorflow:loss = 55.601833, step = 4203 (0.108 sec)\n",
      "INFO:tensorflow:global_step/sec: 887.759\n",
      "INFO:tensorflow:loss = 46.1092, step = 4303 (0.113 sec)\n",
      "INFO:tensorflow:global_step/sec: 668.944\n",
      "INFO:tensorflow:loss = 52.289963, step = 4403 (0.150 sec)\n",
      "INFO:tensorflow:global_step/sec: 768.103\n",
      "INFO:tensorflow:loss = 49.243927, step = 4503 (0.129 sec)\n",
      "INFO:tensorflow:global_step/sec: 686.636\n",
      "INFO:tensorflow:loss = 51.866066, step = 4603 (0.146 sec)\n",
      "INFO:tensorflow:global_step/sec: 902.832\n",
      "INFO:tensorflow:loss = 53.11837, step = 4703 (0.110 sec)\n",
      "INFO:tensorflow:global_step/sec: 1000.28\n",
      "INFO:tensorflow:loss = 44.43676, step = 4803 (0.100 sec)\n",
      "INFO:tensorflow:global_step/sec: 954.537\n",
      "INFO:tensorflow:loss = 52.62342, step = 4903 (0.105 sec)\n",
      "INFO:tensorflow:global_step/sec: 1007.86\n",
      "INFO:tensorflow:loss = 58.48283, step = 5003 (0.099 sec)\n",
      "INFO:tensorflow:global_step/sec: 1002.18\n",
      "INFO:tensorflow:loss = 46.785725, step = 5103 (0.103 sec)\n",
      "INFO:tensorflow:global_step/sec: 725.999\n",
      "INFO:tensorflow:loss = 53.040546, step = 5203 (0.136 sec)\n",
      "INFO:tensorflow:global_step/sec: 736.836\n",
      "INFO:tensorflow:loss = 47.62532, step = 5303 (0.138 sec)\n",
      "INFO:tensorflow:global_step/sec: 689.298\n",
      "INFO:tensorflow:loss = 47.583103, step = 5403 (0.144 sec)\n",
      "INFO:tensorflow:global_step/sec: 637.924\n",
      "INFO:tensorflow:loss = 47.883736, step = 5503 (0.155 sec)\n",
      "INFO:tensorflow:global_step/sec: 975.202\n",
      "INFO:tensorflow:loss = 54.190758, step = 5603 (0.103 sec)\n",
      "INFO:tensorflow:global_step/sec: 963.7\n",
      "INFO:tensorflow:loss = 33.968174, step = 5703 (0.104 sec)\n",
      "INFO:tensorflow:global_step/sec: 967.332\n",
      "INFO:tensorflow:loss = 55.552742, step = 5803 (0.103 sec)\n",
      "INFO:tensorflow:global_step/sec: 1002.7\n",
      "INFO:tensorflow:loss = 42.451286, step = 5903 (0.100 sec)\n",
      "INFO:tensorflow:global_step/sec: 969.775\n",
      "INFO:tensorflow:loss = 46.358036, step = 6003 (0.103 sec)\n",
      "INFO:tensorflow:global_step/sec: 929.376\n",
      "INFO:tensorflow:loss = 48.38322, step = 6103 (0.107 sec)\n",
      "INFO:tensorflow:global_step/sec: 1000.16\n",
      "INFO:tensorflow:loss = 46.685646, step = 6203 (0.100 sec)\n",
      "INFO:tensorflow:global_step/sec: 993.426\n",
      "INFO:tensorflow:loss = 48.49338, step = 6303 (0.101 sec)\n",
      "INFO:tensorflow:global_step/sec: 602.049\n",
      "INFO:tensorflow:loss = 58.757027, step = 6403 (0.170 sec)\n",
      "INFO:tensorflow:global_step/sec: 541.88\n",
      "INFO:tensorflow:loss = 44.136787, step = 6503 (0.182 sec)\n",
      "INFO:tensorflow:global_step/sec: 556.078\n",
      "INFO:tensorflow:loss = 51.43579, step = 6603 (0.178 sec)\n",
      "INFO:tensorflow:global_step/sec: 532.104\n",
      "INFO:tensorflow:loss = 59.727654, step = 6703 (0.188 sec)\n",
      "INFO:tensorflow:global_step/sec: 1027.08\n",
      "INFO:tensorflow:loss = 41.161026, step = 6803 (0.098 sec)\n",
      "INFO:tensorflow:global_step/sec: 1006.06\n",
      "INFO:tensorflow:loss = 46.65712, step = 6903 (0.099 sec)\n",
      "INFO:tensorflow:global_step/sec: 920.746\n",
      "INFO:tensorflow:loss = 51.89972, step = 7003 (0.109 sec)\n",
      "INFO:tensorflow:global_step/sec: 917.588\n",
      "INFO:tensorflow:loss = 50.615986, step = 7103 (0.109 sec)\n",
      "INFO:tensorflow:global_step/sec: 1006.84\n",
      "INFO:tensorflow:loss = 44.47358, step = 7203 (0.099 sec)\n",
      "INFO:tensorflow:global_step/sec: 957.838\n",
      "INFO:tensorflow:loss = 43.243973, step = 7303 (0.104 sec)\n",
      "INFO:tensorflow:global_step/sec: 1003.74\n",
      "INFO:tensorflow:loss = 55.45687, step = 7403 (0.100 sec)\n",
      "INFO:tensorflow:global_step/sec: 991.432\n",
      "INFO:tensorflow:loss = 54.776054, step = 7503 (0.101 sec)\n",
      "INFO:tensorflow:global_step/sec: 1082.36\n",
      "INFO:tensorflow:loss = 55.845993, step = 7603 (0.092 sec)\n",
      "INFO:tensorflow:global_step/sec: 989.05\n",
      "INFO:tensorflow:loss = 55.969723, step = 7703 (0.101 sec)\n",
      "INFO:tensorflow:global_step/sec: 981.544\n",
      "INFO:tensorflow:loss = 56.174572, step = 7803 (0.102 sec)\n",
      "INFO:tensorflow:global_step/sec: 969.369\n",
      "INFO:tensorflow:loss = 49.070206, step = 7903 (0.103 sec)\n",
      "INFO:tensorflow:global_step/sec: 1011.8\n",
      "INFO:tensorflow:loss = 52.74691, step = 8003 (0.099 sec)\n",
      "INFO:tensorflow:global_step/sec: 991.932\n",
      "INFO:tensorflow:loss = 60.690216, step = 8103 (0.101 sec)\n",
      "INFO:tensorflow:global_step/sec: 725.546\n",
      "INFO:tensorflow:loss = 53.825333, step = 8203 (0.144 sec)\n"
     ]
    },
    {
     "name": "stdout",
     "output_type": "stream",
     "text": [
      "INFO:tensorflow:global_step/sec: 512.742\n",
      "INFO:tensorflow:loss = 61.402664, step = 8303 (0.190 sec)\n",
      "INFO:tensorflow:global_step/sec: 613.298\n",
      "INFO:tensorflow:loss = 60.03126, step = 8403 (0.162 sec)\n",
      "INFO:tensorflow:global_step/sec: 1012.54\n",
      "INFO:tensorflow:loss = 52.595825, step = 8503 (0.099 sec)\n",
      "INFO:tensorflow:global_step/sec: 927.115\n",
      "INFO:tensorflow:loss = 53.462307, step = 8603 (0.108 sec)\n",
      "INFO:tensorflow:global_step/sec: 927.652\n",
      "INFO:tensorflow:loss = 57.450256, step = 8703 (0.108 sec)\n",
      "INFO:tensorflow:global_step/sec: 992.613\n",
      "INFO:tensorflow:loss = 47.802048, step = 8803 (0.100 sec)\n",
      "INFO:tensorflow:global_step/sec: 992.021\n",
      "INFO:tensorflow:loss = 55.65425, step = 8903 (0.101 sec)\n",
      "INFO:tensorflow:global_step/sec: 1031.27\n",
      "INFO:tensorflow:loss = 56.45867, step = 9003 (0.097 sec)\n",
      "INFO:tensorflow:global_step/sec: 1011.63\n",
      "INFO:tensorflow:loss = 46.277725, step = 9103 (0.099 sec)\n",
      "INFO:tensorflow:global_step/sec: 1013.36\n",
      "INFO:tensorflow:loss = 57.700172, step = 9203 (0.099 sec)\n",
      "INFO:tensorflow:global_step/sec: 1015.83\n",
      "INFO:tensorflow:loss = 54.732876, step = 9303 (0.099 sec)\n",
      "INFO:tensorflow:global_step/sec: 901.976\n",
      "INFO:tensorflow:loss = 56.685318, step = 9403 (0.111 sec)\n",
      "INFO:tensorflow:global_step/sec: 975.007\n",
      "INFO:tensorflow:loss = 47.028133, step = 9503 (0.102 sec)\n",
      "INFO:tensorflow:global_step/sec: 1008.6\n",
      "INFO:tensorflow:loss = 48.723026, step = 9603 (0.099 sec)\n",
      "INFO:tensorflow:global_step/sec: 1006.57\n",
      "INFO:tensorflow:loss = 44.083866, step = 9703 (0.099 sec)\n",
      "INFO:tensorflow:global_step/sec: 974.93\n",
      "INFO:tensorflow:loss = 56.479465, step = 9803 (0.103 sec)\n",
      "INFO:tensorflow:global_step/sec: 973.208\n",
      "INFO:tensorflow:loss = 53.619312, step = 9903 (0.103 sec)\n",
      "INFO:tensorflow:global_step/sec: 985.518\n",
      "INFO:tensorflow:loss = 46.52246, step = 10003 (0.102 sec)\n",
      "INFO:tensorflow:global_step/sec: 1005.45\n",
      "INFO:tensorflow:loss = 54.52153, step = 10103 (0.099 sec)\n",
      "INFO:tensorflow:global_step/sec: 1075.91\n",
      "INFO:tensorflow:loss = 58.06147, step = 10203 (0.093 sec)\n",
      "INFO:tensorflow:global_step/sec: 981.702\n",
      "INFO:tensorflow:loss = 47.907642, step = 10303 (0.102 sec)\n",
      "INFO:tensorflow:global_step/sec: 995.005\n",
      "INFO:tensorflow:loss = 47.729237, step = 10403 (0.100 sec)\n",
      "INFO:tensorflow:global_step/sec: 979.399\n",
      "INFO:tensorflow:loss = 49.877647, step = 10503 (0.102 sec)\n",
      "INFO:tensorflow:global_step/sec: 969.277\n",
      "INFO:tensorflow:loss = 52.829617, step = 10603 (0.103 sec)\n",
      "INFO:tensorflow:global_step/sec: 989.381\n",
      "INFO:tensorflow:loss = 57.178894, step = 10703 (0.101 sec)\n",
      "INFO:tensorflow:global_step/sec: 906.994\n",
      "INFO:tensorflow:loss = 53.235752, step = 10803 (0.110 sec)\n",
      "INFO:tensorflow:global_step/sec: 960.184\n",
      "INFO:tensorflow:loss = 45.23945, step = 10903 (0.104 sec)\n",
      "INFO:tensorflow:Saving checkpoints for 11002 into model_kolko_w_kolku/model/model.ckpt.\n",
      "INFO:tensorflow:Loss for final step: 49.223095.\n"
     ]
    }
   ],
   "source": [
    "mod.train('kolko_w_kolku', 'model_kolko_w_kolku', 10000, True)"
   ]
  },
  {
   "cell_type": "code",
   "execution_count": 21,
   "metadata": {},
   "outputs": [
    {
     "name": "stdout",
     "output_type": "stream",
     "text": [
      "INFO:tensorflow:Using default config.\n",
      "INFO:tensorflow:Using config: {'_model_dir': 'model_kolko_w_kolku/model', '_tf_random_seed': None, '_save_summary_steps': 100, '_save_checkpoints_steps': None, '_save_checkpoints_secs': 600, '_session_config': None, '_keep_checkpoint_max': 5, '_keep_checkpoint_every_n_hours': 10000, '_log_step_count_steps': 100, '_train_distribute': None, '_service': None, '_cluster_spec': <tensorflow.python.training.server_lib.ClusterSpec object at 0x7f7668a82358>, '_task_type': 'worker', '_task_id': 0, '_global_id_in_cluster': 0, '_master': '', '_evaluation_master': '', '_is_chief': True, '_num_ps_replicas': 0, '_num_worker_replicas': 1}\n",
      "INFO:tensorflow:Calling model_fn.\n",
      "WARNING:tensorflow:Trapezoidal rule is known to produce incorrect PR-AUCs; please switch to \"careful_interpolation\" instead.\n",
      "WARNING:tensorflow:Trapezoidal rule is known to produce incorrect PR-AUCs; please switch to \"careful_interpolation\" instead.\n",
      "INFO:tensorflow:Done calling model_fn.\n",
      "INFO:tensorflow:Starting evaluation at 2019-01-02-15:24:56\n",
      "INFO:tensorflow:Graph was finalized.\n",
      "INFO:tensorflow:Restoring parameters from model_kolko_w_kolku/model/model.ckpt-11002\n",
      "INFO:tensorflow:Running local_init_op.\n",
      "INFO:tensorflow:Done running local_init_op.\n",
      "INFO:tensorflow:Finished evaluation at 2019-01-02-15:24:58\n",
      "INFO:tensorflow:Saving dict for global step 11002: accuracy = 0.80655, accuracy_baseline = 0.50007, auc = 0.89313954, auc_precision_recall = 0.90651816, average_loss = 0.40292087, global_step = 11002, label/mean = 0.50007, loss = 51.524406, precision = 0.8306375, prediction/mean = 0.49734485, recall = 0.77019215\n"
     ]
    },
    {
     "data": {
      "text/plain": [
       "{'accuracy': 0.80655,\n",
       " 'accuracy_baseline': 0.50007,\n",
       " 'auc': 0.89313954,\n",
       " 'auc_precision_recall': 0.90651816,\n",
       " 'average_loss': 0.40292087,\n",
       " 'label/mean': 0.50007,\n",
       " 'loss': 51.524406,\n",
       " 'precision': 0.8306375,\n",
       " 'prediction/mean': 0.49734485,\n",
       " 'recall': 0.77019215,\n",
       " 'global_step': 11002}"
      ]
     },
     "execution_count": 21,
     "metadata": {},
     "output_type": "execute_result"
    }
   ],
   "source": [
    "mod.evaluate('kolko_w_kolku',  'model_kolko_w_kolku', 10000)"
   ]
  },
  {
   "cell_type": "code",
   "execution_count": 22,
   "metadata": {},
   "outputs": [
    {
     "name": "stdout",
     "output_type": "stream",
     "text": [
      "INFO:tensorflow:Using default config.\n",
      "INFO:tensorflow:Using config: {'_model_dir': 'model_kolko_w_kolku/model', '_tf_random_seed': None, '_save_summary_steps': 100, '_save_checkpoints_steps': None, '_save_checkpoints_secs': 600, '_session_config': None, '_keep_checkpoint_max': 5, '_keep_checkpoint_every_n_hours': 10000, '_log_step_count_steps': 100, '_train_distribute': None, '_service': None, '_cluster_spec': <tensorflow.python.training.server_lib.ClusterSpec object at 0x7f765bf98c18>, '_task_type': 'worker', '_task_id': 0, '_global_id_in_cluster': 0, '_master': '', '_evaluation_master': '', '_is_chief': True, '_num_ps_replicas': 0, '_num_worker_replicas': 1}\n"
     ]
    }
   ],
   "source": [
    "model = mod.wczytaj_model('model_kolko_w_kolku')"
   ]
  },
  {
   "cell_type": "code",
   "execution_count": 23,
   "metadata": {},
   "outputs": [
    {
     "name": "stdout",
     "output_type": "stream",
     "text": [
      "INFO:tensorflow:Using default config.\n",
      "INFO:tensorflow:Using config: {'_model_dir': 'model_kolko_w_kolku/model', '_tf_random_seed': None, '_save_summary_steps': 100, '_save_checkpoints_steps': None, '_save_checkpoints_secs': 600, '_session_config': None, '_keep_checkpoint_max': 5, '_keep_checkpoint_every_n_hours': 10000, '_log_step_count_steps': 100, '_train_distribute': None, '_service': None, '_cluster_spec': <tensorflow.python.training.server_lib.ClusterSpec object at 0x7f765bf98358>, '_task_type': 'worker', '_task_id': 0, '_global_id_in_cluster': 0, '_master': '', '_evaluation_master': '', '_is_chief': True, '_num_ps_replicas': 0, '_num_worker_replicas': 1}\n",
      "INFO:tensorflow:Calling model_fn.\n",
      "WARNING:tensorflow:Trapezoidal rule is known to produce incorrect PR-AUCs; please switch to \"careful_interpolation\" instead.\n",
      "WARNING:tensorflow:Trapezoidal rule is known to produce incorrect PR-AUCs; please switch to \"careful_interpolation\" instead.\n",
      "INFO:tensorflow:Done calling model_fn.\n",
      "INFO:tensorflow:Starting evaluation at 2019-01-02-15:24:59\n",
      "INFO:tensorflow:Graph was finalized.\n",
      "INFO:tensorflow:Restoring parameters from model_kolko_w_kolku/model/model.ckpt-11002\n",
      "INFO:tensorflow:Running local_init_op.\n",
      "INFO:tensorflow:Done running local_init_op.\n",
      "INFO:tensorflow:Finished evaluation at 2019-01-02-15:25:02\n",
      "INFO:tensorflow:Saving dict for global step 11002: accuracy = 0.80655, accuracy_baseline = 0.50007, auc = 0.89313954, auc_precision_recall = 0.90651816, average_loss = 0.40292087, global_step = 11002, label/mean = 0.50007, loss = 51.524406, precision = 0.8306375, prediction/mean = 0.49734485, recall = 0.77019215\n"
     ]
    },
    {
     "data": {
      "text/plain": [
       "{'accuracy': 0.80655,\n",
       " 'accuracy_baseline': 0.50007,\n",
       " 'auc': 0.89313954,\n",
       " 'auc_precision_recall': 0.90651816,\n",
       " 'average_loss': 0.40292087,\n",
       " 'label/mean': 0.50007,\n",
       " 'loss': 51.524406,\n",
       " 'precision': 0.8306375,\n",
       " 'prediction/mean': 0.49734485,\n",
       " 'recall': 0.77019215,\n",
       " 'global_step': 11002}"
      ]
     },
     "execution_count": 23,
     "metadata": {},
     "output_type": "execute_result"
    }
   ],
   "source": [
    "mod.evaluate('kolko_w_kolku',  'model_kolko_w_kolku', 10000)"
   ]
  },
  {
   "cell_type": "code",
   "execution_count": 27,
   "metadata": {},
   "outputs": [
    {
     "data": {
      "text/plain": [
       "[1]"
      ]
     },
     "execution_count": 27,
     "metadata": {},
     "output_type": "execute_result"
    }
   ],
   "source": [
    "list(np.array(1).reshape((-1,)))"
   ]
  },
  {
   "cell_type": "code",
   "execution_count": null,
   "metadata": {},
   "outputs": [],
   "source": []
  },
  {
   "cell_type": "code",
   "execution_count": null,
   "metadata": {},
   "outputs": [],
   "source": []
  }
 ],
 "metadata": {
  "kernelspec": {
   "display_name": "Python 3",
   "language": "python",
   "name": "python3"
  },
  "language_info": {
   "codemirror_mode": {
    "name": "ipython",
    "version": 3
   },
   "file_extension": ".py",
   "mimetype": "text/x-python",
   "name": "python",
   "nbconvert_exporter": "python",
   "pygments_lexer": "ipython3",
   "version": "3.6.5"
  }
 },
 "nbformat": 4,
 "nbformat_minor": 2
}
