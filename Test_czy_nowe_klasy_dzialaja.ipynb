{
 "cells": [
  {
   "cell_type": "code",
   "execution_count": 1,
   "metadata": {},
   "outputs": [],
   "source": [
    "import tensorflow as tf\n",
    "import numpy as np\n",
    "import zapisywacz as zap\n",
    "import model_dnn as mod"
   ]
  },
  {
   "cell_type": "code",
   "execution_count": 2,
   "metadata": {},
   "outputs": [],
   "source": [
    "typy_numeryczne = {'xy': 2, 'z': 1}"
   ]
  },
  {
   "cell_type": "code",
   "execution_count": 3,
   "metadata": {},
   "outputs": [],
   "source": [
    "typy_kategoryczne = {'cat1':[3,4], \n",
    "                        'cat2': [6,7]}"
   ]
  },
  {
   "cell_type": "code",
   "execution_count": 4,
   "metadata": {},
   "outputs": [],
   "source": [
    "ln, lk, wr = zap.tworz_folder_do_zapisu('kolko_w_kolku', \n",
    "                          typy_numeryczne,\n",
    "                          typy_kategoryczne)"
   ]
  },
  {
   "cell_type": "code",
   "execution_count": 5,
   "metadata": {},
   "outputs": [],
   "source": [
    "def daj_dane():\n",
    "    if (np.random.normal() > 0.):\n",
    "        x= np.random.normal(1,2)\n",
    "        y= np.random.normal(0,3)\n",
    "        z= np.random.normal(0,3)\n",
    "        c1= np.random.choice([3,4])\n",
    "        c2= np.random.choice([6,7])\n",
    "        return {'xy':[x, y],\n",
    "               'z': z},{\n",
    "                'cat1':c1,\n",
    "                'cat2':c2\n",
    "                    }, 1\n",
    "    else:\n",
    "        x= np.random.normal(-1,2)\n",
    "        y= np.random.normal(0,1)\n",
    "        z= np.random.normal(0,5)\n",
    "        c1= np.random.choice([3,4])\n",
    "        c2= np.random.choice([6,7])\n",
    "        return {'xy':[x, y],\n",
    "               'z': [z]},{\n",
    "                'cat1':c1,\n",
    "                'cat2':c2\n",
    "                    }, 0\n",
    "        \n",
    "        \n",
    "        "
   ]
  },
  {
   "cell_type": "code",
   "execution_count": 6,
   "metadata": {},
   "outputs": [],
   "source": [
    "for i in range(100000):\n",
    "    n,c,l = daj_dane()\n",
    "    zap.zapisz_jeden_przyklad(n, c, l, ln, lk, wr)"
   ]
  },
  {
   "cell_type": "code",
   "execution_count": 7,
   "metadata": {},
   "outputs": [],
   "source": [
    "wr.close() # jak zamkniemy zamkniety to kernel umrze"
   ]
  },
  {
   "cell_type": "code",
   "execution_count": 8,
   "metadata": {},
   "outputs": [
    {
     "data": {
      "text/plain": [
       "[['xy', 0, 2], ['z', 2, 3]]"
      ]
     },
     "execution_count": 8,
     "metadata": {},
     "output_type": "execute_result"
    }
   ],
   "source": [
    "zap.wczytaj_typy_numerycznych('kolko_w_kolku')"
   ]
  },
  {
   "cell_type": "code",
   "execution_count": 9,
   "metadata": {},
   "outputs": [
    {
     "data": {
      "text/plain": [
       "[['cat1', [3, 4]], ['cat2', [6, 7]]]"
      ]
     },
     "execution_count": 9,
     "metadata": {},
     "output_type": "execute_result"
    }
   ],
   "source": [
    "zap.wczytaj_typy_kategorycznych('kolko_w_kolku')"
   ]
  },
  {
   "cell_type": "code",
   "execution_count": 10,
   "metadata": {},
   "outputs": [],
   "source": [
    "dataset = zap.parsuj_i_batchuj('kolko_w_kolku', 5, 1)"
   ]
  },
  {
   "cell_type": "code",
   "execution_count": 11,
   "metadata": {},
   "outputs": [],
   "source": [
    "def podejrzyj_1_z_dataset(dataset):\n",
    "    iteratorek = dataset.make_one_shot_iterator()\n",
    "    with tf.Session() as sess:\n",
    "        return sess.run(iteratorek.get_next())"
   ]
  },
  {
   "cell_type": "code",
   "execution_count": 12,
   "metadata": {},
   "outputs": [
    {
     "data": {
      "text/plain": [
       "{'c': array([[3, 6],\n",
       "        [3, 7],\n",
       "        [3, 7],\n",
       "        [3, 7],\n",
       "        [3, 7]]), 'l': array([[1],\n",
       "        [0],\n",
       "        [1],\n",
       "        [1],\n",
       "        [0]]), 'n': array([[ 0.43675184, -1.7797605 , -1.5044734 ],\n",
       "        [-5.113068  ,  0.14855763, -2.8779743 ],\n",
       "        [ 0.7275806 , -2.73117   , -3.8907986 ],\n",
       "        [ 0.9574715 , -2.337514  ,  0.4167269 ],\n",
       "        [ 0.97474104,  1.5181464 ,  4.1015487 ]], dtype=float32)}"
      ]
     },
     "execution_count": 12,
     "metadata": {},
     "output_type": "execute_result"
    }
   ],
   "source": [
    "podejrzyj_1_z_dataset(dataset)"
   ]
  },
  {
   "cell_type": "code",
   "execution_count": 13,
   "metadata": {},
   "outputs": [
    {
     "data": {
      "text/plain": [
       "{'c': array([3, 6]),\n",
       " 'l': array([1]),\n",
       " 'n': array([ 0.43675184, -1.7797605 , -1.5044734 ], dtype=float32)}"
      ]
     },
     "execution_count": 13,
     "metadata": {},
     "output_type": "execute_result"
    }
   ],
   "source": [
    "podejrzyj_1_z_dataset(zap.parsuj_po_jednym('kolko_w_kolku'))"
   ]
  },
  {
   "cell_type": "code",
   "execution_count": 2,
   "metadata": {},
   "outputs": [
    {
     "name": "stdout",
     "output_type": "stream",
     "text": [
      "INFO:tensorflow:Using default config.\n",
      "INFO:tensorflow:Using config: {'_model_dir': 'model_kolko_w_kolku/model', '_tf_random_seed': None, '_save_summary_steps': 100, '_save_checkpoints_steps': None, '_save_checkpoints_secs': 600, '_session_config': None, '_keep_checkpoint_max': 5, '_keep_checkpoint_every_n_hours': 10000, '_log_step_count_steps': 100, '_train_distribute': None, '_service': None, '_cluster_spec': <tensorflow.python.training.server_lib.ClusterSpec object at 0x7f301ba1b160>, '_task_type': 'worker', '_task_id': 0, '_global_id_in_cluster': 0, '_master': '', '_evaluation_master': '', '_is_chief': True, '_num_ps_replicas': 0, '_num_worker_replicas': 1}\n",
      "INFO:tensorflow:Calling model_fn.\n",
      "INFO:tensorflow:Done calling model_fn.\n",
      "INFO:tensorflow:Create CheckpointSaverHook.\n",
      "INFO:tensorflow:Graph was finalized.\n",
      "INFO:tensorflow:Running local_init_op.\n",
      "INFO:tensorflow:Done running local_init_op.\n",
      "INFO:tensorflow:Saving checkpoints for 1 into model_kolko_w_kolku/model/model.ckpt.\n",
      "INFO:tensorflow:loss = 0.51356584, step = 1\n",
      "INFO:tensorflow:Loss for final step: 0.51356584.\n"
     ]
    }
   ],
   "source": [
    "model = mod.tworz_folder('model_kolko_w_kolku', \n",
    "                'kolko_w_kolku', [5], 0.1)"
   ]
  },
  {
   "cell_type": "code",
   "execution_count": 3,
   "metadata": {},
   "outputs": [
    {
     "name": "stdout",
     "output_type": "stream",
     "text": [
      "INFO:tensorflow:Using default config.\n",
      "INFO:tensorflow:Using config: {'_model_dir': 'model_kolko_w_kolku/model', '_tf_random_seed': None, '_save_summary_steps': 100, '_save_checkpoints_steps': None, '_save_checkpoints_secs': 600, '_session_config': None, '_keep_checkpoint_max': 5, '_keep_checkpoint_every_n_hours': 10000, '_log_step_count_steps': 100, '_train_distribute': None, '_service': None, '_cluster_spec': <tensorflow.python.training.server_lib.ClusterSpec object at 0x7f301bac53c8>, '_task_type': 'worker', '_task_id': 0, '_global_id_in_cluster': 0, '_master': '', '_evaluation_master': '', '_is_chief': True, '_num_ps_replicas': 0, '_num_worker_replicas': 1}\n"
     ]
    }
   ],
   "source": [
    "model = mod.wczytaj_model('model_kolko_w_kolku')"
   ]
  },
  {
   "cell_type": "code",
   "execution_count": null,
   "metadata": {},
   "outputs": [],
   "source": []
  },
  {
   "cell_type": "code",
   "execution_count": 4,
   "metadata": {},
   "outputs": [
    {
     "name": "stdout",
     "output_type": "stream",
     "text": [
      "INFO:tensorflow:Using default config.\n",
      "INFO:tensorflow:Using config: {'_model_dir': 'model_kolko_w_kolku/model', '_tf_random_seed': None, '_save_summary_steps': 100, '_save_checkpoints_steps': None, '_save_checkpoints_secs': 600, '_session_config': None, '_keep_checkpoint_max': 5, '_keep_checkpoint_every_n_hours': 10000, '_log_step_count_steps': 100, '_train_distribute': None, '_service': None, '_cluster_spec': <tensorflow.python.training.server_lib.ClusterSpec object at 0x7f3000379780>, '_task_type': 'worker', '_task_id': 0, '_global_id_in_cluster': 0, '_master': '', '_evaluation_master': '', '_is_chief': True, '_num_ps_replicas': 0, '_num_worker_replicas': 1}\n",
      "INFO:tensorflow:Calling model_fn.\n",
      "INFO:tensorflow:Done calling model_fn.\n",
      "INFO:tensorflow:Create CheckpointSaverHook.\n",
      "INFO:tensorflow:Graph was finalized.\n",
      "INFO:tensorflow:Restoring parameters from model_kolko_w_kolku/model/model.ckpt-1\n",
      "INFO:tensorflow:Running local_init_op.\n",
      "INFO:tensorflow:Done running local_init_op.\n",
      "INFO:tensorflow:Saving checkpoints for 2 into model_kolko_w_kolku/model/model.ckpt.\n",
      "INFO:tensorflow:loss = 91.18626, step = 2\n",
      "INFO:tensorflow:Loss for final step: 91.18626.\n"
     ]
    }
   ],
   "source": [
    "mod.train('kolko_w_kolku', 'model_kolko_w_kolku', 1, True)"
   ]
  },
  {
   "cell_type": "code",
   "execution_count": 5,
   "metadata": {},
   "outputs": [
    {
     "name": "stdout",
     "output_type": "stream",
     "text": [
      "INFO:tensorflow:Using default config.\n",
      "INFO:tensorflow:Using config: {'_model_dir': 'model_kolko_w_kolku/model', '_tf_random_seed': None, '_save_summary_steps': 100, '_save_checkpoints_steps': None, '_save_checkpoints_secs': 600, '_session_config': None, '_keep_checkpoint_max': 5, '_keep_checkpoint_every_n_hours': 10000, '_log_step_count_steps': 100, '_train_distribute': None, '_service': None, '_cluster_spec': <tensorflow.python.training.server_lib.ClusterSpec object at 0x7f301bac51d0>, '_task_type': 'worker', '_task_id': 0, '_global_id_in_cluster': 0, '_master': '', '_evaluation_master': '', '_is_chief': True, '_num_ps_replicas': 0, '_num_worker_replicas': 1}\n",
      "INFO:tensorflow:Calling model_fn.\n",
      "WARNING:tensorflow:Trapezoidal rule is known to produce incorrect PR-AUCs; please switch to \"careful_interpolation\" instead.\n",
      "WARNING:tensorflow:Trapezoidal rule is known to produce incorrect PR-AUCs; please switch to \"careful_interpolation\" instead.\n",
      "INFO:tensorflow:Done calling model_fn.\n",
      "INFO:tensorflow:Starting evaluation at 2019-01-04-15:43:36\n",
      "INFO:tensorflow:Graph was finalized.\n",
      "INFO:tensorflow:Restoring parameters from model_kolko_w_kolku/model/model.ckpt-2\n",
      "INFO:tensorflow:Running local_init_op.\n",
      "INFO:tensorflow:Done running local_init_op.\n",
      "INFO:tensorflow:Finished evaluation at 2019-01-04-15:43:38\n",
      "INFO:tensorflow:Saving dict for global step 2: accuracy = 0.50978, accuracy_baseline = 0.50182, auc = 0.50416684, auc_precision_recall = 0.5131154, average_loss = 0.71030015, global_step = 2, label/mean = 0.50182, loss = 90.83122, precision = 0.5067292, prediction/mean = 0.57196563, recall = 0.8703519\n"
     ]
    },
    {
     "data": {
      "text/plain": [
       "{'accuracy': 0.50978,\n",
       " 'accuracy_baseline': 0.50182,\n",
       " 'auc': 0.50416684,\n",
       " 'auc_precision_recall': 0.5131154,\n",
       " 'average_loss': 0.71030015,\n",
       " 'label/mean': 0.50182,\n",
       " 'loss': 90.83122,\n",
       " 'precision': 0.5067292,\n",
       " 'prediction/mean': 0.57196563,\n",
       " 'recall': 0.8703519,\n",
       " 'global_step': 2}"
      ]
     },
     "execution_count": 5,
     "metadata": {},
     "output_type": "execute_result"
    }
   ],
   "source": [
    "mod.evaluate('kolko_w_kolku',  'model_kolko_w_kolku', 10000)"
   ]
  },
  {
   "cell_type": "code",
   "execution_count": 6,
   "metadata": {},
   "outputs": [
    {
     "name": "stdout",
     "output_type": "stream",
     "text": [
      "INFO:tensorflow:Using default config.\n",
      "INFO:tensorflow:Using config: {'_model_dir': 'model_kolko_w_kolku/model', '_tf_random_seed': None, '_save_summary_steps': 100, '_save_checkpoints_steps': None, '_save_checkpoints_secs': 600, '_session_config': None, '_keep_checkpoint_max': 5, '_keep_checkpoint_every_n_hours': 10000, '_log_step_count_steps': 100, '_train_distribute': None, '_service': None, '_cluster_spec': <tensorflow.python.training.server_lib.ClusterSpec object at 0x7f301863add8>, '_task_type': 'worker', '_task_id': 0, '_global_id_in_cluster': 0, '_master': '', '_evaluation_master': '', '_is_chief': True, '_num_ps_replicas': 0, '_num_worker_replicas': 1}\n",
      "INFO:tensorflow:Calling model_fn.\n",
      "INFO:tensorflow:Done calling model_fn.\n",
      "INFO:tensorflow:Create CheckpointSaverHook.\n",
      "INFO:tensorflow:Graph was finalized.\n",
      "INFO:tensorflow:Restoring parameters from model_kolko_w_kolku/model/model.ckpt-2\n",
      "INFO:tensorflow:Running local_init_op.\n",
      "INFO:tensorflow:Done running local_init_op.\n",
      "INFO:tensorflow:Saving checkpoints for 3 into model_kolko_w_kolku/model/model.ckpt.\n",
      "INFO:tensorflow:loss = 88.95808, step = 3\n",
      "INFO:tensorflow:global_step/sec: 443.151\n",
      "INFO:tensorflow:loss = 63.111885, step = 103 (0.227 sec)\n",
      "INFO:tensorflow:global_step/sec: 962.204\n",
      "INFO:tensorflow:loss = 54.52, step = 203 (0.104 sec)\n",
      "INFO:tensorflow:global_step/sec: 930.744\n",
      "INFO:tensorflow:loss = 69.07942, step = 303 (0.107 sec)\n",
      "INFO:tensorflow:global_step/sec: 929.436\n",
      "INFO:tensorflow:loss = 63.260723, step = 403 (0.108 sec)\n",
      "INFO:tensorflow:global_step/sec: 962.619\n",
      "INFO:tensorflow:loss = 57.001053, step = 503 (0.104 sec)\n",
      "INFO:tensorflow:global_step/sec: 933.291\n",
      "INFO:tensorflow:loss = 55.377342, step = 603 (0.107 sec)\n",
      "INFO:tensorflow:global_step/sec: 881.321\n",
      "INFO:tensorflow:loss = 54.31505, step = 703 (0.114 sec)\n",
      "INFO:tensorflow:global_step/sec: 935.767\n",
      "INFO:tensorflow:loss = 53.18093, step = 803 (0.107 sec)\n",
      "INFO:tensorflow:global_step/sec: 870.936\n",
      "INFO:tensorflow:loss = 61.416927, step = 903 (0.115 sec)\n",
      "INFO:tensorflow:Saving checkpoints for 1002 into model_kolko_w_kolku/model/model.ckpt.\n",
      "INFO:tensorflow:Loss for final step: 56.03824.\n"
     ]
    }
   ],
   "source": [
    "mod.train('kolko_w_kolku', 'model_kolko_w_kolku', 1000, True)"
   ]
  },
  {
   "cell_type": "code",
   "execution_count": 7,
   "metadata": {},
   "outputs": [
    {
     "name": "stdout",
     "output_type": "stream",
     "text": [
      "INFO:tensorflow:Using default config.\n",
      "INFO:tensorflow:Using config: {'_model_dir': 'model_kolko_w_kolku/model', '_tf_random_seed': None, '_save_summary_steps': 100, '_save_checkpoints_steps': None, '_save_checkpoints_secs': 600, '_session_config': None, '_keep_checkpoint_max': 5, '_keep_checkpoint_every_n_hours': 10000, '_log_step_count_steps': 100, '_train_distribute': None, '_service': None, '_cluster_spec': <tensorflow.python.training.server_lib.ClusterSpec object at 0x7f30000744a8>, '_task_type': 'worker', '_task_id': 0, '_global_id_in_cluster': 0, '_master': '', '_evaluation_master': '', '_is_chief': True, '_num_ps_replicas': 0, '_num_worker_replicas': 1}\n",
      "INFO:tensorflow:Calling model_fn.\n",
      "WARNING:tensorflow:Trapezoidal rule is known to produce incorrect PR-AUCs; please switch to \"careful_interpolation\" instead.\n",
      "WARNING:tensorflow:Trapezoidal rule is known to produce incorrect PR-AUCs; please switch to \"careful_interpolation\" instead.\n",
      "INFO:tensorflow:Done calling model_fn.\n",
      "INFO:tensorflow:Starting evaluation at 2019-01-04-15:43:54\n",
      "INFO:tensorflow:Graph was finalized.\n",
      "INFO:tensorflow:Restoring parameters from model_kolko_w_kolku/model/model.ckpt-1002\n",
      "INFO:tensorflow:Running local_init_op.\n",
      "INFO:tensorflow:Done running local_init_op.\n",
      "INFO:tensorflow:Finished evaluation at 2019-01-04-15:43:56\n",
      "INFO:tensorflow:Saving dict for global step 1002: accuracy = 0.79836, accuracy_baseline = 0.50182, auc = 0.87877065, auc_precision_recall = 0.8988946, average_loss = 0.42925048, global_step = 1002, label/mean = 0.50182, loss = 54.891365, precision = 0.8444485, prediction/mean = 0.5082817, recall = 0.733251\n"
     ]
    },
    {
     "data": {
      "text/plain": [
       "{'accuracy': 0.79836,\n",
       " 'accuracy_baseline': 0.50182,\n",
       " 'auc': 0.87877065,\n",
       " 'auc_precision_recall': 0.8988946,\n",
       " 'average_loss': 0.42925048,\n",
       " 'label/mean': 0.50182,\n",
       " 'loss': 54.891365,\n",
       " 'precision': 0.8444485,\n",
       " 'prediction/mean': 0.5082817,\n",
       " 'recall': 0.733251,\n",
       " 'global_step': 1002}"
      ]
     },
     "execution_count": 7,
     "metadata": {},
     "output_type": "execute_result"
    }
   ],
   "source": [
    "mod.evaluate('kolko_w_kolku',  'model_kolko_w_kolku', 10000)"
   ]
  },
  {
   "cell_type": "code",
   "execution_count": 8,
   "metadata": {},
   "outputs": [
    {
     "name": "stdout",
     "output_type": "stream",
     "text": [
      "INFO:tensorflow:Using default config.\n",
      "INFO:tensorflow:Using config: {'_model_dir': 'model_kolko_w_kolku/model', '_tf_random_seed': None, '_save_summary_steps': 100, '_save_checkpoints_steps': None, '_save_checkpoints_secs': 600, '_session_config': None, '_keep_checkpoint_max': 5, '_keep_checkpoint_every_n_hours': 10000, '_log_step_count_steps': 100, '_train_distribute': None, '_service': None, '_cluster_spec': <tensorflow.python.training.server_lib.ClusterSpec object at 0x7f30186b1ef0>, '_task_type': 'worker', '_task_id': 0, '_global_id_in_cluster': 0, '_master': '', '_evaluation_master': '', '_is_chief': True, '_num_ps_replicas': 0, '_num_worker_replicas': 1}\n",
      "INFO:tensorflow:Calling model_fn.\n",
      "INFO:tensorflow:Done calling model_fn.\n",
      "INFO:tensorflow:Create CheckpointSaverHook.\n",
      "INFO:tensorflow:Graph was finalized.\n",
      "INFO:tensorflow:Restoring parameters from model_kolko_w_kolku/model/model.ckpt-1002\n",
      "INFO:tensorflow:Running local_init_op.\n",
      "INFO:tensorflow:Done running local_init_op.\n",
      "INFO:tensorflow:Saving checkpoints for 1003 into model_kolko_w_kolku/model/model.ckpt.\n",
      "INFO:tensorflow:loss = 55.432674, step = 1003\n",
      "INFO:tensorflow:global_step/sec: 426.073\n",
      "INFO:tensorflow:loss = 66.61078, step = 1103 (0.236 sec)\n",
      "INFO:tensorflow:global_step/sec: 943.919\n",
      "INFO:tensorflow:loss = 60.683327, step = 1203 (0.106 sec)\n",
      "INFO:tensorflow:global_step/sec: 954.529\n",
      "INFO:tensorflow:loss = 68.29526, step = 1303 (0.105 sec)\n",
      "INFO:tensorflow:global_step/sec: 932.816\n",
      "INFO:tensorflow:loss = 52.01681, step = 1403 (0.107 sec)\n",
      "INFO:tensorflow:global_step/sec: 951.128\n",
      "INFO:tensorflow:loss = 50.564957, step = 1503 (0.105 sec)\n",
      "INFO:tensorflow:global_step/sec: 887.749\n",
      "INFO:tensorflow:loss = 55.53337, step = 1603 (0.112 sec)\n",
      "INFO:tensorflow:global_step/sec: 912.98\n",
      "INFO:tensorflow:loss = 51.69793, step = 1703 (0.109 sec)\n",
      "INFO:tensorflow:global_step/sec: 910.875\n",
      "INFO:tensorflow:loss = 66.2271, step = 1803 (0.110 sec)\n",
      "INFO:tensorflow:global_step/sec: 862.284\n",
      "INFO:tensorflow:loss = 58.01042, step = 1903 (0.116 sec)\n",
      "INFO:tensorflow:global_step/sec: 790.299\n",
      "INFO:tensorflow:loss = 56.71824, step = 2003 (0.127 sec)\n",
      "INFO:tensorflow:global_step/sec: 752.878\n",
      "INFO:tensorflow:loss = 57.79081, step = 2103 (0.133 sec)\n",
      "INFO:tensorflow:global_step/sec: 812.294\n",
      "INFO:tensorflow:loss = 63.5186, step = 2203 (0.123 sec)\n",
      "INFO:tensorflow:global_step/sec: 782.836\n",
      "INFO:tensorflow:loss = 55.806057, step = 2303 (0.127 sec)\n",
      "INFO:tensorflow:global_step/sec: 987.343\n",
      "INFO:tensorflow:loss = 57.958782, step = 2403 (0.101 sec)\n",
      "INFO:tensorflow:global_step/sec: 932.702\n",
      "INFO:tensorflow:loss = 55.19175, step = 2503 (0.107 sec)\n",
      "INFO:tensorflow:global_step/sec: 945.319\n",
      "INFO:tensorflow:loss = 60.269264, step = 2603 (0.106 sec)\n",
      "INFO:tensorflow:global_step/sec: 953.476\n",
      "INFO:tensorflow:loss = 49.20604, step = 2703 (0.105 sec)\n",
      "INFO:tensorflow:global_step/sec: 860.079\n",
      "INFO:tensorflow:loss = 65.56215, step = 2803 (0.116 sec)\n",
      "INFO:tensorflow:global_step/sec: 934.803\n",
      "INFO:tensorflow:loss = 56.05326, step = 2903 (0.107 sec)\n",
      "INFO:tensorflow:global_step/sec: 875.228\n",
      "INFO:tensorflow:loss = 55.759254, step = 3003 (0.115 sec)\n",
      "INFO:tensorflow:global_step/sec: 731.174\n",
      "INFO:tensorflow:loss = 59.36287, step = 3103 (0.136 sec)\n",
      "INFO:tensorflow:global_step/sec: 805.271\n",
      "INFO:tensorflow:loss = 52.047405, step = 3203 (0.125 sec)\n",
      "INFO:tensorflow:global_step/sec: 866.193\n",
      "INFO:tensorflow:loss = 72.28978, step = 3303 (0.115 sec)\n",
      "INFO:tensorflow:global_step/sec: 900.898\n",
      "INFO:tensorflow:loss = 64.34567, step = 3403 (0.111 sec)\n",
      "INFO:tensorflow:global_step/sec: 959.444\n",
      "INFO:tensorflow:loss = 65.61357, step = 3503 (0.104 sec)\n",
      "INFO:tensorflow:global_step/sec: 875.638\n",
      "INFO:tensorflow:loss = 60.498177, step = 3603 (0.114 sec)\n",
      "INFO:tensorflow:global_step/sec: 933.241\n",
      "INFO:tensorflow:loss = 63.36998, step = 3703 (0.107 sec)\n",
      "INFO:tensorflow:global_step/sec: 910.019\n",
      "INFO:tensorflow:loss = 61.26622, step = 3803 (0.110 sec)\n",
      "INFO:tensorflow:global_step/sec: 834.133\n",
      "INFO:tensorflow:loss = 61.95519, step = 3903 (0.120 sec)\n",
      "INFO:tensorflow:global_step/sec: 814.843\n",
      "INFO:tensorflow:loss = 54.602592, step = 4003 (0.124 sec)\n",
      "INFO:tensorflow:global_step/sec: 774.178\n",
      "INFO:tensorflow:loss = 63.550476, step = 4103 (0.129 sec)\n",
      "INFO:tensorflow:global_step/sec: 940.385\n",
      "INFO:tensorflow:loss = 56.35472, step = 4203 (0.106 sec)\n",
      "INFO:tensorflow:global_step/sec: 965.264\n",
      "INFO:tensorflow:loss = 57.182503, step = 4303 (0.103 sec)\n",
      "INFO:tensorflow:global_step/sec: 965.697\n",
      "INFO:tensorflow:loss = 53.79859, step = 4403 (0.104 sec)\n",
      "INFO:tensorflow:global_step/sec: 917.616\n",
      "INFO:tensorflow:loss = 54.744102, step = 4503 (0.109 sec)\n",
      "INFO:tensorflow:global_step/sec: 983.952\n",
      "INFO:tensorflow:loss = 53.019005, step = 4603 (0.102 sec)\n",
      "INFO:tensorflow:global_step/sec: 948.635\n",
      "INFO:tensorflow:loss = 58.34411, step = 4703 (0.105 sec)\n",
      "INFO:tensorflow:global_step/sec: 995.671\n",
      "INFO:tensorflow:loss = 63.403015, step = 4803 (0.100 sec)\n",
      "INFO:tensorflow:global_step/sec: 886.563\n",
      "INFO:tensorflow:loss = 55.98857, step = 4903 (0.113 sec)\n",
      "INFO:tensorflow:global_step/sec: 959.92\n",
      "INFO:tensorflow:loss = 53.426666, step = 5003 (0.104 sec)\n",
      "INFO:tensorflow:global_step/sec: 800.654\n",
      "INFO:tensorflow:loss = 49.82161, step = 5103 (0.125 sec)\n",
      "INFO:tensorflow:global_step/sec: 808.562\n",
      "INFO:tensorflow:loss = 56.976276, step = 5203 (0.124 sec)\n",
      "INFO:tensorflow:global_step/sec: 861.383\n",
      "INFO:tensorflow:loss = 53.917908, step = 5303 (0.116 sec)\n",
      "INFO:tensorflow:global_step/sec: 847.007\n",
      "INFO:tensorflow:loss = 67.29663, step = 5403 (0.119 sec)\n",
      "INFO:tensorflow:global_step/sec: 917.357\n",
      "INFO:tensorflow:loss = 45.38675, step = 5503 (0.108 sec)\n",
      "INFO:tensorflow:global_step/sec: 964.909\n",
      "INFO:tensorflow:loss = 59.246433, step = 5603 (0.103 sec)\n",
      "INFO:tensorflow:global_step/sec: 994.571\n",
      "INFO:tensorflow:loss = 66.391235, step = 5703 (0.101 sec)\n",
      "INFO:tensorflow:global_step/sec: 917.127\n",
      "INFO:tensorflow:loss = 58.199936, step = 5803 (0.109 sec)\n",
      "INFO:tensorflow:global_step/sec: 974.345\n",
      "INFO:tensorflow:loss = 54.610153, step = 5903 (0.103 sec)\n",
      "INFO:tensorflow:global_step/sec: 961.714\n",
      "INFO:tensorflow:loss = 53.523304, step = 6003 (0.104 sec)\n",
      "INFO:tensorflow:global_step/sec: 939.923\n",
      "INFO:tensorflow:loss = 60.853786, step = 6103 (0.107 sec)\n",
      "INFO:tensorflow:global_step/sec: 921.461\n",
      "INFO:tensorflow:loss = 59.926205, step = 6203 (0.108 sec)\n",
      "INFO:tensorflow:global_step/sec: 946.877\n",
      "INFO:tensorflow:loss = 48.66893, step = 6303 (0.105 sec)\n",
      "INFO:tensorflow:global_step/sec: 921.222\n",
      "INFO:tensorflow:loss = 56.262497, step = 6403 (0.109 sec)\n",
      "INFO:tensorflow:global_step/sec: 980.644\n",
      "INFO:tensorflow:loss = 49.1531, step = 6503 (0.102 sec)\n",
      "INFO:tensorflow:global_step/sec: 1016.68\n",
      "INFO:tensorflow:loss = 58.466446, step = 6603 (0.098 sec)\n",
      "INFO:tensorflow:global_step/sec: 963.512\n",
      "INFO:tensorflow:loss = 51.604607, step = 6703 (0.103 sec)\n",
      "INFO:tensorflow:global_step/sec: 966.853\n",
      "INFO:tensorflow:loss = 64.32945, step = 6803 (0.103 sec)\n",
      "INFO:tensorflow:global_step/sec: 986.475\n",
      "INFO:tensorflow:loss = 58.824654, step = 6903 (0.101 sec)\n",
      "INFO:tensorflow:global_step/sec: 1011.89\n",
      "INFO:tensorflow:loss = 60.962128, step = 7003 (0.099 sec)\n",
      "INFO:tensorflow:global_step/sec: 946.302\n",
      "INFO:tensorflow:loss = 59.492817, step = 7103 (0.106 sec)\n",
      "INFO:tensorflow:global_step/sec: 1063.03\n",
      "INFO:tensorflow:loss = 58.203224, step = 7203 (0.094 sec)\n",
      "INFO:tensorflow:global_step/sec: 1042.24\n",
      "INFO:tensorflow:loss = 55.919903, step = 7303 (0.097 sec)\n",
      "INFO:tensorflow:global_step/sec: 893.94\n",
      "INFO:tensorflow:loss = 54.48147, step = 7403 (0.115 sec)\n",
      "INFO:tensorflow:global_step/sec: 625.954\n",
      "INFO:tensorflow:loss = 58.15627, step = 7503 (0.159 sec)\n",
      "INFO:tensorflow:global_step/sec: 740.019\n",
      "INFO:tensorflow:loss = 62.263874, step = 7603 (0.134 sec)\n",
      "INFO:tensorflow:global_step/sec: 763.826\n",
      "INFO:tensorflow:loss = 62.519005, step = 7703 (0.130 sec)\n",
      "INFO:tensorflow:global_step/sec: 1058.16\n",
      "INFO:tensorflow:loss = 65.54803, step = 7803 (0.094 sec)\n",
      "INFO:tensorflow:global_step/sec: 1060.4\n",
      "INFO:tensorflow:loss = 53.690285, step = 7903 (0.095 sec)\n",
      "INFO:tensorflow:global_step/sec: 1013.94\n",
      "INFO:tensorflow:loss = 63.334866, step = 8003 (0.099 sec)\n",
      "INFO:tensorflow:global_step/sec: 1044.79\n",
      "INFO:tensorflow:loss = 59.814636, step = 8103 (0.096 sec)\n",
      "INFO:tensorflow:global_step/sec: 967.482\n",
      "INFO:tensorflow:loss = 55.33306, step = 8203 (0.103 sec)\n"
     ]
    },
    {
     "name": "stdout",
     "output_type": "stream",
     "text": [
      "INFO:tensorflow:global_step/sec: 983.159\n",
      "INFO:tensorflow:loss = 54.048645, step = 8303 (0.102 sec)\n",
      "INFO:tensorflow:global_step/sec: 698.828\n",
      "INFO:tensorflow:loss = 59.93759, step = 8403 (0.143 sec)\n",
      "INFO:tensorflow:global_step/sec: 665.427\n",
      "INFO:tensorflow:loss = 59.886143, step = 8503 (0.151 sec)\n",
      "INFO:tensorflow:global_step/sec: 729.087\n",
      "INFO:tensorflow:loss = 61.736683, step = 8603 (0.137 sec)\n",
      "INFO:tensorflow:global_step/sec: 712.119\n",
      "INFO:tensorflow:loss = 58.458054, step = 8703 (0.141 sec)\n",
      "INFO:tensorflow:global_step/sec: 658.141\n",
      "INFO:tensorflow:loss = 67.795715, step = 8803 (0.152 sec)\n",
      "INFO:tensorflow:global_step/sec: 661.03\n",
      "INFO:tensorflow:loss = 63.635166, step = 8903 (0.150 sec)\n",
      "INFO:tensorflow:global_step/sec: 905.43\n",
      "INFO:tensorflow:loss = 61.754402, step = 9003 (0.110 sec)\n",
      "INFO:tensorflow:global_step/sec: 894.743\n",
      "INFO:tensorflow:loss = 51.607826, step = 9103 (0.112 sec)\n",
      "INFO:tensorflow:global_step/sec: 986.605\n",
      "INFO:tensorflow:loss = 55.304974, step = 9203 (0.101 sec)\n",
      "INFO:tensorflow:global_step/sec: 914.477\n",
      "INFO:tensorflow:loss = 54.50308, step = 9303 (0.110 sec)\n",
      "INFO:tensorflow:global_step/sec: 805.728\n",
      "INFO:tensorflow:loss = 54.53147, step = 9403 (0.125 sec)\n",
      "INFO:tensorflow:global_step/sec: 798.968\n",
      "INFO:tensorflow:loss = 60.067867, step = 9503 (0.125 sec)\n",
      "INFO:tensorflow:global_step/sec: 747.308\n",
      "INFO:tensorflow:loss = 57.666943, step = 9603 (0.133 sec)\n",
      "INFO:tensorflow:global_step/sec: 950.051\n",
      "INFO:tensorflow:loss = 51.518044, step = 9703 (0.105 sec)\n",
      "INFO:tensorflow:global_step/sec: 905.047\n",
      "INFO:tensorflow:loss = 49.703743, step = 9803 (0.110 sec)\n",
      "INFO:tensorflow:global_step/sec: 957.06\n",
      "INFO:tensorflow:loss = 53.720356, step = 9903 (0.105 sec)\n",
      "INFO:tensorflow:global_step/sec: 855.636\n",
      "INFO:tensorflow:loss = 56.395683, step = 10003 (0.117 sec)\n",
      "INFO:tensorflow:global_step/sec: 877.48\n",
      "INFO:tensorflow:loss = 48.360977, step = 10103 (0.114 sec)\n",
      "INFO:tensorflow:global_step/sec: 924.65\n",
      "INFO:tensorflow:loss = 64.179886, step = 10203 (0.108 sec)\n",
      "INFO:tensorflow:global_step/sec: 943.766\n",
      "INFO:tensorflow:loss = 54.688972, step = 10303 (0.106 sec)\n",
      "INFO:tensorflow:global_step/sec: 948.416\n",
      "INFO:tensorflow:loss = 55.498238, step = 10403 (0.105 sec)\n",
      "INFO:tensorflow:global_step/sec: 918.846\n",
      "INFO:tensorflow:loss = 62.53471, step = 10503 (0.111 sec)\n",
      "INFO:tensorflow:global_step/sec: 776.933\n",
      "INFO:tensorflow:loss = 66.18279, step = 10603 (0.127 sec)\n",
      "INFO:tensorflow:global_step/sec: 871.303\n",
      "INFO:tensorflow:loss = 68.72219, step = 10703 (0.115 sec)\n",
      "INFO:tensorflow:global_step/sec: 818.078\n",
      "INFO:tensorflow:loss = 62.858547, step = 10803 (0.122 sec)\n",
      "INFO:tensorflow:global_step/sec: 839.694\n",
      "INFO:tensorflow:loss = 50.0, step = 10903 (0.119 sec)\n",
      "INFO:tensorflow:Saving checkpoints for 11002 into model_kolko_w_kolku/model/model.ckpt.\n",
      "INFO:tensorflow:Loss for final step: 67.51262.\n"
     ]
    }
   ],
   "source": [
    "mod.train('kolko_w_kolku', 'model_kolko_w_kolku', 10000, True)"
   ]
  },
  {
   "cell_type": "code",
   "execution_count": 21,
   "metadata": {},
   "outputs": [
    {
     "name": "stdout",
     "output_type": "stream",
     "text": [
      "INFO:tensorflow:Using default config.\n",
      "INFO:tensorflow:Using config: {'_model_dir': 'model_kolko_w_kolku/model', '_tf_random_seed': None, '_save_summary_steps': 100, '_save_checkpoints_steps': None, '_save_checkpoints_secs': 600, '_session_config': None, '_keep_checkpoint_max': 5, '_keep_checkpoint_every_n_hours': 10000, '_log_step_count_steps': 100, '_train_distribute': None, '_service': None, '_cluster_spec': <tensorflow.python.training.server_lib.ClusterSpec object at 0x7f8ae07e7550>, '_task_type': 'worker', '_task_id': 0, '_global_id_in_cluster': 0, '_master': '', '_evaluation_master': '', '_is_chief': True, '_num_ps_replicas': 0, '_num_worker_replicas': 1}\n",
      "INFO:tensorflow:Calling model_fn.\n",
      "WARNING:tensorflow:Trapezoidal rule is known to produce incorrect PR-AUCs; please switch to \"careful_interpolation\" instead.\n",
      "WARNING:tensorflow:Trapezoidal rule is known to produce incorrect PR-AUCs; please switch to \"careful_interpolation\" instead.\n",
      "INFO:tensorflow:Done calling model_fn.\n",
      "INFO:tensorflow:Starting evaluation at 2019-01-02-15:38:31\n",
      "INFO:tensorflow:Graph was finalized.\n",
      "INFO:tensorflow:Restoring parameters from model_kolko_w_kolku/model/model.ckpt-11002\n",
      "INFO:tensorflow:Running local_init_op.\n",
      "INFO:tensorflow:Done running local_init_op.\n",
      "INFO:tensorflow:Finished evaluation at 2019-01-02-15:38:33\n",
      "INFO:tensorflow:Saving dict for global step 11002: accuracy = 0.80358, accuracy_baseline = 0.50182, auc = 0.8914173, auc_precision_recall = 0.9039454, average_loss = 0.4106521, global_step = 11002, label/mean = 0.50182, loss = 52.513058, precision = 0.82241035, prediction/mean = 0.49360484, recall = 0.77619463\n"
     ]
    },
    {
     "data": {
      "text/plain": [
       "{'accuracy': 0.80358,\n",
       " 'accuracy_baseline': 0.50182,\n",
       " 'auc': 0.8914173,\n",
       " 'auc_precision_recall': 0.9039454,\n",
       " 'average_loss': 0.4106521,\n",
       " 'label/mean': 0.50182,\n",
       " 'loss': 52.513058,\n",
       " 'precision': 0.82241035,\n",
       " 'prediction/mean': 0.49360484,\n",
       " 'recall': 0.77619463,\n",
       " 'global_step': 11002}"
      ]
     },
     "execution_count": 21,
     "metadata": {},
     "output_type": "execute_result"
    }
   ],
   "source": [
    "mod.evaluate('kolko_w_kolku',  'model_kolko_w_kolku', 10000)"
   ]
  },
  {
   "cell_type": "code",
   "execution_count": 9,
   "metadata": {},
   "outputs": [
    {
     "name": "stdout",
     "output_type": "stream",
     "text": [
      "INFO:tensorflow:Using default config.\n",
      "INFO:tensorflow:Using config: {'_model_dir': 'model_kolko_w_kolku/model', '_tf_random_seed': None, '_save_summary_steps': 100, '_save_checkpoints_steps': None, '_save_checkpoints_secs': 600, '_session_config': None, '_keep_checkpoint_max': 5, '_keep_checkpoint_every_n_hours': 10000, '_log_step_count_steps': 100, '_train_distribute': None, '_service': None, '_cluster_spec': <tensorflow.python.training.server_lib.ClusterSpec object at 0x7f30186b1ef0>, '_task_type': 'worker', '_task_id': 0, '_global_id_in_cluster': 0, '_master': '', '_evaluation_master': '', '_is_chief': True, '_num_ps_replicas': 0, '_num_worker_replicas': 1}\n"
     ]
    }
   ],
   "source": [
    "model = mod.wczytaj_model('model_kolko_w_kolku')"
   ]
  },
  {
   "cell_type": "code",
   "execution_count": 10,
   "metadata": {},
   "outputs": [
    {
     "name": "stdout",
     "output_type": "stream",
     "text": [
      "INFO:tensorflow:Using default config.\n",
      "INFO:tensorflow:Using config: {'_model_dir': 'model_kolko_w_kolku/model', '_tf_random_seed': None, '_save_summary_steps': 100, '_save_checkpoints_steps': None, '_save_checkpoints_secs': 600, '_session_config': None, '_keep_checkpoint_max': 5, '_keep_checkpoint_every_n_hours': 10000, '_log_step_count_steps': 100, '_train_distribute': None, '_service': None, '_cluster_spec': <tensorflow.python.training.server_lib.ClusterSpec object at 0x7f30186b1278>, '_task_type': 'worker', '_task_id': 0, '_global_id_in_cluster': 0, '_master': '', '_evaluation_master': '', '_is_chief': True, '_num_ps_replicas': 0, '_num_worker_replicas': 1}\n",
      "INFO:tensorflow:Calling model_fn.\n",
      "WARNING:tensorflow:Trapezoidal rule is known to produce incorrect PR-AUCs; please switch to \"careful_interpolation\" instead.\n",
      "WARNING:tensorflow:Trapezoidal rule is known to produce incorrect PR-AUCs; please switch to \"careful_interpolation\" instead.\n",
      "INFO:tensorflow:Done calling model_fn.\n",
      "INFO:tensorflow:Starting evaluation at 2019-01-04-15:44:25\n",
      "INFO:tensorflow:Graph was finalized.\n",
      "INFO:tensorflow:Restoring parameters from model_kolko_w_kolku/model/model.ckpt-11002\n",
      "INFO:tensorflow:Running local_init_op.\n",
      "INFO:tensorflow:Done running local_init_op.\n",
      "INFO:tensorflow:Finished evaluation at 2019-01-04-15:44:27\n",
      "INFO:tensorflow:Saving dict for global step 11002: accuracy = 0.80091, accuracy_baseline = 0.50182, auc = 0.8872103, auc_precision_recall = 0.9035566, average_loss = 0.41646913, global_step = 11002, label/mean = 0.50182, loss = 53.256924, precision = 0.8516273, prediction/mean = 0.504334, recall = 0.7305408\n"
     ]
    },
    {
     "data": {
      "text/plain": [
       "{'accuracy': 0.80091,\n",
       " 'accuracy_baseline': 0.50182,\n",
       " 'auc': 0.8872103,\n",
       " 'auc_precision_recall': 0.9035566,\n",
       " 'average_loss': 0.41646913,\n",
       " 'label/mean': 0.50182,\n",
       " 'loss': 53.256924,\n",
       " 'precision': 0.8516273,\n",
       " 'prediction/mean': 0.504334,\n",
       " 'recall': 0.7305408,\n",
       " 'global_step': 11002}"
      ]
     },
     "execution_count": 10,
     "metadata": {},
     "output_type": "execute_result"
    }
   ],
   "source": [
    "mod.evaluate('kolko_w_kolku',  'model_kolko_w_kolku', 10000)"
   ]
  },
  {
   "cell_type": "code",
   "execution_count": 24,
   "metadata": {},
   "outputs": [
    {
     "data": {
      "text/plain": [
       "[1]"
      ]
     },
     "execution_count": 24,
     "metadata": {},
     "output_type": "execute_result"
    }
   ],
   "source": [
    "list(np.array(1).reshape((-1,)))"
   ]
  },
  {
   "cell_type": "code",
   "execution_count": null,
   "metadata": {},
   "outputs": [],
   "source": []
  },
  {
   "cell_type": "code",
   "execution_count": null,
   "metadata": {},
   "outputs": [],
   "source": []
  }
 ],
 "metadata": {
  "kernelspec": {
   "display_name": "Python 3",
   "language": "python",
   "name": "python3"
  },
  "language_info": {
   "codemirror_mode": {
    "name": "ipython",
    "version": 3
   },
   "file_extension": ".py",
   "mimetype": "text/x-python",
   "name": "python",
   "nbconvert_exporter": "python",
   "pygments_lexer": "ipython3",
   "version": "3.6.5"
  }
 },
 "nbformat": 4,
 "nbformat_minor": 2
}
