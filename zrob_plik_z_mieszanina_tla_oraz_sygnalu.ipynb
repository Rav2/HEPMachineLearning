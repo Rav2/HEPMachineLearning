{
 "cells": [
  {
   "cell_type": "code",
   "execution_count": 1,
   "metadata": {},
   "outputs": [
    {
     "name": "stdout",
     "output_type": "stream",
     "text": [
      "Welcome to JupyROOT 6.15/01\n"
     ]
    }
   ],
   "source": [
    "import Io_tf_binary_general as io"
   ]
  },
  {
   "cell_type": "code",
   "execution_count": 2,
   "metadata": {},
   "outputs": [],
   "source": [
    "import numpy as np"
   ]
  },
  {
   "cell_type": "code",
   "execution_count": 3,
   "metadata": {},
   "outputs": [],
   "source": [
    "import tensorflow as tf"
   ]
  },
  {
   "cell_type": "code",
   "execution_count": 4,
   "metadata": {},
   "outputs": [],
   "source": [
    "#najsamwpierw tworze swoje wczytywacze"
   ]
  },
  {
   "cell_type": "code",
   "execution_count": 25,
   "metadata": {},
   "outputs": [
    {
     "name": "stdout",
     "output_type": "stream",
     "text": [
      "{'leg_0_momentum': FixedLenFeature(shape=[4], dtype=tf.float32, default_value=None), 'leg_1_momentum': FixedLenFeature(shape=[4], dtype=tf.float32, default_value=None), 'jet_0_momentum': FixedLenFeature(shape=[4], dtype=tf.float32, default_value=None), 'jet_1_momentum': FixedLenFeature(shape=[4], dtype=tf.float32, default_value=None), 'BJetBetaScore': FixedLenFeature(shape=[1], dtype=tf.float32, default_value=None), 'higgsMassTrans': FixedLenFeature(shape=[1], dtype=tf.float32, default_value=None), 'higgsPT': FixedLenFeature(shape=[1], dtype=tf.float32, default_value=None), 'nJets30': FixedLenFeature(shape=[1], dtype=tf.float32, default_value=None), 'visMass': FixedLenFeature(shape=[1], dtype=tf.float32, default_value=None), 'leg_1_charge': FixedLenFeature(shape=[1], dtype=tf.float32, default_value=None), 'leg_1_combreliso': FixedLenFeature(shape=[1], dtype=tf.float32, default_value=None), 'leg_2_byCombinedIsolationDeltaBetaCorrRaw3Hits': FixedLenFeature(shape=[1], dtype=tf.float32, default_value=None), 'leg_2_byIsolationMVArun2v1DBoldDMwLTraw': FixedLenFeature(shape=[1], dtype=tf.float32, default_value=None), 'leg_2_charge': FixedLenFeature(shape=[1], dtype=tf.float32, default_value=None), 'leg_2_decayMode': FixedLenFeature(shape=[1], dtype=tf.float32, default_value=None), 'label': FixedLenFeature(shape=[], dtype=tf.int64, default_value=None)}\n"
     ]
    }
   ],
   "source": [
    "wczytywacz_tlo=io.Io_tf_binary_general(\"tlo\",'r')"
   ]
  },
  {
   "cell_type": "code",
   "execution_count": 26,
   "metadata": {},
   "outputs": [
    {
     "name": "stdout",
     "output_type": "stream",
     "text": [
      "{'leg_0_momentum': FixedLenFeature(shape=[4], dtype=tf.float32, default_value=None), 'leg_1_momentum': FixedLenFeature(shape=[4], dtype=tf.float32, default_value=None), 'jet_0_momentum': FixedLenFeature(shape=[4], dtype=tf.float32, default_value=None), 'jet_1_momentum': FixedLenFeature(shape=[4], dtype=tf.float32, default_value=None), 'BJetBetaScore': FixedLenFeature(shape=[1], dtype=tf.float32, default_value=None), 'higgsMassTrans': FixedLenFeature(shape=[1], dtype=tf.float32, default_value=None), 'higgsPT': FixedLenFeature(shape=[1], dtype=tf.float32, default_value=None), 'nJets30': FixedLenFeature(shape=[1], dtype=tf.float32, default_value=None), 'visMass': FixedLenFeature(shape=[1], dtype=tf.float32, default_value=None), 'leg_1_charge': FixedLenFeature(shape=[1], dtype=tf.float32, default_value=None), 'leg_1_combreliso': FixedLenFeature(shape=[1], dtype=tf.float32, default_value=None), 'leg_2_byCombinedIsolationDeltaBetaCorrRaw3Hits': FixedLenFeature(shape=[1], dtype=tf.float32, default_value=None), 'leg_2_byIsolationMVArun2v1DBoldDMwLTraw': FixedLenFeature(shape=[1], dtype=tf.float32, default_value=None), 'leg_2_charge': FixedLenFeature(shape=[1], dtype=tf.float32, default_value=None), 'leg_2_decayMode': FixedLenFeature(shape=[1], dtype=tf.float32, default_value=None), 'label': FixedLenFeature(shape=[], dtype=tf.int64, default_value=None)}\n"
     ]
    }
   ],
   "source": [
    "wczytywacz_syg=io.Io_tf_binary_general(\"sygnal\",'r')"
   ]
  },
  {
   "cell_type": "code",
   "execution_count": 7,
   "metadata": {},
   "outputs": [
    {
     "data": {
      "text/plain": [
       "{'leg_0_momentum': [4, 'f'],\n",
       " 'leg_1_momentum': [4, 'f'],\n",
       " 'jet_0_momentum': [4, 'f'],\n",
       " 'jet_1_momentum': [4, 'f'],\n",
       " 'BJetBetaScore': [1, 'f'],\n",
       " 'higgsMassTrans': [1, 'f'],\n",
       " 'higgsPT': [1, 'f'],\n",
       " 'nJets30': [1, 'f'],\n",
       " 'visMass': [1, 'f'],\n",
       " 'leg_1_charge': [1, 'f'],\n",
       " 'leg_1_combreliso': [1, 'f'],\n",
       " 'leg_2_byCombinedIsolationDeltaBetaCorrRaw3Hits': [1, 'f'],\n",
       " 'leg_2_byIsolationMVArun2v1DBoldDMwLTraw': [1, 'f'],\n",
       " 'leg_2_charge': [1, 'f'],\n",
       " 'leg_2_decayMode': [1, 'f']}"
      ]
     },
     "execution_count": 7,
     "metadata": {},
     "output_type": "execute_result"
    }
   ],
   "source": [
    "wczytywacz_syg.types()#tutaj widac, co tam jest, chyba\n",
    "#nie widac ze jest label, bo wiadomo ze jest label \n",
    "# ( to znaczy odrozninie tla od sygnalu)"
   ]
  },
  {
   "cell_type": "code",
   "execution_count": 18,
   "metadata": {},
   "outputs": [],
   "source": [
    "syg_dataset=wczytywacz_syg.read()"
   ]
  },
  {
   "cell_type": "code",
   "execution_count": 19,
   "metadata": {},
   "outputs": [],
   "source": [
    "tlo_dataset=wczytywacz_tlo.read()"
   ]
  },
  {
   "cell_type": "code",
   "execution_count": null,
   "metadata": {},
   "outputs": [],
   "source": []
  },
  {
   "cell_type": "code",
   "execution_count": null,
   "metadata": {},
   "outputs": [],
   "source": []
  },
  {
   "cell_type": "code",
   "execution_count": 27,
   "metadata": {},
   "outputs": [],
   "source": [
    "#mozna by to napisac lepiej, to znaczy mozna by robic \n",
    "#zbachowane rzeczy i te zbachowane po jednym dawac.\n",
    "def generator_z_dataset(dataset,czy_shuffle,ile_w_buferze,czy_repeat):\n",
    "    #takie tam tensorflowowe rzeczy\n",
    "    #ile_w_buferze ma znaczenie tylko jak czy_shuffle==true\n",
    "    if(czy_shuffle):\n",
    "        dataset=dataset.shuffle(ile_w_buferze)\n",
    "    if(czy_repeat):\n",
    "        dataset=dataset.repeat() #bedzie krazyc w kolko\n",
    "    iterator=dataset.make_one_shot_iterator()\n",
    "    f,l=iterator.get_next()\n",
    "    with tf.Session() as sess:\n",
    "        while True:\n",
    "            yield(sess.run({\"features\":f,\"l\":l}))\n",
    "def do_listy(dataset):\n",
    "    gen=generator_z_dataset(dataset,False,0,False)\n",
    "    wyrzut=[]\n",
    "    while True:\n",
    "        try:\n",
    "            wyrzut.append(next(gen))\n",
    "        except:\n",
    "            print(\"koniec danych\")\n",
    "            break\n",
    "    return wyrzut"
   ]
  },
  {
   "cell_type": "code",
   "execution_count": 15,
   "metadata": {},
   "outputs": [],
   "source": [
    "#gen_syg=generator_z_dataset(syg_dataset,False,0,False)"
   ]
  },
  {
   "cell_type": "code",
   "execution_count": 16,
   "metadata": {},
   "outputs": [],
   "source": [
    "#gen_tlo=generator_z_dataset(tlo_dataset,True,1000,True)"
   ]
  },
  {
   "cell_type": "code",
   "execution_count": 28,
   "metadata": {},
   "outputs": [
    {
     "name": "stdout",
     "output_type": "stream",
     "text": [
      "koniec danych\n"
     ]
    }
   ],
   "source": [
    "lista_tlo=do_listy(wczytywacz_tlo.read())"
   ]
  },
  {
   "cell_type": "code",
   "execution_count": 29,
   "metadata": {},
   "outputs": [
    {
     "name": "stdout",
     "output_type": "stream",
     "text": [
      "koniec danych\n"
     ]
    }
   ],
   "source": [
    "lista_syg=do_listy(wczytywacz_syg.read())"
   ]
  },
  {
   "cell_type": "code",
   "execution_count": 30,
   "metadata": {},
   "outputs": [],
   "source": [
    "io_train=io.Io_tf_binary_general(\"train\",'w')\n",
    "io_val=io.Io_tf_binary_general(\"val\",'w')\n",
    "io_test=io.Io_tf_binary_general(\"test\",'w')"
   ]
  },
  {
   "cell_type": "code",
   "execution_count": null,
   "metadata": {},
   "outputs": [],
   "source": []
  },
  {
   "cell_type": "code",
   "execution_count": 33,
   "metadata": {},
   "outputs": [],
   "source": [
    "def wrzuc_do_pliku_mieszajac(io_obiekt,lista_syg,lista_tlo,od_kad,do_kad):\n",
    "    lista_syg=lista_syg[int(od_kad*len(lista_syg)):int(do_kad*len(lista_syg))]\n",
    "    lista_tlo=lista_tlo[int(od_kad*len(lista_tlo)):int(do_kad*len(lista_tlo))]\n",
    "    for i in range(len(lista_syg)):\n",
    "        io_obiekt.write_general(**lista_syg[i])\n",
    "        io_obiekt.write_general(**lista_tlo[i % len(lista_tlo)])\n",
    "    io_obiekt.close()"
   ]
  },
  {
   "cell_type": "code",
   "execution_count": 34,
   "metadata": {},
   "outputs": [],
   "source": [
    "wrzuc_do_pliku_mieszajac(io_train,lista_syg,lista_tlo,0.,0.8)\n",
    "wrzuc_do_pliku_mieszajac(io_val,lista_syg,lista_tlo,0.8,0.9)\n",
    "wrzuc_do_pliku_mieszajac(io_test,lista_syg,lista_tlo,0.9,1.)\n"
   ]
  },
  {
   "cell_type": "code",
   "execution_count": 37,
   "metadata": {},
   "outputs": [
    {
     "data": {
      "text/plain": [
       "'\\nfor przypadek_syg in gen_syg:\\n    przypadek_tlo=next(gen_tlo)\\n    wymieszane.write_general(**przypadek_syg)\\n    wymieszane.write_general(**przypadek_tlo)\\n    '"
      ]
     },
     "execution_count": 37,
     "metadata": {},
     "output_type": "execute_result"
    }
   ],
   "source": [
    "#konczy sie out_of_range error, tak ma byc\n",
    "\"\"\"\n",
    "for przypadek_syg in gen_syg:\n",
    "    przypadek_tlo=next(gen_tlo)\n",
    "    wymieszane.write_general(**przypadek_syg)\n",
    "    wymieszane.write_general(**przypadek_tlo)\n",
    "    \"\"\"\n",
    "    "
   ]
  },
  {
   "cell_type": "code",
   "execution_count": null,
   "metadata": {},
   "outputs": [],
   "source": []
  },
  {
   "cell_type": "code",
   "execution_count": 38,
   "metadata": {},
   "outputs": [
    {
     "name": "stdout",
     "output_type": "stream",
     "text": [
      "{'BJetBetaScore': FixedLenFeature(shape=[1], dtype=tf.float32, default_value=None), 'higgsMassTrans': FixedLenFeature(shape=[1], dtype=tf.float32, default_value=None), 'higgsPT': FixedLenFeature(shape=[1], dtype=tf.float32, default_value=None), 'jet_0_momentum': FixedLenFeature(shape=[4], dtype=tf.float32, default_value=None), 'jet_1_momentum': FixedLenFeature(shape=[4], dtype=tf.float32, default_value=None), 'leg_0_momentum': FixedLenFeature(shape=[4], dtype=tf.float32, default_value=None), 'leg_1_charge': FixedLenFeature(shape=[1], dtype=tf.float32, default_value=None), 'leg_1_combreliso': FixedLenFeature(shape=[1], dtype=tf.float32, default_value=None), 'leg_1_momentum': FixedLenFeature(shape=[4], dtype=tf.float32, default_value=None), 'leg_2_byCombinedIsolationDeltaBetaCorrRaw3Hits': FixedLenFeature(shape=[1], dtype=tf.float32, default_value=None), 'leg_2_byIsolationMVArun2v1DBoldDMwLTraw': FixedLenFeature(shape=[1], dtype=tf.float32, default_value=None), 'leg_2_charge': FixedLenFeature(shape=[1], dtype=tf.float32, default_value=None), 'leg_2_decayMode': FixedLenFeature(shape=[1], dtype=tf.float32, default_value=None), 'nJets30': FixedLenFeature(shape=[1], dtype=tf.float32, default_value=None), 'visMass': FixedLenFeature(shape=[1], dtype=tf.float32, default_value=None), 'label': FixedLenFeature(shape=[], dtype=tf.int64, default_value=None)}\n"
     ]
    }
   ],
   "source": [
    "czytanie_sprawdzanie=io.Io_tf_binary_general(\"train\",'r')"
   ]
  },
  {
   "cell_type": "code",
   "execution_count": 39,
   "metadata": {},
   "outputs": [],
   "source": [
    "spr=generator_z_dataset(czytanie_sprawdzanie.read(),False,0,False)"
   ]
  },
  {
   "cell_type": "code",
   "execution_count": 42,
   "metadata": {},
   "outputs": [
    {
     "data": {
      "text/plain": [
       "{'features': {'BJetBetaScore': array([-999.], dtype=float32),\n",
       "  'higgsMassTrans': array([4.9182773], dtype=float32),\n",
       "  'higgsPT': array([50.86785], dtype=float32),\n",
       "  'jet_0_momentum': array([ 318.45612 ,   -8.966505,   18.99214 , -317.72153 ], dtype=float32),\n",
       "  'jet_1_momentum': array([0., 0., 0., 0.], dtype=float32),\n",
       "  'leg_0_momentum': array([ 88.02361 ,  30.906635, -21.522163, -79.55955 ], dtype=float32),\n",
       "  'leg_1_charge': array([1.], dtype=float32),\n",
       "  'leg_1_combreliso': array([0.01387171], dtype=float32),\n",
       "  'leg_1_momentum': array([ 72.39734 , -40.715553,  32.471966, -50.164165], dtype=float32),\n",
       "  'leg_2_byCombinedIsolationDeltaBetaCorrRaw3Hits': array([0.], dtype=float32),\n",
       "  'leg_2_byIsolationMVArun2v1DBoldDMwLTraw': array([0.9711645], dtype=float32),\n",
       "  'leg_2_charge': array([-1.], dtype=float32),\n",
       "  'leg_2_decayMode': array([1.], dtype=float32),\n",
       "  'nJets30': array([0.], dtype=float32),\n",
       "  'visMass': array([93.22299], dtype=float32)},\n",
       " 'l': 1}"
      ]
     },
     "execution_count": 42,
     "metadata": {},
     "output_type": "execute_result"
    }
   ],
   "source": [
    "#wielokrotnie klikajac widac,ze dziala\n",
    "next(spr)"
   ]
  },
  {
   "cell_type": "code",
   "execution_count": null,
   "metadata": {},
   "outputs": [],
   "source": []
  }
 ],
 "metadata": {
  "kernelspec": {
   "display_name": "Python 3",
   "language": "python",
   "name": "python3"
  },
  "language_info": {
   "codemirror_mode": {
    "name": "ipython",
    "version": 3
   },
   "file_extension": ".py",
   "mimetype": "text/x-python",
   "name": "python",
   "nbconvert_exporter": "python",
   "pygments_lexer": "ipython3",
   "version": "3.6.5"
  }
 },
 "nbformat": 4,
 "nbformat_minor": 2
}
