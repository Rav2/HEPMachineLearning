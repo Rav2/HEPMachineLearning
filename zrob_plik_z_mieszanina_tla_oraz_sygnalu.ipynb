{
 "cells": [
  {
   "cell_type": "code",
   "execution_count": 1,
   "metadata": {},
   "outputs": [
    {
     "name": "stdout",
     "output_type": "stream",
     "text": [
      "Welcome to JupyROOT 6.15/01\n"
     ]
    }
   ],
   "source": [
    "import Io_tf_binary_general as io"
   ]
  },
  {
   "cell_type": "code",
   "execution_count": 2,
   "metadata": {},
   "outputs": [],
   "source": [
    "import numpy as np"
   ]
  },
  {
   "cell_type": "code",
   "execution_count": 3,
   "metadata": {},
   "outputs": [],
   "source": [
    "import tensorflow as tf"
   ]
  },
  {
   "cell_type": "code",
   "execution_count": 4,
   "metadata": {},
   "outputs": [],
   "source": [
    "#najsamwpierw tworze swoje wczytywacze"
   ]
  },
  {
   "cell_type": "code",
   "execution_count": 5,
   "metadata": {},
   "outputs": [
    {
     "name": "stdout",
     "output_type": "stream",
     "text": [
      "{'leg_0_momentum': FixedLenFeature(shape=[4], dtype=tf.float32, default_value=None), 'leg_1_momentum': FixedLenFeature(shape=[4], dtype=tf.float32, default_value=None), 'jet_0_momentum': FixedLenFeature(shape=[4], dtype=tf.float32, default_value=None), 'higgsMassTrans': FixedLenFeature(shape=[1], dtype=tf.float32, default_value=None), 'higgsPT': FixedLenFeature(shape=[1], dtype=tf.float32, default_value=None), 'nJets30': FixedLenFeature(shape=[1], dtype=tf.int64, default_value=None), 'visMass': FixedLenFeature(shape=[1], dtype=tf.float32, default_value=None), 'leg_1_charge': FixedLenFeature(shape=[1], dtype=tf.int64, default_value=None), 'leg_1_combreliso': FixedLenFeature(shape=[1], dtype=tf.float32, default_value=None), 'leg_2_byCombinedIsolationDeltaBetaCorrRaw3Hits': FixedLenFeature(shape=[1], dtype=tf.float32, default_value=None), 'leg_2_byIsolationMVArun2v1DBoldDMwLTraw': FixedLenFeature(shape=[1], dtype=tf.float32, default_value=None), 'leg_2_charge': FixedLenFeature(shape=[1], dtype=tf.int64, default_value=None), 'leg_2_decayMode': FixedLenFeature(shape=[1], dtype=tf.int64, default_value=None), 'label': FixedLenFeature(shape=[], dtype=tf.int64, default_value=None)}\n"
     ]
    }
   ],
   "source": [
    "wczytywacz_tlo=io.Io_tf_binary_general(\"tlo\",'r')"
   ]
  },
  {
   "cell_type": "code",
   "execution_count": 6,
   "metadata": {},
   "outputs": [
    {
     "name": "stdout",
     "output_type": "stream",
     "text": [
      "{'leg_0_momentum': FixedLenFeature(shape=[4], dtype=tf.float32, default_value=None), 'leg_1_momentum': FixedLenFeature(shape=[4], dtype=tf.float32, default_value=None), 'jet_0_momentum': FixedLenFeature(shape=[4], dtype=tf.float32, default_value=None), 'higgsMassTrans': FixedLenFeature(shape=[1], dtype=tf.float32, default_value=None), 'higgsPT': FixedLenFeature(shape=[1], dtype=tf.float32, default_value=None), 'nJets30': FixedLenFeature(shape=[1], dtype=tf.int64, default_value=None), 'visMass': FixedLenFeature(shape=[1], dtype=tf.float32, default_value=None), 'leg_1_charge': FixedLenFeature(shape=[1], dtype=tf.int64, default_value=None), 'leg_1_combreliso': FixedLenFeature(shape=[1], dtype=tf.float32, default_value=None), 'leg_2_byCombinedIsolationDeltaBetaCorrRaw3Hits': FixedLenFeature(shape=[1], dtype=tf.float32, default_value=None), 'leg_2_byIsolationMVArun2v1DBoldDMwLTraw': FixedLenFeature(shape=[1], dtype=tf.float32, default_value=None), 'leg_2_charge': FixedLenFeature(shape=[1], dtype=tf.int64, default_value=None), 'leg_2_decayMode': FixedLenFeature(shape=[1], dtype=tf.int64, default_value=None), 'label': FixedLenFeature(shape=[], dtype=tf.int64, default_value=None)}\n"
     ]
    }
   ],
   "source": [
    "wczytywacz_syg=io.Io_tf_binary_general(\"sygnal\",'r')"
   ]
  },
  {
   "cell_type": "code",
   "execution_count": 7,
   "metadata": {},
   "outputs": [
    {
     "data": {
      "text/plain": [
       "{'leg_0_momentum': [4, 'f'],\n",
       " 'leg_1_momentum': [4, 'f'],\n",
       " 'jet_0_momentum': [4, 'f'],\n",
       " 'higgsMassTrans': [1, 'f'],\n",
       " 'higgsPT': [1, 'f'],\n",
       " 'nJets30': [1, 'i'],\n",
       " 'visMass': [1, 'f'],\n",
       " 'leg_1_charge': [1, 'i'],\n",
       " 'leg_1_combreliso': [1, 'f'],\n",
       " 'leg_2_byCombinedIsolationDeltaBetaCorrRaw3Hits': [1, 'f'],\n",
       " 'leg_2_byIsolationMVArun2v1DBoldDMwLTraw': [1, 'f'],\n",
       " 'leg_2_charge': [1, 'i'],\n",
       " 'leg_2_decayMode': [1, 'i']}"
      ]
     },
     "execution_count": 7,
     "metadata": {},
     "output_type": "execute_result"
    }
   ],
   "source": [
    "wczytywacz_syg.types()#tutaj widac, co tam jest, chyba\n",
    "#nie widac ze jest label, bo wiadomo ze jest label \n",
    "# ( to znaczy odrozninie tla od sygnalu)"
   ]
  },
  {
   "cell_type": "code",
   "execution_count": 8,
   "metadata": {},
   "outputs": [],
   "source": [
    "#syg_dataset=wczytywacz_syg.read()"
   ]
  },
  {
   "cell_type": "code",
   "execution_count": 9,
   "metadata": {},
   "outputs": [],
   "source": [
    "#tlo_dataset=wczytywacz_tlo.read()"
   ]
  },
  {
   "cell_type": "code",
   "execution_count": null,
   "metadata": {},
   "outputs": [],
   "source": []
  },
  {
   "cell_type": "code",
   "execution_count": null,
   "metadata": {},
   "outputs": [],
   "source": []
  },
  {
   "cell_type": "code",
   "execution_count": 10,
   "metadata": {},
   "outputs": [],
   "source": [
    "#mozna by to napisac lepiej, to znaczy mozna by robic \n",
    "#zbachowane rzeczy i te zbachowane po jednym dawac.\n",
    "def generator_z_dataset(dataset,czy_shuffle,ile_w_buferze,czy_repeat):\n",
    "    #takie tam tensorflowowe rzeczy\n",
    "    #ile_w_buferze ma znaczenie tylko jak czy_shuffle==true\n",
    "    if(czy_shuffle):\n",
    "        dataset=dataset.shuffle(ile_w_buferze)\n",
    "    if(czy_repeat):\n",
    "        dataset=dataset.repeat() #bedzie krazyc w kolko\n",
    "    iterator=dataset.make_one_shot_iterator()\n",
    "    f,l=iterator.get_next()\n",
    "    with tf.Session() as sess:\n",
    "        while True:\n",
    "            yield(sess.run({\"features\":f,\"l\":l}))\n",
    "def do_listy(dataset):\n",
    "    gen=generator_z_dataset(dataset,False,0,False)\n",
    "    wyrzut=[]\n",
    "    while True:\n",
    "        try:\n",
    "            wyrzut.append(next(gen))\n",
    "        except:\n",
    "            print(\"koniec danych\")\n",
    "            break\n",
    "    return wyrzut"
   ]
  },
  {
   "cell_type": "code",
   "execution_count": 11,
   "metadata": {},
   "outputs": [],
   "source": [
    "#gen_syg=generator_z_dataset(syg_dataset,False,0,False)"
   ]
  },
  {
   "cell_type": "code",
   "execution_count": 12,
   "metadata": {},
   "outputs": [],
   "source": [
    "#gen_tlo=generator_z_dataset(tlo_dataset,True,1000,True)"
   ]
  },
  {
   "cell_type": "code",
   "execution_count": 13,
   "metadata": {},
   "outputs": [
    {
     "name": "stdout",
     "output_type": "stream",
     "text": [
      "koniec danych\n"
     ]
    }
   ],
   "source": [
    "lista_tlo=do_listy(wczytywacz_tlo.read())"
   ]
  },
  {
   "cell_type": "code",
   "execution_count": 14,
   "metadata": {},
   "outputs": [
    {
     "name": "stdout",
     "output_type": "stream",
     "text": [
      "koniec danych\n"
     ]
    }
   ],
   "source": [
    "lista_syg=do_listy(wczytywacz_syg.read())"
   ]
  },
  {
   "cell_type": "code",
   "execution_count": 15,
   "metadata": {},
   "outputs": [
    {
     "data": {
      "text/plain": [
       "{'higgsMassTrans': array([3.7682602], dtype=float32),\n",
       " 'higgsPT': array([3.7164524], dtype=float32),\n",
       " 'jet_0_momentum': array([-4.6051702,  0.       ,  0.       ,  0.       ], dtype=float32),\n",
       " 'leg_0_momentum': array([  4.1983047, -22.570969 ,   3.1935546,  62.538185 ], dtype=float32),\n",
       " 'leg_1_charge': array([-1]),\n",
       " 'leg_1_combreliso': array([-4.6051702], dtype=float32),\n",
       " 'leg_1_momentum': array([  3.4617617,  14.414294 ,  24.57648  , -14.236953 ], dtype=float32),\n",
       " 'leg_2_byCombinedIsolationDeltaBetaCorrRaw3Hits': array([1.1270192], dtype=float32),\n",
       " 'leg_2_byIsolationMVArun2v1DBoldDMwLTraw': array([-1.8917309], dtype=float32),\n",
       " 'leg_2_charge': array([1]),\n",
       " 'leg_2_decayMode': array([1]),\n",
       " 'nJets30': array([0]),\n",
       " 'visMass': array([4.3912125], dtype=float32)}"
      ]
     },
     "execution_count": 15,
     "metadata": {},
     "output_type": "execute_result"
    }
   ],
   "source": [
    "lista_tlo[0][\"features\"]"
   ]
  },
  {
   "cell_type": "code",
   "execution_count": 16,
   "metadata": {},
   "outputs": [],
   "source": [
    "io_train=io.Io_tf_binary_general(\"train\",'w')\n",
    "io_val=io.Io_tf_binary_general(\"val\",'w')\n",
    "io_test=io.Io_tf_binary_general(\"test\",'w')"
   ]
  },
  {
   "cell_type": "code",
   "execution_count": null,
   "metadata": {},
   "outputs": [],
   "source": []
  },
  {
   "cell_type": "code",
   "execution_count": 17,
   "metadata": {},
   "outputs": [],
   "source": [
    "def wrzuc_do_pliku_mieszajac(io_obiekt,lista_syg,lista_tlo,od_kad,do_kad):\n",
    "    lista_syg=lista_syg[int(od_kad*len(lista_syg)):int(do_kad*len(lista_syg))]\n",
    "    lista_tlo=lista_tlo[int(od_kad*len(lista_tlo)):int(do_kad*len(lista_tlo))]\n",
    "    for i in range(len(lista_syg)):\n",
    "        io_obiekt.write_general(**lista_syg[i])\n",
    "        io_obiekt.write_general(**lista_tlo[i % len(lista_tlo)])\n",
    "    io_obiekt.close()"
   ]
  },
  {
   "cell_type": "code",
   "execution_count": 18,
   "metadata": {},
   "outputs": [],
   "source": [
    "wrzuc_do_pliku_mieszajac(io_train,lista_syg,lista_tlo,0.,0.8)\n",
    "wrzuc_do_pliku_mieszajac(io_val,lista_syg,lista_tlo,0.8,0.9)\n",
    "wrzuc_do_pliku_mieszajac(io_test,lista_syg,lista_tlo,0.9,1.)\n"
   ]
  },
  {
   "cell_type": "code",
   "execution_count": 19,
   "metadata": {},
   "outputs": [
    {
     "data": {
      "text/plain": [
       "'\\nfor przypadek_syg in gen_syg:\\n    przypadek_tlo=next(gen_tlo)\\n    wymieszane.write_general(**przypadek_syg)\\n    wymieszane.write_general(**przypadek_tlo)\\n    '"
      ]
     },
     "execution_count": 19,
     "metadata": {},
     "output_type": "execute_result"
    }
   ],
   "source": [
    "#konczy sie out_of_range error, tak ma byc\n",
    "\"\"\"\n",
    "for przypadek_syg in gen_syg:\n",
    "    przypadek_tlo=next(gen_tlo)\n",
    "    wymieszane.write_general(**przypadek_syg)\n",
    "    wymieszane.write_general(**przypadek_tlo)\n",
    "    \"\"\"\n",
    "    "
   ]
  },
  {
   "cell_type": "code",
   "execution_count": null,
   "metadata": {},
   "outputs": [],
   "source": []
  },
  {
   "cell_type": "code",
   "execution_count": 20,
   "metadata": {},
   "outputs": [
    {
     "name": "stdout",
     "output_type": "stream",
     "text": [
      "{'higgsMassTrans': FixedLenFeature(shape=[1], dtype=tf.float32, default_value=None), 'higgsPT': FixedLenFeature(shape=[1], dtype=tf.float32, default_value=None), 'jet_0_momentum': FixedLenFeature(shape=[4], dtype=tf.float32, default_value=None), 'leg_0_momentum': FixedLenFeature(shape=[4], dtype=tf.float32, default_value=None), 'leg_1_charge': FixedLenFeature(shape=[1], dtype=tf.int64, default_value=None), 'leg_1_combreliso': FixedLenFeature(shape=[1], dtype=tf.float32, default_value=None), 'leg_1_momentum': FixedLenFeature(shape=[4], dtype=tf.float32, default_value=None), 'leg_2_byCombinedIsolationDeltaBetaCorrRaw3Hits': FixedLenFeature(shape=[1], dtype=tf.float32, default_value=None), 'leg_2_byIsolationMVArun2v1DBoldDMwLTraw': FixedLenFeature(shape=[1], dtype=tf.float32, default_value=None), 'leg_2_charge': FixedLenFeature(shape=[1], dtype=tf.int64, default_value=None), 'leg_2_decayMode': FixedLenFeature(shape=[1], dtype=tf.int64, default_value=None), 'nJets30': FixedLenFeature(shape=[1], dtype=tf.int64, default_value=None), 'visMass': FixedLenFeature(shape=[1], dtype=tf.float32, default_value=None), 'label': FixedLenFeature(shape=[], dtype=tf.int64, default_value=None)}\n"
     ]
    }
   ],
   "source": [
    "czytanie_sprawdzanie=io.Io_tf_binary_general(\"train\",'r')"
   ]
  },
  {
   "cell_type": "code",
   "execution_count": 21,
   "metadata": {},
   "outputs": [],
   "source": [
    "spr=generator_z_dataset(czytanie_sprawdzanie.read(),False,0,False)"
   ]
  },
  {
   "cell_type": "code",
   "execution_count": 22,
   "metadata": {},
   "outputs": [
    {
     "data": {
      "text/plain": [
       "{'features': {'higgsMassTrans': array([2.679372], dtype=float32),\n",
       "  'higgsPT': array([2.901247], dtype=float32),\n",
       "  'jet_0_momentum': array([-4.6051702,  0.       ,  0.       ,  0.       ], dtype=float32),\n",
       "  'leg_0_momentum': array([  2.986389 , -13.966193 ,  13.52501  ,   3.7691998], dtype=float32),\n",
       "  'leg_1_charge': array([1]),\n",
       "  'leg_1_combreliso': array([-3.3837063], dtype=float32),\n",
       "  'leg_1_momentum': array([  3.755186 ,  20.334482 ,  -3.0630572, -37.45024  ], dtype=float32),\n",
       "  'leg_2_byCombinedIsolationDeltaBetaCorrRaw3Hits': array([-4.6051702], dtype=float32),\n",
       "  'leg_2_byIsolationMVArun2v1DBoldDMwLTraw': array([-3.5425298], dtype=float32),\n",
       "  'leg_2_charge': array([-1]),\n",
       "  'leg_2_decayMode': array([1]),\n",
       "  'nJets30': array([0]),\n",
       "  'visMass': array([3.9368708], dtype=float32)},\n",
       " 'l': 1}"
      ]
     },
     "execution_count": 22,
     "metadata": {},
     "output_type": "execute_result"
    }
   ],
   "source": [
    "#wielokrotnie klikajac widac,ze dziala\n",
    "next(spr)"
   ]
  },
  {
   "cell_type": "code",
   "execution_count": null,
   "metadata": {},
   "outputs": [],
   "source": []
  }
 ],
 "metadata": {
  "kernelspec": {
   "display_name": "Python 3",
   "language": "python",
   "name": "python3"
  },
  "language_info": {
   "codemirror_mode": {
    "name": "ipython",
    "version": 3
   },
   "file_extension": ".py",
   "mimetype": "text/x-python",
   "name": "python",
   "nbconvert_exporter": "python",
   "pygments_lexer": "ipython3",
   "version": "3.6.5"
  }
 },
 "nbformat": 4,
 "nbformat_minor": 2
}
