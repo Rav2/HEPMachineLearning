{
 "cells": [
  {
   "cell_type": "code",
   "execution_count": 1,
   "metadata": {},
   "outputs": [
    {
     "name": "stdout",
     "output_type": "stream",
     "text": [
      "Welcome to JupyROOT 6.15/01\n"
     ]
    }
   ],
   "source": [
    "import Dnn_uniwersalny as dnn"
   ]
  },
  {
   "cell_type": "code",
   "execution_count": 2,
   "metadata": {},
   "outputs": [],
   "source": [
    "import numpy as np\n",
    "import tensorflow as tf\n",
    "import matplotlib.pyplot as plt"
   ]
  },
  {
   "cell_type": "code",
   "execution_count": 18,
   "metadata": {},
   "outputs": [],
   "source": [
    "import Dnn_uniwersalny as dnn"
   ]
  },
  {
   "cell_type": "code",
   "execution_count": 20,
   "metadata": {},
   "outputs": [
    {
     "name": "stdout",
     "output_type": "stream",
     "text": [
      "{'higgsMassTrans': FixedLenFeature(shape=[1], dtype=tf.float32, default_value=None), 'higgsPT': FixedLenFeature(shape=[1], dtype=tf.float32, default_value=None), 'jet_0_momentum': FixedLenFeature(shape=[4], dtype=tf.float32, default_value=None), 'leg_0_momentum': FixedLenFeature(shape=[4], dtype=tf.float32, default_value=None), 'leg_1_charge': FixedLenFeature(shape=[1], dtype=tf.int64, default_value=None), 'leg_1_combreliso': FixedLenFeature(shape=[1], dtype=tf.float32, default_value=None), 'leg_1_momentum': FixedLenFeature(shape=[4], dtype=tf.float32, default_value=None), 'leg_2_byCombinedIsolationDeltaBetaCorrRaw3Hits': FixedLenFeature(shape=[1], dtype=tf.float32, default_value=None), 'leg_2_byIsolationMVArun2v1DBoldDMwLTraw': FixedLenFeature(shape=[1], dtype=tf.float32, default_value=None), 'leg_2_charge': FixedLenFeature(shape=[1], dtype=tf.int64, default_value=None), 'leg_2_decayMode': FixedLenFeature(shape=[1], dtype=tf.int64, default_value=None), 'nJets30': FixedLenFeature(shape=[1], dtype=tf.int64, default_value=None), 'visMass': FixedLenFeature(shape=[1], dtype=tf.float32, default_value=None), 'label': FixedLenFeature(shape=[], dtype=tf.int64, default_value=None)}\n"
     ]
    }
   ],
   "source": [
    "#to znaczy czerp dane do treningu z train, jedna warstwa neuronow ukrytych, w niej 10 neuronow, folder \n",
    "# gdzie ma zapisywac to pierwszy_estymator , jak chcesz wczytac wytrenowany model to pewnie \n",
    "#dodajesz argument czy_nowy=False\n",
    "estymator=dnn.Dnn_uniwersalny(\"train\",[50,5],\"pierwszy_estymator\")"
   ]
  },
  {
   "cell_type": "code",
   "execution_count": 21,
   "metadata": {},
   "outputs": [
    {
     "data": {
      "text/plain": [
       "{'higgsMassTrans': [1, 'f'],\n",
       " 'higgsPT': [1, 'f'],\n",
       " 'jet_0_momentum': [4, 'f'],\n",
       " 'leg_0_momentum': [4, 'f'],\n",
       " 'leg_1_charge': [1, 'i'],\n",
       " 'leg_1_combreliso': [1, 'f'],\n",
       " 'leg_1_momentum': [4, 'f'],\n",
       " 'leg_2_byCombinedIsolationDeltaBetaCorrRaw3Hits': [1, 'f'],\n",
       " 'leg_2_byIsolationMVArun2v1DBoldDMwLTraw': [1, 'f'],\n",
       " 'leg_2_charge': [1, 'i'],\n",
       " 'leg_2_decayMode': [1, 'i'],\n",
       " 'nJets30': [1, 'i'],\n",
       " 'visMass': [1, 'f']}"
      ]
     },
     "execution_count": 21,
     "metadata": {},
     "output_type": "execute_result"
    }
   ],
   "source": [
    "estymator.types()"
   ]
  },
  {
   "cell_type": "code",
   "execution_count": 22,
   "metadata": {},
   "outputs": [],
   "source": [
    "#dane kategoryczne zostana enkodowane wewnatrz estymatora w taki sposob, ze\n",
    "#jesli masz featcher ktory moze byc 1,2 lub 3, a wynosi 2, to\n",
    "# w estymatorze stanie sie [0,1,0] (1 -> [1,0,0])\n",
    "#czyli tu sa nazwa featcher, mozliwe jego wartosci\n",
    "slownik_kategorycznych={\"nJets30\":[0,1,2,3,4,5,6,7,8],\n",
    "                       \"leg_1_charge\":[-1,1],\n",
    "                       \"leg_2_charge\":[-1,1],\n",
    "                       \"leg_2_decayMode\":[0,1,10]}"
   ]
  },
  {
   "cell_type": "code",
   "execution_count": null,
   "metadata": {},
   "outputs": [],
   "source": []
  },
  {
   "cell_type": "code",
   "execution_count": 23,
   "metadata": {},
   "outputs": [
    {
     "name": "stdout",
     "output_type": "stream",
     "text": [
      "INFO:tensorflow:Using default config.\n",
      "INFO:tensorflow:Using config: {'_model_dir': 'pierwszy_estymator/tensorflowowy', '_tf_random_seed': None, '_save_summary_steps': 100, '_save_checkpoints_steps': None, '_save_checkpoints_secs': 600, '_session_config': None, '_keep_checkpoint_max': 5, '_keep_checkpoint_every_n_hours': 10000, '_log_step_count_steps': 100, '_train_distribute': None, '_service': None, '_cluster_spec': <tensorflow.python.training.server_lib.ClusterSpec object at 0x7f45d065d748>, '_task_type': 'worker', '_task_id': 0, '_global_id_in_cluster': 0, '_master': '', '_evaluation_master': '', '_is_chief': True, '_num_ps_replicas': 0, '_num_worker_replicas': 1}\n"
     ]
    }
   ],
   "source": [
    "estymator.make_model(slownik_kategorycznych)"
   ]
  },
  {
   "cell_type": "code",
   "execution_count": 24,
   "metadata": {},
   "outputs": [
    {
     "name": "stdout",
     "output_type": "stream",
     "text": [
      "{'higgsMassTrans': FixedLenFeature(shape=[1], dtype=tf.float32, default_value=None), 'higgsPT': FixedLenFeature(shape=[1], dtype=tf.float32, default_value=None), 'jet_0_momentum': FixedLenFeature(shape=[4], dtype=tf.float32, default_value=None), 'leg_0_momentum': FixedLenFeature(shape=[4], dtype=tf.float32, default_value=None), 'leg_1_charge': FixedLenFeature(shape=[1], dtype=tf.int64, default_value=None), 'leg_1_combreliso': FixedLenFeature(shape=[1], dtype=tf.float32, default_value=None), 'leg_1_momentum': FixedLenFeature(shape=[4], dtype=tf.float32, default_value=None), 'leg_2_byCombinedIsolationDeltaBetaCorrRaw3Hits': FixedLenFeature(shape=[1], dtype=tf.float32, default_value=None), 'leg_2_byIsolationMVArun2v1DBoldDMwLTraw': FixedLenFeature(shape=[1], dtype=tf.float32, default_value=None), 'leg_2_charge': FixedLenFeature(shape=[1], dtype=tf.int64, default_value=None), 'leg_2_decayMode': FixedLenFeature(shape=[1], dtype=tf.int64, default_value=None), 'nJets30': FixedLenFeature(shape=[1], dtype=tf.int64, default_value=None), 'visMass': FixedLenFeature(shape=[1], dtype=tf.float32, default_value=None), 'label': FixedLenFeature(shape=[], dtype=tf.int64, default_value=None)}\n",
      "INFO:tensorflow:Calling model_fn.\n",
      "INFO:tensorflow:Done calling model_fn.\n",
      "INFO:tensorflow:Create CheckpointSaverHook.\n",
      "INFO:tensorflow:Graph was finalized.\n",
      "INFO:tensorflow:Running local_init_op.\n",
      "INFO:tensorflow:Done running local_init_op.\n",
      "INFO:tensorflow:Saving checkpoints for 1 into pierwszy_estymator/tensorflowowy/model.ckpt.\n",
      "INFO:tensorflow:loss = 67.499054, step = 1\n",
      "INFO:tensorflow:global_step/sec: 30.2876\n",
      "INFO:tensorflow:loss = 34.318516, step = 101 (3.303 sec)\n",
      "INFO:tensorflow:global_step/sec: 35.1429\n",
      "INFO:tensorflow:loss = 31.15017, step = 201 (2.845 sec)\n",
      "INFO:tensorflow:global_step/sec: 62.3161\n",
      "INFO:tensorflow:loss = 37.49284, step = 301 (1.604 sec)\n",
      "INFO:tensorflow:global_step/sec: 35.2447\n",
      "INFO:tensorflow:loss = 21.198818, step = 401 (2.839 sec)\n",
      "INFO:tensorflow:Saving checkpoints for 500 into pierwszy_estymator/tensorflowowy/model.ckpt.\n",
      "INFO:tensorflow:Loss for final step: 18.714975.\n"
     ]
    }
   ],
   "source": [
    "estymator.train(batch_size=100,steps=500)"
   ]
  },
  {
   "cell_type": "code",
   "execution_count": 25,
   "metadata": {},
   "outputs": [
    {
     "name": "stdout",
     "output_type": "stream",
     "text": [
      "{'higgsMassTrans': FixedLenFeature(shape=[1], dtype=tf.float32, default_value=None), 'higgsPT': FixedLenFeature(shape=[1], dtype=tf.float32, default_value=None), 'jet_0_momentum': FixedLenFeature(shape=[4], dtype=tf.float32, default_value=None), 'leg_0_momentum': FixedLenFeature(shape=[4], dtype=tf.float32, default_value=None), 'leg_1_charge': FixedLenFeature(shape=[1], dtype=tf.int64, default_value=None), 'leg_1_combreliso': FixedLenFeature(shape=[1], dtype=tf.float32, default_value=None), 'leg_1_momentum': FixedLenFeature(shape=[4], dtype=tf.float32, default_value=None), 'leg_2_byCombinedIsolationDeltaBetaCorrRaw3Hits': FixedLenFeature(shape=[1], dtype=tf.float32, default_value=None), 'leg_2_byIsolationMVArun2v1DBoldDMwLTraw': FixedLenFeature(shape=[1], dtype=tf.float32, default_value=None), 'leg_2_charge': FixedLenFeature(shape=[1], dtype=tf.int64, default_value=None), 'leg_2_decayMode': FixedLenFeature(shape=[1], dtype=tf.int64, default_value=None), 'nJets30': FixedLenFeature(shape=[1], dtype=tf.int64, default_value=None), 'visMass': FixedLenFeature(shape=[1], dtype=tf.float32, default_value=None), 'label': FixedLenFeature(shape=[], dtype=tf.int64, default_value=None)}\n",
      "INFO:tensorflow:Calling model_fn.\n",
      "WARNING:tensorflow:Trapezoidal rule is known to produce incorrect PR-AUCs; please switch to \"careful_interpolation\" instead.\n",
      "WARNING:tensorflow:Trapezoidal rule is known to produce incorrect PR-AUCs; please switch to \"careful_interpolation\" instead.\n",
      "INFO:tensorflow:Done calling model_fn.\n",
      "INFO:tensorflow:Starting evaluation at 2018-10-28-17:44:03\n",
      "INFO:tensorflow:Graph was finalized.\n",
      "INFO:tensorflow:Restoring parameters from pierwszy_estymator/tensorflowowy/model.ckpt-500\n",
      "INFO:tensorflow:Running local_init_op.\n",
      "INFO:tensorflow:Done running local_init_op.\n",
      "INFO:tensorflow:Evaluation [100/1000]\n",
      "INFO:tensorflow:Evaluation [200/1000]\n",
      "INFO:tensorflow:Evaluation [300/1000]\n",
      "INFO:tensorflow:Evaluation [400/1000]\n",
      "INFO:tensorflow:Evaluation [500/1000]\n",
      "INFO:tensorflow:Evaluation [600/1000]\n",
      "INFO:tensorflow:Evaluation [700/1000]\n",
      "INFO:tensorflow:Evaluation [800/1000]\n",
      "INFO:tensorflow:Evaluation [900/1000]\n",
      "INFO:tensorflow:Evaluation [1000/1000]\n",
      "INFO:tensorflow:Finished evaluation at 2018-10-28-17:44:38\n",
      "INFO:tensorflow:Saving dict for global step 500: accuracy = 0.88684374, accuracy_baseline = 0.5000781, auc = 0.9572518, auc_precision_recall = 0.9579214, average_loss = 0.26695123, global_step = 500, label/mean = 0.4999219, loss = 34.169758, precision = 0.87512505, prediction/mean = 0.51468265, recall = 0.90242225\n"
     ]
    },
    {
     "data": {
      "text/plain": [
       "{'accuracy': 0.88684374,\n",
       " 'accuracy_baseline': 0.5000781,\n",
       " 'auc': 0.9572518,\n",
       " 'auc_precision_recall': 0.9579214,\n",
       " 'average_loss': 0.26695123,\n",
       " 'label/mean': 0.4999219,\n",
       " 'loss': 34.169758,\n",
       " 'precision': 0.87512505,\n",
       " 'prediction/mean': 0.51468265,\n",
       " 'recall': 0.90242225,\n",
       " 'global_step': 500}"
      ]
     },
     "execution_count": 25,
     "metadata": {},
     "output_type": "execute_result"
    }
   ],
   "source": [
    "estymator.evaluate() #ewaluuje na danych, na ktorych trenowal. mozna sprawdzic, czy czegos sie uczy\n",
    "#accuracy bylo by 50% gdyby estymator strzelal\n",
    "#auc czyli area under curve jest tez chyba waznym parametrem, 0.5 to zawsze strzelanie,\n",
    "#1. to \"idealny\" estymator "
   ]
  },
  {
   "cell_type": "code",
   "execution_count": 26,
   "metadata": {},
   "outputs": [
    {
     "name": "stdout",
     "output_type": "stream",
     "text": [
      "{'higgsMassTrans': FixedLenFeature(shape=[1], dtype=tf.float32, default_value=None), 'higgsPT': FixedLenFeature(shape=[1], dtype=tf.float32, default_value=None), 'jet_0_momentum': FixedLenFeature(shape=[4], dtype=tf.float32, default_value=None), 'leg_0_momentum': FixedLenFeature(shape=[4], dtype=tf.float32, default_value=None), 'leg_1_charge': FixedLenFeature(shape=[1], dtype=tf.int64, default_value=None), 'leg_1_combreliso': FixedLenFeature(shape=[1], dtype=tf.float32, default_value=None), 'leg_1_momentum': FixedLenFeature(shape=[4], dtype=tf.float32, default_value=None), 'leg_2_byCombinedIsolationDeltaBetaCorrRaw3Hits': FixedLenFeature(shape=[1], dtype=tf.float32, default_value=None), 'leg_2_byIsolationMVArun2v1DBoldDMwLTraw': FixedLenFeature(shape=[1], dtype=tf.float32, default_value=None), 'leg_2_charge': FixedLenFeature(shape=[1], dtype=tf.int64, default_value=None), 'leg_2_decayMode': FixedLenFeature(shape=[1], dtype=tf.int64, default_value=None), 'nJets30': FixedLenFeature(shape=[1], dtype=tf.int64, default_value=None), 'visMass': FixedLenFeature(shape=[1], dtype=tf.float32, default_value=None), 'label': FixedLenFeature(shape=[], dtype=tf.int64, default_value=None)}\n",
      "INFO:tensorflow:Calling model_fn.\n",
      "WARNING:tensorflow:Trapezoidal rule is known to produce incorrect PR-AUCs; please switch to \"careful_interpolation\" instead.\n",
      "WARNING:tensorflow:Trapezoidal rule is known to produce incorrect PR-AUCs; please switch to \"careful_interpolation\" instead.\n",
      "INFO:tensorflow:Done calling model_fn.\n",
      "INFO:tensorflow:Starting evaluation at 2018-10-28-17:44:40\n",
      "INFO:tensorflow:Graph was finalized.\n",
      "INFO:tensorflow:Restoring parameters from pierwszy_estymator/tensorflowowy/model.ckpt-500\n",
      "INFO:tensorflow:Running local_init_op.\n",
      "INFO:tensorflow:Done running local_init_op.\n",
      "INFO:tensorflow:Evaluation [100/1000]\n",
      "INFO:tensorflow:Evaluation [200/1000]\n",
      "INFO:tensorflow:Evaluation [300/1000]\n",
      "INFO:tensorflow:Evaluation [400/1000]\n",
      "INFO:tensorflow:Evaluation [500/1000]\n",
      "INFO:tensorflow:Evaluation [600/1000]\n",
      "INFO:tensorflow:Evaluation [700/1000]\n",
      "INFO:tensorflow:Evaluation [800/1000]\n",
      "INFO:tensorflow:Evaluation [900/1000]\n",
      "INFO:tensorflow:Evaluation [1000/1000]\n",
      "INFO:tensorflow:Finished evaluation at 2018-10-28-17:45:17\n",
      "INFO:tensorflow:Saving dict for global step 500: accuracy = 0.8876797, accuracy_baseline = 0.50004685, auc = 0.9572967, auc_precision_recall = 0.960134, average_loss = 0.2671217, global_step = 500, label/mean = 0.49995312, loss = 34.191578, precision = 0.8796309, prediction/mean = 0.5117989, recall = 0.89825606\n"
     ]
    },
    {
     "data": {
      "text/plain": [
       "{'accuracy': 0.8876797,\n",
       " 'accuracy_baseline': 0.50004685,\n",
       " 'auc': 0.9572967,\n",
       " 'auc_precision_recall': 0.960134,\n",
       " 'average_loss': 0.2671217,\n",
       " 'label/mean': 0.49995312,\n",
       " 'loss': 34.191578,\n",
       " 'precision': 0.8796309,\n",
       " 'prediction/mean': 0.5117989,\n",
       " 'recall': 0.89825606,\n",
       " 'global_step': 500}"
      ]
     },
     "execution_count": 26,
     "metadata": {},
     "output_type": "execute_result"
    }
   ],
   "source": [
    "estymator.evaluate(folder=\"val\")\n",
    "#to sprawdza jak to dzial na danych z val, dane na val sluza do tego, zeby na nich tak sprawdzac\n",
    "#powinno byc tak, ze na danych z \"val\" dziala gorzej, jak troche gorzej to swietnie, jak praktycznie tak \n",
    "# samo to masz za prosty model( dodaj neuronow ), jak duzo gorzej to masz zbyt skomplikowany/nieuregulowany\n",
    "# model. zeby sobie z tym radzic to dodam jeszcze mozliwosc regularyzacji tego. "
   ]
  },
  {
   "cell_type": "code",
   "execution_count": null,
   "metadata": {},
   "outputs": [],
   "source": []
  }
 ],
 "metadata": {
  "kernelspec": {
   "display_name": "Python 3",
   "language": "python",
   "name": "python3"
  },
  "language_info": {
   "codemirror_mode": {
    "name": "ipython",
    "version": 3
   },
   "file_extension": ".py",
   "mimetype": "text/x-python",
   "name": "python",
   "nbconvert_exporter": "python",
   "pygments_lexer": "ipython3",
   "version": "3.6.5"
  }
 },
 "nbformat": 4,
 "nbformat_minor": 2
}
