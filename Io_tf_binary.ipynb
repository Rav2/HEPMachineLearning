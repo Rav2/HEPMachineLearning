{
 "cells": [
  {
   "cell_type": "code",
   "execution_count": 1,
   "metadata": {
    "collapsed": true
   },
   "outputs": [],
   "source": [
    "import tensorflow as tf"
   ]
  },
  {
   "cell_type": "code",
   "execution_count": 2,
   "metadata": {
    "collapsed": true
   },
   "outputs": [],
   "source": [
    "import numpy as np"
   ]
  },
  {
   "cell_type": "code",
   "execution_count": 3,
   "metadata": {
    "collapsed": false
   },
   "outputs": [],
   "source": [
    "import matplotlib.pyplot as plt"
   ]
  },
  {
   "cell_type": "code",
   "execution_count": 4,
   "metadata": {
    "collapsed": true
   },
   "outputs": [],
   "source": [
    "%matplotlib inline"
   ]
  },
  {
   "cell_type": "code",
   "execution_count": 5,
   "metadata": {
    "collapsed": false
   },
   "outputs": [],
   "source": [
    "from sklearn.utils import shuffle"
   ]
  },
  {
   "cell_type": "code",
   "execution_count": 6,
   "metadata": {
    "collapsed": true
   },
   "outputs": [],
   "source": [
    "#utworze teraz dane jakies\n",
    "def kolko_w_kolku(sig1=0.4,sig2=0.6,R2=1.,N=1000):\n",
    "    \"\"\"to ma utworzyc dane ktore posluza mi do sprawdzenia czy i jak dziala model\"\"\"\n",
    "    features=[]\n",
    "    labels=[]\n",
    "    for i in range(N):\n",
    "        x=np.random.normal(0,sig1)\n",
    "        y=np.random.normal(0,sig1)\n",
    "        features.append([x,y])\n",
    "        labels.append(0)\n",
    "    for i in range(N):\n",
    "        alpha=np.random.uniform()*2*np.pi\n",
    "        delr=np.random.normal(0,sig2)\n",
    "        r=R2+delr\n",
    "        x=np.cos(alpha)*r\n",
    "        y=np.sin(alpha)*r\n",
    "        features.append([x,y])\n",
    "        labels.append(1)\n",
    "    features=np.array(features)\n",
    "    labels=np.array(labels)\n",
    "    features,labels=shuffle(features,labels)\n",
    "    return features,labels"
   ]
  },
  {
   "cell_type": "code",
   "execution_count": 7,
   "metadata": {
    "collapsed": false
   },
   "outputs": [],
   "source": [
    "def rysoj_dane(f,l):\n",
    "    plt.clf()\n",
    "    plt.scatter(f[:,0],f[:,1],c=l,s=5)"
   ]
  },
  {
   "cell_type": "code",
   "execution_count": null,
   "metadata": {
    "collapsed": false
   },
   "outputs": [],
   "source": []
  },
  {
   "cell_type": "code",
   "execution_count": null,
   "metadata": {
    "collapsed": false
   },
   "outputs": [],
   "source": []
  },
  {
   "cell_type": "code",
   "execution_count": null,
   "metadata": {
    "collapsed": true
   },
   "outputs": [],
   "source": []
  },
  {
   "cell_type": "code",
   "execution_count": null,
   "metadata": {
    "collapsed": false
   },
   "outputs": [],
   "source": [
    "\n",
    "    "
   ]
  },
  {
   "cell_type": "code",
   "execution_count": null,
   "metadata": {
    "collapsed": true
   },
   "outputs": [],
   "source": []
  },
  {
   "cell_type": "code",
   "execution_count": null,
   "metadata": {
    "collapsed": true
   },
   "outputs": [],
   "source": []
  },
  {
   "cell_type": "code",
   "execution_count": null,
   "metadata": {
    "collapsed": false
   },
   "outputs": [],
   "source": []
  },
  {
   "cell_type": "code",
   "execution_count": null,
   "metadata": {
    "collapsed": false
   },
   "outputs": [],
   "source": []
  },
  {
   "cell_type": "code",
   "execution_count": 164,
   "metadata": {
    "collapsed": false
   },
   "outputs": [],
   "source": [
    "\"\"\"\n",
    "do creatora dajemy sobie nazwe pliku (sciezke) oraz slownik typu {'czterowektor': (4,'f'),'intowa_wlasnosc': (1,'i'),\n",
    "...}\n",
    "to znaczy nazwe, ile to jest liczb, jakiego typu. Obsluguje na razie jedynie 'f' oraz 'i' to \n",
    "jest float oraz int\n",
    "nie mozna uzyc jako klucz 'label', bo to jest wykorzystywana nazwa.\n",
    "\n",
    "\n",
    "funkcja wpisz bierze jako argument generator ktory zwraca jak na niego podziałać next() cos typu \n",
    "({\"czterowektor\":[1.,2.,3.,4.], ...},1) gdzie 1 jest labelem, label jest intem.\n",
    ". oczywiście klucze slownika zgadzają się \n",
    "z kluczami ze slownika ktorego uzylismy do kreatora.\n",
    "\n",
    "dataset wczytany metoda wczytaj dataset jest juz w postaci wygodnej dla mnie to znaczy \n",
    "slownik feature, label\n",
    "\"\"\"\n",
    "\n",
    "\n",
    "class Io_tf_binary:\n",
    "    def __init__(self,nazwa_pliku,slownik):\n",
    "        self.plik=nazwa_pliku\n",
    "        self.typy=slownik\n",
    "        #self.cos=Io_tf_binary.wrap_int64([5])\n",
    "    \n",
    "\n",
    "    \"\"\"\n",
    "    To moze sobie czytac ktos kto chce zmieniac wnetrznosci tej klasy\n",
    "    Nie polecam\n",
    "    \n",
    "    Teraz ta funkcja wpisz jest ważna. ona bierze po jednym przypadku testowym, \n",
    "    ( to jest ta petla for i in range()) i go zapisuje. trzeba zwracac \n",
    "    uwage na to jakiego typu sa zapisywane rzeczy. mozna oczywiscie zrobic slownik\n",
    "    data dluzszym, jesli to w jakis sposob ulatwi nam myslenie o naszych danych. \n",
    "    Bo te nasze dane to bedzie slownik list, w ktorych to listach rzeczy maja \n",
    "    juz taki sam typ, a klucze to beda jakies opisowe nazwy.\n",
    "    np \n",
    "\n",
    "    data={\n",
    "    'czteroped_lewej_nogi_czy_cos': wrap_float64(cztero), # gdzie cztero to jest tensor floatow o shape (4,)\n",
    "    # reszta rzeczy\n",
    "\n",
    "    }\n",
    "\n",
    "    Jak byscie chcieli jako wartosci miec stringi to musicie pomyslec jak zrobic wrapy dla stringow. oczywiscie\n",
    "    nie znajdziecie zadnej dokumentacji.\n",
    "\n",
    "    UWAGA \n",
    "    w tym slowniku data musi byc to co klasyfikujemy oznaczone przy pomocy 'label' bo inaczej sie  wywali program.\n",
    "\n",
    "\n",
    "\n",
    "\n",
    "\n",
    "    \"\"\"\n",
    "\n",
    "\n",
    "    def wpisz(self,generator):\n",
    "        \"\"\"tworzy ten nasz dataset w pliku out_path \"\"\"\n",
    "        \n",
    "        def wrap_int64(value):\n",
    "            \"\"\"lista intow musi wlesc\"\"\"\n",
    "            return tf.train.Feature(int64_list=tf.train.Int64List(value=value))\n",
    "        def wrap_float64(value):\n",
    "            \"\"\"lista floatow musi wlesc\"\"\"\n",
    "            return tf.train.Feature(float_list=tf.train.FloatList(value=value))\n",
    "        \n",
    "        #f,l=kolko_w_kolku() #mozna zmienic jak sie podoba\n",
    "        def data_slownik(f,l):\n",
    "            wyrzut={}\n",
    "            for k in self.typy.keys():\n",
    "                if self.typy[k][1]=='f':\n",
    "                    wyrzut[k]=wrap_float64(np.array(f[k]).reshape((-1,)))\n",
    "                else:\n",
    "                    wyrzut[k]=wrap_int64(np.array(f[k]).reshape((-1,)))\n",
    "            wyrzut['label']=wrap_int64([l])\n",
    "            return wyrzut\n",
    "                    \n",
    "        with tf.python_io.TFRecordWriter(self.plik) as writer:\n",
    "            for f,l in generator:\n",
    "                #feature=f[i]\n",
    "                #label=l[i]\n",
    "                #data = {\n",
    "                 #    'feature': wrap_float64(feature),\n",
    "                #  'label': wrap_int64([label])\n",
    "                   #     }\n",
    "                data=data_slownik(f,l)\n",
    "                # Wrap the data as TensorFlow Features.\n",
    "                feature = tf.train.Features(feature=data)\n",
    "\n",
    "                # Wrap again as a TensorFlow Example.\n",
    "                example = tf.train.Example(features=feature)\n",
    "\n",
    "                # Serialize the data.\n",
    "                serialized = example.SerializeToString()\n",
    "\n",
    "                # Write the serialized data to the TFRecords file.\n",
    "                writer.write(serialized)\n",
    "\n",
    "        \n",
    "        \n",
    "        \n",
    "        \n",
    "        \n",
    "        \n",
    "                \n",
    "   \n",
    "    \n",
    "    def wczytaj_dataset(self):\n",
    "        \n",
    "        def zeslownikoj(x):\n",
    "            keys=list(x.keys())\n",
    "            f={}\n",
    "            for k in keys:\n",
    "                if not k=='label':\n",
    "                    f[k]=x[k]\n",
    "            return f,x['label']\n",
    "        def features_generoj():\n",
    "            wyrzut={}\n",
    "            for k in self.typy.keys():\n",
    "                if self.typy[k][1]=='f':\n",
    "                    wyrzut[k]=tf.FixedLenFeature([self.typy[k][0]], tf.float32)\n",
    "                else:\n",
    "                    wyrzut[k]=tf.FixedLenFeature([self.typy[k][0]], tf.int64)\n",
    "            wyrzut['label']=tf.FixedLenFeature([], tf.int64)\n",
    "            return wyrzut\n",
    "\n",
    "        def parse(serialized):\n",
    "            \n",
    "            # Define a dict with the data-names and types we expect to\n",
    "            # find in the TFRecords file.\n",
    "            # It is a bit awkward that this needs to be specified again,\n",
    "            # because it could have been written in the header of the\n",
    "            # TFRecords file instead.\n",
    "            \"\"\"\n",
    "            features = \\\n",
    "                {\n",
    "                    'dwuwektor': tf.FixedLenFeature([2], tf.float32),#z jakiegos powodu to jest float32, nie wiem czemu\n",
    "                    'label': tf.FixedLenFeature([], tf.int64)\n",
    "                }\n",
    "            \"\"\"\n",
    "            features=features_generoj()\n",
    "            print(features)\n",
    "\n",
    "            # Parse the serialized data so we get a dict with our data.\n",
    "            parsed_example = tf.parse_single_example(serialized=serialized,\n",
    "                                                     features=features)\n",
    "\n",
    "\n",
    "            return zeslownikoj(parsed_example)\n",
    "\n",
    "        dataset = tf.data.TFRecordDataset(self.plik)\n",
    "        dataset = dataset.map(parse)\n",
    "        return dataset\n",
    "    \n",
    "    \n",
    "    \n",
    "    \n",
    "    \n",
    "    "
   ]
  },
  {
   "cell_type": "code",
   "execution_count": 154,
   "metadata": {
    "collapsed": false
   },
   "outputs": [
    {
     "data": {
      "image/png": "[encoded data removed]",
      "text/plain": [
       "<matplotlib.figure.Figure at 0x7fc67a1fada0>"
      ]
     },
     "metadata": {},
     "output_type": "display_data"
    }
   ],
   "source": [
    "f,l=kolko_w_kolku()\n",
    "rysoj_dane(f,l)\n",
    "def generator(f,l):\n",
    "    for i in range(len(f)):\n",
    "        yield {'dwuwektor':f[i],'losowa':np.random.randn()},l[i]"
   ]
  },
  {
   "cell_type": "code",
   "execution_count": 155,
   "metadata": {
    "collapsed": true
   },
   "outputs": [],
   "source": [
    "dane=generator(f,l)"
   ]
  },
  {
   "cell_type": "code",
   "execution_count": 156,
   "metadata": {
    "collapsed": false
   },
   "outputs": [
    {
     "data": {
      "text/plain": [
       "({'dwuwektor': array([ 0.29182915, -0.96936138]), 'losowa': 1.450757384562692},\n",
       " 0)"
      ]
     },
     "execution_count": 156,
     "metadata": {},
     "output_type": "execute_result"
    }
   ],
   "source": [
    "next(dane)"
   ]
  },
  {
   "cell_type": "code",
   "execution_count": 157,
   "metadata": {
    "collapsed": false
   },
   "outputs": [],
   "source": [
    "a=Io_tf_binary('dane_treningowe2',{'dwuwektor':(2,'f'),'losowa':(1,'f')})"
   ]
  },
  {
   "cell_type": "code",
   "execution_count": null,
   "metadata": {
    "collapsed": false
   },
   "outputs": [],
   "source": []
  },
  {
   "cell_type": "code",
   "execution_count": null,
   "metadata": {
    "collapsed": false
   },
   "outputs": [],
   "source": []
  },
  {
   "cell_type": "code",
   "execution_count": null,
   "metadata": {
    "collapsed": false
   },
   "outputs": [],
   "source": []
  },
  {
   "cell_type": "code",
   "execution_count": 158,
   "metadata": {
    "collapsed": false
   },
   "outputs": [],
   "source": [
    "a.wpisz(dane)"
   ]
  },
  {
   "cell_type": "code",
   "execution_count": 159,
   "metadata": {
    "collapsed": false
   },
   "outputs": [
    {
     "name": "stdout",
     "output_type": "stream",
     "text": [
      "{'losowa': FixedLenFeature(shape=[1], dtype=tf.float32, default_value=None), 'label': FixedLenFeature(shape=[], dtype=tf.int64, default_value=None), 'dwuwektor': FixedLenFeature(shape=[2], dtype=tf.float32, default_value=None)}\n"
     ]
    }
   ],
   "source": [
    "dataset=a.wczytaj_dataset()"
   ]
  },
  {
   "cell_type": "code",
   "execution_count": 162,
   "metadata": {
    "collapsed": false
   },
   "outputs": [
    {
     "name": "stdout",
     "output_type": "stream",
     "text": [
      "tu dzial\n",
      "[{'losowa': array([[-0.0337399 ],\n",
      "       [ 0.50718737]], dtype=float32), 'dwuwektor': array([[ 0.15586548, -0.22438958],\n",
      "       [-0.11857723, -0.30091608]], dtype=float32)}, array([0, 0])]\n",
      "[{'losowa': array([[-0.59166694],\n",
      "       [-0.92488605]], dtype=float32), 'dwuwektor': array([[-0.92547894, -0.54579067],\n",
      "       [ 0.0111933 ,  0.93601549]], dtype=float32)}, array([1, 0])]\n",
      "[{'losowa': array([[-0.34094226],\n",
      "       [-0.85791093]], dtype=float32), 'dwuwektor': array([[ 0.19428666,  0.2294811 ],\n",
      "       [ 0.34145984,  0.6475513 ]], dtype=float32)}, array([0, 0])]\n",
      "[{'losowa': array([[ 0.21430218],\n",
      "       [-0.31380308]], dtype=float32), 'dwuwektor': array([[-0.28184313,  0.35416102],\n",
      "       [ 0.72051281,  1.24822271]], dtype=float32)}, array([1, 1])]\n",
      "[{'losowa': array([[ 0.37089953],\n",
      "       [ 0.03747476]], dtype=float32), 'dwuwektor': array([[ 0.04922626, -0.54004323],\n",
      "       [ 0.77451235,  0.68161952]], dtype=float32)}, array([0, 1])]\n",
      "[{'losowa': array([[-0.97681201],\n",
      "       [ 0.42316145]], dtype=float32), 'dwuwektor': array([[-0.49963588, -0.42564014],\n",
      "       [ 0.20025517, -0.53061432]], dtype=float32)}, array([1, 0])]\n",
      "[{'losowa': array([[-0.19820824],\n",
      "       [ 0.99749047]], dtype=float32), 'dwuwektor': array([[-0.60827315, -0.0953655 ],\n",
      "       [-1.00713134,  0.21345042]], dtype=float32)}, array([1, 1])]\n",
      "[{'losowa': array([[ 0.00365404],\n",
      "       [ 1.38450372]], dtype=float32), 'dwuwektor': array([[-0.18696618,  0.05709811],\n",
      "       [ 1.84004521, -1.91788745]], dtype=float32)}, array([1, 1])]\n",
      "[{'losowa': array([[ 0.34864354],\n",
      "       [ 0.95516503]], dtype=float32), 'dwuwektor': array([[-0.52221507,  0.91469026],\n",
      "       [-0.32475382,  0.83168542]], dtype=float32)}, array([1, 1])]\n",
      "[{'losowa': array([[ 0.91301221],\n",
      "       [ 0.18299352]], dtype=float32), 'dwuwektor': array([[-0.69256854, -0.18718269],\n",
      "       [-1.29665446, -0.90568048]], dtype=float32)}, array([1, 1])]\n"
     ]
    }
   ],
   "source": [
    "\n",
    "BATCH_SIZE=2\n",
    "zbachowany=dataset.shuffle(1000).repeat().batch(BATCH_SIZE)\n",
    "iterator = zbachowany.make_one_shot_iterator()\n",
    "f,l=iterator.get_next()\n",
    "print(\"tu dzial\")\n",
    "with tf.Session() as sess:\n",
    "    for i in range(10):\n",
    "        print(sess.run([f,l]))\n"
   ]
  },
  {
   "cell_type": "code",
   "execution_count": null,
   "metadata": {
    "collapsed": true
   },
   "outputs": [],
   "source": [
    "\n",
    "    "
   ]
  },
  {
   "cell_type": "code",
   "execution_count": 17,
   "metadata": {
    "collapsed": false
   },
   "outputs": [],
   "source": []
  },
  {
   "cell_type": "code",
   "execution_count": null,
   "metadata": {
    "collapsed": true
   },
   "outputs": [],
   "source": []
  },
  {
   "cell_type": "code",
   "execution_count": null,
   "metadata": {
    "collapsed": true
   },
   "outputs": [],
   "source": []
  },
  {
   "cell_type": "code",
   "execution_count": 84,
   "metadata": {
    "collapsed": true
   },
   "outputs": [],
   "source": []
  },
  {
   "cell_type": "code",
   "execution_count": 85,
   "metadata": {
    "collapsed": true
   },
   "outputs": [],
   "source": []
  },
  {
   "cell_type": "code",
   "execution_count": null,
   "metadata": {
    "collapsed": true
   },
   "outputs": [],
   "source": []
  },
  {
   "cell_type": "code",
   "execution_count": null,
   "metadata": {
    "collapsed": false
   },
   "outputs": [],
   "source": []
  },
  {
   "cell_type": "code",
   "execution_count": 53,
   "metadata": {
    "collapsed": false
   },
   "outputs": [],
   "source": []
  },
  {
   "cell_type": "code",
   "execution_count": null,
   "metadata": {
    "collapsed": false
   },
   "outputs": [],
   "source": []
  },
  {
   "cell_type": "code",
   "execution_count": null,
   "metadata": {
    "collapsed": true
   },
   "outputs": [],
   "source": []
  },
  {
   "cell_type": "code",
   "execution_count": 100,
   "metadata": {
    "collapsed": false
   },
   "outputs": [],
   "source": []
  },
  {
   "cell_type": "code",
   "execution_count": 121,
   "metadata": {
    "collapsed": false
   },
   "outputs": [],
   "source": []
  },
  {
   "cell_type": "code",
   "execution_count": null,
   "metadata": {
    "collapsed": false
   },
   "outputs": [],
   "source": []
  },
  {
   "cell_type": "code",
   "execution_count": null,
   "metadata": {
    "collapsed": false
   },
   "outputs": [],
   "source": []
  },
  {
   "cell_type": "code",
   "execution_count": null,
   "metadata": {
    "collapsed": true
   },
   "outputs": [],
   "source": []
  },
  {
   "cell_type": "code",
   "execution_count": null,
   "metadata": {
    "collapsed": true
   },
   "outputs": [],
   "source": []
  },
  {
   "cell_type": "code",
   "execution_count": null,
   "metadata": {
    "collapsed": true
   },
   "outputs": [],
   "source": []
  },
  {
   "cell_type": "code",
   "execution_count": null,
   "metadata": {
    "collapsed": true
   },
   "outputs": [],
   "source": []
  },
  {
   "cell_type": "code",
   "execution_count": null,
   "metadata": {
    "collapsed": false
   },
   "outputs": [],
   "source": []
  },
  {
   "cell_type": "code",
   "execution_count": null,
   "metadata": {
    "collapsed": true
   },
   "outputs": [],
   "source": []
  },
  {
   "cell_type": "code",
   "execution_count": null,
   "metadata": {
    "collapsed": true
   },
   "outputs": [],
   "source": []
  },
  {
   "cell_type": "code",
   "execution_count": null,
   "metadata": {
    "collapsed": false
   },
   "outputs": [],
   "source": []
  },
  {
   "cell_type": "code",
   "execution_count": null,
   "metadata": {
    "collapsed": false
   },
   "outputs": [],
   "source": []
  },
  {
   "cell_type": "code",
   "execution_count": null,
   "metadata": {
    "collapsed": false
   },
   "outputs": [],
   "source": []
  },
  {
   "cell_type": "code",
   "execution_count": null,
   "metadata": {
    "collapsed": false
   },
   "outputs": [],
   "source": []
  },
  {
   "cell_type": "code",
   "execution_count": null,
   "metadata": {
    "collapsed": true
   },
   "outputs": [],
   "source": []
  },
  {
   "cell_type": "code",
   "execution_count": null,
   "metadata": {
    "collapsed": false
   },
   "outputs": [],
   "source": [
    "\n",
    "    "
   ]
  },
  {
   "cell_type": "code",
   "execution_count": null,
   "metadata": {
    "collapsed": true
   },
   "outputs": [],
   "source": []
  },
  {
   "cell_type": "code",
   "execution_count": null,
   "metadata": {
    "collapsed": true
   },
   "outputs": [],
   "source": []
  }
 ],
 "metadata": {
  "kernelspec": {
   "display_name": "Python 3",
   "language": "python",
   "name": "python3"
  },
  "language_info": {
   "codemirror_mode": {
    "name": "ipython",
    "version": 3
   },
   "file_extension": ".py",
   "mimetype": "text/x-python",
   "name": "python",
   "nbconvert_exporter": "python",
   "pygments_lexer": "ipython3",
   "version": "3.4.5"
  }
 },
 "nbformat": 4,
 "nbformat_minor": 2
}
