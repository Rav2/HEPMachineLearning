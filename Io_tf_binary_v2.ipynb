{
 "cells": [
  {
   "cell_type": "code",
   "execution_count": 1,
   "metadata": {},
   "outputs": [],
   "source": [
    "import tensorflow as tf"
   ]
  },
  {
   "cell_type": "code",
   "execution_count": 2,
   "metadata": {},
   "outputs": [],
   "source": [
    "import numpy as np"
   ]
  },
  {
   "cell_type": "code",
   "execution_count": 3,
   "metadata": {},
   "outputs": [],
   "source": [
    "import matplotlib.pyplot as plt"
   ]
  },
  {
   "cell_type": "code",
   "execution_count": 4,
   "metadata": {},
   "outputs": [
    {
     "name": "stdout",
     "output_type": "stream",
     "text": [
      "Welcome to JupyROOT 6.13/03\n"
     ]
    }
   ],
   "source": [
    "import read_tree as rt\n",
    "\n",
    "import sys\n"
   ]
  },
  {
   "cell_type": "code",
   "execution_count": 5,
   "metadata": {},
   "outputs": [],
   "source": [
    "%matplotlib inline"
   ]
  },
  {
   "cell_type": "code",
   "execution_count": 12,
   "metadata": {},
   "outputs": [],
   "source": [
    "from sklearn.utils import shuffle"
   ]
  },
  {
   "cell_type": "code",
   "execution_count": 7,
   "metadata": {},
   "outputs": [],
   "source": [
    "#utworze teraz dane jakies\n",
    "def kolko_w_kolku(sig1=0.4,sig2=0.6,R2=1.,N=1000):\n",
    "    \"\"\"to ma utworzyc dane ktore posluza mi do sprawdzenia czy i jak dziala model\"\"\"\n",
    "    features=[]\n",
    "    labels=[]\n",
    "    for i in range(N):\n",
    "        x=np.random.normal(0,sig1)\n",
    "        y=np.random.normal(0,sig1)\n",
    "        features.append([x,y])\n",
    "        labels.append(0)\n",
    "    for i in range(N):\n",
    "        alpha=np.random.uniform()*2*np.pi\n",
    "        delr=np.random.normal(0,sig2)\n",
    "        r=R2+delr\n",
    "        x=np.cos(alpha)*r\n",
    "        y=np.sin(alpha)*r\n",
    "        features.append([x,y])\n",
    "        labels.append(1)\n",
    "    features=np.array(features)\n",
    "    labels=np.array(labels)\n",
    "    features,labels=shuffle(features,labels)\n",
    "    return features,labels"
   ]
  },
  {
   "cell_type": "code",
   "execution_count": 9,
   "metadata": {},
   "outputs": [],
   "source": [
    "def rysoj_dane(f,l):\n",
    "    plt.clf()\n",
    "    plt.scatter(f[:,0],f[:,1],c=l,s=5)"
   ]
  },
  {
   "cell_type": "code",
   "execution_count": null,
   "metadata": {},
   "outputs": [],
   "source": []
  },
  {
   "cell_type": "code",
   "execution_count": null,
   "metadata": {},
   "outputs": [],
   "source": []
  },
  {
   "cell_type": "code",
   "execution_count": null,
   "metadata": {
    "collapsed": true
   },
   "outputs": [],
   "source": []
  },
  {
   "cell_type": "code",
   "execution_count": null,
   "metadata": {},
   "outputs": [],
   "source": [
    "\n",
    "    "
   ]
  },
  {
   "cell_type": "code",
   "execution_count": null,
   "metadata": {
    "collapsed": true
   },
   "outputs": [],
   "source": []
  },
  {
   "cell_type": "code",
   "execution_count": null,
   "metadata": {
    "collapsed": true
   },
   "outputs": [],
   "source": []
  },
  {
   "cell_type": "code",
   "execution_count": null,
   "metadata": {},
   "outputs": [],
   "source": []
  },
  {
   "cell_type": "code",
   "execution_count": null,
   "metadata": {},
   "outputs": [],
   "source": []
  },
  {
   "cell_type": "code",
   "execution_count": 10,
   "metadata": {},
   "outputs": [],
   "source": [
    "\"\"\"\n",
    "do creatora dajemy sobie nazwe pliku (sciezke) oraz slownik typu {'czterowektor': (4,'f'),'intowa_wlasnosc': (1,'i'),\n",
    "...}\n",
    "to znaczy nazwe, ile to jest liczb, jakiego typu. Obsluguje na razie jedynie 'f' oraz 'i' to \n",
    "jest float oraz int\n",
    "nie mozna uzyc jako klucz 'label', bo to jest wykorzystywana nazwa.\n",
    "\n",
    "\n",
    "funkcja wpisz bierze jako argument generator ktory zwraca jak na niego podziałać next() cos typu \n",
    "({\"czterowektor\":[1.,2.,3.,4.], ...},1) gdzie 1 jest labelem, label jest intem.\n",
    ". oczywiście klucze slownika zgadzają się \n",
    "z kluczami ze slownika ktorego uzylismy do kreatora.\n",
    "\n",
    "dataset wczytany metoda wczytaj dataset jest juz w postaci wygodnej dla mnie to znaczy \n",
    "slownik feature, label\n",
    "\"\"\"\n",
    "\n",
    "\n",
    "class Io_tf_binary_v2:\n",
    "    def __init__(self,nazwa_pliku,slownik):\n",
    "        self.plik=nazwa_pliku\n",
    "        self.typy=slownik\n",
    "        #self.cos=Io_tf_binary.wrap_int64([5])\n",
    "    \n",
    "\n",
    "    \"\"\"\n",
    "    To moze sobie czytac ktos kto chce zmieniac wnetrznosci tej klasy\n",
    "    Nie polecam\n",
    "    \n",
    "    Teraz ta funkcja wpisz jest ważna. ona bierze po jednym przypadku testowym, \n",
    "    ( to jest ta petla for i in range()) i go zapisuje. trzeba zwracac \n",
    "    uwage na to jakiego typu sa zapisywane rzeczy. mozna oczywiscie zrobic slownik\n",
    "    data dluzszym, jesli to w jakis sposob ulatwi nam myslenie o naszych danych. \n",
    "    Bo te nasze dane to bedzie slownik list, w ktorych to listach rzeczy maja \n",
    "    juz taki sam typ, a klucze to beda jakies opisowe nazwy.\n",
    "    np \n",
    "\n",
    "    data={\n",
    "    'czteroped_lewej_nogi_czy_cos': wrap_float64(cztero), # gdzie cztero to jest tensor floatow o shape (4,)\n",
    "    # reszta rzeczy\n",
    "\n",
    "    }\n",
    "\n",
    "    Jak byscie chcieli jako wartosci miec stringi to musicie pomyslec jak zrobic wrapy dla stringow. oczywiscie\n",
    "    nie znajdziecie zadnej dokumentacji.\n",
    "\n",
    "    UWAGA \n",
    "    w tym slowniku data musi byc to co klasyfikujemy oznaczone przy pomocy 'label' bo inaczej sie  wywali program.\n",
    "\n",
    "\n",
    "\n",
    "\n",
    "\n",
    "    \"\"\"\n",
    "\n",
    "\n",
    "    def wpisz(self,generator):\n",
    "        \"\"\"tworzy ten nasz dataset w pliku out_path \"\"\"\n",
    "        \n",
    "        def wrap_int64(value):\n",
    "            \"\"\"lista intow musi wlesc\"\"\"\n",
    "            return tf.train.Feature(int64_list=tf.train.Int64List(value=value))\n",
    "        def wrap_float64(value):\n",
    "            \"\"\"lista floatow musi wlesc\"\"\"\n",
    "            return tf.train.Feature(float_list=tf.train.FloatList(value=value))\n",
    "        \n",
    "        #f,l=kolko_w_kolku() #mozna zmienic jak sie podoba\n",
    "        def data_slownik(f,l):\n",
    "            wyrzut={}\n",
    "            for k in self.typy.keys():\n",
    "                if self.typy[k][1]=='f':\n",
    "                    wyrzut[k]=wrap_float64(np.array(f[k]).reshape((-1,)))\n",
    "                else:\n",
    "                    wyrzut[k]=wrap_int64(np.array(f[k]).reshape((-1,)))\n",
    "            wyrzut['label']=wrap_int64([l])\n",
    "            return wyrzut\n",
    "                    \n",
    "        with tf.python_io.TFRecordWriter(self.plik) as writer:\n",
    "            for f,l in generator:\n",
    "                #feature=f[i]\n",
    "                #label=l[i]\n",
    "                #data = {\n",
    "                 #    'feature': wrap_float64(feature),\n",
    "                #  'label': wrap_int64([label])\n",
    "                   #     }\n",
    "                data=data_slownik(f,l)\n",
    "                # Wrap the data as TensorFlow Features.\n",
    "                feature = tf.train.Features(feature=data)\n",
    "\n",
    "                # Wrap again as a TensorFlow Example.\n",
    "                example = tf.train.Example(features=feature)\n",
    "\n",
    "                # Serialize the data.\n",
    "                serialized = example.SerializeToString()\n",
    "\n",
    "                # Write the serialized data to the TFRecords file.\n",
    "                writer.write(serialized)\n",
    "\n",
    "        \n",
    "        \n",
    "        \n",
    "        \n",
    "        \n",
    "        \n",
    "                \n",
    "   \n",
    "    \n",
    "    def wczytaj_dataset(self):\n",
    "        \n",
    "        def zeslownikoj(x):\n",
    "            keys=list(x.keys())\n",
    "            f={}\n",
    "            for k in keys:\n",
    "                if not k=='label':\n",
    "                    f[k]=x[k]\n",
    "            return f,x['label']\n",
    "        def features_generoj():\n",
    "            wyrzut={}\n",
    "            for k in self.typy.keys():\n",
    "                if self.typy[k][1]=='f':\n",
    "                    wyrzut[k]=tf.FixedLenFeature([self.typy[k][0]], tf.float32)\n",
    "                else:\n",
    "                    wyrzut[k]=tf.FixedLenFeature([self.typy[k][0]], tf.int64)\n",
    "            wyrzut['label']=tf.FixedLenFeature([], tf.int64)\n",
    "            return wyrzut\n",
    "\n",
    "        def parse(serialized):\n",
    "            \n",
    "            # Define a dict with the data-names and types we expect to\n",
    "            # find in the TFRecords file.\n",
    "            # It is a bit awkward that this needs to be specified again,\n",
    "            # because it could have been written in the header of the\n",
    "            # TFRecords file instead.\n",
    "            \"\"\"\n",
    "            features = \\\n",
    "                {\n",
    "                    'dwuwektor': tf.FixedLenFeature([2], tf.float32),#z jakiegos powodu to jest float32, nie wiem czemu\n",
    "                    'label': tf.FixedLenFeature([], tf.int64)\n",
    "                }\n",
    "            \"\"\"\n",
    "            features=features_generoj()\n",
    "            print(features)\n",
    "\n",
    "            # Parse the serialized data so we get a dict with our data.\n",
    "            parsed_example = tf.parse_single_example(serialized=serialized,\n",
    "                                                     features=features)\n",
    "\n",
    "\n",
    "            return zeslownikoj(parsed_example)\n",
    "\n",
    "        dataset = tf.data.TFRecordDataset(self.plik)\n",
    "        dataset = dataset.map(parse)\n",
    "        return dataset\n",
    "    \n",
    "    \n",
    "    \n",
    "    \n",
    "    \n",
    "    "
   ]
  },
  {
   "cell_type": "code",
   "execution_count": 88,
   "metadata": {},
   "outputs": [],
   "source": [
    "\"\"\"\n",
    "do creatora dajemy sobie nazwe pliku (sciezke) oraz slownik typu {'czterowektor': (4,'f'),'intowa_wlasnosc': (1,'i'),\n",
    "...}\n",
    "to znaczy nazwe, ile to jest liczb, jakiego typu. Obsluguje na razie jedynie 'f' oraz 'i' to \n",
    "jest float oraz int\n",
    "nie mozna uzyc jako klucz 'label', bo to jest wykorzystywana nazwa.\n",
    "\n",
    "\n",
    "funkcja wpisz bierze jako argument generator ktory zwraca jak na niego podziałać next() cos typu \n",
    "({\"czterowektor\":[1.,2.,3.,4.], ...},1) gdzie 1 jest labelem, label jest intem.\n",
    ". oczywiście klucze slownika zgadzają się \n",
    "z kluczami ze slownika ktorego uzylismy do kreatora.\n",
    "\n",
    "dataset wczytany metoda wczytaj dataset jest juz w postaci wygodnej dla mnie to znaczy \n",
    "slownik feature, label\n",
    "\"\"\"\n",
    "\n",
    "\n",
    "class Io_tf_binary_stary:\n",
    "    def __init__(self,nazwa_pliku,slownik,co_ile_flush_file=10):\n",
    "        self.co_ile=co_ile_flush_file\n",
    "        self.plik=nazwa_pliku\n",
    "        self.typy=slownik\n",
    "        for k in self.typy.keys():\n",
    "            assert self.typy[k][1] in ['f','i']\n",
    "            assert self.typy[k][0]>0 \n",
    "            assert type(self.typy[k][0])==int or type(self.typy[k][0])==int ==numpy.int64\n",
    "        self.writer= tf.python_io.TFRecordWriter(self.plik)\n",
    "        self.liczba_wrzuconych=0\n",
    "        \n",
    "        #self.cos=Io_tf_binary.wrap_int64([5])\n",
    "    \n",
    "    def close(self):\n",
    "        self.writer.close()\n",
    "    \n",
    "\n",
    "    \"\"\"\n",
    "    To moze sobie czytac ktos kto chce zmieniac wnetrznosci tej klasy\n",
    "    Nie polecam\n",
    "    \n",
    "    Teraz ta funkcja wpisz jest ważna. ona bierze po jednym przypadku testowym, \n",
    "    ( to jest ta petla for i in range()) i go zapisuje. trzeba zwracac \n",
    "    uwage na to jakiego typu sa zapisywane rzeczy. mozna oczywiscie zrobic slownik\n",
    "    data dluzszym, jesli to w jakis sposob ulatwi nam myslenie o naszych danych. \n",
    "    Bo te nasze dane to bedzie slownik list, w ktorych to listach rzeczy maja \n",
    "    juz taki sam typ, a klucze to beda jakies opisowe nazwy.\n",
    "    np \n",
    "\n",
    "    data={\n",
    "    'czteroped_lewej_nogi_czy_cos': wrap_float64(cztero), # gdzie cztero to jest tensor floatow o shape (4,)\n",
    "    # reszta rzeczy\n",
    "\n",
    "    }\n",
    "\n",
    "    Jak byscie chcieli jako wartosci miec stringi to musicie pomyslec jak zrobic wrapy dla stringow. oczywiscie\n",
    "    nie znajdziecie zadnej dokumentacji.\n",
    "\n",
    "    UWAGA \n",
    "    w tym slowniku data musi byc to co klasyfikujemy oznaczone przy pomocy 'label' bo inaczej sie  wywali program.\n",
    "\n",
    "\n",
    "\n",
    "\n",
    "\n",
    "    \"\"\"\n",
    "\n",
    "\n",
    "    def wpisz(self,features,label):\n",
    "        \"\"\"tworzy ten nasz dataset w pliku out_path \n",
    "        tu format jest taki jak byl na poczatku to znaczy taki slownik\"\"\"\n",
    "        f=features\n",
    "        l=label\n",
    "        def wrap_int64(value):\n",
    "            \"\"\"lista intow musi wlesc\"\"\"\n",
    "            return tf.train.Feature(int64_list=tf.train.Int64List(value=value))\n",
    "        def wrap_float64(value):\n",
    "            \"\"\"lista floatow musi wlesc\"\"\"\n",
    "            return tf.train.Feature(float_list=tf.train.FloatList(value=value))\n",
    "        \n",
    "        #f,l=kolko_w_kolku() #mozna zmienic jak sie podoba\n",
    "        def data_slownik(f,l):\n",
    "            wyrzut={}\n",
    "            for k in self.typy.keys():\n",
    "                if self.typy[k][1]=='f':\n",
    "                    wyrzut[k]=wrap_float64(np.array(f[k]).reshape((-1,)))\n",
    "                else:\n",
    "                    wyrzut[k]=wrap_int64(np.array(f[k]).reshape((-1,)))\n",
    "            wyrzut['label']=wrap_int64([l])\n",
    "            return wyrzut\n",
    "                    \n",
    "        \n",
    "            \n",
    "        #feature=f[i]\n",
    "        #label=l[i]\n",
    "        #data = {\n",
    "         #    'feature': wrap_float64(feature),\n",
    "        #  'label': wrap_int64([label])\n",
    "           #     }\n",
    "        data=data_slownik(f,l)\n",
    "        # Wrap the data as TensorFlow Features.\n",
    "        feature = tf.train.Features(feature=data)\n",
    "\n",
    "        # Wrap again as a TensorFlow Example.\n",
    "        example = tf.train.Example(features=feature)\n",
    "\n",
    "        # Serialize the data.\n",
    "        serialized = example.SerializeToString()\n",
    "\n",
    "        # Write the serialized data to the TFRecords file.\n",
    "        self.writer.write(serialized)\n",
    "        self.liczba_wrzuconych+=1\n",
    "        if self.liczba_wrzuconych%self.co_ile==0:\n",
    "            self.writer.flush()\n",
    "\n",
    "        \n",
    "        \n",
    "        \n",
    "        \n",
    "        \n",
    "        \n",
    "                \n",
    "   \n",
    "    \n",
    "    def wczytaj_dataset(self):\n",
    "        \n",
    "        def zeslownikoj(x):\n",
    "            keys=list(x.keys())\n",
    "            f={}\n",
    "            for k in keys:\n",
    "                if not k=='label':\n",
    "                    f[k]=x[k]\n",
    "            return f,x['label']\n",
    "        def features_generoj():\n",
    "            wyrzut={}\n",
    "            for k in self.typy.keys():\n",
    "                if self.typy[k][1]=='f':\n",
    "                    wyrzut[k]=tf.FixedLenFeature([self.typy[k][0]], tf.float32)\n",
    "                else:\n",
    "                    wyrzut[k]=tf.FixedLenFeature([self.typy[k][0]], tf.int64)\n",
    "            wyrzut['label']=tf.FixedLenFeature([], tf.int64)\n",
    "            return wyrzut\n",
    "\n",
    "        def parse(serialized):\n",
    "            \n",
    "            # Define a dict with the data-names and types we expect to\n",
    "            # find in the TFRecords file.\n",
    "            # It is a bit awkward that this needs to be specified again,\n",
    "            # because it could have been written in the header of the\n",
    "            # TFRecords file instead.\n",
    "            \"\"\"\n",
    "            features = \\\n",
    "                {\n",
    "                    'dwuwektor': tf.FixedLenFeature([2], tf.float32),#z jakiegos powodu to jest float32, nie wiem czemu\n",
    "                    'label': tf.FixedLenFeature([], tf.int64)\n",
    "                }\n",
    "            \"\"\"\n",
    "            features=features_generoj()\n",
    "            print(features)\n",
    "\n",
    "            # Parse the serialized data so we get a dict with our data.\n",
    "            parsed_example = tf.parse_single_example(serialized=serialized,\n",
    "                                                     features=features)\n",
    "\n",
    "\n",
    "            return zeslownikoj(parsed_example)\n",
    "\n",
    "        dataset = tf.data.TFRecordDataset(self.plik)\n",
    "        dataset = dataset.map(parse)\n",
    "        return dataset\n",
    "    \n",
    "    \n",
    "    \n",
    "    \n",
    "    "
   ]
  },
  {
   "cell_type": "code",
   "execution_count": 89,
   "metadata": {},
   "outputs": [
    {
     "data": {
      "image/png": "[encoded data removed]",
      "text/plain": [
       "<Figure size 432x288 with 1 Axes>"
      ]
     },
     "metadata": {},
     "output_type": "display_data"
    }
   ],
   "source": [
    "f,l=kolko_w_kolku()\n",
    "rysoj_dane(f,l)\n",
    "def generator(f,l):\n",
    "    for i in range(len(f)):\n",
    "        yield {'dwuwektor':f[i],'losowa':np.random.randn()},l[i]"
   ]
  },
  {
   "cell_type": "code",
   "execution_count": 90,
   "metadata": {},
   "outputs": [],
   "source": [
    "dane=generator(f,l)"
   ]
  },
  {
   "cell_type": "code",
   "execution_count": 91,
   "metadata": {},
   "outputs": [
    {
     "data": {
      "text/plain": [
       "({'dwuwektor': array([ 0.89984345, -0.74954184]), 'losowa': 0.530912697873297},\n",
       " 0)"
      ]
     },
     "execution_count": 91,
     "metadata": {},
     "output_type": "execute_result"
    }
   ],
   "source": [
    "next(dane)"
   ]
  },
  {
   "cell_type": "code",
   "execution_count": 92,
   "metadata": {},
   "outputs": [],
   "source": [
    "a=Io_tf_binary_stary('dane_treningowe2',{'dwuwektor':(2,'f'),'losowa':(1,'f')})"
   ]
  },
  {
   "cell_type": "code",
   "execution_count": null,
   "metadata": {},
   "outputs": [],
   "source": []
  },
  {
   "cell_type": "code",
   "execution_count": null,
   "metadata": {},
   "outputs": [],
   "source": []
  },
  {
   "cell_type": "code",
   "execution_count": null,
   "metadata": {},
   "outputs": [],
   "source": []
  },
  {
   "cell_type": "code",
   "execution_count": 93,
   "metadata": {},
   "outputs": [],
   "source": [
    "#a.wpisz(dane)\n",
    "for f,l in dane:\n",
    "    a.wpisz(f,l)"
   ]
  },
  {
   "cell_type": "code",
   "execution_count": 94,
   "metadata": {},
   "outputs": [],
   "source": [
    "a.close()"
   ]
  },
  {
   "cell_type": "code",
   "execution_count": 95,
   "metadata": {},
   "outputs": [
    {
     "name": "stdout",
     "output_type": "stream",
     "text": [
      "{'dwuwektor': FixedLenFeature(shape=[2], dtype=tf.float32, default_value=None), 'losowa': FixedLenFeature(shape=[1], dtype=tf.float32, default_value=None), 'label': FixedLenFeature(shape=[], dtype=tf.int64, default_value=None)}\n"
     ]
    }
   ],
   "source": [
    "dataset=a.wczytaj_dataset()"
   ]
  },
  {
   "cell_type": "code",
   "execution_count": 97,
   "metadata": {},
   "outputs": [
    {
     "name": "stdout",
     "output_type": "stream",
     "text": [
      "[{'dwuwektor': array([[-0.20045918, -0.24493715],\n",
      "       [ 0.02171228, -0.02263291]], dtype=float32), 'losowa': array([[-0.8414467],\n",
      "       [-1.4652964]], dtype=float32)}, array([0, 0])]\n",
      "[{'dwuwektor': array([[ 1.2397883 ,  1.2721387 ],\n",
      "       [-0.04336775, -0.17293163]], dtype=float32), 'losowa': array([[-1.781176 ],\n",
      "       [-0.8123052]], dtype=float32)}, array([1, 0])]\n",
      "[{'dwuwektor': array([[ 0.34080407, -0.37017632],\n",
      "       [ 0.8161611 ,  0.7767115 ]], dtype=float32), 'losowa': array([[0.9961212],\n",
      "       [0.0777107]], dtype=float32)}, array([0, 1])]\n",
      "[{'dwuwektor': array([[ 0.29148772,  0.10289205],\n",
      "       [-0.8009902 , -0.54375625]], dtype=float32), 'losowa': array([[-0.15686284],\n",
      "       [ 1.0579075 ]], dtype=float32)}, array([0, 1])]\n",
      "[{'dwuwektor': array([[ 0.03076197,  0.01931539],\n",
      "       [-0.20361257, -0.35023576]], dtype=float32), 'losowa': array([[-2.140725  ],\n",
      "       [-0.82869846]], dtype=float32)}, array([1, 0])]\n",
      "[{'dwuwektor': array([[-0.11176401,  0.12419438],\n",
      "       [-0.9323123 ,  0.94387007]], dtype=float32), 'losowa': array([[0.9466317 ],\n",
      "       [0.11840432]], dtype=float32)}, array([0, 1])]\n",
      "[{'dwuwektor': array([[ 3.9081243e-01, -1.1909304e-01],\n",
      "       [ 5.7019327e-02,  9.0498877e-05]], dtype=float32), 'losowa': array([[ 1.7288144],\n",
      "       [-1.7539614]], dtype=float32)}, array([1, 0])]\n",
      "[{'dwuwektor': array([[ 0.30323958,  0.54327613],\n",
      "       [-0.87491894, -0.41620913]], dtype=float32), 'losowa': array([[-0.22063355],\n",
      "       [ 1.092406  ]], dtype=float32)}, array([1, 1])]\n",
      "[{'dwuwektor': array([[-0.7910111 , -0.1481277 ],\n",
      "       [ 0.02506623,  0.00502515]], dtype=float32), 'losowa': array([[-0.74273765],\n",
      "       [ 0.8857428 ]], dtype=float32)}, array([0, 1])]\n",
      "[{'dwuwektor': array([[ 0.50455105,  0.01025183],\n",
      "       [-0.4464506 ,  0.10922939]], dtype=float32), 'losowa': array([[0.218354  ],\n",
      "       [0.00772788]], dtype=float32)}, array([1, 0])]\n",
      "[{'dwuwektor': array([[ 0.8294274 ,  0.4532025 ],\n",
      "       [-0.60385317,  0.2395824 ]], dtype=float32), 'losowa': array([[-1.2096218 ],\n",
      "       [-0.91894335]], dtype=float32)}, array([1, 1])]\n",
      "[{'dwuwektor': array([[ 1.5529083 , -0.8490433 ],\n",
      "       [ 0.23781629, -0.47316715]], dtype=float32), 'losowa': array([[-1.4559187],\n",
      "       [ 1.3960984]], dtype=float32)}, array([1, 0])]\n",
      "[{'dwuwektor': array([[-0.58451426, -1.000599  ],\n",
      "       [-0.3666181 , -0.12468769]], dtype=float32), 'losowa': array([[-1.1877631],\n",
      "       [-0.178257 ]], dtype=float32)}, array([1, 0])]\n",
      "[{'dwuwektor': array([[-0.28530076,  0.52229667],\n",
      "       [ 0.67693985,  0.04141759]], dtype=float32), 'losowa': array([[0.7966469 ],\n",
      "       [0.40015507]], dtype=float32)}, array([0, 1])]\n",
      "[{'dwuwektor': array([[ 0.73616016,  0.32932326],\n",
      "       [-1.0459223 , -0.6239181 ]], dtype=float32), 'losowa': array([[-1.1344932],\n",
      "       [ 1.072721 ]], dtype=float32)}, array([1, 1])]\n",
      "[{'dwuwektor': array([[-0.1795778 ,  0.3681282 ],\n",
      "       [-1.3211954 ,  0.33983213]], dtype=float32), 'losowa': array([[0.8217643],\n",
      "       [0.5951401]], dtype=float32)}, array([0, 1])]\n",
      "[{'dwuwektor': array([[ 1.0498983 ,  0.5408056 ],\n",
      "       [-0.1129422 ,  0.29592878]], dtype=float32), 'losowa': array([[-2.5596328],\n",
      "       [-0.4809224]], dtype=float32)}, array([1, 1])]\n",
      "[{'dwuwektor': array([[-0.40274927,  0.24354394],\n",
      "       [-0.6237653 , -0.4098046 ]], dtype=float32), 'losowa': array([[-0.7821972],\n",
      "       [ 0.4404007]], dtype=float32)}, array([0, 0])]\n",
      "[{'dwuwektor': array([[ 0.34562668,  0.577256  ],\n",
      "       [-0.2965289 , -0.10830051]], dtype=float32), 'losowa': array([[-1.1695662],\n",
      "       [ 0.8158109]], dtype=float32)}, array([0, 0])]\n",
      "[{'dwuwektor': array([[0.520067  , 1.7006462 ],\n",
      "       [0.4860969 , 0.57386225]], dtype=float32), 'losowa': array([[-1.49683  ],\n",
      "       [ 1.7717322]], dtype=float32)}, array([1, 1])]\n",
      "[{'dwuwektor': array([[ 0.15481451, -0.47739068],\n",
      "       [-0.01098593,  0.27812153]], dtype=float32), 'losowa': array([[-0.6379886 ],\n",
      "       [ 0.98092264]], dtype=float32)}, array([1, 0])]\n",
      "[{'dwuwektor': array([[-0.46439347, -0.49290785],\n",
      "       [-1.0739881 ,  1.8014239 ]], dtype=float32), 'losowa': array([[ 0.72818595],\n",
      "       [-0.94593525]], dtype=float32)}, array([0, 1])]\n",
      "[{'dwuwektor': array([[-1.6098695 ,  0.27296883],\n",
      "       [ 1.6935905 ,  0.05769814]], dtype=float32), 'losowa': array([[-0.47233206],\n",
      "       [-1.7669766 ]], dtype=float32)}, array([1, 1])]\n",
      "[{'dwuwektor': array([[-0.6822934, -0.5344304],\n",
      "       [-0.9647102, -0.4282803]], dtype=float32), 'losowa': array([[-0.84651506],\n",
      "       [ 1.2451059 ]], dtype=float32)}, array([0, 1])]\n",
      "[{'dwuwektor': array([[-0.13104989, -0.44373676],\n",
      "       [ 0.11277567,  0.07231224]], dtype=float32), 'losowa': array([[-0.3651837],\n",
      "       [ 0.6188283]], dtype=float32)}, array([0, 0])]\n",
      "[{'dwuwektor': array([[-1.082295  ,  0.6021218 ],\n",
      "       [ 0.527579  , -0.56513816]], dtype=float32), 'losowa': array([[-2.5689306],\n",
      "       [ 1.0892648]], dtype=float32)}, array([1, 1])]\n",
      "[{'dwuwektor': array([[ 0.4486839 , -0.32690307],\n",
      "       [-0.34604967, -0.1866043 ]], dtype=float32), 'losowa': array([[ 0.21293476],\n",
      "       [-1.1566103 ]], dtype=float32)}, array([1, 0])]\n",
      "[{'dwuwektor': array([[-0.59244215,  0.5441781 ],\n",
      "       [-0.1307706 ,  0.34410262]], dtype=float32), 'losowa': array([[-0.5340356],\n",
      "       [-0.6396759]], dtype=float32)}, array([0, 0])]\n",
      "[{'dwuwektor': array([[-0.07742997, -0.8712683 ],\n",
      "       [ 0.9236238 , -0.5114465 ]], dtype=float32), 'losowa': array([[0.59538704],\n",
      "       [0.32812956]], dtype=float32)}, array([1, 1])]\n",
      "[{'dwuwektor': array([[ 0.19242738,  0.58056253],\n",
      "       [-0.18424739, -0.11614046]], dtype=float32), 'losowa': array([[0.22061409],\n",
      "       [0.73208266]], dtype=float32)}, array([0, 1])]\n",
      "[{'dwuwektor': array([[ 0.3342072 , -0.5263425 ],\n",
      "       [-0.16325955,  0.2596925 ]], dtype=float32), 'losowa': array([[ 0.30214268],\n",
      "       [-0.16093974]], dtype=float32)}, array([0, 0])]\n",
      "[{'dwuwektor': array([[ 1.1556976 , -1.011024  ],\n",
      "       [ 0.62488544, -0.15489307]], dtype=float32), 'losowa': array([[ 0.6354179],\n",
      "       [-1.836305 ]], dtype=float32)}, array([1, 0])]\n",
      "[{'dwuwektor': array([[ 0.16887426, -0.0225599 ],\n",
      "       [ 0.08327273, -0.12338132]], dtype=float32), 'losowa': array([[ 0.1827473],\n",
      "       [-1.6571975]], dtype=float32)}, array([1, 0])]\n",
      "[{'dwuwektor': array([[ 0.8232558 , -0.59155655],\n",
      "       [ 0.58619934, -0.15712777]], dtype=float32), 'losowa': array([[-0.08570991],\n",
      "       [ 0.46161592]], dtype=float32)}, array([1, 0])]\n",
      "[{'dwuwektor': array([[-0.08661108, -0.09780736],\n",
      "       [-0.33611578,  0.27837986]], dtype=float32), 'losowa': array([[ 1.0553595 ],\n",
      "       [-0.64160687]], dtype=float32)}, array([0, 0])]\n",
      "[{'dwuwektor': array([[-1.3395361 ,  0.23564678],\n",
      "       [-0.4465037 , -0.5163825 ]], dtype=float32), 'losowa': array([[-1.3409765],\n",
      "       [-1.4029814]], dtype=float32)}, array([1, 0])]\n",
      "[{'dwuwektor': array([[1.0597225 , 0.75638676],\n",
      "       [1.7197598 , 1.2736081 ]], dtype=float32), 'losowa': array([[-0.22879949],\n",
      "       [ 2.045768  ]], dtype=float32)}, array([1, 1])]\n",
      "[{'dwuwektor': array([[ 0.50059193, -0.6964072 ],\n",
      "       [-0.39041233,  0.08404618]], dtype=float32), 'losowa': array([[0.01248158],\n",
      "       [1.026126  ]], dtype=float32)}, array([1, 1])]\n",
      "[{'dwuwektor': array([[ 0.3408642 , -1.3781178 ],\n",
      "       [ 0.08335263,  0.46278203]], dtype=float32), 'losowa': array([[-0.41825652],\n",
      "       [ 2.1553073 ]], dtype=float32)}, array([1, 0])]\n",
      "[{'dwuwektor': array([[ 0.46082288, -0.00205643],\n",
      "       [-0.34695002, -0.2943072 ]], dtype=float32), 'losowa': array([[0.09121107],\n",
      "       [2.2711093 ]], dtype=float32)}, array([0, 0])]\n",
      "[{'dwuwektor': array([[-0.5108812 ,  0.3495665 ],\n",
      "       [-0.11794739,  0.277699  ]], dtype=float32), 'losowa': array([[0.3565522 ],\n",
      "       [0.05877243]], dtype=float32)}, array([1, 1])]\n",
      "[{'dwuwektor': array([[-0.4981001 , -0.2708729 ],\n",
      "       [ 0.720541  ,  0.20897792]], dtype=float32), 'losowa': array([[-1.5766046 ],\n",
      "       [ 0.85038555]], dtype=float32)}, array([0, 1])]\n",
      "[{'dwuwektor': array([[ 0.02397985,  1.1485785 ],\n",
      "       [-0.1183034 ,  0.0859836 ]], dtype=float32), 'losowa': array([[ 1.0201036 ],\n",
      "       [-0.66843176]], dtype=float32)}, array([1, 1])]\n",
      "[{'dwuwektor': array([[-0.14726603, -0.74785936],\n",
      "       [ 0.46304137, -0.17769769]], dtype=float32), 'losowa': array([[-2.0769405],\n",
      "       [-1.2801363]], dtype=float32)}, array([1, 0])]\n",
      "[{'dwuwektor': array([[ 0.17446315,  0.67849076],\n",
      "       [ 0.42264667, -0.20932999]], dtype=float32), 'losowa': array([[ 1.9519517],\n",
      "       [-0.688969 ]], dtype=float32)}, array([0, 0])]\n",
      "[{'dwuwektor': array([[ 0.57621205, -0.9602845 ],\n",
      "       [ 0.32898948, -0.05419844]], dtype=float32), 'losowa': array([[-1.7030133],\n",
      "       [ 1.5386356]], dtype=float32)}, array([1, 0])]\n",
      "[{'dwuwektor': array([[ 0.04817242, -0.02056513],\n",
      "       [ 0.285644  ,  0.08539765]], dtype=float32), 'losowa': array([[ 1.6436052],\n",
      "       [-0.5121313]], dtype=float32)}, array([0, 0])]\n",
      "[{'dwuwektor': array([[0.0090558 , 0.15965089],\n",
      "       [0.62397593, 0.46225724]], dtype=float32), 'losowa': array([[-1.5224708],\n",
      "       [-1.9151305]], dtype=float32)}, array([1, 0])]\n",
      "[{'dwuwektor': array([[-0.17308871, -0.9951861 ],\n",
      "       [-0.11261233,  0.53511345]], dtype=float32), 'losowa': array([[0.07424739],\n",
      "       [0.40154493]], dtype=float32)}, array([1, 0])]\n",
      "[{'dwuwektor': array([[-0.24232578,  0.11228024],\n",
      "       [ 0.5428482 , -0.24649084]], dtype=float32), 'losowa': array([[ 0.8363021 ],\n",
      "       [-0.34265763]], dtype=float32)}, array([0, 1])]\n",
      "[{'dwuwektor': array([[ 0.23003018, -0.6877045 ],\n",
      "       [ 0.47469372,  0.09506352]], dtype=float32), 'losowa': array([[-1.667326  ],\n",
      "       [ 0.99910164]], dtype=float32)}, array([1, 0])]\n",
      "[{'dwuwektor': array([[-0.6091426 , -0.28857476],\n",
      "       [ 0.03882281, -0.21681102]], dtype=float32), 'losowa': array([[-0.7924058 ],\n",
      "       [-0.30027568]], dtype=float32)}, array([0, 0])]\n",
      "[{'dwuwektor': array([[-0.08954478, -0.9146321 ],\n",
      "       [-1.5763203 , -1.0035661 ]], dtype=float32), 'losowa': array([[-0.79888064],\n",
      "       [ 0.4356061 ]], dtype=float32)}, array([1, 1])]\n",
      "[{'dwuwektor': array([[-1.3242611 , -0.6009111 ],\n",
      "       [-0.61688125,  0.86106765]], dtype=float32), 'losowa': array([[ 0.9601841 ],\n",
      "       [-0.32374406]], dtype=float32)}, array([1, 1])]\n",
      "[{'dwuwektor': array([[-0.69706273, -0.12297294],\n",
      "       [ 0.3759758 , -0.24624632]], dtype=float32), 'losowa': array([[-0.43263763],\n",
      "       [-1.4312931 ]], dtype=float32)}, array([1, 0])]\n",
      "[{'dwuwektor': array([[-0.3388147,  0.31497  ],\n",
      "       [ 0.783428 ,  1.042814 ]], dtype=float32), 'losowa': array([[2.659861 ],\n",
      "       [1.3587551]], dtype=float32)}, array([0, 1])]\n",
      "[{'dwuwektor': array([[-0.29923835,  0.09151068],\n",
      "       [ 0.31802574,  0.5720944 ]], dtype=float32), 'losowa': array([[ 0.04439395],\n",
      "       [-0.24895392]], dtype=float32)}, array([0, 1])]\n",
      "[{'dwuwektor': array([[-0.2509354 ,  0.64776474],\n",
      "       [ 0.38104   ,  0.29729265]], dtype=float32), 'losowa': array([[-0.841517  ],\n",
      "       [-0.15573026]], dtype=float32)}, array([1, 0])]\n",
      "[{'dwuwektor': array([[ 0.02349401,  0.00558167],\n",
      "       [-0.5828365 ,  0.28131038]], dtype=float32), 'losowa': array([[-0.01128238],\n",
      "       [ 1.0690163 ]], dtype=float32)}, array([1, 0])]\n",
      "[{'dwuwektor': array([[-0.3843863 ,  0.49853536],\n",
      "       [-0.02119588,  0.01557051]], dtype=float32), 'losowa': array([[-2.142391 ],\n",
      "       [-1.1890372]], dtype=float32)}, array([0, 1])]\n",
      "[{'dwuwektor': array([[0.52521896, 0.10162434],\n",
      "       [0.31943125, 0.01916498]], dtype=float32), 'losowa': array([[-0.11250816],\n",
      "       [ 0.07024888]], dtype=float32)}, array([0, 0])]\n",
      "[{'dwuwektor': array([[-0.5774498 , -0.509704  ],\n",
      "       [-0.62878644,  0.9796878 ]], dtype=float32), 'losowa': array([[ 0.02641836],\n",
      "       [-0.77011716]], dtype=float32)}, array([1, 1])]\n",
      "[{'dwuwektor': array([[-0.17664216, -0.65993816],\n",
      "       [ 0.01847504,  1.5675002 ]], dtype=float32), 'losowa': array([[-0.20330544],\n",
      "       [ 0.8973253 ]], dtype=float32)}, array([0, 1])]\n",
      "[{'dwuwektor': array([[0.8479691 , 0.41261804],\n",
      "       [0.15169829, 0.10072342]], dtype=float32), 'losowa': array([[-0.42967  ],\n",
      "       [-1.6546108]], dtype=float32)}, array([0, 0])]\n",
      "[{'dwuwektor': array([[ 0.3343057 , -0.14217958],\n",
      "       [-0.750647  ,  1.362357  ]], dtype=float32), 'losowa': array([[-0.2673426 ],\n",
      "       [-0.79033524]], dtype=float32)}, array([0, 1])]\n",
      "[{'dwuwektor': array([[-0.95724374, -0.19849625],\n",
      "       [ 0.04229173, -0.15712504]], dtype=float32), 'losowa': array([[0.49424884],\n",
      "       [0.01595549]], dtype=float32)}, array([1, 1])]\n",
      "[{'dwuwektor': array([[-0.0840015 , -0.0045183 ],\n",
      "       [-0.48392034, -0.38150117]], dtype=float32), 'losowa': array([[0.29146653],\n",
      "       [0.5345269 ]], dtype=float32)}, array([0, 0])]\n",
      "[{'dwuwektor': array([[-1.0158339 , -0.3397864 ],\n",
      "       [-0.3520124 ,  0.79380053]], dtype=float32), 'losowa': array([[ 0.39187402],\n",
      "       [-0.06982655]], dtype=float32)}, array([1, 0])]\n",
      "[{'dwuwektor': array([[ 0.08369803,  0.04769782],\n",
      "       [-0.20373085, -0.6979173 ]], dtype=float32), 'losowa': array([[-0.42725793],\n",
      "       [-0.1714384 ]], dtype=float32)}, array([1, 0])]\n",
      "[{'dwuwektor': array([[ 0.39562035,  0.02494757],\n",
      "       [ 0.10805251, -0.7882266 ]], dtype=float32), 'losowa': array([[ 0.17020284],\n",
      "       [-0.5595964 ]], dtype=float32)}, array([0, 0])]\n",
      "[{'dwuwektor': array([[-0.63072884, -0.0448289 ],\n",
      "       [-0.42039916,  0.29647928]], dtype=float32), 'losowa': array([[1.2860336],\n",
      "       [1.3814265]], dtype=float32)}, array([0, 1])]\n",
      "[{'dwuwektor': array([[ 0.25057203,  0.7964093 ],\n",
      "       [-0.02968737, -0.3289749 ]], dtype=float32), 'losowa': array([[0.41633278],\n",
      "       [0.26173607]], dtype=float32)}, array([0, 0])]\n",
      "[{'dwuwektor': array([[-0.61446494,  1.7113016 ],\n",
      "       [-0.36414066, -0.09391437]], dtype=float32), 'losowa': array([[-0.41275588],\n",
      "       [-1.0661    ]], dtype=float32)}, array([1, 1])]\n",
      "[{'dwuwektor': array([[-0.26645106,  0.48222536],\n",
      "       [ 0.3388378 , -0.2280776 ]], dtype=float32), 'losowa': array([[0.96048737],\n",
      "       [0.5504677 ]], dtype=float32)}, array([0, 0])]\n",
      "[{'dwuwektor': array([[-0.9038046 ,  0.06291635],\n",
      "       [ 0.8320971 , -1.8177596 ]], dtype=float32), 'losowa': array([[0.9868144],\n",
      "       [0.4989693]], dtype=float32)}, array([1, 1])]\n",
      "[{'dwuwektor': array([[ 0.03639487,  0.2975017 ],\n",
      "       [-1.1305151 ,  1.0123994 ]], dtype=float32), 'losowa': array([[-0.11211291],\n",
      "       [ 1.780248  ]], dtype=float32)}, array([1, 1])]\n",
      "[{'dwuwektor': array([[-0.18600202, -0.40937397],\n",
      "       [-0.85543716,  0.15306145]], dtype=float32), 'losowa': array([[-0.8493076 ],\n",
      "       [ 0.34712884]], dtype=float32)}, array([1, 1])]\n",
      "[{'dwuwektor': array([[ 0.3806569 ,  0.03145615],\n",
      "       [-1.1470813 ,  0.13309628]], dtype=float32), 'losowa': array([[1.4001986],\n",
      "       [0.7927814]], dtype=float32)}, array([0, 1])]\n",
      "[{'dwuwektor': array([[-0.2522732 , -0.37647012],\n",
      "       [ 1.7606251 ,  0.30492818]], dtype=float32), 'losowa': array([[-0.5137313],\n",
      "       [ 0.9396498]], dtype=float32)}, array([0, 1])]\n",
      "[{'dwuwektor': array([[ 0.26691726,  0.55890274],\n",
      "       [ 0.08086497, -0.10767785]], dtype=float32), 'losowa': array([[-1.9382141],\n",
      "       [-1.6173158]], dtype=float32)}, array([0, 0])]\n",
      "[{'dwuwektor': array([[-0.50602955, -1.0999758 ],\n",
      "       [ 0.6741203 , -1.0062734 ]], dtype=float32), 'losowa': array([[1.580247 ],\n",
      "       [1.1924671]], dtype=float32)}, array([1, 0])]\n",
      "[{'dwuwektor': array([[ 0.12961166,  0.16472857],\n",
      "       [-0.03116252,  0.5304635 ]], dtype=float32), 'losowa': array([[ 1.7812618],\n",
      "       [-1.8689928]], dtype=float32)}, array([0, 0])]\n",
      "[{'dwuwektor': array([[-0.7035272 ,  1.0344886 ],\n",
      "       [ 0.98642415,  0.33874306]], dtype=float32), 'losowa': array([[-0.78159857],\n",
      "       [-0.8342167 ]], dtype=float32)}, array([1, 0])]\n",
      "[{'dwuwektor': array([[-0.15569699, -0.03213501],\n",
      "       [-0.40612862,  0.17190209]], dtype=float32), 'losowa': array([[-1.4960454 ],\n",
      "       [ 0.20176108]], dtype=float32)}, array([0, 0])]\n",
      "[{'dwuwektor': array([[-0.00649484,  0.4103914 ],\n",
      "       [ 0.5420664 , -0.7006597 ]], dtype=float32), 'losowa': array([[ 0.9817419 ],\n",
      "       [-0.03357788]], dtype=float32)}, array([1, 1])]\n",
      "[{'dwuwektor': array([[-0.34860593,  0.08102392],\n",
      "       [-1.2448237 , -0.3888762 ]], dtype=float32), 'losowa': array([[ 1.3958001 ],\n",
      "       [-0.36200958]], dtype=float32)}, array([0, 1])]\n",
      "[{'dwuwektor': array([[-0.08538462, -1.46751   ],\n",
      "       [ 0.991522  ,  0.05145648]], dtype=float32), 'losowa': array([[0.7034735 ],\n",
      "       [0.23306574]], dtype=float32)}, array([1, 1])]\n",
      "[{'dwuwektor': array([[-0.12276061, -0.06850507],\n",
      "       [ 0.43351203, -0.0144931 ]], dtype=float32), 'losowa': array([[0.19570014],\n",
      "       [2.19453   ]], dtype=float32)}, array([0, 0])]\n",
      "[{'dwuwektor': array([[-0.05397316, -1.7166665 ],\n",
      "       [-0.06183151,  0.4670313 ]], dtype=float32), 'losowa': array([[1.4027555],\n",
      "       [0.5840045]], dtype=float32)}, array([1, 0])]\n",
      "[{'dwuwektor': array([[ 0.20325641, -0.33503646],\n",
      "       [ 0.02433702, -0.00383944]], dtype=float32), 'losowa': array([[ 2.5355222 ],\n",
      "       [-0.10808302]], dtype=float32)}, array([0, 1])]\n",
      "[{'dwuwektor': array([[-0.1399127 , -0.28708023],\n",
      "       [-0.2098344 , -1.6326829 ]], dtype=float32), 'losowa': array([[ 1.0172803],\n",
      "       [-1.1028874]], dtype=float32)}, array([0, 1])]\n",
      "[{'dwuwektor': array([[-0.01673893,  0.14881884],\n",
      "       [ 0.12614845, -0.5273393 ]], dtype=float32), 'losowa': array([[ 0.9365659],\n",
      "       [-2.113496 ]], dtype=float32)}, array([0, 0])]\n",
      "[{'dwuwektor': array([[-0.07955033,  1.1583447 ],\n",
      "       [ 0.4450627 , -0.18807857]], dtype=float32), 'losowa': array([[-0.84005344],\n",
      "       [ 0.25129405]], dtype=float32)}, array([1, 0])]\n",
      "[{'dwuwektor': array([[-1.0927296 ,  0.01249754],\n",
      "       [-0.8445497 , -0.33804497]], dtype=float32), 'losowa': array([[-0.23266359],\n",
      "       [ 0.00615898]], dtype=float32)}, array([0, 0])]\n",
      "[{'dwuwektor': array([[-0.8002365 ,  1.1958939 ],\n",
      "       [-0.07418784,  0.3227157 ]], dtype=float32), 'losowa': array([[-0.6577097],\n",
      "       [ 1.1341913]], dtype=float32)}, array([1, 0])]\n",
      "[{'dwuwektor': array([[-2.0608423 ,  0.02503402],\n",
      "       [-0.6795507 , -0.18919156]], dtype=float32), 'losowa': array([[1.748414  ],\n",
      "       [0.65173554]], dtype=float32)}, array([1, 1])]\n",
      "[{'dwuwektor': array([[-0.21127616,  0.16942702],\n",
      "       [ 0.17335762,  0.07104516]], dtype=float32), 'losowa': array([[ 0.6750941],\n",
      "       [-1.4473413]], dtype=float32)}, array([1, 1])]\n",
      "[{'dwuwektor': array([[-0.21308717, -0.61359245],\n",
      "       [-0.7240796 ,  0.92629474]], dtype=float32), 'losowa': array([[ 0.09931236],\n",
      "       [-0.08750347]], dtype=float32)}, array([0, 1])]\n",
      "[{'dwuwektor': array([[ 0.43300945,  0.69370246],\n",
      "       [ 1.385075  , -0.24973886]], dtype=float32), 'losowa': array([[-0.4079244],\n",
      "       [-1.2929589]], dtype=float32)}, array([1, 1])]\n",
      "[{'dwuwektor': array([[-0.37266523, -0.49195457],\n",
      "       [ 0.12114852,  1.9182967 ]], dtype=float32), 'losowa': array([[-1.2201786],\n",
      "       [ 0.5646543]], dtype=float32)}, array([1, 1])]\n"
     ]
    }
   ],
   "source": [
    "\n",
    "BATCH_SIZE=2\n",
    "zbachowany=dataset.shuffle(1000).repeat().batch(BATCH_SIZE)\n",
    "iterator = zbachowany.make_one_shot_iterator()\n",
    "f,l=iterator.get_next()\n",
    "\n",
    "with tf.Session() as sess:\n",
    "    for i in range(100):\n",
    "        print(sess.run([f,l]))\n"
   ]
  },
  {
   "cell_type": "code",
   "execution_count": 63,
   "metadata": {},
   "outputs": [],
   "source": [
    "a=np.array([1])"
   ]
  },
  {
   "cell_type": "code",
   "execution_count": 64,
   "metadata": {},
   "outputs": [
    {
     "data": {
      "text/plain": [
       "numpy.int64"
      ]
     },
     "execution_count": 64,
     "metadata": {},
     "output_type": "execute_result"
    }
   ],
   "source": [
    "type(a[0])"
   ]
  },
  {
   "cell_type": "code",
   "execution_count": null,
   "metadata": {},
   "outputs": [],
   "source": []
  },
  {
   "cell_type": "code",
   "execution_count": null,
   "metadata": {},
   "outputs": [],
   "source": []
  },
  {
   "cell_type": "code",
   "execution_count": null,
   "metadata": {
    "collapsed": true
   },
   "outputs": [],
   "source": []
  },
  {
   "cell_type": "code",
   "execution_count": 84,
   "metadata": {
    "collapsed": true
   },
   "outputs": [],
   "source": []
  },
  {
   "cell_type": "code",
   "execution_count": 85,
   "metadata": {
    "collapsed": true
   },
   "outputs": [],
   "source": []
  },
  {
   "cell_type": "code",
   "execution_count": null,
   "metadata": {
    "collapsed": true
   },
   "outputs": [],
   "source": []
  },
  {
   "cell_type": "code",
   "execution_count": null,
   "metadata": {},
   "outputs": [],
   "source": []
  },
  {
   "cell_type": "code",
   "execution_count": 53,
   "metadata": {},
   "outputs": [],
   "source": []
  },
  {
   "cell_type": "code",
   "execution_count": null,
   "metadata": {},
   "outputs": [],
   "source": []
  },
  {
   "cell_type": "code",
   "execution_count": null,
   "metadata": {
    "collapsed": true
   },
   "outputs": [],
   "source": []
  },
  {
   "cell_type": "code",
   "execution_count": 100,
   "metadata": {},
   "outputs": [],
   "source": []
  },
  {
   "cell_type": "code",
   "execution_count": 121,
   "metadata": {},
   "outputs": [],
   "source": []
  },
  {
   "cell_type": "code",
   "execution_count": null,
   "metadata": {},
   "outputs": [],
   "source": []
  },
  {
   "cell_type": "code",
   "execution_count": null,
   "metadata": {},
   "outputs": [],
   "source": []
  },
  {
   "cell_type": "code",
   "execution_count": null,
   "metadata": {
    "collapsed": true
   },
   "outputs": [],
   "source": []
  },
  {
   "cell_type": "code",
   "execution_count": null,
   "metadata": {
    "collapsed": true
   },
   "outputs": [],
   "source": []
  },
  {
   "cell_type": "code",
   "execution_count": null,
   "metadata": {
    "collapsed": true
   },
   "outputs": [],
   "source": []
  },
  {
   "cell_type": "code",
   "execution_count": null,
   "metadata": {
    "collapsed": true
   },
   "outputs": [],
   "source": []
  },
  {
   "cell_type": "code",
   "execution_count": null,
   "metadata": {},
   "outputs": [],
   "source": []
  },
  {
   "cell_type": "code",
   "execution_count": null,
   "metadata": {
    "collapsed": true
   },
   "outputs": [],
   "source": []
  },
  {
   "cell_type": "code",
   "execution_count": null,
   "metadata": {
    "collapsed": true
   },
   "outputs": [],
   "source": []
  },
  {
   "cell_type": "code",
   "execution_count": null,
   "metadata": {},
   "outputs": [],
   "source": []
  },
  {
   "cell_type": "code",
   "execution_count": null,
   "metadata": {},
   "outputs": [],
   "source": []
  },
  {
   "cell_type": "code",
   "execution_count": null,
   "metadata": {},
   "outputs": [],
   "source": []
  },
  {
   "cell_type": "code",
   "execution_count": null,
   "metadata": {},
   "outputs": [],
   "source": []
  },
  {
   "cell_type": "code",
   "execution_count": null,
   "metadata": {
    "collapsed": true
   },
   "outputs": [],
   "source": []
  },
  {
   "cell_type": "code",
   "execution_count": null,
   "metadata": {},
   "outputs": [],
   "source": [
    "\n",
    "    "
   ]
  },
  {
   "cell_type": "code",
   "execution_count": null,
   "metadata": {
    "collapsed": true
   },
   "outputs": [],
   "source": []
  },
  {
   "cell_type": "code",
   "execution_count": null,
   "metadata": {
    "collapsed": true
   },
   "outputs": [],
   "source": []
  }
 ],
 "metadata": {
  "kernelspec": {
   "display_name": "Python 3",
   "language": "python",
   "name": "python3"
  },
  "language_info": {
   "codemirror_mode": {
    "name": "ipython",
    "version": 3
   },
   "file_extension": ".py",
   "mimetype": "text/x-python",
   "name": "python",
   "nbconvert_exporter": "python",
   "pygments_lexer": "ipython3",
   "version": "3.6.5"
  }
 },
 "nbformat": 4,
 "nbformat_minor": 2
}
