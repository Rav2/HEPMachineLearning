{
 "cells": [
  {
   "cell_type": "code",
   "execution_count": 1,
   "metadata": {},
   "outputs": [],
   "source": [
    "import tensorflow as tf"
   ]
  },
  {
   "cell_type": "code",
   "execution_count": 2,
   "metadata": {},
   "outputs": [],
   "source": [
    "import os"
   ]
  },
  {
   "cell_type": "code",
   "execution_count": 3,
   "metadata": {},
   "outputs": [],
   "source": [
    "import numpy as np"
   ]
  },
  {
   "cell_type": "code",
   "execution_count": 4,
   "metadata": {},
   "outputs": [],
   "source": [
    "import matplotlib.pyplot as plt"
   ]
  },
  {
   "cell_type": "code",
   "execution_count": 5,
   "metadata": {},
   "outputs": [
    {
     "name": "stdout",
     "output_type": "stream",
     "text": [
      "Welcome to JupyROOT 6.15/01\n"
     ]
    }
   ],
   "source": [
    "import read_tree as rt\n",
    "\n",
    "import sys\n"
   ]
  },
  {
   "cell_type": "code",
   "execution_count": 6,
   "metadata": {},
   "outputs": [],
   "source": [
    "import json"
   ]
  },
  {
   "cell_type": "code",
   "execution_count": 7,
   "metadata": {},
   "outputs": [],
   "source": [
    "%matplotlib inline"
   ]
  },
  {
   "cell_type": "code",
   "execution_count": null,
   "metadata": {},
   "outputs": [],
   "source": []
  },
  {
   "cell_type": "code",
   "execution_count": null,
   "metadata": {},
   "outputs": [],
   "source": []
  },
  {
   "cell_type": "code",
   "execution_count": null,
   "metadata": {},
   "outputs": [],
   "source": []
  },
  {
   "cell_type": "code",
   "execution_count": null,
   "metadata": {},
   "outputs": [],
   "source": []
  },
  {
   "cell_type": "code",
   "execution_count": null,
   "metadata": {},
   "outputs": [],
   "source": []
  },
  {
   "cell_type": "code",
   "execution_count": null,
   "metadata": {},
   "outputs": [],
   "source": []
  },
  {
   "cell_type": "code",
   "execution_count": null,
   "metadata": {},
   "outputs": [],
   "source": [
    "\n",
    "    "
   ]
  },
  {
   "cell_type": "code",
   "execution_count": null,
   "metadata": {},
   "outputs": [],
   "source": []
  },
  {
   "cell_type": "code",
   "execution_count": null,
   "metadata": {},
   "outputs": [],
   "source": []
  },
  {
   "cell_type": "code",
   "execution_count": null,
   "metadata": {},
   "outputs": [],
   "source": []
  },
  {
   "cell_type": "code",
   "execution_count": null,
   "metadata": {},
   "outputs": [],
   "source": []
  },
  {
   "cell_type": "code",
   "execution_count": 38,
   "metadata": {},
   "outputs": [],
   "source": [
    "\n",
    "\"\"\"\n",
    "ten nowy bedzie uproszczony\n",
    "__init__(nazwa_folderu,tryb)\n",
    "    inputs:\n",
    "            nazwa_folderu np \"pierwszy_dataset\" tam bedzie pisac/stamtad bedzie sczytywac. \n",
    "            tryb np 'r' lub 'w' i oznacza czy czytac chcesz czy pisac\n",
    "           \n",
    "\n",
    "write(legs,jets,global_params,properties,l,co_ile_flush_file=10)\n",
    "        dostepna tylko jak tryb to jest 'w'\n",
    "            legs,jets,global_params,properties jak w wyjsciu klasy read_tree, tylko \"dla jednego przypadku\"\n",
    "                wiec jest tak\n",
    "                        zakladam, ze legs to jest lista o shapie (?,4) wypelniona floatami\n",
    "                        jets dokladnie tak samo\n",
    "                        global_params to jest w postaci {nazwa:liczba, ...}\n",
    "                        properties tak samo\n",
    "                        l to label jest intem rownym to 0 lub 1, gdzie 1 oznacza, ze to jest raczej bardziej ciekawy przypadek\n",
    "                         a 0 to taki bardziej tlo. to jest int \n",
    "                 co_ile_flush_file to znaczy jak czesto ma oprozniac swoj buffer, liczy sie tylko\n",
    "                    gdy tryb=='w', nie wiem ile ma wynosic,wiec jak wiesz to smialo ustaw\n",
    "\n",
    "close()\n",
    "            dostepna tylko dla tryb=='w'\n",
    "            zamyka bezpiecznie nasz plik\n",
    "read()\n",
    "            dostepna tylko dla tryb=='r'\n",
    "            wyrzuci z siebie tensorflowowy dataset gotowy do uczenia\n",
    "                w przyszlosci Teraz dorabiam to, ze bedzie z siebire wyrzucac wraz z \n",
    "                nowymi dorobionymi featcherami\n",
    "            dataset wyglada tak, ze pojedynczy przypadek to jest (slownik_featurow,label)\n",
    "                gdzie label to bedzie 0 lub 1\n",
    "                zas slownik featerow to jest tak, ze sa klucze stringow a wartosci to jest\n",
    "                1d arraye ktore sa intami lub floatami \n",
    "                to znaczy, ze zwraca to samo co ta stara moja klasa czytajaca\n",
    "types()\n",
    "            uzywamy takiego czegos tylko dla type=='r'\n",
    "            zwraca slownik typow naszego datasetu. Teraz dorabiam to, zeby \n",
    "            gdy dodamy feature to .types() się nam zmienia, co bedzie przydatne.\n",
    "            \n",
    "write_old(features,l) \n",
    "        features to slwonik features dla jednego przykladu\n",
    "        moze liczbe lub liste lub np array typu jakiegos int lub jakiegos float\n",
    "        l to jest label jego 0 lub 1\n",
    "        to jest dostepne tylko w przypadku trybu 'w'\n",
    "        wygodna metoda do tego, azeby \"potasowac\" przyklady z roznych plikow w jeden dataset, bo pisze\n",
    "        sie przyklady w takiej formie w jakiej sie odczytywalo z tych datasetow. \n",
    "\n",
    "engineer_feature(self,f,slownik,typ,nazwa):\n",
    "        nazwa czyli jak ten nowy ma sie nazywac\n",
    "        dostepna tylko w trybie 'w' czyli czytania\n",
    "        gdzie f to funkcja przyjmująca argumenty o nazwach ze zbioru kluczy slownika slownik, \n",
    "        zwraca zas nowy feature. musi to byc funkcja dzialajaca dobrze na tensorach z tensorflow\n",
    "         funkcja f musi byc taka, ze dobrze dziala na tensorflowywch tensorach o ksztalcie (-1,) to znaczy \n",
    "        scisle jednowymiarowych. Wynikiem tej funkcji czyli nowym featurem musi byc znowu tensor o ksztalcie\n",
    "        (-1,). \n",
    "        \n",
    "        \n",
    "        https://www.tensorflow.org/api_guides/python/math_ops\n",
    "        tu macie podstawowe operacje. pamietjcie, ze * oraz + tez mozna uzywac, ale\n",
    "        nie wszystkie funkcje z numpy sa dobre w tensorflow( to znaczy inaczej sie w nim nazywaja).\n",
    "        \n",
    "        slownik to slownik którego klucze sa ze zbioru nazw argumentow funkcji f zas \n",
    "        zas wartosci to sa nazwy rzeczy wystepujacych w kluczach slownika z metody .types()\n",
    "        typ wynosi np (4,'f') cyzli ze ten nowy\n",
    "        feature bedzie mial 4 floaty. moze byc tez 'i'. oznacza, czy to co powstaje bedzie intem czy floatem. \n",
    "        Tak wiem to leniwe, ale bardziej bugoodporne po mojej stronie. \n",
    "        metoda ta sprawia, ze jak zrobisz .read() to dostaniesz dataset ktory ma taki fajny\n",
    "        nowy feature.\n",
    "        w kluczach slownika ktory mozna dostac z metody types()\n",
    "       \n",
    "            \n",
    "\n",
    "\n",
    "\n",
    "\n",
    "\n",
    "\n",
    "\n",
    "\"\"\"\n",
    "\n",
    "\n",
    "class Io_tf_binary_general:\n",
    "    def __init__(self,nazwa_folderu,tryb):\n",
    "        \n",
    "        self.nazwa_folderu=nazwa_folderu\n",
    "        self.tryb=tryb\n",
    "        \n",
    "        if tryb=='r':\n",
    "            slownik_typow=Io_tf_binary_general.wczytaj_json(self.nazwa_folderu+\"/metadata\")\n",
    "            self.wewnetrzny=Io_tf_binary_general.Io_tf_binary_stary(\n",
    "                self.nazwa_folderu+\"/dane\",slownik_typow,self.tryb)\n",
    "        \n",
    "        self.nowopowstala=True\n",
    "        \n",
    "    def engineer_feature(self,f,slownik,typ,nazwa):\n",
    "        assert self.tryb=='r'\n",
    "        assert not (nazwa in self.wewnetrzny.types().keys())\n",
    "        self.wewnetrzny.engineer_feature(f,slownik,typ,nazwa)\n",
    "        \n",
    "        \n",
    "    \n",
    "        \n",
    "        \n",
    "    \n",
    "    def zapisz_json(co,gdzie):\n",
    "        f=open(gdzie,'w')\n",
    "        f.write(json.dumps(co))\n",
    "    def wczytaj_json(skad):\n",
    "        f=open(skad,'r')\n",
    "        return json.loads(f.read())\n",
    "    \n",
    "    def zrob_slownik_typow(legs,jets,global_params,properties):\n",
    "        #zakladam, ze legs to jest lista o shapie (?,4) wypelniona floatami\n",
    "        #jets dokladnie tak samo\n",
    "        #global_params to jest w postaci {nazwa:liczba, ...}\n",
    "        wyrzut={}\n",
    "        legs=np.array(legs)\n",
    "        jets=np.array(jets)\n",
    "        n_legs=legs.shape[0]\n",
    "        n_jets=jets.shape[0]\n",
    "        def czy_int(x):\n",
    "            type(x)==int or type(x)==int ==numpy.int64\n",
    "\n",
    "        for i in range(n_legs):\n",
    "            wyrzut[\"leg_\"+str(i)+\"_momentum\"]=(4,'f')\n",
    "        for i in range(n_jets):\n",
    "            wyrzut[\"jet_\"+str(i)+\"_momentum\"]=(4,'f')\n",
    "        def dorob(wyrzut,global_params):\n",
    "            for param_key in global_params.keys():\n",
    "                if np.issubdtype(type(global_params[param_key]), np.integer):\n",
    "                    wyrzut[param_key]=(1,'i')\n",
    "                else:\n",
    "                    wyrzut[param_key]=(1,'f')\n",
    "            return wyrzut\n",
    "        wyrzut=dorob(wyrzut,global_params)\n",
    "        wyrzut=dorob(wyrzut,properties)\n",
    "        return wyrzut\n",
    "    def zrob_slownik_typow_old_format(f):\n",
    "        wyrzut={}\n",
    "        ff={}\n",
    "        for k in f.keys():\n",
    "            ff[k]=np.array(f[k]).reshape((-1,))\n",
    "        for k in ff.keys():\n",
    "            if np.issubdtype(type(ff[k][0]), np.integer):\n",
    "                wyrzut[k]=(len(ff[k]),'i')\n",
    "            else:\n",
    "                wyrzut[k]=(len(ff[k]),'f')\n",
    "        return wyrzut\n",
    "        \n",
    "    \n",
    "    def zrob_sensowna_forme(legs,jets,global_params,properties,l):\n",
    "        #l jest intem i to 0 lub 1\n",
    "        legs=np.array(legs)\n",
    "        jets=np.array(jets)\n",
    "        n_legs=legs.shape[0]\n",
    "        n_jets=jets.shape[0]\n",
    "\n",
    "        f={}\n",
    "\n",
    "\n",
    "        for i in range(n_legs):\n",
    "            f[\"leg_\"+str(i)+\"_momentum\"]=legs[i,:]\n",
    "        for i in range(n_jets):\n",
    "            f[\"jet_\"+str(i)+\"_momentum\"]=jets[i,:]\n",
    "\n",
    "        for param_key in global_params.keys():\n",
    "            f[param_key]=[global_params[param_key]]\n",
    "        for k in properties:\n",
    "            f[k]=[properties[k]]\n",
    "        return f,l\n",
    "    \n",
    "    def write(self,legs,jets,global_params,properties,l,co_ile_flush_file=10):\n",
    "        #zakladam, ze legs to jest lista o shapie (?,4) wypelniona floatami\n",
    "        #jets dokladnie tak samo\n",
    "        #global_params to jest w postaci {nazwa:liczba, ...}\n",
    "        #l jest intem i to 0 lub 1\n",
    "        assert self.tryb=='w'\n",
    "        if self.nowopowstala==True:\n",
    "            os.system(\"mkdir \"+self.nazwa_folderu)\n",
    "            self.nowopowstala=False\n",
    "            slownik= Io_tf_binary_general.zrob_slownik_typow(legs,jets,global_params,properties)\n",
    "            self.typy_pierwszego=slownik\n",
    "            Io_tf_binary_general.zapisz_json(slownik,self.nazwa_folderu+\"/metadata\")\n",
    "            self.stary_io=Io_tf_binary_general.Io_tf_binary_stary(\n",
    "                self.nazwa_folderu+\"/dane\",slownik,self.tryb,co_ile_flush_file)\n",
    "        f,l=Io_tf_binary_general.zrob_sensowna_forme(legs,jets,global_params,properties,l)\n",
    "        slownik= Io_tf_binary_general.zrob_slownik_typow_old_format(f)\n",
    "        assert self.typy_pierwszego==slownik\n",
    "        \n",
    "        \n",
    "        self.stary_io.wpisz(f,l)\n",
    "        \n",
    "    def write_old(self,features,l,co_ile_flush_file=10):\n",
    "        assert self.tryb=='w'\n",
    "        if self.nowopowstala==True:\n",
    "            os.system(\"mkdir \"+self.nazwa_folderu)\n",
    "            self.nowopowstala=False\n",
    "            slownik= Io_tf_binary_general.zrob_slownik_typow_old_format(features)\n",
    "            self.typy_pierwszego=slownik\n",
    "            Io_tf_binary_general.zapisz_json(slownik,self.nazwa_folderu+\"/metadata\")\n",
    "            self.stary_io=Io_tf_binary_general.Io_tf_binary_stary(\n",
    "                self.nazwa_folderu+\"/dane\",slownik,self.tryb,co_ile_flush_file)\n",
    "        slownik= Io_tf_binary_general.zrob_slownik_typow_old_format(features)\n",
    "        assert self.typy_pierwszego==slownik\n",
    "        \n",
    "        \n",
    "        self.stary_io.wpisz(features,l)\n",
    "            \n",
    "            \n",
    "        \n",
    "        \n",
    "        \n",
    "        \n",
    "    def close(self):\n",
    "        assert self.tryb=='w'\n",
    "        if not self.nowopowstala:\n",
    "            self.stary_io.close()\n",
    "    def read(self):\n",
    "        assert self.tryb=='r'\n",
    "        \n",
    "        return self.wewnetrzny.wczytaj_dataset()\n",
    "    def types(self):\n",
    "        if self.tryb=='r':\n",
    "            return self.wewnetrzny.types()\n",
    "        if self.nowopowstala==False:\n",
    "            return self.self.typy_pierwszego\n",
    "        print (\"jeszcze nic wpisales, wiec nie wiadomo\")\n",
    "        return {}\n",
    "        \n",
    "    \n",
    "    #jakby ktos kopiowal to to idzie dalej\n",
    "    #==========================================================    \n",
    "        \"\"\"\n",
    "    do creatora dajemy sobie nazwe pliku (sciezke) oraz slownik typu {'czterowektor': (4,'f'),'intowa_wlasnosc': (1,'i'),\n",
    "    ...}\n",
    "    to znaczy nazwe, ile to jest liczb, jakiego typu. Obsluguje na razie jedynie 'f' oraz 'i' to \n",
    "    jest float oraz int\n",
    "    nie mozna uzyc jako klucz 'label', bo to jest wykorzystywana nazwa.\n",
    "\n",
    "\n",
    "    funkcja wpisz bierze jako argument jeden przypadek  cos typu \n",
    "    ({\"czterowektor\":[1.,2.,3.,4.], ...},1) gdzie 1 jest labelem, label jest intem.\n",
    "    . oczywiście klucze slownika zgadzają się \n",
    "    z kluczami ze slownika ktorego uzylismy do kreatora.\n",
    "\n",
    "    dataset wczytany metoda wczytaj dataset jest juz w postaci wygodnej dla mnie to znaczy \n",
    "    slownik feature, label\n",
    "    \"\"\"\n",
    "    class Io_tf_binary_stary:\n",
    "        def __init__(self,nazwa_pliku,slownik,tryb,co_ile_flush_file=10):\n",
    "            #tryb to 'w' dla write oraz 'r' dla read\n",
    "            \n",
    "            self.co_ile=co_ile_flush_file\n",
    "            self.plik=nazwa_pliku\n",
    "            self.typy=slownik\n",
    "            for k in self.typy.keys():\n",
    "                assert self.typy[k][1] in ['f','i']\n",
    "                assert self.typy[k][0]>0 \n",
    "                assert np.issubdtype(type(self.typy[k][0]), np.integer)\n",
    "            self.tryb=tryb\n",
    "            if tryb=='w':\n",
    "                self.writer= tf.python_io.TFRecordWriter(self.plik)\n",
    "            if tryb=='r':\n",
    "                self.dataset=self.wczytaj_bez_feature_engeeneringu()\n",
    "            self.liczba_wrzuconych=0\n",
    "\n",
    "            #self.cos=Io_tf_binary.wrap_int64([5])\n",
    "        def types(self):\n",
    "            return self.typy\n",
    "\n",
    "        def close(self):\n",
    "            self.writer.close()\n",
    "\n",
    "\n",
    "        \"\"\"\n",
    "        To moze sobie czytac ktos kto chce zmieniac wnetrznosci tej klasy\n",
    "        Nie polecam\n",
    "\n",
    "        Teraz ta funkcja wpisz jest ważna. ona bierze po jednym przypadku testowym, \n",
    "        ( to jest ta petla for i in range()) i go zapisuje. trzeba zwracac \n",
    "        uwage na to jakiego typu sa zapisywane rzeczy. mozna oczywiscie zrobic slownik\n",
    "        data dluzszym, jesli to w jakis sposob ulatwi nam myslenie o naszych danych. \n",
    "        Bo te nasze dane to bedzie slownik list, w ktorych to listach rzeczy maja \n",
    "        juz taki sam typ, a klucze to beda jakies opisowe nazwy.\n",
    "        np \n",
    "\n",
    "        data={\n",
    "        'czteroped_lewej_nogi_czy_cos': wrap_float64(cztero), # gdzie cztero to jest tensor floatow o shape (4,)\n",
    "        # reszta rzeczy\n",
    "\n",
    "        }\n",
    "\n",
    "        Jak byscie chcieli jako wartosci miec stringi to musicie pomyslec jak zrobic wrapy dla stringow. oczywiscie\n",
    "        nie znajdziecie zadnej dokumentacji.\n",
    "\n",
    "        UWAGA \n",
    "        w tym slowniku data musi byc to co klasyfikujemy oznaczone przy pomocy 'label' bo inaczej sie  wywali program.\n",
    "\n",
    "\n",
    "\n",
    "\n",
    "\n",
    "        \"\"\"\n",
    "\n",
    "\n",
    "        def wpisz(self,features,label):\n",
    "            \"\"\"tworzy ten nasz dataset w pliku out_path \n",
    "            tu format jest taki jak byl na poczatku to znaczy taki slownik\"\"\"\n",
    "            f=features\n",
    "            l=label\n",
    "            def wrap_int64(value):\n",
    "                \"\"\"lista intow musi wlesc\"\"\"\n",
    "                return tf.train.Feature(int64_list=tf.train.Int64List(value=value))\n",
    "            def wrap_float64(value):\n",
    "                \"\"\"lista floatow musi wlesc\"\"\"\n",
    "                return tf.train.Feature(float_list=tf.train.FloatList(value=value))\n",
    "\n",
    "            #f,l=kolko_w_kolku() #mozna zmienic jak sie podoba\n",
    "            def data_slownik(f,l):\n",
    "                wyrzut={}\n",
    "                for k in self.typy.keys():\n",
    "                    if self.typy[k][1]=='f':\n",
    "                        wyrzut[k]=wrap_float64(np.array(f[k]).reshape((-1,)))\n",
    "                    else:\n",
    "                        wyrzut[k]=wrap_int64(np.array(f[k]).reshape((-1,)))\n",
    "                wyrzut['label']=wrap_int64([l])\n",
    "                return wyrzut\n",
    "\n",
    "\n",
    "\n",
    "            #feature=f[i]\n",
    "            #label=l[i]\n",
    "            #data = {\n",
    "             #    'feature': wrap_float64(feature),\n",
    "            #  'label': wrap_int64([label])\n",
    "               #     }\n",
    "            data=data_slownik(f,l)\n",
    "            # Wrap the data as TensorFlow Features.\n",
    "            feature = tf.train.Features(feature=data)\n",
    "\n",
    "            # Wrap again as a TensorFlow Example.\n",
    "            example = tf.train.Example(features=feature)\n",
    "\n",
    "            # Serialize the data.\n",
    "            serialized = example.SerializeToString()\n",
    "\n",
    "            # Write the serialized data to the TFRecords file.\n",
    "            self.writer.write(serialized)\n",
    "            self.liczba_wrzuconych+=1\n",
    "            if self.liczba_wrzuconych%self.co_ile==0:\n",
    "                self.writer.flush()\n",
    "\n",
    "\n",
    "\n",
    "\n",
    "\n",
    "        def wczytaj_bez_feature_engeeneringu(self):\n",
    "\n",
    "            def zeslownikoj(x):\n",
    "                keys=list(x.keys())\n",
    "                f={}\n",
    "                for k in keys:\n",
    "                    if not k=='label':\n",
    "                        f[k]=x[k]\n",
    "                return f,x['label']\n",
    "            def features_generoj():\n",
    "                wyrzut={}\n",
    "                for k in self.typy.keys():\n",
    "                    if self.typy[k][1]=='f':\n",
    "                        wyrzut[k]=tf.FixedLenFeature([self.typy[k][0]], tf.float32)\n",
    "                    else:\n",
    "                        wyrzut[k]=tf.FixedLenFeature([self.typy[k][0]], tf.int64)\n",
    "                wyrzut['label']=tf.FixedLenFeature([], tf.int64)\n",
    "                return wyrzut\n",
    "\n",
    "            def parse(serialized):\n",
    "\n",
    "                # Define a dict with the data-names and types we expect to\n",
    "                # find in the TFRecords file.\n",
    "                # It is a bit awkward that this needs to be specified again,\n",
    "                # because it could have been written in the header of the\n",
    "                # TFRecords file instead.\n",
    "                \"\"\"\n",
    "                features = \\\n",
    "                    {\n",
    "                        'dwuwektor': tf.FixedLenFeature([2], tf.float32),#z jakiegos powodu to jest float32, nie wiem czemu\n",
    "                        'label': tf.FixedLenFeature([], tf.int64)\n",
    "                    }\n",
    "                \"\"\"\n",
    "                features=features_generoj()\n",
    "                print(features)\n",
    "\n",
    "                # Parse the serialized data so we get a dict with our data.\n",
    "                parsed_example = tf.parse_single_example(serialized=serialized,\n",
    "                                                         features=features)\n",
    "\n",
    "\n",
    "                return zeslownikoj(parsed_example)\n",
    "\n",
    "            dataset = tf.data.TFRecordDataset(self.plik)\n",
    "            dataset = dataset.map(parse)\n",
    "            return dataset\n",
    "\n",
    "\n",
    "        def engineer_feature(self,f,slownik,typ,nazwa):\n",
    "            assert self.tryb=='r'\n",
    "            \"\"\" to ma zmienic po prostu nasz self.dataset\"\"\"\n",
    "            def dodaj_jeden_feature(engineered,dataset):\n",
    "                \"\"\"ten engineered to jest ten slownik {'f':f,'slownik':slownik,'typ':typ,'nazwa':nazwa}\"\"\"\n",
    "                for k in engineered['slownik'].keys():\n",
    "                    assert engineered['slownik'][k] in self.typy.keys()\n",
    "                assert not (engineered['nazwa'] in self.typy.keys())\n",
    "                def lambdowata(f,label):\n",
    "                    #features,label=jeden_przyklad\n",
    "                    features=f.copy()\n",
    "                    def zrob_podstawienie():\n",
    "                        podstawienie={}\n",
    "                        for zmienna in engineered['slownik'].keys():\n",
    "                            podstawienie[zmienna]=features[engineered['slownik'][zmienna]]\n",
    "                        return podstawienie\n",
    "                    nazwa=engineered['nazwa']\n",
    "                    features[nazwa]=engineered['f'](**zrob_podstawienie())\n",
    "                    self.typy[nazwa]=engineered['typ']\n",
    "                    return features,label\n",
    "                return dataset.map(lambdowata)\n",
    "                    \n",
    "            engi={'f':f,'slownik':slownik,'typ':typ,'nazwa':nazwa}\n",
    "            self.dataset= dodaj_jeden_feature(engi,self.dataset)\n",
    "        def wczytaj_dataset(self):\n",
    "            assert self.tryb=='r'\n",
    "            return self.dataset\n",
    "    \n",
    "    \n",
    "    \n",
    "    \n",
    "    \n",
    "    \n",
    "    \n",
    "    \n",
    "    \n",
    "    "
   ]
  },
  {
   "cell_type": "code",
   "execution_count": null,
   "metadata": {},
   "outputs": [],
   "source": [
    "\n",
    "    \n",
    "    \n",
    "    \n",
    "    "
   ]
  },
  {
   "cell_type": "code",
   "execution_count": null,
   "metadata": {},
   "outputs": [],
   "source": []
  },
  {
   "cell_type": "code",
   "execution_count": null,
   "metadata": {},
   "outputs": [],
   "source": []
  },
  {
   "cell_type": "code",
   "execution_count": 46,
   "metadata": {},
   "outputs": [],
   "source": [
    "pisacz=Io_tf_binary_general(\"proby\",'w')"
   ]
  },
  {
   "cell_type": "code",
   "execution_count": 47,
   "metadata": {},
   "outputs": [
    {
     "name": "stderr",
     "output_type": "stream",
     "text": [
      "mkdir: cannot create directory ‘proby’: File exists\n"
     ]
    }
   ],
   "source": [
    "for i in range(100):\n",
    "    przyklad={}\n",
    "    przyklad[\"jeden\"]=np.random.randn(3)\n",
    "    przyklad[\"dwa\"]=np.random.randn(7)\n",
    "    przyklad[\"jedynka\"]=10\n",
    "    pisacz.write_old(przyklad,1)\n",
    "pisacz.close()"
   ]
  },
  {
   "cell_type": "code",
   "execution_count": 48,
   "metadata": {},
   "outputs": [
    {
     "name": "stdout",
     "output_type": "stream",
     "text": [
      "{'jeden': FixedLenFeature(shape=[3], dtype=tf.float32, default_value=None), 'dwa': FixedLenFeature(shape=[7], dtype=tf.float32, default_value=None), 'jedynka': FixedLenFeature(shape=[1], dtype=tf.int64, default_value=None), 'label': FixedLenFeature(shape=[], dtype=tf.int64, default_value=None)}\n"
     ]
    }
   ],
   "source": [
    "czytacz=Io_tf_binary_general(\"proby\",'r')"
   ]
  },
  {
   "cell_type": "code",
   "execution_count": 49,
   "metadata": {},
   "outputs": [
    {
     "data": {
      "text/plain": [
       "{'jeden': [3, 'f'], 'dwa': [7, 'f'], 'jedynka': [1, 'i']}"
      ]
     },
     "execution_count": 49,
     "metadata": {},
     "output_type": "execute_result"
    }
   ],
   "source": [
    "czytacz.types()"
   ]
  },
  {
   "cell_type": "code",
   "execution_count": 50,
   "metadata": {},
   "outputs": [],
   "source": [
    "def funkcja(j,d):\n",
    "    return (tf.reduce_sum(j)+tf.reduce_sum(d))\n",
    "czytacz.engineer_feature(funkcja,{'j':'jeden','d':\"dwa\"},[1,'f'],'nowy_smieszny')"
   ]
  },
  {
   "cell_type": "code",
   "execution_count": 52,
   "metadata": {},
   "outputs": [
    {
     "name": "stdout",
     "output_type": "stream",
     "text": [
      " \n",
      " \n",
      " \n",
      " \n",
      " \n",
      " \n",
      " \n",
      " \n",
      " \n",
      " \n",
      "({'dwa': array([[ 0.41835564,  0.57092345, -1.7280126 , -1.0485191 ,  0.916696  ,\n",
      "         0.68666667, -0.7089745 ]], dtype=float32), 'jeden': array([[1.0308993 , 0.39747602, 0.3163561 ]], dtype=float32), 'jedynka': array([[10]]), 'nowy_smieszny': array([0.85186684], dtype=float32)}, array([1]))\n",
      "({'dwa': array([[-0.10962764,  0.13666926,  1.5222051 ,  1.9485661 , -1.52399   ,\n",
      "         0.07342698,  0.83920515]], dtype=float32), 'jeden': array([[ 0.12666604, -0.0786052 , -0.31761867]], dtype=float32), 'jedynka': array([[10]]), 'nowy_smieszny': array([2.616897], dtype=float32)}, array([1]))\n",
      "({'dwa': array([[ 0.07198319, -0.411058  , -1.1940479 ,  0.6647556 ,  1.4528031 ,\n",
      "        -0.8726839 ,  1.06319   ]], dtype=float32), 'jeden': array([[-0.29472843, -0.69824755, -1.9359978 ]], dtype=float32), 'jedynka': array([[10]]), 'nowy_smieszny': array([-2.1540318], dtype=float32)}, array([1]))\n"
     ]
    }
   ],
   "source": [
    "\n",
    "dataset=czytacz.read()\n",
    "BATCH_SIZE=1\n",
    "zbachowany=dataset.shuffle(1000).repeat().batch(BATCH_SIZE)\n",
    "iterator = zbachowany.make_one_shot_iterator()\n",
    "para=iterator.get_next()\n",
    "for i in range(10):\n",
    "    print(\" \")\n",
    "with tf.Session() as sess:\n",
    "    for i in range(3):\n",
    "        print(sess.run(para))\n"
   ]
  },
  {
   "cell_type": "code",
   "execution_count": null,
   "metadata": {},
   "outputs": [],
   "source": []
  },
  {
   "cell_type": "code",
   "execution_count": null,
   "metadata": {},
   "outputs": [],
   "source": []
  },
  {
   "cell_type": "code",
   "execution_count": null,
   "metadata": {},
   "outputs": [],
   "source": []
  },
  {
   "cell_type": "code",
   "execution_count": null,
   "metadata": {},
   "outputs": [],
   "source": []
  },
  {
   "cell_type": "code",
   "execution_count": null,
   "metadata": {},
   "outputs": [],
   "source": []
  },
  {
   "cell_type": "code",
   "execution_count": null,
   "metadata": {},
   "outputs": [],
   "source": []
  },
  {
   "cell_type": "code",
   "execution_count": null,
   "metadata": {},
   "outputs": [],
   "source": [
    "\n",
    "\n"
   ]
  },
  {
   "cell_type": "code",
   "execution_count": null,
   "metadata": {},
   "outputs": [],
   "source": []
  },
  {
   "cell_type": "code",
   "execution_count": null,
   "metadata": {},
   "outputs": [],
   "source": []
  },
  {
   "cell_type": "code",
   "execution_count": 15,
   "metadata": {},
   "outputs": [
    {
     "name": "stdout",
     "output_type": "stream",
     "text": [
      "[ML]\tOpening root file for python conversion.\n",
      "[ML]\tReading data from TTree.\n",
      "[ML]\tConversion to python successful!\n"
     ]
    }
   ],
   "source": [
    "in_file=\"data/dummy.root\"\n",
    "out_file=\"output/example\"\n",
    "tree_path=\"Summary/tree\"\n",
    "legs, jets, global_params, properties = rt.read_tree(in_file, tree_path)"
   ]
  },
  {
   "cell_type": "code",
   "execution_count": 16,
   "metadata": {},
   "outputs": [
    {
     "data": {
      "text/plain": [
       "637"
      ]
     },
     "execution_count": 16,
     "metadata": {},
     "output_type": "execute_result"
    }
   ],
   "source": [
    "np.array(legs).shape[2]"
   ]
  },
  {
   "cell_type": "code",
   "execution_count": null,
   "metadata": {},
   "outputs": [],
   "source": []
  },
  {
   "cell_type": "code",
   "execution_count": null,
   "metadata": {},
   "outputs": [],
   "source": []
  },
  {
   "cell_type": "code",
   "execution_count": null,
   "metadata": {},
   "outputs": [],
   "source": [
    "\n",
    "    \n",
    "        \n",
    "    \n",
    "    \n",
    "        \n",
    "    \n",
    "    "
   ]
  },
  {
   "cell_type": "code",
   "execution_count": null,
   "metadata": {},
   "outputs": [],
   "source": []
  },
  {
   "cell_type": "code",
   "execution_count": null,
   "metadata": {},
   "outputs": [],
   "source": []
  },
  {
   "cell_type": "code",
   "execution_count": null,
   "metadata": {},
   "outputs": [],
   "source": []
  },
  {
   "cell_type": "code",
   "execution_count": null,
   "metadata": {},
   "outputs": [],
   "source": []
  },
  {
   "cell_type": "code",
   "execution_count": 17,
   "metadata": {},
   "outputs": [],
   "source": [
    "def wybierz(slownik,i):\n",
    "    wyrzut={}\n",
    "    for k in slownik.keys():\n",
    "        wyrzut[k]=slownik[k][i]\n",
    "    return wyrzut"
   ]
  },
  {
   "cell_type": "code",
   "execution_count": null,
   "metadata": {},
   "outputs": [],
   "source": []
  },
  {
   "cell_type": "code",
   "execution_count": 18,
   "metadata": {},
   "outputs": [],
   "source": [
    "#poczatek przykladu"
   ]
  },
  {
   "cell_type": "code",
   "execution_count": 19,
   "metadata": {},
   "outputs": [],
   "source": [
    "pisacz=Io_tf_binary_general(\"pierwszy\",'w')"
   ]
  },
  {
   "cell_type": "code",
   "execution_count": 20,
   "metadata": {},
   "outputs": [
    {
     "name": "stderr",
     "output_type": "stream",
     "text": [
      "mkdir: cannot create directory ‘pierwszy’: File exists\n"
     ]
    }
   ],
   "source": [
    "for i in range(np.array(legs).shape[2]):\n",
    "    pisacz.write(np.array(legs)[:,:,i],np.array(jets)[:,:,i],wybierz(global_params,i),wybierz(properties,i),0)"
   ]
  },
  {
   "cell_type": "code",
   "execution_count": null,
   "metadata": {},
   "outputs": [],
   "source": []
  },
  {
   "cell_type": "code",
   "execution_count": 21,
   "metadata": {},
   "outputs": [],
   "source": [
    "pisacz.close()"
   ]
  },
  {
   "cell_type": "code",
   "execution_count": 22,
   "metadata": {},
   "outputs": [],
   "source": [
    "czytacz=Io_tf_binary_general(\"pierwszy\",'r')"
   ]
  },
  {
   "cell_type": "code",
   "execution_count": 23,
   "metadata": {},
   "outputs": [
    {
     "name": "stdout",
     "output_type": "stream",
     "text": [
      "{'leg_0_momentum': FixedLenFeature(shape=[4], dtype=tf.float32, default_value=None), 'leg_1_momentum': FixedLenFeature(shape=[4], dtype=tf.float32, default_value=None), 'jet_0_momentum': FixedLenFeature(shape=[4], dtype=tf.float32, default_value=None), 'jet_1_momentum': FixedLenFeature(shape=[4], dtype=tf.float32, default_value=None), 'BJetBetaScore': FixedLenFeature(shape=[1], dtype=tf.float32, default_value=None), 'higgsMassTrans': FixedLenFeature(shape=[1], dtype=tf.float32, default_value=None), 'higgsPT': FixedLenFeature(shape=[1], dtype=tf.float32, default_value=None), 'nJets30': FixedLenFeature(shape=[1], dtype=tf.float32, default_value=None), 'visMass': FixedLenFeature(shape=[1], dtype=tf.float32, default_value=None), 'leg_1_charge': FixedLenFeature(shape=[1], dtype=tf.float32, default_value=None), 'leg_1_combreliso': FixedLenFeature(shape=[1], dtype=tf.float32, default_value=None), 'leg_2_byCombinedIsolationDeltaBetaCorrRaw3Hits': FixedLenFeature(shape=[1], dtype=tf.float32, default_value=None), 'leg_2_byIsolationMVArun2v1DBoldDMwLTraw': FixedLenFeature(shape=[1], dtype=tf.float32, default_value=None), 'leg_2_charge': FixedLenFeature(shape=[1], dtype=tf.float32, default_value=None), 'leg_2_decayMode': FixedLenFeature(shape=[1], dtype=tf.float32, default_value=None), 'label': FixedLenFeature(shape=[], dtype=tf.int64, default_value=None)}\n"
     ]
    }
   ],
   "source": [
    "dataset=czytacz.read()"
   ]
  },
  {
   "cell_type": "code",
   "execution_count": 24,
   "metadata": {},
   "outputs": [
    {
     "data": {
      "text/plain": [
       "{'leg_0_momentum': [4, 'f'],\n",
       " 'leg_1_momentum': [4, 'f'],\n",
       " 'jet_0_momentum': [4, 'f'],\n",
       " 'jet_1_momentum': [4, 'f'],\n",
       " 'BJetBetaScore': [1, 'f'],\n",
       " 'higgsMassTrans': [1, 'f'],\n",
       " 'higgsPT': [1, 'f'],\n",
       " 'nJets30': [1, 'f'],\n",
       " 'visMass': [1, 'f'],\n",
       " 'leg_1_charge': [1, 'f'],\n",
       " 'leg_1_combreliso': [1, 'f'],\n",
       " 'leg_2_byCombinedIsolationDeltaBetaCorrRaw3Hits': [1, 'f'],\n",
       " 'leg_2_byIsolationMVArun2v1DBoldDMwLTraw': [1, 'f'],\n",
       " 'leg_2_charge': [1, 'f'],\n",
       " 'leg_2_decayMode': [1, 'f']}"
      ]
     },
     "execution_count": 24,
     "metadata": {},
     "output_type": "execute_result"
    }
   ],
   "source": [
    "czytacz.types()"
   ]
  },
  {
   "cell_type": "code",
   "execution_count": 25,
   "metadata": {},
   "outputs": [
    {
     "name": "stdout",
     "output_type": "stream",
     "text": [
      "({'BJetBetaScore': array([[-999.],\n",
      "       [-999.]], dtype=float32), 'higgsMassTrans': array([[12.667289],\n",
      "       [58.678463]], dtype=float32), 'higgsPT': array([[89.04004],\n",
      "       [36.41405]], dtype=float32), 'jet_0_momentum': array([[106.31405 , -50.240707,  14.060077,  92.24625 ],\n",
      "       [ 27.220001, -19.409185,   9.765264, -15.374057]], dtype=float32), 'jet_1_momentum': array([[0., 0., 0., 0.],\n",
      "       [0., 0., 0., 0.]], dtype=float32), 'leg_0_momentum': array([[ 25.268147, -17.421396,  17.098125,  -6.528174],\n",
      "       [ 29.650059, -16.772707,  21.1023  ,  12.348439]], dtype=float32), 'leg_1_charge': array([[-1.],\n",
      "       [-1.]], dtype=float32), 'leg_1_combreliso': array([[0.03260779],\n",
      "       [0.        ]], dtype=float32), 'leg_1_momentum': array([[82.694756, 55.53934 , 43.201378, 43.44451 ],\n",
      "       [89.10687 , 28.843384, 43.438786, 72.2575  ]], dtype=float32), 'leg_2_byCombinedIsolationDeltaBetaCorrRaw3Hits': array([[0.       ],\n",
      "       [1.8650877]], dtype=float32), 'leg_2_byIsolationMVArun2v1DBoldDMwLTraw': array([[0.8729832 ],\n",
      "       [0.94961333]], dtype=float32), 'leg_2_charge': array([[1.],\n",
      "       [1.]], dtype=float32), 'leg_2_decayMode': array([[0.],\n",
      "       [0.]], dtype=float32), 'nJets30': array([[2.],\n",
      "       [0.]], dtype=float32), 'visMass': array([[72.13989],\n",
      "       [51.32047]], dtype=float32)}, array([0, 0]))\n",
      "({'BJetBetaScore': array([[-999.],\n",
      "       [-999.]], dtype=float32), 'higgsMassTrans': array([[77.44843],\n",
      "       [67.32324]], dtype=float32), 'higgsPT': array([[126.68033],\n",
      "       [ 37.37268]], dtype=float32), 'jet_0_momentum': array([[0., 0., 0., 0.],\n",
      "       [0., 0., 0., 0.]], dtype=float32), 'jet_1_momentum': array([[0., 0., 0., 0.],\n",
      "       [0., 0., 0., 0.]], dtype=float32), 'leg_0_momentum': array([[ 275.5968  ,  -80.06713 , -109.163574,  240.05449 ],\n",
      "       [  86.562965,   24.006397,    9.798889,  -82.588196]],\n",
      "      dtype=float32), 'leg_1_charge': array([[-1.],\n",
      "       [ 1.]], dtype=float32), 'leg_1_combreliso': array([[0.01018639],\n",
      "       [0.        ]], dtype=float32), 'leg_1_momentum': array([[ 55.035114 , -14.146128 ,  51.119934 ,  14.664776 ],\n",
      "       [ 24.206684 , -21.081022 ,  -1.3539737,  11.794959 ]],\n",
      "      dtype=float32), 'leg_2_byCombinedIsolationDeltaBetaCorrRaw3Hits': array([[0.        ],\n",
      "       [0.83809143]], dtype=float32), 'leg_2_byIsolationMVArun2v1DBoldDMwLTraw': array([[0.90375835],\n",
      "       [0.8517195 ]], dtype=float32), 'leg_2_charge': array([[1.],\n",
      "       [1.]], dtype=float32), 'leg_2_decayMode': array([[1.],\n",
      "       [1.]], dtype=float32), 'nJets30': array([[1.],\n",
      "       [1.]], dtype=float32), 'visMass': array([[179.41673],\n",
      "       [ 84.72519]], dtype=float32)}, array([0, 0]))\n",
      "({'BJetBetaScore': array([[-999.],\n",
      "       [-999.]], dtype=float32), 'higgsMassTrans': array([[92.72529 ],\n",
      "       [19.920975]], dtype=float32), 'higgsPT': array([[44.736965],\n",
      "       [56.265453]], dtype=float32), 'jet_0_momentum': array([[ 159.70827 ,  -26.312984,   -7.059261, -157.25824 ],\n",
      "       [   0.      ,    0.      ,    0.      ,    0.      ]],\n",
      "      dtype=float32), 'jet_1_momentum': array([[0., 0., 0., 0.],\n",
      "       [0., 0., 0., 0.]], dtype=float32), 'leg_0_momentum': array([[ 115.085365,   39.295437,  -33.831512, -102.74204 ],\n",
      "       [  50.205914,  -43.423306,  -12.837492,  -21.68497 ]],\n",
      "      dtype=float32), 'leg_1_charge': array([[ 1.],\n",
      "       [-1.]], dtype=float32), 'leg_1_combreliso': array([[0.        ],\n",
      "       [0.07910117]], dtype=float32), 'leg_1_momentum': array([[ 27.945915,  20.273811,  -4.01859 , -18.798601],\n",
      "       [103.46282 ,   4.060362,  30.868454, -98.65906 ]], dtype=float32), 'leg_2_byCombinedIsolationDeltaBetaCorrRaw3Hits': array([[0.],\n",
      "       [0.]], dtype=float32), 'leg_2_byIsolationMVArun2v1DBoldDMwLTraw': array([[0.8441455],\n",
      "       [0.9789727]], dtype=float32), 'leg_2_charge': array([[-1.],\n",
      "       [-1.]], dtype=float32), 'leg_2_decayMode': array([[ 1.],\n",
      "       [10.]], dtype=float32), 'nJets30': array([[1.],\n",
      "       [0.]], dtype=float32), 'visMass': array([[26.546057],\n",
      "       [85.18708 ]], dtype=float32)}, array([0, 0]))\n"
     ]
    }
   ],
   "source": [
    "BATCH_SIZE=2\n",
    "zbachowany=dataset.shuffle(1000).repeat().batch(BATCH_SIZE)\n",
    "iterator = zbachowany.make_one_shot_iterator()\n",
    "para=iterator.get_next()\n",
    "\n",
    "with tf.Session() as sess:\n",
    "    for i in range(3):\n",
    "        print(sess.run(para))"
   ]
  },
  {
   "cell_type": "code",
   "execution_count": null,
   "metadata": {},
   "outputs": [],
   "source": []
  },
  {
   "cell_type": "code",
   "execution_count": null,
   "metadata": {},
   "outputs": [],
   "source": []
  },
  {
   "cell_type": "code",
   "execution_count": null,
   "metadata": {},
   "outputs": [],
   "source": []
  },
  {
   "cell_type": "code",
   "execution_count": null,
   "metadata": {},
   "outputs": [],
   "source": []
  },
  {
   "cell_type": "code",
   "execution_count": null,
   "metadata": {},
   "outputs": [],
   "source": []
  },
  {
   "cell_type": "code",
   "execution_count": null,
   "metadata": {},
   "outputs": [],
   "source": []
  },
  {
   "cell_type": "code",
   "execution_count": null,
   "metadata": {},
   "outputs": [],
   "source": []
  },
  {
   "cell_type": "code",
   "execution_count": null,
   "metadata": {},
   "outputs": [],
   "source": []
  },
  {
   "cell_type": "code",
   "execution_count": null,
   "metadata": {},
   "outputs": [],
   "source": []
  },
  {
   "cell_type": "code",
   "execution_count": null,
   "metadata": {},
   "outputs": [],
   "source": []
  },
  {
   "cell_type": "code",
   "execution_count": null,
   "metadata": {},
   "outputs": [],
   "source": []
  },
  {
   "cell_type": "code",
   "execution_count": null,
   "metadata": {},
   "outputs": [],
   "source": []
  },
  {
   "cell_type": "code",
   "execution_count": null,
   "metadata": {},
   "outputs": [],
   "source": []
  },
  {
   "cell_type": "code",
   "execution_count": null,
   "metadata": {},
   "outputs": [],
   "source": []
  },
  {
   "cell_type": "code",
   "execution_count": null,
   "metadata": {},
   "outputs": [],
   "source": []
  },
  {
   "cell_type": "code",
   "execution_count": null,
   "metadata": {},
   "outputs": [],
   "source": [
    "\n",
    "    "
   ]
  },
  {
   "cell_type": "code",
   "execution_count": null,
   "metadata": {},
   "outputs": [],
   "source": []
  },
  {
   "cell_type": "code",
   "execution_count": null,
   "metadata": {},
   "outputs": [],
   "source": []
  },
  {
   "cell_type": "code",
   "execution_count": null,
   "metadata": {},
   "outputs": [],
   "source": []
  },
  {
   "cell_type": "code",
   "execution_count": null,
   "metadata": {},
   "outputs": [],
   "source": []
  },
  {
   "cell_type": "code",
   "execution_count": null,
   "metadata": {},
   "outputs": [],
   "source": []
  },
  {
   "cell_type": "code",
   "execution_count": null,
   "metadata": {},
   "outputs": [],
   "source": []
  },
  {
   "cell_type": "code",
   "execution_count": null,
   "metadata": {},
   "outputs": [],
   "source": []
  },
  {
   "cell_type": "code",
   "execution_count": null,
   "metadata": {},
   "outputs": [],
   "source": []
  },
  {
   "cell_type": "code",
   "execution_count": null,
   "metadata": {},
   "outputs": [],
   "source": []
  },
  {
   "cell_type": "code",
   "execution_count": null,
   "metadata": {},
   "outputs": [],
   "source": []
  },
  {
   "cell_type": "code",
   "execution_count": null,
   "metadata": {},
   "outputs": [],
   "source": []
  },
  {
   "cell_type": "code",
   "execution_count": null,
   "metadata": {},
   "outputs": [],
   "source": []
  },
  {
   "cell_type": "code",
   "execution_count": null,
   "metadata": {},
   "outputs": [],
   "source": []
  },
  {
   "cell_type": "code",
   "execution_count": null,
   "metadata": {},
   "outputs": [],
   "source": []
  },
  {
   "cell_type": "code",
   "execution_count": null,
   "metadata": {},
   "outputs": [],
   "source": []
  },
  {
   "cell_type": "code",
   "execution_count": null,
   "metadata": {},
   "outputs": [],
   "source": []
  },
  {
   "cell_type": "code",
   "execution_count": null,
   "metadata": {},
   "outputs": [],
   "source": []
  },
  {
   "cell_type": "code",
   "execution_count": null,
   "metadata": {},
   "outputs": [],
   "source": []
  },
  {
   "cell_type": "code",
   "execution_count": null,
   "metadata": {},
   "outputs": [],
   "source": []
  },
  {
   "cell_type": "code",
   "execution_count": null,
   "metadata": {},
   "outputs": [],
   "source": []
  },
  {
   "cell_type": "code",
   "execution_count": null,
   "metadata": {},
   "outputs": [],
   "source": []
  },
  {
   "cell_type": "code",
   "execution_count": null,
   "metadata": {},
   "outputs": [],
   "source": []
  },
  {
   "cell_type": "code",
   "execution_count": null,
   "metadata": {},
   "outputs": [],
   "source": []
  },
  {
   "cell_type": "code",
   "execution_count": null,
   "metadata": {},
   "outputs": [],
   "source": []
  }
 ],
 "metadata": {
  "kernelspec": {
   "display_name": "Python 3",
   "language": "python",
   "name": "python3"
  },
  "language_info": {
   "codemirror_mode": {
    "name": "ipython",
    "version": 3
   },
   "file_extension": ".py",
   "mimetype": "text/x-python",
   "name": "python",
   "nbconvert_exporter": "python",
   "pygments_lexer": "ipython3",
   "version": "3.6.5"
  }
 },
 "nbformat": 4,
 "nbformat_minor": 2
}
