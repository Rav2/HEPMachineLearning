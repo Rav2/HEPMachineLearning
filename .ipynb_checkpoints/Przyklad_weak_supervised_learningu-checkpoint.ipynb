{
 "cells": [
  {
   "cell_type": "code",
   "execution_count": 1,
   "metadata": {},
   "outputs": [],
   "source": [
    "#przyklad weak supervised algorithm"
   ]
  },
  {
   "cell_type": "code",
   "execution_count": 2,
   "metadata": {},
   "outputs": [],
   "source": [
    "import tensorflow as tf"
   ]
  },
  {
   "cell_type": "code",
   "execution_count": 3,
   "metadata": {},
   "outputs": [],
   "source": [
    "import numpy as np"
   ]
  },
  {
   "cell_type": "code",
   "execution_count": 4,
   "metadata": {},
   "outputs": [],
   "source": [
    "import matplotlib.pyplot as plt"
   ]
  },
  {
   "cell_type": "code",
   "execution_count": 5,
   "metadata": {},
   "outputs": [],
   "source": [
    "%matplotlib inline"
   ]
  },
  {
   "cell_type": "code",
   "execution_count": 6,
   "metadata": {},
   "outputs": [],
   "source": [
    "from sklearn.utils import shuffle"
   ]
  },
  {
   "cell_type": "code",
   "execution_count": 7,
   "metadata": {},
   "outputs": [],
   "source": [
    "import Io_tf_binary_general as io"
   ]
  },
  {
   "cell_type": "code",
   "execution_count": 8,
   "metadata": {},
   "outputs": [],
   "source": [
    "#utworze teraz dane jakies\n",
    "#tutaj zachecam do machania tymi domyslnymi wartosciami. Tu niestety tego nie narysowalem, ale \n",
    "# to tworzy takie wlasnie kolko w kolku na plaszczyxnie.\n",
    "def kolko_w_kolku(klasa,sig1=10.,sig2=10.,R2=0.8,N=1000):\n",
    "    \"\"\"to ma utworzyc dane ktore posluza mi do sprawdzenia czy i jak dziala model\n",
    "    klasa to 0 lub 1\"\"\"\n",
    "    #z=np.random.randint(0,3)\n",
    "    \n",
    "    if klasa==1:\n",
    "        x=np.random.normal(0,sig1)\n",
    "        y=np.random.normal(0,sig1)\n",
    "        #features.append([x,y])\n",
    "        \n",
    "        return {\"pierwsza\":x,\"inna_wlasnosc\":y,\"kategoryczna\":2}\n",
    "    else:\n",
    "        alpha=np.random.uniform()*2*np.pi\n",
    "        delr=np.random.normal(0,sig2)\n",
    "        r=R2+delr\n",
    "        x=np.cos(alpha)*r\n",
    "        y=np.sin(alpha)*r\n",
    "        #features.append([x,y])\n",
    "        return {\"pierwsza\":x,\"inna_wlasnosc\":y,\"kategoryczna\":1}"
   ]
  },
  {
   "cell_type": "code",
   "execution_count": 9,
   "metadata": {},
   "outputs": [
    {
     "data": {
      "text/plain": [
       "{'pierwsza': -7.206709503487961,\n",
       " 'inna_wlasnosc': -0.11287460167934851,\n",
       " 'kategoryczna': 1}"
      ]
     },
     "execution_count": 9,
     "metadata": {},
     "output_type": "execute_result"
    }
   ],
   "source": [
    "kolko_w_kolku(0)"
   ]
  },
  {
   "cell_type": "code",
   "execution_count": 10,
   "metadata": {},
   "outputs": [],
   "source": [
    "p0_train=0.3\n",
    "p1_train=0.7\n",
    "p0_validate=0.2\n",
    "p1_validate=0.8\n",
    "#to pierwse to prawdopodobienstwo, ze cos z pierwszej populacji jest naprawdę 1\n",
    "# to drugie to prawdopodobiensto, ze cos z drugiej populacji jest naprawde 1"
   ]
  },
  {
   "cell_type": "code",
   "execution_count": 11,
   "metadata": {},
   "outputs": [
    {
     "data": {
      "text/plain": [
       "'Tworze datasety ktore odpowiadaja koejno danym treningowym skladajacym sie\\n z labelek takich, ze jak jakas wskazuje 0 to z prawdopodobienstwem 0.3 jednak jest jedynka (rozpadem\\n higgsa), zas jak wskazuje 1 to z prawdopodobienstwem 0.7 jest rzeczywiscie rozpadem. To teraz pisalem o \\n tym datascie \"weak_train\". potem tworze jeszcze weak_validate ktory jest mniejszy ale idea jest taka,\\n ze na weak_validate znamy skad inond te prawdopodobienstwa, a na weak_train nie znamy ich.\\n weak_true tworze tylko po to, by moc sprawdzic, czy policzona auc na danych weak_validate zgodnie\\n z ta praca ktora na poczatku nam przesylal Kalinowski o weak supervised learning zgadza sie\\n z rzeczywistoscia'"
      ]
     },
     "execution_count": 11,
     "metadata": {},
     "output_type": "execute_result"
    }
   ],
   "source": [
    "\"\"\"Tworze datasety ktore odpowiadaja koejno danym treningowym skladajacym sie\n",
    " z labelek takich, ze jak jakas wskazuje 0 to z prawdopodobienstwem 0.3 jednak jest jedynka (rozpadem\n",
    " higgsa), zas jak wskazuje 1 to z prawdopodobienstwem 0.7 jest rzeczywiscie rozpadem. To teraz pisalem o \n",
    " tym datascie \"weak_train\". potem tworze jeszcze weak_validate ktory jest mniejszy ale idea jest taka,\n",
    " ze na weak_validate znamy skad inond te prawdopodobienstwa, a na weak_train nie znamy ich.\n",
    " weak_true tworze tylko po to, by moc sprawdzic, czy policzona auc na danych weak_validate zgodnie\n",
    " z ta praca ktora na poczatku nam przesylal Kalinowski o weak supervised learning zgadza sie\n",
    " z rzeczywistoscia\"\"\""
   ]
  },
  {
   "cell_type": "code",
   "execution_count": 13,
   "metadata": {},
   "outputs": [],
   "source": [
    "pisacz=io.Io_tf_binary_general(\"weak_train\",'w')\n",
    "for i in range(10000):\n",
    "    #print(i)\n",
    "    klasa=np.random.randint(0,2)\n",
    "    if klasa==0:\n",
    "        prawdziwa=int(np.random.uniform()<p0_train)\n",
    "        t=kolko_w_kolku(prawdziwa),0\n",
    "        \n",
    "    else:\n",
    "        prawdziwa=int(np.random.uniform()<p1_train)\n",
    "        t=kolko_w_kolku(prawdziwa),1\n",
    "    #print(t)\n",
    "    pisacz.write_general(*t)\n",
    "pisacz.close()"
   ]
  },
  {
   "cell_type": "code",
   "execution_count": 16,
   "metadata": {},
   "outputs": [],
   "source": [
    "pisacz=io.Io_tf_binary_general(\"weak_validate\",'w')\n",
    "for i in range(1000):\n",
    "    klasa=np.random.randint(0,2)\n",
    "    if klasa==0:\n",
    "        prawdziwa=int(np.random.uniform()<p0_validate)\n",
    "        pisacz.write_general(kolko_w_kolku(prawdziwa),0)\n",
    "    else:\n",
    "        prawdziwa=int(np.random.uniform()<p1_validate)\n",
    "        pisacz.write_general(kolko_w_kolku(prawdziwa),1)\n",
    "pisacz.close()"
   ]
  },
  {
   "cell_type": "code",
   "execution_count": 19,
   "metadata": {},
   "outputs": [],
   "source": [
    "pisacz=io.Io_tf_binary_general(\"weak_true\",'w')\n",
    "for i in range(1000):\n",
    "    klasa=np.random.randint(0,2)\n",
    "    if klasa==0:\n",
    "        prawdziwa=klasa\n",
    "        pisacz.write_general(kolko_w_kolku(prawdziwa),0)\n",
    "    else:\n",
    "        prawdziwa=klasa\n",
    "        pisacz.write_general(kolko_w_kolku(prawdziwa),1)\n",
    "pisacz.close()"
   ]
  },
  {
   "cell_type": "code",
   "execution_count": 20,
   "metadata": {},
   "outputs": [
    {
     "name": "stdout",
     "output_type": "stream",
     "text": [
      "{'pierwsza': FixedLenFeature(shape=[1], dtype=tf.float32, default_value=None), 'inna_wlasnosc': FixedLenFeature(shape=[1], dtype=tf.float32, default_value=None), 'kategoryczna': FixedLenFeature(shape=[1], dtype=tf.int64, default_value=None), 'label': FixedLenFeature(shape=[], dtype=tf.int64, default_value=None)}\n",
      "({'inna_wlasnosc': array([[-1.3865855],\n",
      "       [ 7.5572324]], dtype=float32), 'kategoryczna': array([[2],\n",
      "       [2]]), 'pierwsza': array([[ 5.479545 ],\n",
      "       [-1.0951906]], dtype=float32)}, array([1, 0]))\n",
      "({'inna_wlasnosc': array([[-12.088908],\n",
      "       [  7.849377]], dtype=float32), 'kategoryczna': array([[2],\n",
      "       [2]]), 'pierwsza': array([[-5.9438906],\n",
      "       [ 6.693829 ]], dtype=float32)}, array([0, 1]))\n",
      "({'inna_wlasnosc': array([[ -0.9016737],\n",
      "       [-13.0421715]], dtype=float32), 'kategoryczna': array([[1],\n",
      "       [1]]), 'pierwsza': array([[-0.09879844],\n",
      "       [ 7.64566   ]], dtype=float32)}, array([0, 0]))\n"
     ]
    }
   ],
   "source": [
    "czytacz=io.Io_tf_binary_general(\"weak_validate\",'r')\n",
    "dataset=czytacz.read()\n",
    "BATCH_SIZE=2\n",
    "zbachowany=dataset.shuffle(1000).repeat().batch(BATCH_SIZE)\n",
    "iterator = zbachowany.make_one_shot_iterator()\n",
    "para=iterator.get_next()\n",
    "\n",
    "with tf.Session() as sess:\n",
    "    for i in range(3):\n",
    "        print(sess.run(para))"
   ]
  },
  {
   "cell_type": "code",
   "execution_count": 21,
   "metadata": {},
   "outputs": [],
   "source": [
    "\n",
    "import Dnn_uniwersalny as dnn"
   ]
  },
  {
   "cell_type": "code",
   "execution_count": 22,
   "metadata": {},
   "outputs": [
    {
     "name": "stdout",
     "output_type": "stream",
     "text": [
      "{'pierwsza': FixedLenFeature(shape=[1], dtype=tf.float32, default_value=None), 'inna_wlasnosc': FixedLenFeature(shape=[1], dtype=tf.float32, default_value=None), 'kategoryczna': FixedLenFeature(shape=[1], dtype=tf.int64, default_value=None), 'label': FixedLenFeature(shape=[], dtype=tf.int64, default_value=None)}\n"
     ]
    }
   ],
   "source": [
    "model=dnn.Dnn_uniwersalny(\"weak_train\",[10],\"weak_estimator\")"
   ]
  },
  {
   "cell_type": "code",
   "execution_count": 23,
   "metadata": {},
   "outputs": [
    {
     "name": "stdout",
     "output_type": "stream",
     "text": [
      "taki tam engeenerowany featcher \n",
      "dorobiony\n",
      "[1, 'f']\n",
      "{'x': 'pierwsza'}\n"
     ]
    }
   ],
   "source": [
    "def f(x):\n",
    "    return 5*x\n",
    "model.engineer_feature(f=f,slownik={'x':'pierwsza'},typ=[1,'f'],nazwa='dorobiony')"
   ]
  },
  {
   "cell_type": "code",
   "execution_count": 24,
   "metadata": {},
   "outputs": [
    {
     "name": "stdout",
     "output_type": "stream",
     "text": [
      "INFO:tensorflow:Using default config.\n",
      "INFO:tensorflow:Using config: {'_model_dir': 'weak_estimator', '_tf_random_seed': None, '_save_summary_steps': 100, '_save_checkpoints_steps': None, '_save_checkpoints_secs': 600, '_session_config': None, '_keep_checkpoint_max': 5, '_keep_checkpoint_every_n_hours': 10000, '_log_step_count_steps': 100, '_train_distribute': None, '_service': None, '_cluster_spec': <tensorflow.python.training.server_lib.ClusterSpec object at 0x7f7be8791b00>, '_task_type': 'worker', '_task_id': 0, '_global_id_in_cluster': 0, '_master': '', '_evaluation_master': '', '_is_chief': True, '_num_ps_replicas': 0, '_num_worker_replicas': 1}\n"
     ]
    }
   ],
   "source": [
    "model.make_model({\"kategoryczna\":[0,1,2]})"
   ]
  },
  {
   "cell_type": "code",
   "execution_count": 25,
   "metadata": {},
   "outputs": [
    {
     "name": "stdout",
     "output_type": "stream",
     "text": [
      "{'pierwsza': FixedLenFeature(shape=[1], dtype=tf.float32, default_value=None), 'inna_wlasnosc': FixedLenFeature(shape=[1], dtype=tf.float32, default_value=None), 'kategoryczna': FixedLenFeature(shape=[1], dtype=tf.int64, default_value=None), 'label': FixedLenFeature(shape=[], dtype=tf.int64, default_value=None)}\n",
      "taki tam engeenerowany featcher \n",
      "dorobiony\n",
      "[1, 'f']\n",
      "{'x': 'pierwsza'}\n",
      "INFO:tensorflow:Calling model_fn.\n",
      "INFO:tensorflow:Done calling model_fn.\n",
      "INFO:tensorflow:Create CheckpointSaverHook.\n",
      "INFO:tensorflow:Graph was finalized.\n",
      "INFO:tensorflow:Restoring parameters from weak_estimator/model.ckpt-6000\n",
      "INFO:tensorflow:Running local_init_op.\n",
      "INFO:tensorflow:Done running local_init_op.\n",
      "INFO:tensorflow:Saving checkpoints for 6001 into weak_estimator/model.ckpt.\n",
      "INFO:tensorflow:loss = 76.22628, step = 6001\n",
      "INFO:tensorflow:global_step/sec: 77.7692\n",
      "INFO:tensorflow:loss = 71.75611, step = 6101 (1.286 sec)\n",
      "INFO:tensorflow:global_step/sec: 85.5666\n",
      "INFO:tensorflow:loss = 68.72978, step = 6201 (1.168 sec)\n",
      "INFO:tensorflow:global_step/sec: 88.5063\n",
      "INFO:tensorflow:loss = 79.6573, step = 6301 (1.130 sec)\n",
      "INFO:tensorflow:global_step/sec: 85.3731\n",
      "INFO:tensorflow:loss = 78.79643, step = 6401 (1.171 sec)\n",
      "INFO:tensorflow:global_step/sec: 81.1753\n",
      "INFO:tensorflow:loss = 80.22966, step = 6501 (1.232 sec)\n",
      "INFO:tensorflow:global_step/sec: 84.6117\n",
      "INFO:tensorflow:loss = 85.5133, step = 6601 (1.182 sec)\n",
      "INFO:tensorflow:global_step/sec: 88.7638\n",
      "INFO:tensorflow:loss = 78.79669, step = 6701 (1.126 sec)\n",
      "INFO:tensorflow:global_step/sec: 84.9278\n",
      "INFO:tensorflow:loss = 91.02015, step = 6801 (1.177 sec)\n",
      "INFO:tensorflow:global_step/sec: 87.446\n",
      "INFO:tensorflow:loss = 75.86745, step = 6901 (1.144 sec)\n",
      "INFO:tensorflow:global_step/sec: 89.0512\n",
      "INFO:tensorflow:loss = 81.43372, step = 7001 (1.123 sec)\n",
      "INFO:tensorflow:global_step/sec: 89.7358\n",
      "INFO:tensorflow:loss = 80.11871, step = 7101 (1.115 sec)\n",
      "INFO:tensorflow:global_step/sec: 89.272\n",
      "INFO:tensorflow:loss = 82.21091, step = 7201 (1.120 sec)\n",
      "INFO:tensorflow:global_step/sec: 90.2544\n",
      "INFO:tensorflow:loss = 79.76114, step = 7301 (1.108 sec)\n",
      "INFO:tensorflow:global_step/sec: 91.1003\n",
      "INFO:tensorflow:loss = 74.00911, step = 7401 (1.098 sec)\n",
      "INFO:tensorflow:global_step/sec: 87.2078\n",
      "INFO:tensorflow:loss = 81.210144, step = 7501 (1.147 sec)\n",
      "INFO:tensorflow:global_step/sec: 90.2411\n",
      "INFO:tensorflow:loss = 81.13368, step = 7601 (1.108 sec)\n",
      "INFO:tensorflow:global_step/sec: 89.9043\n",
      "INFO:tensorflow:loss = 77.584206, step = 7701 (1.113 sec)\n",
      "INFO:tensorflow:global_step/sec: 90.7856\n",
      "INFO:tensorflow:loss = 81.97698, step = 7801 (1.101 sec)\n",
      "INFO:tensorflow:global_step/sec: 88.9537\n",
      "INFO:tensorflow:loss = 78.46674, step = 7901 (1.124 sec)\n",
      "INFO:tensorflow:global_step/sec: 89.8451\n",
      "INFO:tensorflow:loss = 75.65477, step = 8001 (1.113 sec)\n",
      "INFO:tensorflow:global_step/sec: 90.474\n",
      "INFO:tensorflow:loss = 84.953156, step = 8101 (1.106 sec)\n",
      "INFO:tensorflow:global_step/sec: 89.8442\n",
      "INFO:tensorflow:loss = 77.53636, step = 8201 (1.113 sec)\n",
      "INFO:tensorflow:global_step/sec: 89.1453\n",
      "INFO:tensorflow:loss = 78.66737, step = 8301 (1.121 sec)\n",
      "INFO:tensorflow:global_step/sec: 90.8221\n",
      "INFO:tensorflow:loss = 87.16759, step = 8401 (1.101 sec)\n",
      "INFO:tensorflow:global_step/sec: 86.8102\n",
      "INFO:tensorflow:loss = 79.656525, step = 8501 (1.152 sec)\n",
      "INFO:tensorflow:global_step/sec: 90.5138\n",
      "INFO:tensorflow:loss = 77.03204, step = 8601 (1.105 sec)\n",
      "INFO:tensorflow:global_step/sec: 90.0167\n",
      "INFO:tensorflow:loss = 81.83644, step = 8701 (1.111 sec)\n",
      "INFO:tensorflow:global_step/sec: 90.2158\n",
      "INFO:tensorflow:loss = 81.70892, step = 8801 (1.108 sec)\n",
      "INFO:tensorflow:global_step/sec: 88.3003\n",
      "INFO:tensorflow:loss = 74.2417, step = 8901 (1.133 sec)\n",
      "INFO:tensorflow:Saving checkpoints for 9000 into weak_estimator/model.ckpt.\n",
      "INFO:tensorflow:Loss for final step: 76.85461.\n"
     ]
    }
   ],
   "source": [
    "model.train() #trenujemy na \"weak_train\""
   ]
  },
  {
   "cell_type": "code",
   "execution_count": 26,
   "metadata": {},
   "outputs": [
    {
     "name": "stdout",
     "output_type": "stream",
     "text": [
      "{'pierwsza': FixedLenFeature(shape=[1], dtype=tf.float32, default_value=None), 'inna_wlasnosc': FixedLenFeature(shape=[1], dtype=tf.float32, default_value=None), 'kategoryczna': FixedLenFeature(shape=[1], dtype=tf.int64, default_value=None), 'label': FixedLenFeature(shape=[], dtype=tf.int64, default_value=None)}\n",
      "{'pierwsza': FixedLenFeature(shape=[1], dtype=tf.float32, default_value=None), 'inna_wlasnosc': FixedLenFeature(shape=[1], dtype=tf.float32, default_value=None), 'kategoryczna': FixedLenFeature(shape=[1], dtype=tf.int64, default_value=None), 'label': FixedLenFeature(shape=[], dtype=tf.int64, default_value=None)}\n",
      "taki tam engeenerowany featcher \n",
      "dorobiony\n",
      "[1, 'f']\n",
      "{'x': 'pierwsza'}\n",
      "INFO:tensorflow:Calling model_fn.\n",
      "INFO:tensorflow:Done calling model_fn.\n",
      "INFO:tensorflow:Graph was finalized.\n",
      "INFO:tensorflow:Restoring parameters from weak_estimator/model.ckpt-9000\n",
      "INFO:tensorflow:Running local_init_op.\n",
      "INFO:tensorflow:Done running local_init_op.\n",
      "auc wynosi 0.9771501581632331\n"
     ]
    },
    {
     "data": {
      "text/plain": [
       "0.9771501581632331"
      ]
     },
     "execution_count": 26,
     "metadata": {},
     "output_type": "execute_result"
    },
    {
     "data": {
      "image/png": "[encoded data removed]",
      "text/plain": [
       "<Figure size 432x288 with 1 Axes>"
      ]
     },
     "metadata": {},
     "output_type": "display_data"
    }
   ],
   "source": [
    "auc,xxxx,yyyy,zzz=model.evaluate_jak_z_pracy(0.2,0.8,folder=\"weak_validate\")\n",
    "auc #auc policzona na weak_validate zgodnie z praca "
   ]
  },
  {
   "cell_type": "code",
   "execution_count": 27,
   "metadata": {},
   "outputs": [
    {
     "name": "stdout",
     "output_type": "stream",
     "text": [
      "{'pierwsza': FixedLenFeature(shape=[1], dtype=tf.float32, default_value=None), 'inna_wlasnosc': FixedLenFeature(shape=[1], dtype=tf.float32, default_value=None), 'kategoryczna': FixedLenFeature(shape=[1], dtype=tf.int64, default_value=None), 'label': FixedLenFeature(shape=[], dtype=tf.int64, default_value=None)}\n",
      "taki tam engeenerowany featcher \n",
      "dorobiony\n",
      "[1, 'f']\n",
      "{'x': 'pierwsza'}\n",
      "INFO:tensorflow:Calling model_fn.\n",
      "WARNING:tensorflow:Trapezoidal rule is known to produce incorrect PR-AUCs; please switch to \"careful_interpolation\" instead.\n",
      "WARNING:tensorflow:Trapezoidal rule is known to produce incorrect PR-AUCs; please switch to \"careful_interpolation\" instead.\n",
      "INFO:tensorflow:Done calling model_fn.\n",
      "INFO:tensorflow:Starting evaluation at 2018-06-02-12:30:38\n",
      "INFO:tensorflow:Graph was finalized.\n",
      "INFO:tensorflow:Restoring parameters from weak_estimator/model.ckpt-9000\n",
      "INFO:tensorflow:Running local_init_op.\n",
      "INFO:tensorflow:Done running local_init_op.\n",
      "INFO:tensorflow:Evaluation [100/1000]\n",
      "INFO:tensorflow:Evaluation [200/1000]\n",
      "INFO:tensorflow:Evaluation [300/1000]\n",
      "INFO:tensorflow:Evaluation [400/1000]\n",
      "INFO:tensorflow:Evaluation [500/1000]\n",
      "INFO:tensorflow:Evaluation [600/1000]\n",
      "INFO:tensorflow:Evaluation [700/1000]\n",
      "INFO:tensorflow:Evaluation [800/1000]\n",
      "INFO:tensorflow:Evaluation [900/1000]\n",
      "INFO:tensorflow:Evaluation [1000/1000]\n",
      "INFO:tensorflow:Finished evaluation at 2018-06-02-12:30:52\n",
      "INFO:tensorflow:Saving dict for global step 9000: accuracy = 1.0, accuracy_baseline = 0.51600003, auc = 1.0, auc_precision_recall = 1.0, average_loss = 0.35783106, global_step = 9000, label/mean = 0.484, loss = 45.802376, precision = 1.0, prediction/mean = 0.5024564, recall = 1.0\n"
     ]
    },
    {
     "data": {
      "text/plain": [
       "{'accuracy': 1.0,\n",
       " 'accuracy_baseline': 0.51600003,\n",
       " 'auc': 1.0,\n",
       " 'auc_precision_recall': 1.0,\n",
       " 'average_loss': 0.35783106,\n",
       " 'label/mean': 0.484,\n",
       " 'loss': 45.802376,\n",
       " 'precision': 1.0,\n",
       " 'prediction/mean': 0.5024564,\n",
       " 'recall': 1.0,\n",
       " 'global_step': 9000}"
      ]
     },
     "execution_count": 27,
     "metadata": {},
     "output_type": "execute_result"
    }
   ],
   "source": [
    "model.evaluate(folder=\"weak_true\")\n",
    "    #auc policzona zgodnie z tym, jak to sie liczy normalnie gdy ma sie dobrze oznaczone dane gdzie\n",
    "    # na pewno byl higgs lub na pewno nie bylo"
   ]
  },
  {
   "cell_type": "code",
   "execution_count": 23,
   "metadata": {},
   "outputs": [
    {
     "data": {
      "text/plain": [
       "'Tutaj nalezy zwrocic swoja uwage na to, ze auc policzone na danych co do ktorych wiemy dokladnie czy\\nsa rozpadem czy nie jest podobne do auc policzonego na podstawie labelek co do ktorych znamy tylko prawdopodobienstwo\\nczy sa rozpadem'"
      ]
     },
     "execution_count": 23,
     "metadata": {},
     "output_type": "execute_result"
    }
   ],
   "source": [
    "\"\"\"Tutaj nalezy zwrocic swoja uwage na to, ze auc policzone na danych co do ktorych wiemy dokladnie czy\n",
    "sa rozpadem czy nie jest podobne do auc policzonego na podstawie labelek co do ktorych znamy tylko prawdopodobienstwo\n",
    "czy sa rozpadem\"\"\"\n",
    "    "
   ]
  },
  {
   "cell_type": "code",
   "execution_count": null,
   "metadata": {},
   "outputs": [],
   "source": []
  },
  {
   "cell_type": "code",
   "execution_count": null,
   "metadata": {},
   "outputs": [],
   "source": []
  },
  {
   "cell_type": "code",
   "execution_count": null,
   "metadata": {},
   "outputs": [],
   "source": []
  },
  {
   "cell_type": "code",
   "execution_count": null,
   "metadata": {},
   "outputs": [],
   "source": [
    "\n",
    "    \n",
    "        \n",
    "    "
   ]
  },
  {
   "cell_type": "code",
   "execution_count": null,
   "metadata": {},
   "outputs": [],
   "source": []
  },
  {
   "cell_type": "code",
   "execution_count": null,
   "metadata": {},
   "outputs": [],
   "source": []
  },
  {
   "cell_type": "code",
   "execution_count": null,
   "metadata": {},
   "outputs": [],
   "source": []
  },
  {
   "cell_type": "code",
   "execution_count": null,
   "metadata": {},
   "outputs": [],
   "source": []
  },
  {
   "cell_type": "code",
   "execution_count": null,
   "metadata": {},
   "outputs": [],
   "source": []
  },
  {
   "cell_type": "code",
   "execution_count": null,
   "metadata": {},
   "outputs": [],
   "source": []
  },
  {
   "cell_type": "code",
   "execution_count": null,
   "metadata": {},
   "outputs": [],
   "source": []
  },
  {
   "cell_type": "code",
   "execution_count": null,
   "metadata": {},
   "outputs": [],
   "source": []
  },
  {
   "cell_type": "code",
   "execution_count": null,
   "metadata": {},
   "outputs": [],
   "source": []
  },
  {
   "cell_type": "code",
   "execution_count": null,
   "metadata": {},
   "outputs": [],
   "source": []
  },
  {
   "cell_type": "code",
   "execution_count": null,
   "metadata": {},
   "outputs": [],
   "source": []
  },
  {
   "cell_type": "code",
   "execution_count": null,
   "metadata": {},
   "outputs": [],
   "source": []
  },
  {
   "cell_type": "code",
   "execution_count": null,
   "metadata": {},
   "outputs": [],
   "source": []
  },
  {
   "cell_type": "code",
   "execution_count": null,
   "metadata": {},
   "outputs": [],
   "source": []
  },
  {
   "cell_type": "code",
   "execution_count": null,
   "metadata": {},
   "outputs": [],
   "source": []
  },
  {
   "cell_type": "code",
   "execution_count": null,
   "metadata": {},
   "outputs": [],
   "source": []
  },
  {
   "cell_type": "code",
   "execution_count": null,
   "metadata": {},
   "outputs": [],
   "source": []
  },
  {
   "cell_type": "code",
   "execution_count": null,
   "metadata": {},
   "outputs": [],
   "source": []
  },
  {
   "cell_type": "code",
   "execution_count": null,
   "metadata": {},
   "outputs": [],
   "source": []
  },
  {
   "cell_type": "code",
   "execution_count": null,
   "metadata": {},
   "outputs": [],
   "source": []
  },
  {
   "cell_type": "code",
   "execution_count": null,
   "metadata": {},
   "outputs": [],
   "source": []
  },
  {
   "cell_type": "code",
   "execution_count": null,
   "metadata": {},
   "outputs": [],
   "source": []
  },
  {
   "cell_type": "code",
   "execution_count": null,
   "metadata": {},
   "outputs": [],
   "source": [
    "\n",
    "    "
   ]
  },
  {
   "cell_type": "code",
   "execution_count": null,
   "metadata": {},
   "outputs": [],
   "source": []
  },
  {
   "cell_type": "code",
   "execution_count": null,
   "metadata": {},
   "outputs": [],
   "source": []
  },
  {
   "cell_type": "code",
   "execution_count": null,
   "metadata": {},
   "outputs": [],
   "source": []
  },
  {
   "cell_type": "code",
   "execution_count": null,
   "metadata": {},
   "outputs": [],
   "source": []
  },
  {
   "cell_type": "code",
   "execution_count": null,
   "metadata": {},
   "outputs": [],
   "source": []
  },
  {
   "cell_type": "code",
   "execution_count": null,
   "metadata": {},
   "outputs": [],
   "source": []
  }
 ],
 "metadata": {
  "kernelspec": {
   "display_name": "Python 3",
   "language": "python",
   "name": "python3"
  },
  "language_info": {
   "codemirror_mode": {
    "name": "ipython",
    "version": 3
   },
   "file_extension": ".py",
   "mimetype": "text/x-python",
   "name": "python",
   "nbconvert_exporter": "python",
   "pygments_lexer": "ipython3",
   "version": "3.6.5"
  }
 },
 "nbformat": 4,
 "nbformat_minor": 2
}
