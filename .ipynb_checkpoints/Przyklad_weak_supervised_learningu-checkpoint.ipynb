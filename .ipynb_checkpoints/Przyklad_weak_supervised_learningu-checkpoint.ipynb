{
 "cells": [
  {
   "cell_type": "code",
   "execution_count": 1,
   "metadata": {},
   "outputs": [],
   "source": [
    "#przyklad weak supervised algorithm"
   ]
  },
  {
   "cell_type": "code",
   "execution_count": 2,
   "metadata": {},
   "outputs": [],
   "source": [
    "import tensorflow as tf"
   ]
  },
  {
   "cell_type": "code",
   "execution_count": 3,
   "metadata": {},
   "outputs": [],
   "source": [
    "import numpy as np"
   ]
  },
  {
   "cell_type": "code",
   "execution_count": 4,
   "metadata": {},
   "outputs": [],
   "source": [
    "import matplotlib.pyplot as plt"
   ]
  },
  {
   "cell_type": "code",
   "execution_count": 5,
   "metadata": {},
   "outputs": [],
   "source": [
    "%matplotlib inline"
   ]
  },
  {
   "cell_type": "code",
   "execution_count": 6,
   "metadata": {},
   "outputs": [],
   "source": [
    "from sklearn.utils import shuffle"
   ]
  },
  {
   "cell_type": "code",
   "execution_count": 7,
   "metadata": {},
   "outputs": [],
   "source": [
    "import Io_tf_binary_general as io"
   ]
  },
  {
   "cell_type": "code",
   "execution_count": 8,
   "metadata": {},
   "outputs": [],
   "source": [
    "#utworze teraz dane jakies\n",
    "#tutaj zachecam do machania tymi domyslnymi wartosciami. Tu niestety tego nie narysowalem, ale \n",
    "# to tworzy takie wlasnie kolko w kolku na plaszczyxnie.\n",
    "def kolko_w_kolku(klasa,sig1=0.4,sig2=0.25,R2=0.8,N=1000):\n",
    "    \"\"\"to ma utworzyc dane ktore posluza mi do sprawdzenia czy i jak dziala model\n",
    "    klasa to 0 lub 1\"\"\"\n",
    "    \n",
    "    if klasa==1:\n",
    "        x=np.random.normal(0,sig1)\n",
    "        y=np.random.normal(0,sig1)\n",
    "        #features.append([x,y])\n",
    "        return {\"pierwsza\":x,\"inna_wlasnosc\":y}\n",
    "    else:\n",
    "        alpha=np.random.uniform()*2*np.pi\n",
    "        delr=np.random.normal(0,sig2)\n",
    "        r=R2+delr\n",
    "        x=np.cos(alpha)*r\n",
    "        y=np.sin(alpha)*r\n",
    "        #features.append([x,y])\n",
    "        return {\"pierwsza\":x,\"inna_wlasnosc\":y}"
   ]
  },
  {
   "cell_type": "code",
   "execution_count": null,
   "metadata": {},
   "outputs": [],
   "source": []
  },
  {
   "cell_type": "code",
   "execution_count": 9,
   "metadata": {},
   "outputs": [],
   "source": [
    "p0_train=0.3\n",
    "p1_train=0.7\n",
    "p0_validate=0.2\n",
    "p1_validate=0.8\n",
    "#to pierwse to prawdopodobienstwo, ze cos z pierwszej populacji jest naprawdę 1\n",
    "# to drugie to prawdopodobiensto, ze cos z drugiej populacji jest naprawde 1"
   ]
  },
  {
   "cell_type": "code",
   "execution_count": 10,
   "metadata": {},
   "outputs": [
    {
     "data": {
      "text/plain": [
       "'Tworze datasety ktore odpowiadaja koejno danym treningowym skladajacym sie\\n z labelek takich, ze jak jakas wskazuje 0 to z prawdopodobienstwem 0.3 jednak jest jedynka (rozpadem\\n higgsa), zas jak wskazuje 1 to z prawdopodobienstwem 0.7 jest rzeczywiscie rozpadem. To teraz pisalem o \\n tym datascie \"weak_train\". potem tworze jeszcze weak_validate ktory jest mniejszy ale idea jest taka,\\n ze na weak_validate znamy skad inond te prawdopodobienstwa, a na weak_train nie znamy ich.\\n weak_true tworze tylko po to, by moc sprawdzic, czy policzona auc na danych weak_validate zgodnie\\n z ta praca ktora na poczatku nam przesylal Kalinowski o weak supervised learning zgadza sie\\n z rzeczywistoscia'"
      ]
     },
     "execution_count": 10,
     "metadata": {},
     "output_type": "execute_result"
    }
   ],
   "source": [
    "\"\"\"Tworze datasety ktore odpowiadaja koejno danym treningowym skladajacym sie\n",
    " z labelek takich, ze jak jakas wskazuje 0 to z prawdopodobienstwem 0.3 jednak jest jedynka (rozpadem\n",
    " higgsa), zas jak wskazuje 1 to z prawdopodobienstwem 0.7 jest rzeczywiscie rozpadem. To teraz pisalem o \n",
    " tym datascie \"weak_train\". potem tworze jeszcze weak_validate ktory jest mniejszy ale idea jest taka,\n",
    " ze na weak_validate znamy skad inond te prawdopodobienstwa, a na weak_train nie znamy ich.\n",
    " weak_true tworze tylko po to, by moc sprawdzic, czy policzona auc na danych weak_validate zgodnie\n",
    " z ta praca ktora na poczatku nam przesylal Kalinowski o weak supervised learning zgadza sie\n",
    " z rzeczywistoscia\"\"\""
   ]
  },
  {
   "cell_type": "code",
   "execution_count": 11,
   "metadata": {},
   "outputs": [],
   "source": [
    "pisacz=io.Io_tf_binary_general(\"weak_train\",'w')\n",
    "for i in range(10000):\n",
    "    klasa=np.random.randint(0,2)\n",
    "    if klasa==0:\n",
    "        prawdziwa=int(np.random.uniform()<p0_train)\n",
    "        pisacz.write_old(kolko_w_kolku(prawdziwa),0)\n",
    "    else:\n",
    "        prawdziwa=int(np.random.uniform()<p1_train)\n",
    "        pisacz.write_old(kolko_w_kolku(prawdziwa),1)\n",
    "pisacz.close()"
   ]
  },
  {
   "cell_type": "code",
   "execution_count": 12,
   "metadata": {},
   "outputs": [],
   "source": [
    "pisacz=io.Io_tf_binary_general(\"weak_validate\",'w')\n",
    "for i in range(1000):\n",
    "    klasa=np.random.randint(0,2)\n",
    "    if klasa==0:\n",
    "        prawdziwa=int(np.random.uniform()<p0_validate)\n",
    "        pisacz.write_old(kolko_w_kolku(prawdziwa),0)\n",
    "    else:\n",
    "        prawdziwa=int(np.random.uniform()<p1_validate)\n",
    "        pisacz.write_old(kolko_w_kolku(prawdziwa),1)\n",
    "pisacz.close()"
   ]
  },
  {
   "cell_type": "code",
   "execution_count": 13,
   "metadata": {},
   "outputs": [],
   "source": [
    "pisacz=io.Io_tf_binary_general(\"weak_true\",'w')\n",
    "for i in range(1000):\n",
    "    klasa=np.random.randint(0,2)\n",
    "    if klasa==0:\n",
    "        prawdziwa=klasa\n",
    "        pisacz.write_old(kolko_w_kolku(prawdziwa),0)\n",
    "    else:\n",
    "        prawdziwa=klasa\n",
    "        pisacz.write_old(kolko_w_kolku(prawdziwa),1)\n",
    "pisacz.close()"
   ]
  },
  {
   "cell_type": "code",
   "execution_count": 14,
   "metadata": {},
   "outputs": [
    {
     "name": "stdout",
     "output_type": "stream",
     "text": [
      "{'pierwsza': FixedLenFeature(shape=[1], dtype=tf.float32, default_value=None), 'inna_wlasnosc': FixedLenFeature(shape=[1], dtype=tf.float32, default_value=None), 'label': FixedLenFeature(shape=[], dtype=tf.int64, default_value=None)}\n",
      "({'inna_wlasnosc': array([[ 0.12006082],\n",
      "       [-0.5092467 ]], dtype=float32), 'pierwsza': array([[0.08483743],\n",
      "       [0.04709937]], dtype=float32)}, array([1, 0]))\n",
      "({'inna_wlasnosc': array([[-0.0758215 ],\n",
      "       [ 0.39787436]], dtype=float32), 'pierwsza': array([[0.58272517],\n",
      "       [0.82988644]], dtype=float32)}, array([0, 0]))\n",
      "({'inna_wlasnosc': array([[-0.3872055],\n",
      "       [-0.4951278]], dtype=float32), 'pierwsza': array([[0.12898052],\n",
      "       [0.49688295]], dtype=float32)}, array([1, 1]))\n"
     ]
    }
   ],
   "source": [
    "czytacz=io.Io_tf_binary_general(\"weak_validate\",'r')\n",
    "dataset=czytacz.read()\n",
    "BATCH_SIZE=2\n",
    "zbachowany=dataset.shuffle(1000).repeat().batch(BATCH_SIZE)\n",
    "iterator = zbachowany.make_one_shot_iterator()\n",
    "para=iterator.get_next()\n",
    "\n",
    "with tf.Session() as sess:\n",
    "    for i in range(3):\n",
    "        print(sess.run(para))"
   ]
  },
  {
   "cell_type": "code",
   "execution_count": 15,
   "metadata": {},
   "outputs": [],
   "source": [
    "\n",
    "import Dnn_uniwersalny as dnn"
   ]
  },
  {
   "cell_type": "code",
   "execution_count": 16,
   "metadata": {},
   "outputs": [
    {
     "name": "stdout",
     "output_type": "stream",
     "text": [
      "{'pierwsza': FixedLenFeature(shape=[1], dtype=tf.float32, default_value=None), 'inna_wlasnosc': FixedLenFeature(shape=[1], dtype=tf.float32, default_value=None), 'label': FixedLenFeature(shape=[], dtype=tf.int64, default_value=None)}\n",
      "INFO:tensorflow:Using default config.\n",
      "INFO:tensorflow:Using config: {'_model_dir': 'weak_estimator', '_tf_random_seed': None, '_save_summary_steps': 100, '_save_checkpoints_steps': None, '_save_checkpoints_secs': 600, '_session_config': None, '_keep_checkpoint_max': 5, '_keep_checkpoint_every_n_hours': 10000, '_log_step_count_steps': 100, '_train_distribute': None, '_service': None, '_cluster_spec': <tensorflow.python.training.server_lib.ClusterSpec object at 0x7f38b87189e8>, '_task_type': 'worker', '_task_id': 0, '_global_id_in_cluster': 0, '_master': '', '_evaluation_master': '', '_is_chief': True, '_num_ps_replicas': 0, '_num_worker_replicas': 1}\n"
     ]
    }
   ],
   "source": [
    "model=dnn.Dnn_uniwersalny(\"weak_train\",[10],\"weak_estimator\")"
   ]
  },
  {
   "cell_type": "code",
   "execution_count": 17,
   "metadata": {},
   "outputs": [
    {
     "name": "stdout",
     "output_type": "stream",
     "text": [
      "{'pierwsza': FixedLenFeature(shape=[1], dtype=tf.float32, default_value=None), 'inna_wlasnosc': FixedLenFeature(shape=[1], dtype=tf.float32, default_value=None), 'label': FixedLenFeature(shape=[], dtype=tf.int64, default_value=None)}\n",
      "INFO:tensorflow:Calling model_fn.\n",
      "INFO:tensorflow:Done calling model_fn.\n",
      "INFO:tensorflow:Create CheckpointSaverHook.\n",
      "INFO:tensorflow:Graph was finalized.\n",
      "INFO:tensorflow:Restoring parameters from weak_estimator/model.ckpt-87000\n",
      "INFO:tensorflow:Running local_init_op.\n",
      "INFO:tensorflow:Done running local_init_op.\n",
      "INFO:tensorflow:Saving checkpoints for 87001 into weak_estimator/model.ckpt.\n",
      "INFO:tensorflow:loss = 87.49359, step = 87001\n",
      "INFO:tensorflow:global_step/sec: 176.039\n",
      "INFO:tensorflow:loss = 88.133514, step = 87101 (0.569 sec)\n",
      "INFO:tensorflow:global_step/sec: 174.571\n",
      "INFO:tensorflow:loss = 86.96943, step = 87201 (0.573 sec)\n",
      "INFO:tensorflow:global_step/sec: 174.53\n",
      "INFO:tensorflow:loss = 87.977356, step = 87301 (0.573 sec)\n",
      "INFO:tensorflow:global_step/sec: 185.174\n",
      "INFO:tensorflow:loss = 87.76489, step = 87401 (0.545 sec)\n",
      "INFO:tensorflow:global_step/sec: 175.533\n",
      "INFO:tensorflow:loss = 87.9527, step = 87501 (0.566 sec)\n",
      "INFO:tensorflow:global_step/sec: 177.322\n",
      "INFO:tensorflow:loss = 86.316635, step = 87601 (0.563 sec)\n",
      "INFO:tensorflow:global_step/sec: 217.572\n",
      "INFO:tensorflow:loss = 86.96593, step = 87701 (0.460 sec)\n",
      "INFO:tensorflow:global_step/sec: 184.864\n",
      "INFO:tensorflow:loss = 88.0095, step = 87801 (0.541 sec)\n",
      "INFO:tensorflow:global_step/sec: 189.271\n",
      "INFO:tensorflow:loss = 84.72455, step = 87901 (0.529 sec)\n",
      "INFO:tensorflow:global_step/sec: 205.488\n",
      "INFO:tensorflow:loss = 85.592865, step = 88001 (0.486 sec)\n",
      "INFO:tensorflow:global_step/sec: 191.986\n",
      "INFO:tensorflow:loss = 81.57121, step = 88101 (0.521 sec)\n",
      "INFO:tensorflow:global_step/sec: 178.544\n",
      "INFO:tensorflow:loss = 86.97131, step = 88201 (0.560 sec)\n",
      "INFO:tensorflow:global_step/sec: 203.004\n",
      "INFO:tensorflow:loss = 87.610016, step = 88301 (0.493 sec)\n",
      "INFO:tensorflow:global_step/sec: 219.215\n",
      "INFO:tensorflow:loss = 87.43251, step = 88401 (0.457 sec)\n",
      "INFO:tensorflow:global_step/sec: 207.44\n",
      "INFO:tensorflow:loss = 84.28818, step = 88501 (0.482 sec)\n",
      "INFO:tensorflow:global_step/sec: 212.887\n",
      "INFO:tensorflow:loss = 81.72612, step = 88601 (0.471 sec)\n",
      "INFO:tensorflow:global_step/sec: 206.796\n",
      "INFO:tensorflow:loss = 88.33178, step = 88701 (0.483 sec)\n",
      "INFO:tensorflow:global_step/sec: 202.482\n",
      "INFO:tensorflow:loss = 82.15074, step = 88801 (0.494 sec)\n",
      "INFO:tensorflow:global_step/sec: 216.471\n",
      "INFO:tensorflow:loss = 83.430626, step = 88901 (0.462 sec)\n",
      "INFO:tensorflow:global_step/sec: 210.781\n",
      "INFO:tensorflow:loss = 90.76108, step = 89001 (0.475 sec)\n",
      "INFO:tensorflow:global_step/sec: 207.776\n",
      "INFO:tensorflow:loss = 84.382614, step = 89101 (0.481 sec)\n",
      "INFO:tensorflow:global_step/sec: 193.736\n",
      "INFO:tensorflow:loss = 89.43269, step = 89201 (0.517 sec)\n",
      "INFO:tensorflow:global_step/sec: 217.065\n",
      "INFO:tensorflow:loss = 86.65988, step = 89301 (0.461 sec)\n",
      "INFO:tensorflow:global_step/sec: 190.725\n",
      "INFO:tensorflow:loss = 88.86746, step = 89401 (0.525 sec)\n",
      "INFO:tensorflow:global_step/sec: 201.701\n",
      "INFO:tensorflow:loss = 84.42006, step = 89501 (0.495 sec)\n",
      "INFO:tensorflow:global_step/sec: 214.023\n",
      "INFO:tensorflow:loss = 83.93687, step = 89601 (0.468 sec)\n",
      "INFO:tensorflow:global_step/sec: 215.62\n",
      "INFO:tensorflow:loss = 86.933365, step = 89701 (0.464 sec)\n",
      "INFO:tensorflow:global_step/sec: 210.874\n",
      "INFO:tensorflow:loss = 89.5405, step = 89801 (0.474 sec)\n",
      "INFO:tensorflow:global_step/sec: 209.011\n",
      "INFO:tensorflow:loss = 86.47503, step = 89901 (0.479 sec)\n",
      "INFO:tensorflow:Saving checkpoints for 90000 into weak_estimator/model.ckpt.\n",
      "INFO:tensorflow:Loss for final step: 85.659256.\n"
     ]
    }
   ],
   "source": [
    "model.train() #trenujemy na \"weak_train\""
   ]
  },
  {
   "cell_type": "code",
   "execution_count": 18,
   "metadata": {},
   "outputs": [
    {
     "name": "stdout",
     "output_type": "stream",
     "text": [
      "{'pierwsza': FixedLenFeature(shape=[1], dtype=tf.float32, default_value=None), 'inna_wlasnosc': FixedLenFeature(shape=[1], dtype=tf.float32, default_value=None), 'label': FixedLenFeature(shape=[], dtype=tf.int64, default_value=None)}\n",
      "{'pierwsza': FixedLenFeature(shape=[1], dtype=tf.float32, default_value=None), 'inna_wlasnosc': FixedLenFeature(shape=[1], dtype=tf.float32, default_value=None), 'label': FixedLenFeature(shape=[], dtype=tf.int64, default_value=None)}\n",
      "INFO:tensorflow:Calling model_fn.\n",
      "INFO:tensorflow:Done calling model_fn.\n",
      "INFO:tensorflow:Graph was finalized.\n",
      "INFO:tensorflow:Restoring parameters from weak_estimator/model.ckpt-90000\n",
      "INFO:tensorflow:Running local_init_op.\n",
      "INFO:tensorflow:Done running local_init_op.\n",
      "auc wynosi 0.7990533926790622\n"
     ]
    },
    {
     "data": {
      "text/plain": [
       "0.7990533926790622"
      ]
     },
     "execution_count": 18,
     "metadata": {},
     "output_type": "execute_result"
    },
    {
     "data": {
      "image/png": "[encoded data removed]",
      "text/plain": [
       "<Figure size 432x288 with 1 Axes>"
      ]
     },
     "metadata": {},
     "output_type": "display_data"
    }
   ],
   "source": [
    "auc,xxxx,yyyy,zzz=model.evaluate_jak_z_pracy(0.2,0.8,folder=\"weak_validate\")\n",
    "auc #auc policzona na weak_validate zgodnie z praca "
   ]
  },
  {
   "cell_type": "code",
   "execution_count": 19,
   "metadata": {},
   "outputs": [
    {
     "name": "stdout",
     "output_type": "stream",
     "text": [
      "{'pierwsza': FixedLenFeature(shape=[1], dtype=tf.float32, default_value=None), 'inna_wlasnosc': FixedLenFeature(shape=[1], dtype=tf.float32, default_value=None), 'label': FixedLenFeature(shape=[], dtype=tf.int64, default_value=None)}\n",
      "INFO:tensorflow:Calling model_fn.\n",
      "WARNING:tensorflow:Trapezoidal rule is known to produce incorrect PR-AUCs; please switch to \"careful_interpolation\" instead.\n",
      "WARNING:tensorflow:Trapezoidal rule is known to produce incorrect PR-AUCs; please switch to \"careful_interpolation\" instead.\n",
      "INFO:tensorflow:Done calling model_fn.\n",
      "INFO:tensorflow:Starting evaluation at 2018-05-20-13:20:51\n",
      "INFO:tensorflow:Graph was finalized.\n",
      "INFO:tensorflow:Restoring parameters from weak_estimator/model.ckpt-90000\n",
      "INFO:tensorflow:Running local_init_op.\n",
      "INFO:tensorflow:Done running local_init_op.\n",
      "INFO:tensorflow:Evaluation [100/1000]\n",
      "INFO:tensorflow:Evaluation [200/1000]\n",
      "INFO:tensorflow:Evaluation [300/1000]\n",
      "INFO:tensorflow:Evaluation [400/1000]\n",
      "INFO:tensorflow:Evaluation [500/1000]\n",
      "INFO:tensorflow:Evaluation [600/1000]\n",
      "INFO:tensorflow:Evaluation [700/1000]\n",
      "INFO:tensorflow:Evaluation [800/1000]\n",
      "INFO:tensorflow:Evaluation [900/1000]\n",
      "INFO:tensorflow:Evaluation [1000/1000]\n",
      "INFO:tensorflow:Finished evaluation at 2018-05-20-13:20:57\n",
      "INFO:tensorflow:Saving dict for global step 90000: accuracy = 0.717, accuracy_baseline = 0.525, auc = 0.7858807, auc_precision_recall = 0.81426597, average_loss = 0.6127558, global_step = 90000, label/mean = 0.525, loss = 78.43274, precision = 0.7326923, prediction/mean = 0.50354, recall = 0.72571427\n"
     ]
    },
    {
     "data": {
      "text/plain": [
       "{'accuracy': 0.717,\n",
       " 'accuracy_baseline': 0.525,\n",
       " 'auc': 0.7858807,\n",
       " 'auc_precision_recall': 0.81426597,\n",
       " 'average_loss': 0.6127558,\n",
       " 'label/mean': 0.525,\n",
       " 'loss': 78.43274,\n",
       " 'precision': 0.7326923,\n",
       " 'prediction/mean': 0.50354,\n",
       " 'recall': 0.72571427,\n",
       " 'global_step': 90000}"
      ]
     },
     "execution_count": 19,
     "metadata": {},
     "output_type": "execute_result"
    }
   ],
   "source": [
    "model.evaluate(folder=\"weak_true\")\n",
    "    #auc policzona zgodnie z tym, jak to sie liczy normalnie gdy ma sie dobrze oznaczone dane gdzie\n",
    "    # na pewno byl higgs lub na pewno nie bylo"
   ]
  },
  {
   "cell_type": "code",
   "execution_count": 20,
   "metadata": {},
   "outputs": [
    {
     "data": {
      "text/plain": [
       "'Tutaj nalezy zwrocic swoja uwage na to, ze auc policzone na danych co do ktorych wiemy dokladnie czy\\nsa rozpadem czy nie jest podobne do auc policzonego na podstawie labelek co do ktorych znamy tylko prawdopodobienstwo\\nczy sa rozpadem'"
      ]
     },
     "execution_count": 20,
     "metadata": {},
     "output_type": "execute_result"
    }
   ],
   "source": [
    "\"\"\"Tutaj nalezy zwrocic swoja uwage na to, ze auc policzone na danych co do ktorych wiemy dokladnie czy\n",
    "sa rozpadem czy nie jest podobne do auc policzonego na podstawie labelek co do ktorych znamy tylko prawdopodobienstwo\n",
    "czy sa rozpadem\"\"\"\n",
    "    "
   ]
  },
  {
   "cell_type": "code",
   "execution_count": null,
   "metadata": {},
   "outputs": [],
   "source": []
  },
  {
   "cell_type": "code",
   "execution_count": null,
   "metadata": {},
   "outputs": [],
   "source": []
  },
  {
   "cell_type": "code",
   "execution_count": null,
   "metadata": {},
   "outputs": [],
   "source": []
  },
  {
   "cell_type": "code",
   "execution_count": null,
   "metadata": {},
   "outputs": [],
   "source": [
    "\n",
    "    \n",
    "        \n",
    "    "
   ]
  },
  {
   "cell_type": "code",
   "execution_count": null,
   "metadata": {},
   "outputs": [],
   "source": []
  },
  {
   "cell_type": "code",
   "execution_count": null,
   "metadata": {},
   "outputs": [],
   "source": []
  },
  {
   "cell_type": "code",
   "execution_count": null,
   "metadata": {},
   "outputs": [],
   "source": []
  },
  {
   "cell_type": "code",
   "execution_count": null,
   "metadata": {},
   "outputs": [],
   "source": []
  },
  {
   "cell_type": "code",
   "execution_count": null,
   "metadata": {},
   "outputs": [],
   "source": []
  },
  {
   "cell_type": "code",
   "execution_count": null,
   "metadata": {},
   "outputs": [],
   "source": []
  },
  {
   "cell_type": "code",
   "execution_count": null,
   "metadata": {},
   "outputs": [],
   "source": []
  },
  {
   "cell_type": "code",
   "execution_count": null,
   "metadata": {},
   "outputs": [],
   "source": []
  },
  {
   "cell_type": "code",
   "execution_count": null,
   "metadata": {},
   "outputs": [],
   "source": []
  },
  {
   "cell_type": "code",
   "execution_count": null,
   "metadata": {},
   "outputs": [],
   "source": []
  },
  {
   "cell_type": "code",
   "execution_count": null,
   "metadata": {},
   "outputs": [],
   "source": []
  },
  {
   "cell_type": "code",
   "execution_count": null,
   "metadata": {},
   "outputs": [],
   "source": []
  },
  {
   "cell_type": "code",
   "execution_count": null,
   "metadata": {},
   "outputs": [],
   "source": []
  },
  {
   "cell_type": "code",
   "execution_count": null,
   "metadata": {},
   "outputs": [],
   "source": []
  },
  {
   "cell_type": "code",
   "execution_count": null,
   "metadata": {},
   "outputs": [],
   "source": []
  },
  {
   "cell_type": "code",
   "execution_count": null,
   "metadata": {},
   "outputs": [],
   "source": []
  },
  {
   "cell_type": "code",
   "execution_count": null,
   "metadata": {},
   "outputs": [],
   "source": []
  },
  {
   "cell_type": "code",
   "execution_count": null,
   "metadata": {},
   "outputs": [],
   "source": []
  },
  {
   "cell_type": "code",
   "execution_count": null,
   "metadata": {},
   "outputs": [],
   "source": []
  },
  {
   "cell_type": "code",
   "execution_count": null,
   "metadata": {},
   "outputs": [],
   "source": []
  },
  {
   "cell_type": "code",
   "execution_count": null,
   "metadata": {},
   "outputs": [],
   "source": []
  },
  {
   "cell_type": "code",
   "execution_count": null,
   "metadata": {},
   "outputs": [],
   "source": []
  },
  {
   "cell_type": "code",
   "execution_count": null,
   "metadata": {},
   "outputs": [],
   "source": [
    "\n",
    "    "
   ]
  },
  {
   "cell_type": "code",
   "execution_count": null,
   "metadata": {},
   "outputs": [],
   "source": []
  },
  {
   "cell_type": "code",
   "execution_count": null,
   "metadata": {},
   "outputs": [],
   "source": []
  },
  {
   "cell_type": "code",
   "execution_count": null,
   "metadata": {},
   "outputs": [],
   "source": []
  },
  {
   "cell_type": "code",
   "execution_count": null,
   "metadata": {},
   "outputs": [],
   "source": []
  },
  {
   "cell_type": "code",
   "execution_count": null,
   "metadata": {},
   "outputs": [],
   "source": []
  },
  {
   "cell_type": "code",
   "execution_count": null,
   "metadata": {},
   "outputs": [],
   "source": []
  }
 ],
 "metadata": {
  "kernelspec": {
   "display_name": "Python 3",
   "language": "python",
   "name": "python3"
  },
  "language_info": {
   "codemirror_mode": {
    "name": "ipython",
    "version": 3
   },
   "file_extension": ".py",
   "mimetype": "text/x-python",
   "name": "python",
   "nbconvert_exporter": "python",
   "pygments_lexer": "ipython3",
   "version": "3.6.5"
  }
 },
 "nbformat": 4,
 "nbformat_minor": 2
}
