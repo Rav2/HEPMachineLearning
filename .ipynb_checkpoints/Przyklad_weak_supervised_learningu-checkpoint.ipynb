{
 "cells": [
  {
   "cell_type": "code",
   "execution_count": 1,
   "metadata": {},
   "outputs": [],
   "source": [
    "#przyklad weak supervised algorithm"
   ]
  },
  {
   "cell_type": "code",
   "execution_count": 30,
   "metadata": {},
   "outputs": [],
   "source": [
    "import tensorflow as tf"
   ]
  },
  {
   "cell_type": "code",
   "execution_count": 31,
   "metadata": {},
   "outputs": [],
   "source": [
    "import numpy as np"
   ]
  },
  {
   "cell_type": "code",
   "execution_count": 32,
   "metadata": {},
   "outputs": [],
   "source": [
    "import matplotlib.pyplot as plt"
   ]
  },
  {
   "cell_type": "code",
   "execution_count": 33,
   "metadata": {},
   "outputs": [],
   "source": [
    "%matplotlib inline"
   ]
  },
  {
   "cell_type": "code",
   "execution_count": 34,
   "metadata": {},
   "outputs": [],
   "source": [
    "from sklearn.utils import shuffle"
   ]
  },
  {
   "cell_type": "code",
   "execution_count": 35,
   "metadata": {},
   "outputs": [],
   "source": [
    "import Io_tf_binary_general as io"
   ]
  },
  {
   "cell_type": "code",
   "execution_count": 36,
   "metadata": {},
   "outputs": [],
   "source": [
    "#utworze teraz dane jakies\n",
    "#tutaj zachecam do machania tymi domyslnymi wartosciami. Tu niestety tego nie narysowalem, ale \n",
    "# to tworzy takie wlasnie kolko w kolku na plaszczyxnie.\n",
    "def kolko_w_kolku(klasa,sig1=10.,sig2=10.,R2=0.8,N=1000):\n",
    "    \"\"\"to ma utworzyc dane ktore posluza mi do sprawdzenia czy i jak dziala model\n",
    "    klasa to 0 lub 1\"\"\"\n",
    "    #z=np.random.randint(0,3)\n",
    "    \n",
    "    if klasa==1:\n",
    "        x=np.random.normal(0,sig1)\n",
    "        y=np.random.normal(0,sig1)\n",
    "        #features.append([x,y])\n",
    "        \n",
    "        return {\"pierwsza\":x,\"inna_wlasnosc\":y,\"kategoryczna\":2}\n",
    "    else:\n",
    "        alpha=np.random.uniform()*2*np.pi\n",
    "        delr=np.random.normal(0,sig2)\n",
    "        r=R2+delr\n",
    "        x=np.cos(alpha)*r\n",
    "        y=np.sin(alpha)*r\n",
    "        #features.append([x,y])\n",
    "        return {\"pierwsza\":x,\"inna_wlasnosc\":y,\"kategoryczna\":1}"
   ]
  },
  {
   "cell_type": "code",
   "execution_count": 37,
   "metadata": {},
   "outputs": [
    {
     "data": {
      "text/plain": [
       "{'pierwsza': -0.05093149659241399,\n",
       " 'inna_wlasnosc': 8.26176212020683,\n",
       " 'kategoryczna': 1}"
      ]
     },
     "execution_count": 37,
     "metadata": {},
     "output_type": "execute_result"
    }
   ],
   "source": [
    "kolko_w_kolku(0)"
   ]
  },
  {
   "cell_type": "code",
   "execution_count": 38,
   "metadata": {},
   "outputs": [],
   "source": [
    "p0_train=0.3\n",
    "p1_train=0.7\n",
    "p0_validate=0.2\n",
    "p1_validate=0.8\n",
    "#to pierwse to prawdopodobienstwo, ze cos z pierwszej populacji jest naprawdę 1\n",
    "# to drugie to prawdopodobiensto, ze cos z drugiej populacji jest naprawde 1"
   ]
  },
  {
   "cell_type": "code",
   "execution_count": 39,
   "metadata": {},
   "outputs": [
    {
     "data": {
      "text/plain": [
       "'Tworze datasety ktore odpowiadaja koejno danym treningowym skladajacym sie\\n z labelek takich, ze jak jakas wskazuje 0 to z prawdopodobienstwem 0.3 jednak jest jedynka (rozpadem\\n higgsa), zas jak wskazuje 1 to z prawdopodobienstwem 0.7 jest rzeczywiscie rozpadem. To teraz pisalem o \\n tym datascie \"weak_train\". potem tworze jeszcze weak_validate ktory jest mniejszy ale idea jest taka,\\n ze na weak_validate znamy skad inond te prawdopodobienstwa, a na weak_train nie znamy ich.\\n weak_true tworze tylko po to, by moc sprawdzic, czy policzona auc na danych weak_validate zgodnie\\n z ta praca ktora na poczatku nam przesylal Kalinowski o weak supervised learning zgadza sie\\n z rzeczywistoscia'"
      ]
     },
     "execution_count": 39,
     "metadata": {},
     "output_type": "execute_result"
    }
   ],
   "source": [
    "\"\"\"Tworze datasety ktore odpowiadaja koejno danym treningowym skladajacym sie\n",
    " z labelek takich, ze jak jakas wskazuje 0 to z prawdopodobienstwem 0.3 jednak jest jedynka (rozpadem\n",
    " higgsa), zas jak wskazuje 1 to z prawdopodobienstwem 0.7 jest rzeczywiscie rozpadem. To teraz pisalem o \n",
    " tym datascie \"weak_train\". potem tworze jeszcze weak_validate ktory jest mniejszy ale idea jest taka,\n",
    " ze na weak_validate znamy skad inond te prawdopodobienstwa, a na weak_train nie znamy ich.\n",
    " weak_true tworze tylko po to, by moc sprawdzic, czy policzona auc na danych weak_validate zgodnie\n",
    " z ta praca ktora na poczatku nam przesylal Kalinowski o weak supervised learning zgadza sie\n",
    " z rzeczywistoscia\"\"\""
   ]
  },
  {
   "cell_type": "code",
   "execution_count": 40,
   "metadata": {},
   "outputs": [],
   "source": [
    "pisacz=io.Io_tf_binary_general(\"weak_train\",'w')\n",
    "for i in range(10000):\n",
    "    #print(i)\n",
    "    klasa=np.random.randint(0,2)\n",
    "    if klasa==0:\n",
    "        prawdziwa=int(np.random.uniform()<p0_train)\n",
    "        t=kolko_w_kolku(prawdziwa),0\n",
    "        \n",
    "    else:\n",
    "        prawdziwa=int(np.random.uniform()<p1_train)\n",
    "        t=kolko_w_kolku(prawdziwa),1\n",
    "    #print(t)\n",
    "    pisacz.write_old(*t)\n",
    "pisacz.close()"
   ]
  },
  {
   "cell_type": "code",
   "execution_count": 41,
   "metadata": {},
   "outputs": [],
   "source": [
    "pisacz=io.Io_tf_binary_general(\"weak_validate\",'w')\n",
    "for i in range(1000):\n",
    "    klasa=np.random.randint(0,2)\n",
    "    if klasa==0:\n",
    "        prawdziwa=int(np.random.uniform()<p0_validate)\n",
    "        pisacz.write_old(kolko_w_kolku(prawdziwa),0)\n",
    "    else:\n",
    "        prawdziwa=int(np.random.uniform()<p1_validate)\n",
    "        pisacz.write_old(kolko_w_kolku(prawdziwa),1)\n",
    "pisacz.close()"
   ]
  },
  {
   "cell_type": "code",
   "execution_count": 42,
   "metadata": {},
   "outputs": [],
   "source": [
    "pisacz=io.Io_tf_binary_general(\"weak_true\",'w')\n",
    "for i in range(1000):\n",
    "    klasa=np.random.randint(0,2)\n",
    "    if klasa==0:\n",
    "        prawdziwa=klasa\n",
    "        pisacz.write_old(kolko_w_kolku(prawdziwa),0)\n",
    "    else:\n",
    "        prawdziwa=klasa\n",
    "        pisacz.write_old(kolko_w_kolku(prawdziwa),1)\n",
    "pisacz.close()"
   ]
  },
  {
   "cell_type": "code",
   "execution_count": 43,
   "metadata": {},
   "outputs": [
    {
     "name": "stdout",
     "output_type": "stream",
     "text": [
      "{'pierwsza': FixedLenFeature(shape=[1], dtype=tf.float32, default_value=None), 'inna_wlasnosc': FixedLenFeature(shape=[1], dtype=tf.float32, default_value=None), 'kategoryczna': FixedLenFeature(shape=[1], dtype=tf.int64, default_value=None), 'label': FixedLenFeature(shape=[], dtype=tf.int64, default_value=None)}\n",
      "({'inna_wlasnosc': array([[-3.6804981],\n",
      "       [ 4.721332 ]], dtype=float32), 'kategoryczna': array([[1],\n",
      "       [2]]), 'pierwsza': array([[-4.201903],\n",
      "       [12.855538]], dtype=float32)}, array([0, 1]))\n",
      "({'inna_wlasnosc': array([[  7.8653965],\n",
      "       [-13.541479 ]], dtype=float32), 'kategoryczna': array([[2],\n",
      "       [2]]), 'pierwsza': array([[ 22.999422],\n",
      "       [-16.179918]], dtype=float32)}, array([1, 1]))\n",
      "({'inna_wlasnosc': array([[-11.032436 ],\n",
      "       [  1.1965623]], dtype=float32), 'kategoryczna': array([[2],\n",
      "       [2]]), 'pierwsza': array([[ 2.7493088],\n",
      "       [-3.5727687]], dtype=float32)}, array([1, 1]))\n"
     ]
    }
   ],
   "source": [
    "czytacz=io.Io_tf_binary_general(\"weak_validate\",'r')\n",
    "dataset=czytacz.read()\n",
    "BATCH_SIZE=2\n",
    "zbachowany=dataset.shuffle(1000).repeat().batch(BATCH_SIZE)\n",
    "iterator = zbachowany.make_one_shot_iterator()\n",
    "para=iterator.get_next()\n",
    "\n",
    "with tf.Session() as sess:\n",
    "    for i in range(3):\n",
    "        print(sess.run(para))"
   ]
  },
  {
   "cell_type": "code",
   "execution_count": 44,
   "metadata": {},
   "outputs": [],
   "source": [
    "\n",
    "import Dnn_uniwersalny as dnn"
   ]
  },
  {
   "cell_type": "code",
   "execution_count": 45,
   "metadata": {},
   "outputs": [
    {
     "name": "stdout",
     "output_type": "stream",
     "text": [
      "{'pierwsza': FixedLenFeature(shape=[1], dtype=tf.float32, default_value=None), 'inna_wlasnosc': FixedLenFeature(shape=[1], dtype=tf.float32, default_value=None), 'kategoryczna': FixedLenFeature(shape=[1], dtype=tf.int64, default_value=None), 'label': FixedLenFeature(shape=[], dtype=tf.int64, default_value=None)}\n"
     ]
    }
   ],
   "source": [
    "model=dnn.Dnn_uniwersalny(\"weak_train\",[10],\"weak_estimator\")"
   ]
  },
  {
   "cell_type": "code",
   "execution_count": 46,
   "metadata": {},
   "outputs": [],
   "source": [
    "def f(x):\n",
    "    return 5*x\n",
    "model.engineer_feature(f=f,slownik={'x':'pierwsza'},typ=[1,'f'],nazwa='dorobiony')"
   ]
  },
  {
   "cell_type": "code",
   "execution_count": 47,
   "metadata": {},
   "outputs": [
    {
     "name": "stdout",
     "output_type": "stream",
     "text": [
      "INFO:tensorflow:Using default config.\n",
      "INFO:tensorflow:Using config: {'_model_dir': 'weak_estimator', '_tf_random_seed': None, '_save_summary_steps': 100, '_save_checkpoints_steps': None, '_save_checkpoints_secs': 600, '_session_config': None, '_keep_checkpoint_max': 5, '_keep_checkpoint_every_n_hours': 10000, '_log_step_count_steps': 100, '_train_distribute': None, '_service': None, '_cluster_spec': <tensorflow.python.training.server_lib.ClusterSpec object at 0x7f37c8bfaef0>, '_task_type': 'worker', '_task_id': 0, '_global_id_in_cluster': 0, '_master': '', '_evaluation_master': '', '_is_chief': True, '_num_ps_replicas': 0, '_num_worker_replicas': 1}\n"
     ]
    }
   ],
   "source": [
    "model.make_model({\"kategoryczna\":[0,1,2]})"
   ]
  },
  {
   "cell_type": "code",
   "execution_count": 48,
   "metadata": {},
   "outputs": [
    {
     "name": "stdout",
     "output_type": "stream",
     "text": [
      "{'pierwsza': FixedLenFeature(shape=[1], dtype=tf.float32, default_value=None), 'inna_wlasnosc': FixedLenFeature(shape=[1], dtype=tf.float32, default_value=None), 'kategoryczna': FixedLenFeature(shape=[1], dtype=tf.int64, default_value=None), 'label': FixedLenFeature(shape=[], dtype=tf.int64, default_value=None)}\n",
      "INFO:tensorflow:Calling model_fn.\n",
      "INFO:tensorflow:Done calling model_fn.\n",
      "INFO:tensorflow:Create CheckpointSaverHook.\n",
      "INFO:tensorflow:Graph was finalized.\n",
      "INFO:tensorflow:Running local_init_op.\n",
      "INFO:tensorflow:Done running local_init_op.\n",
      "INFO:tensorflow:Saving checkpoints for 1 into weak_estimator/model.ckpt.\n",
      "INFO:tensorflow:loss = 384.3098, step = 1\n",
      "INFO:tensorflow:global_step/sec: 82.6396\n",
      "INFO:tensorflow:loss = 101.0662, step = 101 (1.211 sec)\n",
      "INFO:tensorflow:global_step/sec: 92.7505\n",
      "INFO:tensorflow:loss = 80.02643, step = 201 (1.078 sec)\n",
      "INFO:tensorflow:global_step/sec: 93.2879\n",
      "INFO:tensorflow:loss = 73.84485, step = 301 (1.072 sec)\n",
      "INFO:tensorflow:global_step/sec: 92.3466\n",
      "INFO:tensorflow:loss = 71.945946, step = 401 (1.083 sec)\n",
      "INFO:tensorflow:global_step/sec: 92.5314\n",
      "INFO:tensorflow:loss = 78.9516, step = 501 (1.081 sec)\n",
      "INFO:tensorflow:global_step/sec: 91.8156\n",
      "INFO:tensorflow:loss = 85.72651, step = 601 (1.089 sec)\n",
      "INFO:tensorflow:global_step/sec: 95.1027\n",
      "INFO:tensorflow:loss = 80.5388, step = 701 (1.052 sec)\n",
      "INFO:tensorflow:global_step/sec: 84.3283\n",
      "INFO:tensorflow:loss = 82.43191, step = 801 (1.185 sec)\n",
      "INFO:tensorflow:global_step/sec: 88.2426\n",
      "INFO:tensorflow:loss = 78.06784, step = 901 (1.134 sec)\n",
      "INFO:tensorflow:global_step/sec: 90.8708\n",
      "INFO:tensorflow:loss = 83.20835, step = 1001 (1.100 sec)\n",
      "INFO:tensorflow:global_step/sec: 91.1935\n",
      "INFO:tensorflow:loss = 78.664795, step = 1101 (1.096 sec)\n",
      "INFO:tensorflow:global_step/sec: 83.5615\n",
      "INFO:tensorflow:loss = 78.420105, step = 1201 (1.197 sec)\n",
      "INFO:tensorflow:global_step/sec: 89.4693\n",
      "INFO:tensorflow:loss = 73.1254, step = 1301 (1.118 sec)\n",
      "INFO:tensorflow:global_step/sec: 88.6921\n",
      "INFO:tensorflow:loss = 78.77123, step = 1401 (1.127 sec)\n",
      "INFO:tensorflow:global_step/sec: 90.1843\n",
      "INFO:tensorflow:loss = 71.592926, step = 1501 (1.109 sec)\n",
      "INFO:tensorflow:global_step/sec: 87.0031\n",
      "INFO:tensorflow:loss = 74.91612, step = 1601 (1.150 sec)\n",
      "INFO:tensorflow:global_step/sec: 85.6241\n",
      "INFO:tensorflow:loss = 78.76677, step = 1701 (1.168 sec)\n",
      "INFO:tensorflow:global_step/sec: 88.2266\n",
      "INFO:tensorflow:loss = 72.64358, step = 1801 (1.134 sec)\n",
      "INFO:tensorflow:global_step/sec: 83.6315\n",
      "INFO:tensorflow:loss = 78.65064, step = 1901 (1.195 sec)\n",
      "INFO:tensorflow:global_step/sec: 81.5902\n",
      "INFO:tensorflow:loss = 81.674446, step = 2001 (1.227 sec)\n",
      "INFO:tensorflow:global_step/sec: 90.3054\n",
      "INFO:tensorflow:loss = 84.43529, step = 2101 (1.106 sec)\n",
      "INFO:tensorflow:global_step/sec: 91.7541\n",
      "INFO:tensorflow:loss = 81.0219, step = 2201 (1.090 sec)\n",
      "INFO:tensorflow:global_step/sec: 90.556\n",
      "INFO:tensorflow:loss = 76.21394, step = 2301 (1.104 sec)\n",
      "INFO:tensorflow:global_step/sec: 92.448\n",
      "INFO:tensorflow:loss = 83.21894, step = 2401 (1.081 sec)\n",
      "INFO:tensorflow:global_step/sec: 91.0359\n",
      "INFO:tensorflow:loss = 73.72676, step = 2501 (1.099 sec)\n",
      "INFO:tensorflow:global_step/sec: 85.0968\n",
      "INFO:tensorflow:loss = 75.023674, step = 2601 (1.175 sec)\n",
      "INFO:tensorflow:global_step/sec: 91.8932\n",
      "INFO:tensorflow:loss = 84.65118, step = 2701 (1.088 sec)\n",
      "INFO:tensorflow:global_step/sec: 84.2035\n",
      "INFO:tensorflow:loss = 83.660095, step = 2801 (1.188 sec)\n",
      "INFO:tensorflow:global_step/sec: 87.4543\n",
      "INFO:tensorflow:loss = 80.05557, step = 2901 (1.144 sec)\n",
      "INFO:tensorflow:Saving checkpoints for 3000 into weak_estimator/model.ckpt.\n",
      "INFO:tensorflow:Loss for final step: 82.07486.\n"
     ]
    }
   ],
   "source": [
    "model.train() #trenujemy na \"weak_train\""
   ]
  },
  {
   "cell_type": "code",
   "execution_count": 49,
   "metadata": {},
   "outputs": [
    {
     "name": "stdout",
     "output_type": "stream",
     "text": [
      "{'pierwsza': FixedLenFeature(shape=[1], dtype=tf.float32, default_value=None), 'inna_wlasnosc': FixedLenFeature(shape=[1], dtype=tf.float32, default_value=None), 'kategoryczna': FixedLenFeature(shape=[1], dtype=tf.int64, default_value=None), 'label': FixedLenFeature(shape=[], dtype=tf.int64, default_value=None)}\n",
      "{'pierwsza': FixedLenFeature(shape=[1], dtype=tf.float32, default_value=None), 'inna_wlasnosc': FixedLenFeature(shape=[1], dtype=tf.float32, default_value=None), 'kategoryczna': FixedLenFeature(shape=[1], dtype=tf.int64, default_value=None), 'label': FixedLenFeature(shape=[], dtype=tf.int64, default_value=None)}\n",
      "INFO:tensorflow:Calling model_fn.\n",
      "INFO:tensorflow:Done calling model_fn.\n",
      "INFO:tensorflow:Graph was finalized.\n",
      "INFO:tensorflow:Restoring parameters from weak_estimator/model.ckpt-3000\n",
      "INFO:tensorflow:Running local_init_op.\n",
      "INFO:tensorflow:Done running local_init_op.\n",
      "auc wynosi 1.015691139763974\n"
     ]
    },
    {
     "data": {
      "text/plain": [
       "1.015691139763974"
      ]
     },
     "execution_count": 49,
     "metadata": {},
     "output_type": "execute_result"
    },
    {
     "data": {
      "image/png": "[encoded data removed]",
      "text/plain": [
       "<Figure size 432x288 with 1 Axes>"
      ]
     },
     "metadata": {},
     "output_type": "display_data"
    }
   ],
   "source": [
    "auc,xxxx,yyyy,zzz=model.evaluate_jak_z_pracy(0.2,0.8,folder=\"weak_validate\")\n",
    "auc #auc policzona na weak_validate zgodnie z praca "
   ]
  },
  {
   "cell_type": "code",
   "execution_count": 50,
   "metadata": {},
   "outputs": [
    {
     "name": "stdout",
     "output_type": "stream",
     "text": [
      "{'pierwsza': FixedLenFeature(shape=[1], dtype=tf.float32, default_value=None), 'inna_wlasnosc': FixedLenFeature(shape=[1], dtype=tf.float32, default_value=None), 'kategoryczna': FixedLenFeature(shape=[1], dtype=tf.int64, default_value=None), 'label': FixedLenFeature(shape=[], dtype=tf.int64, default_value=None)}\n",
      "INFO:tensorflow:Calling model_fn.\n",
      "WARNING:tensorflow:Trapezoidal rule is known to produce incorrect PR-AUCs; please switch to \"careful_interpolation\" instead.\n",
      "WARNING:tensorflow:Trapezoidal rule is known to produce incorrect PR-AUCs; please switch to \"careful_interpolation\" instead.\n",
      "INFO:tensorflow:Done calling model_fn.\n",
      "INFO:tensorflow:Starting evaluation at 2018-05-21-22:47:04\n",
      "INFO:tensorflow:Graph was finalized.\n",
      "INFO:tensorflow:Restoring parameters from weak_estimator/model.ckpt-3000\n",
      "INFO:tensorflow:Running local_init_op.\n",
      "INFO:tensorflow:Done running local_init_op.\n",
      "INFO:tensorflow:Evaluation [100/1000]\n",
      "INFO:tensorflow:Evaluation [200/1000]\n",
      "INFO:tensorflow:Evaluation [300/1000]\n",
      "INFO:tensorflow:Evaluation [400/1000]\n",
      "INFO:tensorflow:Evaluation [500/1000]\n",
      "INFO:tensorflow:Evaluation [600/1000]\n",
      "INFO:tensorflow:Evaluation [700/1000]\n",
      "INFO:tensorflow:Evaluation [800/1000]\n",
      "INFO:tensorflow:Evaluation [900/1000]\n",
      "INFO:tensorflow:Evaluation [1000/1000]\n",
      "INFO:tensorflow:Finished evaluation at 2018-05-21-22:47:17\n",
      "INFO:tensorflow:Saving dict for global step 3000: accuracy = 1.0, accuracy_baseline = 0.504, auc = 0.99999994, auc_precision_recall = 1.0, average_loss = 0.37088734, global_step = 3000, label/mean = 0.504, loss = 47.47358, precision = 1.0, prediction/mean = 0.48883197, recall = 1.0\n"
     ]
    },
    {
     "data": {
      "text/plain": [
       "{'accuracy': 1.0,\n",
       " 'accuracy_baseline': 0.504,\n",
       " 'auc': 0.99999994,\n",
       " 'auc_precision_recall': 1.0,\n",
       " 'average_loss': 0.37088734,\n",
       " 'label/mean': 0.504,\n",
       " 'loss': 47.47358,\n",
       " 'precision': 1.0,\n",
       " 'prediction/mean': 0.48883197,\n",
       " 'recall': 1.0,\n",
       " 'global_step': 3000}"
      ]
     },
     "execution_count": 50,
     "metadata": {},
     "output_type": "execute_result"
    }
   ],
   "source": [
    "model.evaluate(folder=\"weak_true\")\n",
    "    #auc policzona zgodnie z tym, jak to sie liczy normalnie gdy ma sie dobrze oznaczone dane gdzie\n",
    "    # na pewno byl higgs lub na pewno nie bylo"
   ]
  },
  {
   "cell_type": "code",
   "execution_count": 23,
   "metadata": {},
   "outputs": [
    {
     "data": {
      "text/plain": [
       "'Tutaj nalezy zwrocic swoja uwage na to, ze auc policzone na danych co do ktorych wiemy dokladnie czy\\nsa rozpadem czy nie jest podobne do auc policzonego na podstawie labelek co do ktorych znamy tylko prawdopodobienstwo\\nczy sa rozpadem'"
      ]
     },
     "execution_count": 23,
     "metadata": {},
     "output_type": "execute_result"
    }
   ],
   "source": [
    "\"\"\"Tutaj nalezy zwrocic swoja uwage na to, ze auc policzone na danych co do ktorych wiemy dokladnie czy\n",
    "sa rozpadem czy nie jest podobne do auc policzonego na podstawie labelek co do ktorych znamy tylko prawdopodobienstwo\n",
    "czy sa rozpadem\"\"\"\n",
    "    "
   ]
  },
  {
   "cell_type": "code",
   "execution_count": null,
   "metadata": {},
   "outputs": [],
   "source": []
  },
  {
   "cell_type": "code",
   "execution_count": null,
   "metadata": {},
   "outputs": [],
   "source": []
  },
  {
   "cell_type": "code",
   "execution_count": null,
   "metadata": {},
   "outputs": [],
   "source": []
  },
  {
   "cell_type": "code",
   "execution_count": null,
   "metadata": {},
   "outputs": [],
   "source": [
    "\n",
    "    \n",
    "        \n",
    "    "
   ]
  },
  {
   "cell_type": "code",
   "execution_count": null,
   "metadata": {},
   "outputs": [],
   "source": []
  },
  {
   "cell_type": "code",
   "execution_count": null,
   "metadata": {},
   "outputs": [],
   "source": []
  },
  {
   "cell_type": "code",
   "execution_count": null,
   "metadata": {},
   "outputs": [],
   "source": []
  },
  {
   "cell_type": "code",
   "execution_count": null,
   "metadata": {},
   "outputs": [],
   "source": []
  },
  {
   "cell_type": "code",
   "execution_count": null,
   "metadata": {},
   "outputs": [],
   "source": []
  },
  {
   "cell_type": "code",
   "execution_count": null,
   "metadata": {},
   "outputs": [],
   "source": []
  },
  {
   "cell_type": "code",
   "execution_count": null,
   "metadata": {},
   "outputs": [],
   "source": []
  },
  {
   "cell_type": "code",
   "execution_count": null,
   "metadata": {},
   "outputs": [],
   "source": []
  },
  {
   "cell_type": "code",
   "execution_count": null,
   "metadata": {},
   "outputs": [],
   "source": []
  },
  {
   "cell_type": "code",
   "execution_count": null,
   "metadata": {},
   "outputs": [],
   "source": []
  },
  {
   "cell_type": "code",
   "execution_count": null,
   "metadata": {},
   "outputs": [],
   "source": []
  },
  {
   "cell_type": "code",
   "execution_count": null,
   "metadata": {},
   "outputs": [],
   "source": []
  },
  {
   "cell_type": "code",
   "execution_count": null,
   "metadata": {},
   "outputs": [],
   "source": []
  },
  {
   "cell_type": "code",
   "execution_count": null,
   "metadata": {},
   "outputs": [],
   "source": []
  },
  {
   "cell_type": "code",
   "execution_count": null,
   "metadata": {},
   "outputs": [],
   "source": []
  },
  {
   "cell_type": "code",
   "execution_count": null,
   "metadata": {},
   "outputs": [],
   "source": []
  },
  {
   "cell_type": "code",
   "execution_count": null,
   "metadata": {},
   "outputs": [],
   "source": []
  },
  {
   "cell_type": "code",
   "execution_count": null,
   "metadata": {},
   "outputs": [],
   "source": []
  },
  {
   "cell_type": "code",
   "execution_count": null,
   "metadata": {},
   "outputs": [],
   "source": []
  },
  {
   "cell_type": "code",
   "execution_count": null,
   "metadata": {},
   "outputs": [],
   "source": []
  },
  {
   "cell_type": "code",
   "execution_count": null,
   "metadata": {},
   "outputs": [],
   "source": []
  },
  {
   "cell_type": "code",
   "execution_count": null,
   "metadata": {},
   "outputs": [],
   "source": []
  },
  {
   "cell_type": "code",
   "execution_count": null,
   "metadata": {},
   "outputs": [],
   "source": [
    "\n",
    "    "
   ]
  },
  {
   "cell_type": "code",
   "execution_count": null,
   "metadata": {},
   "outputs": [],
   "source": []
  },
  {
   "cell_type": "code",
   "execution_count": null,
   "metadata": {},
   "outputs": [],
   "source": []
  },
  {
   "cell_type": "code",
   "execution_count": null,
   "metadata": {},
   "outputs": [],
   "source": []
  },
  {
   "cell_type": "code",
   "execution_count": null,
   "metadata": {},
   "outputs": [],
   "source": []
  },
  {
   "cell_type": "code",
   "execution_count": null,
   "metadata": {},
   "outputs": [],
   "source": []
  },
  {
   "cell_type": "code",
   "execution_count": null,
   "metadata": {},
   "outputs": [],
   "source": []
  }
 ],
 "metadata": {
  "kernelspec": {
   "display_name": "Python 3",
   "language": "python",
   "name": "python3"
  },
  "language_info": {
   "codemirror_mode": {
    "name": "ipython",
    "version": 3
   },
   "file_extension": ".py",
   "mimetype": "text/x-python",
   "name": "python",
   "nbconvert_exporter": "python",
   "pygments_lexer": "ipython3",
   "version": "3.6.5"
  }
 },
 "nbformat": 4,
 "nbformat_minor": 2
}
