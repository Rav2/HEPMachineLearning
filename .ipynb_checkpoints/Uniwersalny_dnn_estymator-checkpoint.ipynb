{
 "cells": [
  {
   "cell_type": "code",
   "execution_count": 1,
   "metadata": {},
   "outputs": [],
   "source": [
    "import tensorflow as tf"
   ]
  },
  {
   "cell_type": "code",
   "execution_count": 2,
   "metadata": {},
   "outputs": [],
   "source": [
    "import numpy as np"
   ]
  },
  {
   "cell_type": "code",
   "execution_count": 3,
   "metadata": {},
   "outputs": [],
   "source": [
    "import matplotlib.pyplot as plt"
   ]
  },
  {
   "cell_type": "code",
   "execution_count": 4,
   "metadata": {},
   "outputs": [],
   "source": [
    "%matplotlib inline"
   ]
  },
  {
   "cell_type": "code",
   "execution_count": 5,
   "metadata": {},
   "outputs": [],
   "source": [
    "from sklearn.utils import shuffle"
   ]
  },
  {
   "cell_type": "code",
   "execution_count": null,
   "metadata": {},
   "outputs": [],
   "source": []
  },
  {
   "cell_type": "code",
   "execution_count": null,
   "metadata": {},
   "outputs": [],
   "source": []
  },
  {
   "cell_type": "code",
   "execution_count": null,
   "metadata": {},
   "outputs": [],
   "source": []
  },
  {
   "cell_type": "code",
   "execution_count": 9,
   "metadata": {
    "collapsed": true
   },
   "outputs": [],
   "source": [
    "#teraz sproboje z tego zrobic jakis dataset"
   ]
  },
  {
   "cell_type": "code",
   "execution_count": 10,
   "metadata": {
    "collapsed": true
   },
   "outputs": [],
   "source": [
    "#f,l=kolko_w_kolku()"
   ]
  },
  {
   "cell_type": "code",
   "execution_count": 11,
   "metadata": {
    "collapsed": true
   },
   "outputs": [],
   "source": [
    "#dataset = tf.data.Dataset.from_tensor_slices((f,l))"
   ]
  },
  {
   "cell_type": "code",
   "execution_count": 12,
   "metadata": {},
   "outputs": [],
   "source": [
    "#BATCH_SIZE=100\n",
    "#zbachowany=dataset.shuffle(1000).repeat().batch(BATCH_SIZE)"
   ]
  },
  {
   "cell_type": "code",
   "execution_count": 13,
   "metadata": {
    "collapsed": true
   },
   "outputs": [],
   "source": [
    "#to jest dataset zaraz zastanowie sie jak go zapisac do pliku i z tego pliku odczytac a teraz jak go czytac?"
   ]
  },
  {
   "cell_type": "code",
   "execution_count": 14,
   "metadata": {
    "collapsed": true
   },
   "outputs": [],
   "source": [
    "#iterator = zbachowany.make_one_shot_iterator()"
   ]
  },
  {
   "cell_type": "code",
   "execution_count": 15,
   "metadata": {
    "collapsed": true
   },
   "outputs": [],
   "source": [
    "#f,l=iterator.get_next()"
   ]
  },
  {
   "cell_type": "code",
   "execution_count": 16,
   "metadata": {},
   "outputs": [],
   "source": [
    "#with tf.Session() as sess:\n",
    "#    for i in range(100):\n",
    "#        sess.run(l)\n",
    "    "
   ]
  },
  {
   "cell_type": "code",
   "execution_count": null,
   "metadata": {
    "collapsed": true
   },
   "outputs": [],
   "source": [
    "\n",
    "    "
   ]
  },
  {
   "cell_type": "code",
   "execution_count": 17,
   "metadata": {},
   "outputs": [],
   "source": [
    "#wrap_float64([5.55,6.85]) #swietnie"
   ]
  },
  {
   "cell_type": "code",
   "execution_count": null,
   "metadata": {
    "collapsed": true
   },
   "outputs": [],
   "source": []
  },
  {
   "cell_type": "code",
   "execution_count": null,
   "metadata": {
    "collapsed": true
   },
   "outputs": [],
   "source": []
  },
  {
   "cell_type": "code",
   "execution_count": 9,
   "metadata": {
    "collapsed": true
   },
   "outputs": [],
   "source": []
  },
  {
   "cell_type": "code",
   "execution_count": null,
   "metadata": {},
   "outputs": [],
   "source": []
  },
  {
   "cell_type": "code",
   "execution_count": null,
   "metadata": {
    "collapsed": true
   },
   "outputs": [],
   "source": []
  },
  {
   "cell_type": "code",
   "execution_count": 31,
   "metadata": {},
   "outputs": [],
   "source": [
    "\n",
    "\n",
    "\"\"\"\n",
    "\n",
    "Podajemy slownik na takich samych zasadach co podawalismy do tamtego Io_tf_binary\n",
    "Tym razem jak podajemy sciezke do pliku to ten plik ma juz byc pelen danych. \n",
    "\n",
    "Na razie w pierwszym rzucie nie bedzie jeszcze danych typu kategorycznego.\n",
    "\n",
    "To ma byc kompatybilne z klasa Io_tf_binary_general\n",
    "\n",
    "__init__(nazwa_folderu,hidden_units,model_dir)\n",
    "        to jest nazwa_folderu odnosi sie do folderu w ktorym pisala klasa\n",
    "        Io_tf_binary_general czy cos\n",
    "        hidden_units to jest lista po ile ma byc ukrytych unitsow. czyli nie podajemy rozmiaru\n",
    "        danych wejsciowych ani wyjsciowych. idziemy od pierwszej (najblizszej inputu) do ostatniej\n",
    "        model_dir to tam bedzie pisac swoje rzeczy nasz model\n",
    "train \n",
    "        jest self explainatory. wydaje mi sie, ze to robi tak, ze kontynuuje trenowanie z miejsca w ktorym skonczylo\n",
    "evaluate \n",
    "        to jest zwykla ewaluacja. tyle, ze mozna podac jako argument \"folder\" z ktorego pochodza\n",
    "\n",
    "\n",
    "\n",
    "\"\"\"\n",
    "\n",
    "import Io_tf_binary_general as io\n",
    "\n",
    "\n",
    "class Dnn_uniwersalny:\n",
    "    def __init__(self,nazwa_folderu,hidden_units,model_dir):\n",
    "        self.model_dit=model_dir\n",
    "        self.nazwa_folderu=nazwa_folderu\n",
    "        self.hidden_units=hidden_units\n",
    "        self.wczytywacz=io.Io_tf_binary_general(nazwa_folderu,'r')\n",
    "        self.typy=self.wczytywacz.types()\n",
    "        my_feature_columns = []\n",
    "        for k in self.typy.keys():\n",
    "            if self.typy[k][1]=='f':\n",
    "                t=tf.float32\n",
    "            else:\n",
    "                t=tf.int32\n",
    "            my_feature_columns.append(tf.feature_column.numeric_column(key=k,shape=\\\n",
    "                        (self.typy[k][0],),dtype=t ))\n",
    "        \n",
    "        self.feature_columns=my_feature_columns\n",
    "        \n",
    "        def input_fn( batch_size=100,buffer_size=1000,folder=nazwa_folderu):\n",
    "            \"\"\"input function for training\n",
    "            nazwy to lista nazw feature w kolejnosci wystepowania\"\"\"\n",
    "            dataset=io.Io_tf_binary_general(folder,'r').read()\n",
    "            return dataset.shuffle(buffer_size).repeat().batch(batch_size)\n",
    "        self.input_fn=input_fn\n",
    "        \n",
    "        self.classifier = tf.estimator.DNNClassifier(\n",
    "        feature_columns=self.feature_columns,\n",
    "        hidden_units=self.hidden_units,\n",
    "        model_dir=model_dir,\n",
    "        n_classes=2)\n",
    "    def train(self,batch_size=128,buffer_size=1000,steps=3000):\n",
    "        self.classifier.train(\n",
    "        input_fn=lambda:self.input_fn( batch_size,buffer_size),\n",
    "        steps=steps)\n",
    "    def evaluate(self,batch_size=128,buffer_size=1000,steps=1000,folder=\"\"):\n",
    "        if folder==\"\":\n",
    "            folder=self.nazwa_folderu\n",
    "        self.last_eval_result = self.classifier.evaluate(\n",
    "        input_fn=lambda:self.input_fn( batch_size,buffer_size,folder=folder),\n",
    "        steps=steps)\n",
    "        return self.last_eval_result\n",
    "    \n",
    "    \n",
    "    \n",
    "    \n",
    "        \n",
    "        \n",
    "        \n",
    "    \n",
    "        "
   ]
  },
  {
   "cell_type": "code",
   "execution_count": 25,
   "metadata": {},
   "outputs": [],
   "source": [
    "#Ta linijka zaklada, ze zrobilismy plik dane_treningowe2 wedlug Io_tf_binary"
   ]
  },
  {
   "cell_type": "code",
   "execution_count": 26,
   "metadata": {},
   "outputs": [
    {
     "name": "stdout",
     "output_type": "stream",
     "text": [
      "INFO:tensorflow:Using default config.\n",
      "INFO:tensorflow:Using config: {'_model_dir': 'weak_estimator', '_tf_random_seed': None, '_save_summary_steps': 100, '_save_checkpoints_steps': None, '_save_checkpoints_secs': 600, '_session_config': None, '_keep_checkpoint_max': 5, '_keep_checkpoint_every_n_hours': 10000, '_log_step_count_steps': 100, '_train_distribute': None, '_service': None, '_cluster_spec': <tensorflow.python.training.server_lib.ClusterSpec object at 0x7fa64c928780>, '_task_type': 'worker', '_task_id': 0, '_global_id_in_cluster': 0, '_master': '', '_evaluation_master': '', '_is_chief': True, '_num_ps_replicas': 0, '_num_worker_replicas': 1}\n"
     ]
    }
   ],
   "source": [
    "model=Dnn_uniwersalny('weak_train',[10],\"weak_estimator\")"
   ]
  },
  {
   "cell_type": "code",
   "execution_count": 27,
   "metadata": {},
   "outputs": [
    {
     "name": "stdout",
     "output_type": "stream",
     "text": [
      "{'pierwsza': FixedLenFeature(shape=[1], dtype=tf.float32, default_value=None), 'inna_wlasnosc': FixedLenFeature(shape=[1], dtype=tf.float32, default_value=None), 'label': FixedLenFeature(shape=[], dtype=tf.int64, default_value=None)}\n",
      "INFO:tensorflow:Calling model_fn.\n",
      "INFO:tensorflow:Done calling model_fn.\n",
      "INFO:tensorflow:Create CheckpointSaverHook.\n",
      "INFO:tensorflow:Graph was finalized.\n",
      "INFO:tensorflow:Restoring parameters from weak_estimator/model.ckpt-6000\n",
      "INFO:tensorflow:Running local_init_op.\n",
      "INFO:tensorflow:Done running local_init_op.\n",
      "INFO:tensorflow:Saving checkpoints for 6001 into weak_estimator/model.ckpt.\n",
      "INFO:tensorflow:loss = 84.10044, step = 6001\n",
      "INFO:tensorflow:global_step/sec: 165.49\n",
      "INFO:tensorflow:loss = 87.87953, step = 6101 (0.605 sec)\n",
      "INFO:tensorflow:global_step/sec: 199.721\n",
      "INFO:tensorflow:loss = 84.70343, step = 6201 (0.501 sec)\n",
      "INFO:tensorflow:global_step/sec: 186.543\n",
      "INFO:tensorflow:loss = 86.246735, step = 6301 (0.536 sec)\n",
      "INFO:tensorflow:global_step/sec: 185.013\n",
      "INFO:tensorflow:loss = 88.799095, step = 6401 (0.541 sec)\n",
      "INFO:tensorflow:global_step/sec: 189.416\n",
      "INFO:tensorflow:loss = 84.70567, step = 6501 (0.528 sec)\n",
      "INFO:tensorflow:global_step/sec: 183.829\n",
      "INFO:tensorflow:loss = 85.01756, step = 6601 (0.544 sec)\n",
      "INFO:tensorflow:global_step/sec: 197.41\n",
      "INFO:tensorflow:loss = 85.77693, step = 6701 (0.506 sec)\n",
      "INFO:tensorflow:global_step/sec: 168.114\n",
      "INFO:tensorflow:loss = 87.28575, step = 6801 (0.595 sec)\n",
      "INFO:tensorflow:global_step/sec: 188.25\n",
      "INFO:tensorflow:loss = 89.57323, step = 6901 (0.533 sec)\n",
      "INFO:tensorflow:global_step/sec: 172.432\n",
      "INFO:tensorflow:loss = 86.19342, step = 7001 (0.580 sec)\n",
      "INFO:tensorflow:global_step/sec: 188.651\n",
      "INFO:tensorflow:loss = 84.311935, step = 7101 (0.529 sec)\n",
      "INFO:tensorflow:global_step/sec: 191.387\n",
      "INFO:tensorflow:loss = 84.46024, step = 7201 (0.523 sec)\n",
      "INFO:tensorflow:global_step/sec: 181.898\n",
      "INFO:tensorflow:loss = 88.46925, step = 7301 (0.550 sec)\n",
      "INFO:tensorflow:global_step/sec: 172.908\n",
      "INFO:tensorflow:loss = 85.36351, step = 7401 (0.580 sec)\n",
      "INFO:tensorflow:global_step/sec: 185.002\n",
      "INFO:tensorflow:loss = 88.862724, step = 7501 (0.540 sec)\n",
      "INFO:tensorflow:global_step/sec: 171.174\n",
      "INFO:tensorflow:loss = 83.5487, step = 7601 (0.583 sec)\n",
      "INFO:tensorflow:global_step/sec: 185.007\n",
      "INFO:tensorflow:loss = 84.82173, step = 7701 (0.540 sec)\n",
      "INFO:tensorflow:global_step/sec: 191.881\n",
      "INFO:tensorflow:loss = 84.062096, step = 7801 (0.521 sec)\n",
      "INFO:tensorflow:global_step/sec: 189.622\n",
      "INFO:tensorflow:loss = 88.990204, step = 7901 (0.531 sec)\n",
      "INFO:tensorflow:global_step/sec: 185.063\n",
      "INFO:tensorflow:loss = 89.46392, step = 8001 (0.538 sec)\n",
      "INFO:tensorflow:global_step/sec: 194.523\n",
      "INFO:tensorflow:loss = 86.052315, step = 8101 (0.513 sec)\n",
      "INFO:tensorflow:global_step/sec: 192.969\n",
      "INFO:tensorflow:loss = 90.068726, step = 8201 (0.519 sec)\n",
      "INFO:tensorflow:global_step/sec: 191.078\n",
      "INFO:tensorflow:loss = 89.8571, step = 8301 (0.522 sec)\n",
      "INFO:tensorflow:global_step/sec: 197.869\n",
      "INFO:tensorflow:loss = 89.36989, step = 8401 (0.505 sec)\n",
      "INFO:tensorflow:global_step/sec: 178.314\n",
      "INFO:tensorflow:loss = 87.28488, step = 8501 (0.562 sec)\n",
      "INFO:tensorflow:global_step/sec: 169.922\n",
      "INFO:tensorflow:loss = 88.07564, step = 8601 (0.588 sec)\n",
      "INFO:tensorflow:global_step/sec: 188.107\n",
      "INFO:tensorflow:loss = 86.94129, step = 8701 (0.531 sec)\n",
      "INFO:tensorflow:global_step/sec: 170.884\n",
      "INFO:tensorflow:loss = 86.92558, step = 8801 (0.585 sec)\n",
      "INFO:tensorflow:global_step/sec: 199.388\n",
      "INFO:tensorflow:loss = 83.5576, step = 8901 (0.501 sec)\n",
      "INFO:tensorflow:Saving checkpoints for 9000 into weak_estimator/model.ckpt.\n",
      "INFO:tensorflow:Loss for final step: 86.68665.\n"
     ]
    }
   ],
   "source": [
    "model.train()"
   ]
  },
  {
   "cell_type": "code",
   "execution_count": 28,
   "metadata": {},
   "outputs": [
    {
     "name": "stdout",
     "output_type": "stream",
     "text": [
      "{'pierwsza': FixedLenFeature(shape=[1], dtype=tf.float32, default_value=None), 'inna_wlasnosc': FixedLenFeature(shape=[1], dtype=tf.float32, default_value=None), 'label': FixedLenFeature(shape=[], dtype=tf.int64, default_value=None)}\n",
      "INFO:tensorflow:Calling model_fn.\n",
      "WARNING:tensorflow:Trapezoidal rule is known to produce incorrect PR-AUCs; please switch to \"careful_interpolation\" instead.\n",
      "WARNING:tensorflow:Trapezoidal rule is known to produce incorrect PR-AUCs; please switch to \"careful_interpolation\" instead.\n",
      "INFO:tensorflow:Done calling model_fn.\n",
      "INFO:tensorflow:Starting evaluation at 2018-05-13-14:03:39\n",
      "INFO:tensorflow:Graph was finalized.\n",
      "INFO:tensorflow:Restoring parameters from weak_estimator/model.ckpt-9000\n",
      "INFO:tensorflow:Running local_init_op.\n",
      "INFO:tensorflow:Done running local_init_op.\n",
      "INFO:tensorflow:Evaluation [100/1000]\n",
      "INFO:tensorflow:Evaluation [200/1000]\n",
      "INFO:tensorflow:Evaluation [300/1000]\n",
      "INFO:tensorflow:Evaluation [400/1000]\n",
      "INFO:tensorflow:Evaluation [500/1000]\n",
      "INFO:tensorflow:Evaluation [600/1000]\n",
      "INFO:tensorflow:Evaluation [700/1000]\n",
      "INFO:tensorflow:Evaluation [800/1000]\n",
      "INFO:tensorflow:Evaluation [900/1000]\n",
      "INFO:tensorflow:Evaluation [1000/1000]\n",
      "INFO:tensorflow:Finished evaluation at 2018-05-13-14:03:47\n",
      "INFO:tensorflow:Saving dict for global step 9000: accuracy = 0.6034922, accuracy_baseline = 0.503125, auc = 0.623732, auc_precision_recall = 0.5975759, average_loss = 0.6665344, global_step = 9000, label/mean = 0.503125, loss = 85.31641, precision = 0.58476716, prediction/mean = 0.5062775, recall = 0.7309317\n"
     ]
    },
    {
     "data": {
      "text/plain": [
       "{'accuracy': 0.6034922,\n",
       " 'accuracy_baseline': 0.503125,\n",
       " 'auc': 0.623732,\n",
       " 'auc_precision_recall': 0.5975759,\n",
       " 'average_loss': 0.6665344,\n",
       " 'label/mean': 0.503125,\n",
       " 'loss': 85.31641,\n",
       " 'precision': 0.58476716,\n",
       " 'prediction/mean': 0.5062775,\n",
       " 'recall': 0.7309317,\n",
       " 'global_step': 9000}"
      ]
     },
     "execution_count": 28,
     "metadata": {},
     "output_type": "execute_result"
    }
   ],
   "source": [
    "model.evaluate()"
   ]
  },
  {
   "cell_type": "code",
   "execution_count": 29,
   "metadata": {},
   "outputs": [
    {
     "name": "stdout",
     "output_type": "stream",
     "text": [
      "{'pierwsza': FixedLenFeature(shape=[1], dtype=tf.float32, default_value=None), 'inna_wlasnosc': FixedLenFeature(shape=[1], dtype=tf.float32, default_value=None), 'label': FixedLenFeature(shape=[], dtype=tf.int64, default_value=None)}\n",
      "INFO:tensorflow:Calling model_fn.\n",
      "WARNING:tensorflow:Trapezoidal rule is known to produce incorrect PR-AUCs; please switch to \"careful_interpolation\" instead.\n",
      "WARNING:tensorflow:Trapezoidal rule is known to produce incorrect PR-AUCs; please switch to \"careful_interpolation\" instead.\n",
      "INFO:tensorflow:Done calling model_fn.\n",
      "INFO:tensorflow:Starting evaluation at 2018-05-13-14:04:32\n",
      "INFO:tensorflow:Graph was finalized.\n",
      "INFO:tensorflow:Restoring parameters from weak_estimator/model.ckpt-9000\n",
      "INFO:tensorflow:Running local_init_op.\n",
      "INFO:tensorflow:Done running local_init_op.\n",
      "INFO:tensorflow:Evaluation [100/1000]\n",
      "INFO:tensorflow:Evaluation [200/1000]\n",
      "INFO:tensorflow:Evaluation [300/1000]\n",
      "INFO:tensorflow:Evaluation [400/1000]\n",
      "INFO:tensorflow:Evaluation [500/1000]\n",
      "INFO:tensorflow:Evaluation [600/1000]\n",
      "INFO:tensorflow:Evaluation [700/1000]\n",
      "INFO:tensorflow:Evaluation [800/1000]\n",
      "INFO:tensorflow:Evaluation [900/1000]\n",
      "INFO:tensorflow:Evaluation [1000/1000]\n",
      "INFO:tensorflow:Finished evaluation at 2018-05-13-14:04:39\n",
      "INFO:tensorflow:Saving dict for global step 9000: accuracy = 0.757, accuracy_baseline = 0.512, auc = 0.8135166, auc_precision_recall = 0.78371024, average_loss = 0.5930999, global_step = 9000, label/mean = 0.512, loss = 75.91679, precision = 0.7152, prediction/mean = 0.5070935, recall = 0.8730469\n"
     ]
    },
    {
     "data": {
      "text/plain": [
       "{'accuracy': 0.757,\n",
       " 'accuracy_baseline': 0.512,\n",
       " 'auc': 0.8135166,\n",
       " 'auc_precision_recall': 0.78371024,\n",
       " 'average_loss': 0.5930999,\n",
       " 'label/mean': 0.512,\n",
       " 'loss': 75.91679,\n",
       " 'precision': 0.7152,\n",
       " 'prediction/mean': 0.5070935,\n",
       " 'recall': 0.8730469,\n",
       " 'global_step': 9000}"
      ]
     },
     "execution_count": 29,
     "metadata": {},
     "output_type": "execute_result"
    }
   ],
   "source": [
    "model.evaluate(folder=\"weak_true\")"
   ]
  },
  {
   "cell_type": "code",
   "execution_count": 30,
   "metadata": {},
   "outputs": [],
   "source": [
    "#wiec czegos sie nauczyl ewidentnie"
   ]
  },
  {
   "cell_type": "code",
   "execution_count": null,
   "metadata": {},
   "outputs": [],
   "source": []
  },
  {
   "cell_type": "code",
   "execution_count": null,
   "metadata": {},
   "outputs": [],
   "source": []
  },
  {
   "cell_type": "code",
   "execution_count": 22,
   "metadata": {
    "collapsed": true
   },
   "outputs": [],
   "source": []
  },
  {
   "cell_type": "code",
   "execution_count": 24,
   "metadata": {
    "collapsed": true
   },
   "outputs": [],
   "source": []
  },
  {
   "cell_type": "code",
   "execution_count": null,
   "metadata": {
    "collapsed": true
   },
   "outputs": [],
   "source": []
  },
  {
   "cell_type": "code",
   "execution_count": 25,
   "metadata": {
    "collapsed": true
   },
   "outputs": [],
   "source": []
  },
  {
   "cell_type": "code",
   "execution_count": null,
   "metadata": {},
   "outputs": [],
   "source": []
  },
  {
   "cell_type": "code",
   "execution_count": null,
   "metadata": {
    "collapsed": true
   },
   "outputs": [],
   "source": []
  },
  {
   "cell_type": "code",
   "execution_count": 27,
   "metadata": {
    "collapsed": true
   },
   "outputs": [],
   "source": []
  },
  {
   "cell_type": "code",
   "execution_count": null,
   "metadata": {},
   "outputs": [],
   "source": []
  },
  {
   "cell_type": "code",
   "execution_count": null,
   "metadata": {},
   "outputs": [],
   "source": []
  },
  {
   "cell_type": "code",
   "execution_count": null,
   "metadata": {},
   "outputs": [],
   "source": []
  },
  {
   "cell_type": "code",
   "execution_count": null,
   "metadata": {},
   "outputs": [],
   "source": []
  },
  {
   "cell_type": "code",
   "execution_count": null,
   "metadata": {
    "collapsed": true
   },
   "outputs": [],
   "source": []
  },
  {
   "cell_type": "code",
   "execution_count": null,
   "metadata": {},
   "outputs": [],
   "source": [
    "\n",
    "    "
   ]
  },
  {
   "cell_type": "code",
   "execution_count": null,
   "metadata": {
    "collapsed": true
   },
   "outputs": [],
   "source": []
  },
  {
   "cell_type": "code",
   "execution_count": null,
   "metadata": {
    "collapsed": true
   },
   "outputs": [],
   "source": []
  }
 ],
 "metadata": {
  "kernelspec": {
   "display_name": "Python 3",
   "language": "python",
   "name": "python3"
  },
  "language_info": {
   "codemirror_mode": {
    "name": "ipython",
    "version": 3
   },
   "file_extension": ".py",
   "mimetype": "text/x-python",
   "name": "python",
   "nbconvert_exporter": "python",
   "pygments_lexer": "ipython3",
   "version": "3.6.5"
  }
 },
 "nbformat": 4,
 "nbformat_minor": 2
}
