{
 "cells": [
  {
   "cell_type": "code",
   "execution_count": 1,
   "metadata": {},
   "outputs": [],
   "source": [
    "import tensorflow as tf"
   ]
  },
  {
   "cell_type": "code",
   "execution_count": 2,
   "metadata": {},
   "outputs": [],
   "source": [
    "import os"
   ]
  },
  {
   "cell_type": "code",
   "execution_count": 3,
   "metadata": {},
   "outputs": [],
   "source": [
    "import numpy as np"
   ]
  },
  {
   "cell_type": "code",
   "execution_count": 4,
   "metadata": {},
   "outputs": [],
   "source": [
    "import matplotlib.pyplot as plt"
   ]
  },
  {
   "cell_type": "code",
   "execution_count": 5,
   "metadata": {},
   "outputs": [
    {
     "name": "stdout",
     "output_type": "stream",
     "text": [
      "Welcome to JupyROOT 6.15/01\n"
     ]
    }
   ],
   "source": [
    "import read_tree as rt\n",
    "\n",
    "import sys\n"
   ]
  },
  {
   "cell_type": "code",
   "execution_count": 6,
   "metadata": {},
   "outputs": [],
   "source": [
    "import json"
   ]
  },
  {
   "cell_type": "code",
   "execution_count": 7,
   "metadata": {},
   "outputs": [],
   "source": [
    "%matplotlib inline"
   ]
  },
  {
   "cell_type": "code",
   "execution_count": null,
   "metadata": {},
   "outputs": [],
   "source": []
  },
  {
   "cell_type": "code",
   "execution_count": null,
   "metadata": {},
   "outputs": [],
   "source": []
  },
  {
   "cell_type": "code",
   "execution_count": null,
   "metadata": {},
   "outputs": [],
   "source": []
  },
  {
   "cell_type": "code",
   "execution_count": null,
   "metadata": {},
   "outputs": [],
   "source": []
  },
  {
   "cell_type": "code",
   "execution_count": null,
   "metadata": {},
   "outputs": [],
   "source": []
  },
  {
   "cell_type": "code",
   "execution_count": null,
   "metadata": {},
   "outputs": [],
   "source": []
  },
  {
   "cell_type": "code",
   "execution_count": null,
   "metadata": {},
   "outputs": [],
   "source": [
    "\n",
    "    "
   ]
  },
  {
   "cell_type": "code",
   "execution_count": null,
   "metadata": {},
   "outputs": [],
   "source": []
  },
  {
   "cell_type": "code",
   "execution_count": null,
   "metadata": {},
   "outputs": [],
   "source": []
  },
  {
   "cell_type": "code",
   "execution_count": null,
   "metadata": {},
   "outputs": [],
   "source": []
  },
  {
   "cell_type": "code",
   "execution_count": null,
   "metadata": {},
   "outputs": [],
   "source": []
  },
  {
   "cell_type": "code",
   "execution_count": 142,
   "metadata": {},
   "outputs": [],
   "source": [
    "\n",
    "\"\"\"\n",
    "ten nowy bedzie uproszczony\n",
    "__init__(nazwa_folderu,tryb)\n",
    "    inputs:\n",
    "            tryb: np 'r' lub 'w' i oznacza czy czytac ('r') czy pisac ('w')\n",
    "            nazwa_folderu: np \"pierwszy_dataset\" tam bedzie pisac/stamtad bedzie szczytywac. \n",
    "                wydaje mi sie, ze musi byc to nazwa bez spacji oraz moze byc na przyklad \"folder/subfolder\"\n",
    "            \n",
    "write_general(features,l,przykladowy=False) \n",
    "        features to slwonik features dla jednego przykladu np {\"momentum\":[1.,0.,5.,7.]}\n",
    "        moze liczbe lub liste lub np array typu jakiegos int lub jakiegos float\n",
    "        l to jest label jego 0 lub 1\n",
    "        to jest dostepne tylko w przypadku trybu 'w'\n",
    "        wygodna metoda do tego, azeby \"potasowac\" przyklady z roznych plikow w jeden dataset, bo pisze\n",
    "        sie przyklady w takiej formie w jakiej sie odczytywalo z tych datasetow. \n",
    "        \n",
    "        parametr przykladowy sluzy do tego, ze jak chcemy uzyc .engineer_feature() w trybie 'w' to \n",
    "        potrzeba podac przykladowe dane zeby obiekt wiedzial, czy dorabianie featcherow\n",
    "        jest poprawne. To bedzie ulatwiac uzytkownikowi zycie. \n",
    "\n",
    "write_from_tree(legs,jets,global_params,properties,l,co_ile_flush_file=10,przykladowy=False)\n",
    "        metoda w prosty sposob korzystajaca z funkcji metody write_general\n",
    "        dostepna tylko jak tryb to jest 'w'\n",
    "            legs,jets,global_params,properties: jak w wyjsciu klasy read_tree, tylko \"dla jednego przypadku\"\n",
    "                wiec jest tak\n",
    "                        zakladam, ze legs to jest lista o shapie (?,4) wypelniona floatami\n",
    "                        jets dokladnie tak samo\n",
    "                        global_params to jest w postaci {nazwa:liczba, ...}\n",
    "                        properties tak samo\n",
    "                        l to label jest intem rownym to 0 lub 1, gdzie 1 oznacza, ze to jest raczej bardziej ciekawy przypadek\n",
    "                         a 0 to taki bardziej tlo. to jest int \n",
    "                 co_ile_flush_file: to znaczy jak czesto ma oprozniac swoj buffer, liczy sie tylko\n",
    "                    gdy tryb=='w', nie wiem ile ma wynosic,wiec jak wiesz to smialo ustaw\n",
    "        \n",
    "                parametr przykladowy sluzy do tego, ze jak chcemy uzyc .engineer_feature() w trybie 'w' to \n",
    "        potrzeba podac przykladowe dane zeby obiekt wiedzial, czy dorabianie featcherow\n",
    "        jest poprawne. To bedzie ulatwiac uzytkownikowi zycie. \n",
    "    \n",
    "                    \n",
    "write_from_tree_general(self,legs_list,properties_list,l,co_ile_flush_file=10,przykladowy=False)\n",
    "        nieco bardziej ogolna wersja poprzedniej metody, gdzie \n",
    "        legs oraz jets jako obiekty tych samych typow zostaly wrzócone do tej samej\n",
    "        listy, tak samo global_params oraz properties. czyli zeby \n",
    "        wywolac to tak jak poprzednia metode to piszemy\n",
    "        obiekt.write_from_tree_general([legs,jets],[global_params,properties],l)\n",
    "        i to robi to co poprzednia metoda, ale jes to epsion bardziej ogolne. \n",
    "        znow jest zbudowane na bazie metody .write_general, wiec latwo zmienic. \n",
    "        \n",
    "                parametr przykladowy sluzy do tego, ze jak chcemy uzyc .engineer_feature() w trybie 'w' to \n",
    "        potrzeba podac przykladowe dane zeby obiekt wiedzial, czy dorabianie featcherow\n",
    "        jest poprawne. To bedzie ulatwiac uzytkownikowi zycie. \n",
    "\n",
    "    \n",
    "\n",
    "close()\n",
    "            dostepna tylko dla tryb=='w'\n",
    "            zamyka bezpiecznie nasz plik, tak by mozna go bylo uzyc przy czytaniu\n",
    "read()\n",
    "            dostepna tylko dla tryb=='r'\n",
    "            wyrzuci z siebie tensorflowowy dataset gotowy do uczenia\n",
    "                w przyszlosci Teraz dorabiam to, ze bedzie z siebire wyrzucac wraz z \n",
    "                nowymi dorobionymi featcherami\n",
    "            dataset wyglada tak, ze pojedynczy przypadek to jest (slownik_featurow,label)\n",
    "                gdzie label to bedzie 0 lub 1\n",
    "                zas slownik featerow to jest tak, ze sa klucze stringow a wartosci to jest\n",
    "                1d arraye ktore sa intami lub floatami \n",
    "                to znaczy, ze zwraca to samo co ta stara moja klasa czytajaca\n",
    "types()\n",
    "            uzywamy takiego czegos tylko dla type=='r'\n",
    "            zwraca slownik typow naszego datasetu. to znaczy, ze zwraca slownik\n",
    "            {'nazwa_featchera':(4,'f')} jesli featcher o tej nazwie to lista 4 floatow\n",
    "            \n",
    "\n",
    "\n",
    "\n",
    "\n",
    "engineer_feature(self,f,slownik,typ,nazwa):\n",
    "        w trybie 'r' dziala tak, ze bedzie nam dorabiac featchers \n",
    "        tak 'on the fly' gdy bedziemy uzywac\n",
    "        metody .read(). Jezeli uzyjemy tej funkcji w trybie 'w' \n",
    "        po inicjalizacji obiektu ,a nastepnie uzyjemy\n",
    "        jakiegos .write(przylkadowy=True) to to jest\n",
    "        czas na uzycie engineer_feature. mozna wiele\n",
    "        razy oczywiscie. \n",
    "        potem jak uzyjemy .write() (bez przykladowy=True) to\n",
    "        zapisujemy juz korzystajac z tych naszych\n",
    "        dorobionych featcherow. a przed pierwszym .write_general() lub\n",
    "        jakim kolwiek innym .write który na .write_general() bazuje to to sprawi,\n",
    "        ze beda zapisywane na sztywno featchery w tym naszym pliku z danymi. \n",
    "       \n",
    "        \n",
    "        z powodzeniem uzywac wczesniej zrobionych features do produkcji jeszcze nowszych.\n",
    "        nazwa: czyli jak ten nowy ma sie nazywac\n",
    "        \n",
    "        f: to funkcja przyjmująca argumenty o nazwach ze zbioru kluczy slownika slownik, \n",
    "                zwraca zas nowy feature (czyli tensor o ksztalcie (-1,).\n",
    "                w trybie 'r'\n",
    "                musi to byc funkcja\n",
    "                dzialajaca dobrze na tensorach z tensorflow. To jest tak fajnie zaklepane, ze\n",
    "                wyrzuci blad jesli funkcja jest niepoprawna od razu przy wywolaniu tej \n",
    "                engineer_feature.\n",
    "                 funkcja f musi byc taka, ze dobrze dziala na tensorflowywch\n",
    "                 tensorach o ksztalcie (-1,) to znaczy \n",
    "                scisle jednowymiarowych. Wynikiem tej funkcji czyli nowym featurem \n",
    "                musi byc znowu tensor o ksztalcie\n",
    "                (-1,). \n",
    "                \n",
    "                w trybie 'w' ta funkcja 'f' ma dzialac nie na tensorflowowe tensory\n",
    "                a na takiego typu tensory, co sa w naszych danych ktorymi karmimy\n",
    "                w .write_general. \n",
    "                \n",
    "                w trybie 'r' jak podacie zla funkcje f to metoda engineer_feature od \n",
    "                razu wyrzuca blad, zas w trybie 'w' nie wyrzuca od razu bledu dopiero\n",
    "                przy zapisywani pojawi się jakis dziwny blad. \n",
    "        \n",
    "        \n",
    "                https://www.tensorflow.org/api_guides/python/math_ops\n",
    "                tu macie podstawowe operacje. pamietjcie, ze * oraz + tez mozna uzywac, ale\n",
    "                nie wszystkie funkcje z numpy sa dobre w tensorflow( to znaczy inaczej sie w nim nazywaja).\n",
    "czyli moze warto jednak zapisac te dane na dysk\n",
    "dwie opcje mają byc \n",
    "        \n",
    "        slownik:  to slownik którego klucze sa ze zbioru nazw argumentow funkcji f zas \n",
    "            zas wartosci to sa nazwy rzeczy wystepujacych w kluczach slownika z metody .types()\n",
    "            i to mowi jakie nalezy rzeczy z dataset wstawic do funkcji f azeby otrzymac nowy feature\n",
    "        typ: wynosi np (4,'f') cyzli ze ten nowy\n",
    "            feature bedzie mial 4 floaty. moze byc tez 'i'. oznacza, \n",
    "            czy to co powstaje bedzie intem czy floatem. \n",
    "            Tak wiem to leniwe, ale bardziej bugoodporne po mojej stronie. \n",
    "            \n",
    "        \n",
    "            \n",
    "       \n",
    "            \n",
    "\n",
    "\n",
    "dorobic linki do dokumentacji\n",
    "mateusz zostanie testesterem.\n",
    "\n",
    "\n",
    "\n",
    "\n",
    "\"\"\"\n",
    "\n",
    "\n",
    "class Io_tf_binary_general:\n",
    "    def __init__(self,nazwa_folderu,tryb):\n",
    "        \n",
    "        self.nazwa_folderu=nazwa_folderu\n",
    "        self.tryb=tryb\n",
    "        \n",
    "        if tryb=='r':\n",
    "            slownik_typow=Io_tf_binary_general.wczytaj_json(self.nazwa_folderu+\"/metadata\")\n",
    "            self.wewnetrzny=Io_tf_binary_general.Io_tf_binary_stary(\n",
    "                self.nazwa_folderu+\"/dane\",slownik_typow,self.tryb)\n",
    "        \n",
    "        self.nowopowstala=True\n",
    "        if self.tryb=='w':\n",
    "            self.new_featcheres=[]\n",
    "            self.typy={}\n",
    "            self.typy_pierwsze={}\n",
    "            self.juz_poznane=False\n",
    "        \n",
    "    def engineer_feature(self,f,slownik,typ,nazwa):\n",
    "        if self.tryb=='r':\n",
    "            assert not (nazwa in self.wewnetrzny.types().keys())\n",
    "            self.wewnetrzny.engineer_feature(f,slownik,typ,nazwa)\n",
    "        else:\n",
    "            assert not (nazwa in self.przyklad.keys())\n",
    "            podstawienia={}\n",
    "            for k in slownik.keys():\n",
    "                podstawienia[k]=self.przyklad[slownik[k]]\n",
    "            self.przyklad[nazwa]=f(**podstawienia)\n",
    "            self.new_featcheres.append(\n",
    "            {'f':f,'slownik':slownik,'typ':typ,'nazwa':nazwa})\n",
    "            self.typy[nazwa]=typ\n",
    "        \n",
    "        \n",
    "    \n",
    "        \n",
    "        \n",
    "    \n",
    "    def zapisz_json(co,gdzie):\n",
    "        f=open(gdzie,'w')\n",
    "        f.write(json.dumps(co))\n",
    "    def wczytaj_json(skad):\n",
    "        f=open(skad,'r')\n",
    "        return json.loads(f.read())\n",
    "    \n",
    "    def zrob_slownik_typow(legs,jets,global_params,properties):\n",
    "        #zakladam, ze legs to jest lista o shapie (?,4) wypelniona floatami\n",
    "        #jets dokladnie tak samo\n",
    "        #global_params to jest w postaci {nazwa:liczba, ...}\n",
    "        wyrzut={}\n",
    "        legs=np.array(legs)\n",
    "        jets=np.array(jets)\n",
    "        n_legs=legs.shape[0]\n",
    "        n_jets=jets.shape[0]\n",
    "        def czy_int(x):\n",
    "            type(x)==int or type(x)==int ==numpy.int64\n",
    "\n",
    "        for i in range(n_legs):\n",
    "            wyrzut[\"leg_\"+str(i)+\"_momentum\"]=(4,'f')\n",
    "        for i in range(n_jets):\n",
    "            wyrzut[\"jet_\"+str(i)+\"_momentum\"]=(4,'f')\n",
    "        def dorob(wyrzut,global_params):\n",
    "            for param_key in global_params.keys():\n",
    "                if np.issubdtype(type(global_params[param_key]), np.integer):\n",
    "                    wyrzut[param_key]=(1,'i')\n",
    "                else:\n",
    "                    wyrzut[param_key]=(1,'f')\n",
    "            return wyrzut\n",
    "        wyrzut=dorob(wyrzut,global_params)\n",
    "        wyrzut=dorob(wyrzut,properties)\n",
    "        return wyrzut\n",
    "    def zrob_slownik_typow_old_format(f):\n",
    "        wyrzut={}\n",
    "        ff={}\n",
    "        for k in f.keys():\n",
    "            ff[k]=np.array(f[k]).reshape((-1,))\n",
    "        for k in ff.keys():\n",
    "            if np.issubdtype(type(ff[k][0]), np.integer):\n",
    "                wyrzut[k]=(len(ff[k]),'i')\n",
    "            else:\n",
    "                wyrzut[k]=(len(ff[k]),'f')\n",
    "        return wyrzut\n",
    "        \n",
    "    \n",
    "    def zrob_sensowna_forme(legs,jets,global_params,properties,l):\n",
    "        #l jest intem i to 0 lub 1\n",
    "        legs=np.array(legs)\n",
    "        jets=np.array(jets)\n",
    "        n_legs=legs.shape[0]\n",
    "        n_jets=jets.shape[0]\n",
    "\n",
    "        f={}\n",
    "\n",
    "\n",
    "        for i in range(n_legs):\n",
    "            f[\"leg_\"+str(i)+\"_momentum\"]=legs[i,:]\n",
    "        for i in range(n_jets):\n",
    "            f[\"jet_\"+str(i)+\"_momentum\"]=jets[i,:]\n",
    "\n",
    "        for param_key in global_params.keys():\n",
    "            f[param_key]=[global_params[param_key]]\n",
    "        for k in properties:\n",
    "            f[k]=[properties[k]]\n",
    "        return f,l\n",
    "    \n",
    "    \n",
    "    def zrob_sensowna_forme_general(legs_list,properties_list,l):\n",
    "        #l jest intem i to 0 lub 1\n",
    "        for i in range(len(legs_list)):\n",
    "            legs_list[i]=np.array(legs_list[i])\n",
    "#         n_legs=legs.shape[0]\n",
    "#         n_jets=jets.shape[0]\n",
    "\n",
    "        f={}\n",
    "\n",
    "        for j in range(len(legs_list)):\n",
    "            for i in range(legs_list[j].shape[0]):\n",
    "                f[\"leg_\"+str(j)+\"_\"+str(i)+\"_momentum\"]=legs_list[j][i,:]\n",
    "\n",
    "\n",
    "        for i in range(len(properties_list)):\n",
    "            properties=properties_list[i]\n",
    "            for k in properties:\n",
    "                f[k+\"_\"+str(i)]=[properties[k]]\n",
    "        return f,l\n",
    "    \n",
    "    \n",
    "    \n",
    "    def write_from_tree(self,legs,jets,global_params,properties,l,co_ile_flush_file=10,przykladowy=False):\n",
    "        #zakladam, ze legs to jest lista o shapie (?,4) wypelniona floatami\n",
    "        #jets dokladnie tak samo\n",
    "        #global_params to jest w postaci {nazwa:liczba, ...}\n",
    "        #l jest intem i to 0 lub 1\n",
    "        assert self.tryb=='w'\n",
    "#         if self.nowopowstala==True:\n",
    "#             os.system(\"mkdir \"+self.nazwa_folderu)\n",
    "#             self.nowopowstala=False\n",
    "#             slownik= Io_tf_binary_general.zrob_slownik_typow(legs,jets,global_params,properties)\n",
    "#             self.typy_pierwszego=slownik\n",
    "#             Io_tf_binary_general.zapisz_json(slownik,self.nazwa_folderu+\"/metadata\")\n",
    "#             self.stary_io=Io_tf_binary_general.Io_tf_binary_stary(\n",
    "#                 self.nazwa_folderu+\"/dane\",slownik,self.tryb,co_ile_flush_file)\n",
    "        f,l=Io_tf_binary_general.zrob_sensowna_forme(legs,jets,global_params,properties,l)\n",
    "        #slownik= Io_tf_binary_general.zrob_slownik_typow_old_format(f)\n",
    "        #assert self.typy_pierwszego==slownik\n",
    "        \n",
    "        \n",
    "        self.write_general(f,l,przykladowy=przykladowy)\n",
    "    \n",
    "    \n",
    "    def write_from_tree_general(self,legs_list,properties_list,l,co_ile_flush_file=10,przykladowy=False):\n",
    "        #zakladam, ze legs to jest lista o shapie (?,4) wypelniona floatami\n",
    "        #jets dokladnie tak samo\n",
    "        #global_params to jest w postaci {nazwa:liczba, ...}\n",
    "        #l jest intem i to 0 lub 1\n",
    "        assert self.tryb=='w'\n",
    "#         if self.nowopowstala==True:\n",
    "#             os.system(\"mkdir \"+self.nazwa_folderu)\n",
    "#             self.nowopowstala=False\n",
    "#             slownik= Io_tf_binary_general.zrob_slownik_typow(legs,jets,global_params,properties)\n",
    "#             self.typy_pierwszego=slownik\n",
    "#             Io_tf_binary_general.zapisz_json(slownik,self.nazwa_folderu+\"/metadata\")\n",
    "#             self.stary_io=Io_tf_binary_general.Io_tf_binary_stary(\n",
    "#                 self.nazwa_folderu+\"/dane\",slownik,self.tryb,co_ile_flush_file)\n",
    "        f,l=Io_tf_binary_general.zrob_sensowna_forme_general(legs_list,properties_list,l)\n",
    "        #slownik= Io_tf_binary_general.zrob_slownik_typow_old_format(f)\n",
    "        #assert self.typy_pierwszego==slownik\n",
    "        \n",
    "        \n",
    "        self.write_general(f,l,przykladowy=przykladowy)\n",
    "    \n",
    "    \n",
    "        \n",
    "    def write_general(self,features,l,co_ile_flush_file=10,przykladowy=False):\n",
    "        assert self.tryb=='w'\n",
    "        if not przykladowy:\n",
    "            if self.nowopowstala==True:\n",
    "                os.system(\"mkdir \"+self.nazwa_folderu)\n",
    "                self.nowopowstala=False\n",
    "                slownik= Io_tf_binary_general.zrob_slownik_typow_old_format(features)\n",
    "                if  (self.typy_pierwsze=={}):\n",
    "                    self.typy_pierwszego=slownik\n",
    "                else:\n",
    "                    self.typy_pierwszego=self.typy_pierwsze\n",
    "                if not self.juz_poznane:\n",
    "                    self.typy=Io_tf_binary_general.zrob_slownik_typow_old_format(features)\n",
    "                Io_tf_binary_general.zapisz_json(self.typy,self.nazwa_folderu+\"/metadata\")\n",
    "                self.stary_io=Io_tf_binary_general.Io_tf_binary_stary(\n",
    "                    self.nazwa_folderu+\"/dane\",slownik,self.tryb,co_ile_flush_file)\n",
    "            slownik= Io_tf_binary_general.zrob_slownik_typow_old_format(features)\n",
    "            assert self.typy_pierwszego==slownik\n",
    "\n",
    "\n",
    "            self.stary_io.wpisz(features,l,self.new_featcheres)\n",
    "        else:\n",
    "            assert self.nowopowstala\n",
    "            assert self.juz_poznane==False\n",
    "            self.juz_poznane=True\n",
    "            self.przyklad=features\n",
    "            self.typy=Io_tf_binary_general.zrob_slownik_typow_old_format(self.przyklad)\n",
    "            self.typy_pierwsze=self.typy.copy()\n",
    "            \n",
    "        \n",
    "            \n",
    "            \n",
    "        \n",
    "        \n",
    "        \n",
    "        \n",
    "    def close(self):\n",
    "        assert self.tryb=='w'\n",
    "        if not self.nowopowstala:\n",
    "            self.stary_io.close()\n",
    "    def read(self):\n",
    "        assert self.tryb=='r'\n",
    "        \n",
    "        return self.wewnetrzny.wczytaj_dataset()\n",
    "    def types(self):\n",
    "        if self.tryb=='r':\n",
    "            return self.wewnetrzny.types()\n",
    "        return self.typy\n",
    "        \n",
    "    \n",
    "    #jakby ktos kopiowal to to idzie dalej\n",
    "    #==========================================================    \n",
    "        \"\"\"\n",
    "    do creatora dajemy sobie nazwe pliku (sciezke) oraz slownik typu {'czterowektor': (4,'f'),'intowa_wlasnosc': (1,'i'),\n",
    "    ...}\n",
    "    to znaczy nazwe, ile to jest liczb, jakiego typu. Obsluguje na razie jedynie 'f' oraz 'i' to \n",
    "    jest float oraz int\n",
    "    nie mozna uzyc jako klucz 'label', bo to jest wykorzystywana nazwa.\n",
    "\n",
    "\n",
    "    funkcja wpisz bierze jako argument jeden przypadek  cos typu \n",
    "    ({\"czterowektor\":[1.,2.,3.,4.], ...},1) gdzie 1 jest labelem, label jest intem.\n",
    "    . oczywiście klucze slownika zgadzają się \n",
    "    z kluczami ze slownika ktorego uzylismy do kreatora.\n",
    "\n",
    "    dataset wczytany metoda wczytaj dataset jest juz w postaci wygodnej dla mnie to znaczy \n",
    "    slownik feature, label\n",
    "    \"\"\"\n",
    "    class Io_tf_binary_stary:\n",
    "        def __init__(self,nazwa_pliku,slownik,tryb,co_ile_flush_file=10):\n",
    "            #tryb to 'w' dla write oraz 'r' dla read\n",
    "            \n",
    "            self.co_ile=co_ile_flush_file\n",
    "            self.plik=nazwa_pliku\n",
    "            self.typy=slownik\n",
    "            for k in self.typy.keys():\n",
    "                assert self.typy[k][1] in ['f','i']\n",
    "                assert self.typy[k][0]>0 \n",
    "                assert np.issubdtype(type(self.typy[k][0]), np.integer)\n",
    "            self.tryb=tryb\n",
    "            if tryb=='w':\n",
    "                self.writer= tf.python_io.TFRecordWriter(self.plik)\n",
    "            if tryb=='r':\n",
    "                self.dataset=self.wczytaj_bez_feature_engeeneringu()\n",
    "            self.liczba_wrzuconych=0\n",
    "\n",
    "            #self.cos=Io_tf_binary.wrap_int64([5])\n",
    "        def types(self):\n",
    "            return self.typy\n",
    "\n",
    "        def close(self):\n",
    "            self.writer.close()\n",
    "\n",
    "\n",
    "        \"\"\"\n",
    "        To moze sobie czytac ktos kto chce zmieniac wnetrznosci tej klasy\n",
    "        Nie polecam\n",
    "\n",
    "        Teraz ta funkcja wpisz jest ważna. ona bierze po jednym przypadku testowym, \n",
    "        ( to jest ta petla for i in range()) i go zapisuje. trzeba zwracac \n",
    "        uwage na to jakiego typu sa zapisywane rzeczy. mozna oczywiscie zrobic slownik\n",
    "        data dluzszym, jesli to w jakis sposob ulatwi nam myslenie o naszych danych. \n",
    "        Bo te nasze dane to bedzie slownik list, w ktorych to listach rzeczy maja \n",
    "        juz taki sam typ, a klucze to beda jakies opisowe nazwy.\n",
    "        np \n",
    "\n",
    "        data={\n",
    "        'czteroped_lewej_nogi_czy_cos': wrap_float64(cztero), # gdzie cztero to jest tensor floatow o shape (4,)\n",
    "        # reszta rzeczy\n",
    "\n",
    "        }\n",
    "\n",
    "        Jak byscie chcieli jako wartosci miec stringi to musicie pomyslec jak zrobic wrapy dla stringow. oczywiscie\n",
    "        nie znajdziecie zadnej dokumentacji.\n",
    "\n",
    "        UWAGA \n",
    "        w tym slowniku data musi byc to co klasyfikujemy oznaczone przy pomocy 'label' bo inaczej sie  wywali program.\n",
    "\n",
    "\n",
    "\n",
    "\n",
    "\n",
    "        \"\"\"\n",
    "\n",
    "\n",
    "        def wpisz(self,features,label,new_featcheres):\n",
    "            \"\"\"tworzy ten nasz dataset w pliku out_path \n",
    "            tu format jest taki jak byl na poczatku to znaczy taki slownik\"\"\"\n",
    "            f=features\n",
    "            l=label\n",
    "            \n",
    "            for fet in new_featcheres:\n",
    "                podstawienia={}\n",
    "                for k in fet['slownik'].keys():\n",
    "                    podstawienia[k]=f[fet['slownik'][k]]\n",
    "                f[fet['nazwa']]=fet['f'](**podstawienia)\n",
    "                self.typy[fet['nazwa']]=fet['typ']\n",
    "            \n",
    "            \n",
    "            def wrap_int64(value):\n",
    "                \"\"\"lista intow musi wlesc\"\"\"\n",
    "                return tf.train.Feature(int64_list=tf.train.Int64List(value=value))\n",
    "            def wrap_float64(value):\n",
    "                \"\"\"lista floatow musi wlesc\"\"\"\n",
    "                return tf.train.Feature(float_list=tf.train.FloatList(value=value))\n",
    "\n",
    "            #f,l=kolko_w_kolku() #mozna zmienic jak sie podoba\n",
    "            def data_slownik(f,l):\n",
    "                wyrzut={}\n",
    "                for k in self.typy.keys():\n",
    "                    if self.typy[k][1]=='f':\n",
    "                        wyrzut[k]=wrap_float64(np.array(f[k]).reshape((-1,)))\n",
    "                    else:\n",
    "                        wyrzut[k]=wrap_int64(np.array(f[k]).reshape((-1,)))\n",
    "                wyrzut['label']=wrap_int64([l])\n",
    "                return wyrzut\n",
    "\n",
    "\n",
    "\n",
    "            #feature=f[i]\n",
    "            #label=l[i]\n",
    "            #data = {\n",
    "             #    'feature': wrap_float64(feature),\n",
    "            #  'label': wrap_int64([label])\n",
    "               #     }\n",
    "            data=data_slownik(f,l)\n",
    "            # Wrap the data as TensorFlow Features.\n",
    "            feature = tf.train.Features(feature=data)\n",
    "\n",
    "            # Wrap again as a TensorFlow Example.\n",
    "            example = tf.train.Example(features=feature)\n",
    "\n",
    "            # Serialize the data.\n",
    "            serialized = example.SerializeToString()\n",
    "\n",
    "            # Write the serialized data to the TFRecords file.\n",
    "            self.writer.write(serialized)\n",
    "            self.liczba_wrzuconych+=1\n",
    "            if self.liczba_wrzuconych%self.co_ile==0:\n",
    "                self.writer.flush()\n",
    "\n",
    "\n",
    "\n",
    "\n",
    "\n",
    "        def wczytaj_bez_feature_engeeneringu(self):\n",
    "\n",
    "            def zeslownikoj(x):\n",
    "                keys=list(x.keys())\n",
    "                f={}\n",
    "                for k in keys:\n",
    "                    if not k=='label':\n",
    "                        f[k]=x[k]\n",
    "                return f,x['label']\n",
    "            def features_generoj():\n",
    "                wyrzut={}\n",
    "                for k in self.typy.keys():\n",
    "                    if self.typy[k][1]=='f':\n",
    "                        wyrzut[k]=tf.FixedLenFeature([self.typy[k][0]], tf.float32)\n",
    "                    else:\n",
    "                        wyrzut[k]=tf.FixedLenFeature([self.typy[k][0]], tf.int64)\n",
    "                wyrzut['label']=tf.FixedLenFeature([], tf.int64)\n",
    "                return wyrzut\n",
    "\n",
    "            def parse(serialized):\n",
    "\n",
    "                # Define a dict with the data-names and types we expect to\n",
    "                # find in the TFRecords file.\n",
    "                # It is a bit awkward that this needs to be specified again,\n",
    "                # because it could have been written in the header of the\n",
    "                # TFRecords file instead.\n",
    "                \"\"\"\n",
    "                features = \\\n",
    "                    {\n",
    "                        'dwuwektor': tf.FixedLenFeature([2], tf.float32),#z jakiegos powodu to jest float32, nie wiem czemu\n",
    "                        'label': tf.FixedLenFeature([], tf.int64)\n",
    "                    }\n",
    "                \"\"\"\n",
    "                features=features_generoj()\n",
    "                print(features)\n",
    "\n",
    "                # Parse the serialized data so we get a dict with our data.\n",
    "                parsed_example = tf.parse_single_example(serialized=serialized,\n",
    "                                                         features=features)\n",
    "\n",
    "\n",
    "                return zeslownikoj(parsed_example)\n",
    "\n",
    "            dataset = tf.data.TFRecordDataset(self.plik)\n",
    "            dataset = dataset.map(parse)\n",
    "            return dataset\n",
    "\n",
    "\n",
    "        def engineer_feature(self,f,slownik,typ,nazwa):\n",
    "            assert self.tryb=='r'\n",
    "            \"\"\" to ma zmienic po prostu nasz self.dataset\"\"\"\n",
    "            def dodaj_jeden_feature(engineered,dataset):\n",
    "                \"\"\"ten engineered to jest ten slownik {'f':f,'slownik':slownik,'typ':typ,'nazwa':nazwa}\"\"\"\n",
    "                for k in engineered['slownik'].keys():\n",
    "                    assert engineered['slownik'][k] in self.typy.keys()\n",
    "                assert not (engineered['nazwa'] in self.typy.keys())\n",
    "                def lambdowata(f,label):\n",
    "                    #features,label=jeden_przyklad\n",
    "                    features=f.copy()\n",
    "                    def zrob_podstawienie():\n",
    "                        podstawienie={}\n",
    "                        for zmienna in engineered['slownik'].keys():\n",
    "                            podstawienie[zmienna]=features[engineered['slownik'][zmienna]]\n",
    "                        return podstawienie\n",
    "                    nazwa=engineered['nazwa']\n",
    "                    features[nazwa]=engineered['f'](**zrob_podstawienie())\n",
    "                    self.typy[nazwa]=engineered['typ']\n",
    "                    return features,label\n",
    "                return dataset.map(lambdowata)\n",
    "                    \n",
    "            engi={'f':f,'slownik':slownik,'typ':typ,'nazwa':nazwa}\n",
    "            self.dataset= dodaj_jeden_feature(engi,self.dataset)\n",
    "        def wczytaj_dataset(self):\n",
    "            assert self.tryb=='r'\n",
    "            return self.dataset\n",
    "    \n",
    "    \n",
    "    \n",
    "    \n",
    "    \n",
    "    \n",
    "    \n",
    "    \n",
    "    \n",
    "    "
   ]
  },
  {
   "cell_type": "code",
   "execution_count": 143,
   "metadata": {},
   "outputs": [],
   "source": [
    "pisacz=Io_tf_binary_general(\"proby\",'w')\n",
    "przyklad={}\n",
    "przyklad[\"jeden\"]=np.random.randn(3)\n",
    "przyklad[\"dwa\"]=np.random.randn(7)\n",
    "przyklad[\"jedynka\"]=10\n",
    "pisacz.write_general(przyklad,1,przykladowy=True)\n",
    "    \n",
    "    "
   ]
  },
  {
   "cell_type": "code",
   "execution_count": 144,
   "metadata": {},
   "outputs": [],
   "source": [
    "def f(j,d):\n",
    "    return (j+(100*d).mean()).reshape((-1,))\n",
    "pisacz.engineer_feature(f,slownik={'j':'jedynka','d':'dwa'},typ=(1,'f'),nazwa=\"nowiutki\")"
   ]
  },
  {
   "cell_type": "code",
   "execution_count": 145,
   "metadata": {},
   "outputs": [
    {
     "data": {
      "text/plain": [
       "array([ 1.1694118 , -1.85073291,  0.17187981])"
      ]
     },
     "execution_count": 145,
     "metadata": {},
     "output_type": "execute_result"
    }
   ],
   "source": [
    "np.random.randn(3)"
   ]
  },
  {
   "cell_type": "code",
   "execution_count": 146,
   "metadata": {},
   "outputs": [],
   "source": [
    "#pisacz=Io_tf_binary_general(\"proby\",'w')"
   ]
  },
  {
   "cell_type": "code",
   "execution_count": 147,
   "metadata": {},
   "outputs": [
    {
     "name": "stderr",
     "output_type": "stream",
     "text": [
      "mkdir: cannot create directory ‘proby’: File exists\n"
     ]
    }
   ],
   "source": [
    "for i in range(100):\n",
    "    przyklad={}\n",
    "    przyklad[\"jeden\"]=np.random.randn(3)\n",
    "    przyklad[\"dwa\"]=np.random.randn(7)\n",
    "    przyklad[\"jedynka\"]=10\n",
    "    pisacz.write_general(przyklad,1)\n",
    "pisacz.close()"
   ]
  },
  {
   "cell_type": "code",
   "execution_count": 152,
   "metadata": {},
   "outputs": [
    {
     "name": "stdout",
     "output_type": "stream",
     "text": [
      "{'jeden': FixedLenFeature(shape=[3], dtype=tf.float32, default_value=None), 'dwa': FixedLenFeature(shape=[7], dtype=tf.float32, default_value=None), 'jedynka': FixedLenFeature(shape=[1], dtype=tf.int64, default_value=None), 'nowiutki': FixedLenFeature(shape=[1], dtype=tf.float32, default_value=None), 'label': FixedLenFeature(shape=[], dtype=tf.int64, default_value=None)}\n"
     ]
    }
   ],
   "source": [
    "czytacz=Io_tf_binary_general(\"proby\",'r')"
   ]
  },
  {
   "cell_type": "code",
   "execution_count": 153,
   "metadata": {},
   "outputs": [
    {
     "data": {
      "text/plain": [
       "{'jeden': [3, 'f'], 'dwa': [7, 'f'], 'jedynka': [1, 'i'], 'nowiutki': [1, 'f']}"
      ]
     },
     "execution_count": 153,
     "metadata": {},
     "output_type": "execute_result"
    }
   ],
   "source": [
    "czytacz.types()"
   ]
  },
  {
   "cell_type": "code",
   "execution_count": 154,
   "metadata": {},
   "outputs": [],
   "source": [
    "def funkcja(j,d):\n",
    "    return (tf.reduce_sum(j)+tf.reduce_sum(d))\n"
   ]
  },
  {
   "cell_type": "code",
   "execution_count": 155,
   "metadata": {},
   "outputs": [],
   "source": [
    "czytacz.engineer_feature(funkcja,{'j':'jeden','d':\"dwa\"},[1,'f'],'nowy_smieszny')"
   ]
  },
  {
   "cell_type": "code",
   "execution_count": 156,
   "metadata": {},
   "outputs": [
    {
     "data": {
      "text/plain": [
       "{'jeden': [3, 'f'],\n",
       " 'dwa': [7, 'f'],\n",
       " 'jedynka': [1, 'i'],\n",
       " 'nowiutki': [1, 'f'],\n",
       " 'nowy_smieszny': [1, 'f']}"
      ]
     },
     "execution_count": 156,
     "metadata": {},
     "output_type": "execute_result"
    }
   ],
   "source": [
    "czytacz.types()"
   ]
  },
  {
   "cell_type": "code",
   "execution_count": null,
   "metadata": {},
   "outputs": [],
   "source": []
  },
  {
   "cell_type": "code",
   "execution_count": null,
   "metadata": {},
   "outputs": [],
   "source": []
  },
  {
   "cell_type": "code",
   "execution_count": 157,
   "metadata": {},
   "outputs": [
    {
     "name": "stdout",
     "output_type": "stream",
     "text": [
      " \n",
      " \n",
      " \n",
      " \n",
      " \n",
      " \n",
      " \n",
      " \n",
      " \n",
      " \n",
      "({'dwa': array([[ 0.81436485,  0.5712401 , -1.0893381 ,  0.99823964, -2.7546399 ,\n",
      "        -0.819048  , -0.7676032 ]], dtype=float32), 'jeden': array([[ 2.344089  ,  0.89517415, -0.6697504 ]], dtype=float32), 'jedynka': array([[10]]), 'nowiutki': array([[-33.525494]], dtype=float32), 'nowy_smieszny': array([-0.4772718], dtype=float32)}, array([1]))\n",
      "({'dwa': array([[ 0.6779941, -0.8055568, -0.311873 , -0.9169272, -0.9808866,\n",
      "        -0.3923131,  1.1615733]], dtype=float32), 'jeden': array([[-0.63694346, -1.222217  ,  1.0891453 ]], dtype=float32), 'jedynka': array([[10]]), 'nowiutki': array([[-12.399846]], dtype=float32), 'nowy_smieszny': array([-2.3380044], dtype=float32)}, array([1]))\n",
      "({'dwa': array([[-0.5297595 ,  1.02742   ,  1.3718336 ,  0.10152408,  0.4317997 ,\n",
      "        -0.14937039, -1.4834447 ]], dtype=float32), 'jeden': array([[-0.00944591, -0.26490256, -0.52004176]], dtype=float32), 'jedynka': array([[10]]), 'nowiutki': array([[21.000042]], dtype=float32), 'nowy_smieszny': array([-0.02438736], dtype=float32)}, array([1]))\n"
     ]
    }
   ],
   "source": [
    "\n",
    "dataset=czytacz.read()\n",
    "BATCH_SIZE=1\n",
    "zbachowany=dataset.shuffle(1000).repeat().batch(BATCH_SIZE)\n",
    "iterator = zbachowany.make_one_shot_iterator()\n",
    "para=iterator.get_next()\n",
    "for i in range(10):\n",
    "    print(\" \")\n",
    "with tf.Session() as sess:\n",
    "    for i in range(3):\n",
    "        print(sess.run(para))\n"
   ]
  },
  {
   "cell_type": "code",
   "execution_count": null,
   "metadata": {},
   "outputs": [],
   "source": []
  },
  {
   "cell_type": "code",
   "execution_count": null,
   "metadata": {},
   "outputs": [],
   "source": []
  },
  {
   "cell_type": "code",
   "execution_count": null,
   "metadata": {},
   "outputs": [],
   "source": []
  },
  {
   "cell_type": "code",
   "execution_count": null,
   "metadata": {},
   "outputs": [],
   "source": []
  },
  {
   "cell_type": "code",
   "execution_count": null,
   "metadata": {},
   "outputs": [],
   "source": []
  },
  {
   "cell_type": "code",
   "execution_count": null,
   "metadata": {},
   "outputs": [],
   "source": []
  },
  {
   "cell_type": "code",
   "execution_count": null,
   "metadata": {},
   "outputs": [],
   "source": [
    "\n",
    "\n"
   ]
  },
  {
   "cell_type": "code",
   "execution_count": null,
   "metadata": {},
   "outputs": [],
   "source": []
  },
  {
   "cell_type": "code",
   "execution_count": null,
   "metadata": {},
   "outputs": [],
   "source": []
  },
  {
   "cell_type": "code",
   "execution_count": 89,
   "metadata": {},
   "outputs": [
    {
     "name": "stdout",
     "output_type": "stream",
     "text": [
      "[ML]\tOpening root file for python conversion.\n",
      "[ML]\tReading data from TTree.\n",
      "[ML]\tConversion to python successful!\n"
     ]
    }
   ],
   "source": [
    "in_file=\"data/dummy.root\"\n",
    "out_file=\"output/example\"\n",
    "tree_path=\"Summary/tree\"\n",
    "legs, jets, global_params, properties = rt.read_tree(in_file, tree_path)"
   ]
  },
  {
   "cell_type": "code",
   "execution_count": 90,
   "metadata": {},
   "outputs": [
    {
     "data": {
      "text/plain": [
       "637"
      ]
     },
     "execution_count": 90,
     "metadata": {},
     "output_type": "execute_result"
    }
   ],
   "source": [
    "np.array(legs).shape[2]"
   ]
  },
  {
   "cell_type": "code",
   "execution_count": null,
   "metadata": {},
   "outputs": [],
   "source": []
  },
  {
   "cell_type": "code",
   "execution_count": null,
   "metadata": {},
   "outputs": [],
   "source": []
  },
  {
   "cell_type": "code",
   "execution_count": null,
   "metadata": {},
   "outputs": [],
   "source": [
    "\n",
    "    \n",
    "        \n",
    "    \n",
    "    \n",
    "        \n",
    "    \n",
    "    "
   ]
  },
  {
   "cell_type": "code",
   "execution_count": null,
   "metadata": {},
   "outputs": [],
   "source": []
  },
  {
   "cell_type": "code",
   "execution_count": null,
   "metadata": {},
   "outputs": [],
   "source": []
  },
  {
   "cell_type": "code",
   "execution_count": null,
   "metadata": {},
   "outputs": [],
   "source": []
  },
  {
   "cell_type": "code",
   "execution_count": null,
   "metadata": {},
   "outputs": [],
   "source": []
  },
  {
   "cell_type": "code",
   "execution_count": 91,
   "metadata": {},
   "outputs": [],
   "source": [
    "def wybierz(slownik,i):\n",
    "    wyrzut={}\n",
    "    for k in slownik.keys():\n",
    "        wyrzut[k]=slownik[k][i]\n",
    "    return wyrzut"
   ]
  },
  {
   "cell_type": "code",
   "execution_count": null,
   "metadata": {},
   "outputs": [],
   "source": []
  },
  {
   "cell_type": "code",
   "execution_count": 92,
   "metadata": {},
   "outputs": [],
   "source": [
    "#poczatek przykladu"
   ]
  },
  {
   "cell_type": "code",
   "execution_count": 93,
   "metadata": {},
   "outputs": [],
   "source": [
    "pisacz=Io_tf_binary_general(\"pierwszy\",'w')"
   ]
  },
  {
   "cell_type": "code",
   "execution_count": 94,
   "metadata": {},
   "outputs": [
    {
     "name": "stderr",
     "output_type": "stream",
     "text": [
      "mkdir: cannot create directory ‘pierwszy’: File exists\n"
     ]
    }
   ],
   "source": [
    "for i in range(np.array(legs).shape[2]):\n",
    "    pisacz.write_from_tree(np.array(legs)[:,:,i],np.array(jets)[:,:,i],wybierz(global_params,i),wybierz(properties,i),0)"
   ]
  },
  {
   "cell_type": "code",
   "execution_count": null,
   "metadata": {},
   "outputs": [],
   "source": []
  },
  {
   "cell_type": "code",
   "execution_count": 95,
   "metadata": {},
   "outputs": [],
   "source": [
    "pisacz.close()"
   ]
  },
  {
   "cell_type": "code",
   "execution_count": 96,
   "metadata": {},
   "outputs": [
    {
     "name": "stdout",
     "output_type": "stream",
     "text": [
      "{'leg_0_momentum': FixedLenFeature(shape=[4], dtype=tf.float32, default_value=None), 'leg_1_momentum': FixedLenFeature(shape=[4], dtype=tf.float32, default_value=None), 'jet_0_momentum': FixedLenFeature(shape=[4], dtype=tf.float32, default_value=None), 'jet_1_momentum': FixedLenFeature(shape=[4], dtype=tf.float32, default_value=None), 'BJetBetaScore': FixedLenFeature(shape=[1], dtype=tf.float32, default_value=None), 'higgsMassTrans': FixedLenFeature(shape=[1], dtype=tf.float32, default_value=None), 'higgsPT': FixedLenFeature(shape=[1], dtype=tf.float32, default_value=None), 'nJets30': FixedLenFeature(shape=[1], dtype=tf.float32, default_value=None), 'visMass': FixedLenFeature(shape=[1], dtype=tf.float32, default_value=None), 'leg_1_charge': FixedLenFeature(shape=[1], dtype=tf.float32, default_value=None), 'leg_1_combreliso': FixedLenFeature(shape=[1], dtype=tf.float32, default_value=None), 'leg_2_byCombinedIsolationDeltaBetaCorrRaw3Hits': FixedLenFeature(shape=[1], dtype=tf.float32, default_value=None), 'leg_2_byIsolationMVArun2v1DBoldDMwLTraw': FixedLenFeature(shape=[1], dtype=tf.float32, default_value=None), 'leg_2_charge': FixedLenFeature(shape=[1], dtype=tf.float32, default_value=None), 'leg_2_decayMode': FixedLenFeature(shape=[1], dtype=tf.float32, default_value=None), 'label': FixedLenFeature(shape=[], dtype=tf.int64, default_value=None)}\n"
     ]
    }
   ],
   "source": [
    "czytacz=Io_tf_binary_general(\"pierwszy\",'r')"
   ]
  },
  {
   "cell_type": "code",
   "execution_count": 97,
   "metadata": {},
   "outputs": [],
   "source": [
    "dataset=czytacz.read()"
   ]
  },
  {
   "cell_type": "code",
   "execution_count": 98,
   "metadata": {},
   "outputs": [
    {
     "data": {
      "text/plain": [
       "{'leg_0_momentum': [4, 'f'],\n",
       " 'leg_1_momentum': [4, 'f'],\n",
       " 'jet_0_momentum': [4, 'f'],\n",
       " 'jet_1_momentum': [4, 'f'],\n",
       " 'BJetBetaScore': [1, 'f'],\n",
       " 'higgsMassTrans': [1, 'f'],\n",
       " 'higgsPT': [1, 'f'],\n",
       " 'nJets30': [1, 'f'],\n",
       " 'visMass': [1, 'f'],\n",
       " 'leg_1_charge': [1, 'f'],\n",
       " 'leg_1_combreliso': [1, 'f'],\n",
       " 'leg_2_byCombinedIsolationDeltaBetaCorrRaw3Hits': [1, 'f'],\n",
       " 'leg_2_byIsolationMVArun2v1DBoldDMwLTraw': [1, 'f'],\n",
       " 'leg_2_charge': [1, 'f'],\n",
       " 'leg_2_decayMode': [1, 'f']}"
      ]
     },
     "execution_count": 98,
     "metadata": {},
     "output_type": "execute_result"
    }
   ],
   "source": [
    "czytacz.types()"
   ]
  },
  {
   "cell_type": "code",
   "execution_count": 99,
   "metadata": {},
   "outputs": [
    {
     "name": "stdout",
     "output_type": "stream",
     "text": [
      "({'BJetBetaScore': array([[-999.],\n",
      "       [-999.]], dtype=float32), 'higgsMassTrans': array([[50.335052],\n",
      "       [95.51605 ]], dtype=float32), 'higgsPT': array([[66.95689 ],\n",
      "       [73.262375]], dtype=float32), 'jet_0_momentum': array([[  0.      ,   0.      ,   0.      ,   0.      ],\n",
      "       [ 97.33899 , -35.689133,  18.236336,  88.45186 ]], dtype=float32), 'jet_1_momentum': array([[0., 0., 0., 0.],\n",
      "       [0., 0., 0., 0.]], dtype=float32), 'leg_0_momentum': array([[ 42.37723   , -40.171345  ,  -0.51571125,  13.483898  ],\n",
      "       [ 65.82662   , -25.54274   , -18.163927  ,  57.885864  ]],\n",
      "      dtype=float32), 'leg_1_charge': array([[ 1.],\n",
      "       [-1.]], dtype=float32), 'leg_1_combreliso': array([[0.06519908],\n",
      "       [0.02478836]], dtype=float32), 'leg_1_momentum': array([[ 46.034527, -24.67029 ,  33.690453,  19.373716],\n",
      "       [ 32.914547,  29.214903,   8.502523,  12.482857]], dtype=float32), 'leg_2_byCombinedIsolationDeltaBetaCorrRaw3Hits': array([[0.],\n",
      "       [0.]], dtype=float32), 'leg_2_byIsolationMVArun2v1DBoldDMwLTraw': array([[0.8960788],\n",
      "       [0.919805 ]], dtype=float32), 'leg_2_charge': array([[-1.],\n",
      "       [ 1.]], dtype=float32), 'leg_2_decayMode': array([[1.],\n",
      "       [1.]], dtype=float32), 'nJets30': array([[1.],\n",
      "       [2.]], dtype=float32), 'visMass': array([[37.84197 ],\n",
      "       [68.492584]], dtype=float32)}, array([0, 0]))\n",
      "({'BJetBetaScore': array([[-999.],\n",
      "       [-999.]], dtype=float32), 'higgsMassTrans': array([[88.47889],\n",
      "       [74.07429]], dtype=float32), 'higgsPT': array([[77.85858],\n",
      "       [62.81942]], dtype=float32), 'jet_0_momentum': array([[  0.       ,   0.       ,   0.       ,   0.       ],\n",
      "       [ 70.12254  ,  -5.1793575, -25.371208 , -64.86057  ]],\n",
      "      dtype=float32), 'jet_1_momentum': array([[0., 0., 0., 0.],\n",
      "       [0., 0., 0., 0.]], dtype=float32), 'leg_0_momentum': array([[ 80.342514 , -29.02921  ,   1.9259133, -74.88995  ],\n",
      "       [ 39.32816  ,   8.530329 ,  24.464962 ,  29.587025 ]],\n",
      "      dtype=float32), 'leg_1_charge': array([[-1.],\n",
      "       [ 1.]], dtype=float32), 'leg_1_combreliso': array([[0.        ],\n",
      "       [0.09407735]], dtype=float32), 'leg_1_momentum': array([[ 71.711624,  15.076616, -13.98249 ,  68.70024 ],\n",
      "       [ 21.105536,  -8.746119,  18.029043,  -6.600467]], dtype=float32), 'leg_2_byCombinedIsolationDeltaBetaCorrRaw3Hits': array([[0.       ],\n",
      "       [1.3602928]], dtype=float32), 'leg_2_byIsolationMVArun2v1DBoldDMwLTraw': array([[0.88792056],\n",
      "       [0.90077835]], dtype=float32), 'leg_2_charge': array([[1.],\n",
      "       [1.]], dtype=float32), 'leg_2_decayMode': array([[0.],\n",
      "       [1.]], dtype=float32), 'nJets30': array([[1.],\n",
      "       [0.]], dtype=float32), 'visMass': array([[150.80489],\n",
      "       [ 36.30513]], dtype=float32)}, array([0, 0]))\n",
      "({'BJetBetaScore': array([[-999.],\n",
      "       [-999.]], dtype=float32), 'higgsMassTrans': array([[27.869358],\n",
      "       [71.560196]], dtype=float32), 'higgsPT': array([[62.435383],\n",
      "       [41.50759 ]], dtype=float32), 'jet_0_momentum': array([[  0.      ,   0.      ,   0.      ,   0.      ],\n",
      "       [ 51.041462,  16.32247 , -14.333715,  45.97234 ]], dtype=float32), 'jet_1_momentum': array([[0., 0., 0., 0.],\n",
      "       [0., 0., 0., 0.]], dtype=float32), 'leg_0_momentum': array([[ 45.13475 , -17.519266, -17.058346,  37.93709 ],\n",
      "       [ 68.85706 ,  49.532608,  47.419296,   6.262172]], dtype=float32), 'leg_1_charge': array([[-1.],\n",
      "       [-1.]], dtype=float32), 'leg_1_combreliso': array([[0.05038007],\n",
      "       [0.        ]], dtype=float32), 'leg_1_momentum': array([[ 50.597225 , -11.0090885,  31.954268 , -37.64647  ],\n",
      "       [ 96.101006 , -36.28628  ,  -5.1385837, -88.83508  ]],\n",
      "      dtype=float32), 'leg_2_byCombinedIsolationDeltaBetaCorrRaw3Hits': array([[0.],\n",
      "       [0.]], dtype=float32), 'leg_2_byIsolationMVArun2v1DBoldDMwLTraw': array([[0.9113983 ],\n",
      "       [0.89305043]], dtype=float32), 'leg_2_charge': array([[1.],\n",
      "       [1.]], dtype=float32), 'leg_2_decayMode': array([[1.],\n",
      "       [1.]], dtype=float32), 'nJets30': array([[1.],\n",
      "       [0.]], dtype=float32), 'visMass': array([[ 90.1597 ],\n",
      "       [135.75623]], dtype=float32)}, array([0, 0]))\n"
     ]
    }
   ],
   "source": [
    "BATCH_SIZE=2\n",
    "zbachowany=dataset.shuffle(1000).repeat().batch(BATCH_SIZE)\n",
    "iterator = zbachowany.make_one_shot_iterator()\n",
    "para=iterator.get_next()\n",
    "\n",
    "with tf.Session() as sess:\n",
    "    for i in range(3):\n",
    "        print(sess.run(para))"
   ]
  },
  {
   "cell_type": "code",
   "execution_count": null,
   "metadata": {},
   "outputs": [],
   "source": []
  },
  {
   "cell_type": "code",
   "execution_count": 100,
   "metadata": {},
   "outputs": [],
   "source": [
    "pisacz=Io_tf_binary_general(\"pierwszy\",'w')"
   ]
  },
  {
   "cell_type": "code",
   "execution_count": 101,
   "metadata": {},
   "outputs": [
    {
     "name": "stderr",
     "output_type": "stream",
     "text": [
      "mkdir: cannot create directory ‘pierwszy’: File exists\n"
     ]
    }
   ],
   "source": [
    "for i in range(np.array(legs).shape[2]):\n",
    "    pisacz.write_from_tree_general([np.array(legs)[:,:,i],np.array(jets)[:,:,i]],[wybierz(global_params,i),wybierz(properties,i)],0)"
   ]
  },
  {
   "cell_type": "code",
   "execution_count": 102,
   "metadata": {},
   "outputs": [],
   "source": [
    "pisacz.close()"
   ]
  },
  {
   "cell_type": "code",
   "execution_count": null,
   "metadata": {},
   "outputs": [],
   "source": []
  },
  {
   "cell_type": "code",
   "execution_count": null,
   "metadata": {},
   "outputs": [],
   "source": []
  },
  {
   "cell_type": "code",
   "execution_count": null,
   "metadata": {},
   "outputs": [],
   "source": []
  },
  {
   "cell_type": "code",
   "execution_count": null,
   "metadata": {},
   "outputs": [],
   "source": []
  },
  {
   "cell_type": "code",
   "execution_count": null,
   "metadata": {},
   "outputs": [],
   "source": []
  },
  {
   "cell_type": "code",
   "execution_count": null,
   "metadata": {},
   "outputs": [],
   "source": []
  },
  {
   "cell_type": "code",
   "execution_count": null,
   "metadata": {},
   "outputs": [],
   "source": []
  },
  {
   "cell_type": "code",
   "execution_count": null,
   "metadata": {},
   "outputs": [],
   "source": []
  },
  {
   "cell_type": "code",
   "execution_count": null,
   "metadata": {},
   "outputs": [],
   "source": []
  },
  {
   "cell_type": "code",
   "execution_count": null,
   "metadata": {},
   "outputs": [],
   "source": []
  },
  {
   "cell_type": "code",
   "execution_count": null,
   "metadata": {},
   "outputs": [],
   "source": []
  },
  {
   "cell_type": "code",
   "execution_count": null,
   "metadata": {},
   "outputs": [],
   "source": [
    "\n",
    "    "
   ]
  },
  {
   "cell_type": "code",
   "execution_count": null,
   "metadata": {},
   "outputs": [],
   "source": []
  },
  {
   "cell_type": "code",
   "execution_count": null,
   "metadata": {},
   "outputs": [],
   "source": []
  },
  {
   "cell_type": "code",
   "execution_count": null,
   "metadata": {},
   "outputs": [],
   "source": []
  },
  {
   "cell_type": "code",
   "execution_count": null,
   "metadata": {},
   "outputs": [],
   "source": []
  },
  {
   "cell_type": "code",
   "execution_count": null,
   "metadata": {},
   "outputs": [],
   "source": []
  },
  {
   "cell_type": "code",
   "execution_count": null,
   "metadata": {},
   "outputs": [],
   "source": []
  },
  {
   "cell_type": "code",
   "execution_count": null,
   "metadata": {},
   "outputs": [],
   "source": []
  },
  {
   "cell_type": "code",
   "execution_count": null,
   "metadata": {},
   "outputs": [],
   "source": []
  },
  {
   "cell_type": "code",
   "execution_count": null,
   "metadata": {},
   "outputs": [],
   "source": []
  },
  {
   "cell_type": "code",
   "execution_count": null,
   "metadata": {},
   "outputs": [],
   "source": []
  },
  {
   "cell_type": "code",
   "execution_count": null,
   "metadata": {},
   "outputs": [],
   "source": []
  },
  {
   "cell_type": "code",
   "execution_count": null,
   "metadata": {},
   "outputs": [],
   "source": []
  },
  {
   "cell_type": "code",
   "execution_count": null,
   "metadata": {},
   "outputs": [],
   "source": []
  },
  {
   "cell_type": "code",
   "execution_count": null,
   "metadata": {},
   "outputs": [],
   "source": []
  },
  {
   "cell_type": "code",
   "execution_count": null,
   "metadata": {},
   "outputs": [],
   "source": []
  },
  {
   "cell_type": "code",
   "execution_count": null,
   "metadata": {},
   "outputs": [],
   "source": []
  },
  {
   "cell_type": "code",
   "execution_count": null,
   "metadata": {},
   "outputs": [],
   "source": []
  },
  {
   "cell_type": "code",
   "execution_count": null,
   "metadata": {},
   "outputs": [],
   "source": []
  },
  {
   "cell_type": "code",
   "execution_count": null,
   "metadata": {},
   "outputs": [],
   "source": []
  },
  {
   "cell_type": "code",
   "execution_count": null,
   "metadata": {},
   "outputs": [],
   "source": []
  },
  {
   "cell_type": "code",
   "execution_count": null,
   "metadata": {},
   "outputs": [],
   "source": []
  },
  {
   "cell_type": "code",
   "execution_count": null,
   "metadata": {},
   "outputs": [],
   "source": []
  },
  {
   "cell_type": "code",
   "execution_count": null,
   "metadata": {},
   "outputs": [],
   "source": []
  },
  {
   "cell_type": "code",
   "execution_count": null,
   "metadata": {},
   "outputs": [],
   "source": []
  }
 ],
 "metadata": {
  "kernelspec": {
   "display_name": "Python 3",
   "language": "python",
   "name": "python3"
  },
  "language_info": {
   "codemirror_mode": {
    "name": "ipython",
    "version": 3
   },
   "file_extension": ".py",
   "mimetype": "text/x-python",
   "name": "python",
   "nbconvert_exporter": "python",
   "pygments_lexer": "ipython3",
   "version": "3.6.5"
  }
 },
 "nbformat": 4,
 "nbformat_minor": 2
}
