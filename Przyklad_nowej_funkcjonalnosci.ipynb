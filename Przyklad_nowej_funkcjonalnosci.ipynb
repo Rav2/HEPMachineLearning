{
 "cells": [
  {
   "cell_type": "code",
   "execution_count": 1,
   "metadata": {},
   "outputs": [],
   "source": [
    "import tensorflow as tf"
   ]
  },
  {
   "cell_type": "code",
   "execution_count": 2,
   "metadata": {},
   "outputs": [],
   "source": [
    "import numpy as np"
   ]
  },
  {
   "cell_type": "code",
   "execution_count": 3,
   "metadata": {},
   "outputs": [],
   "source": [
    "import matplotlib.pyplot as plt"
   ]
  },
  {
   "cell_type": "code",
   "execution_count": 4,
   "metadata": {},
   "outputs": [],
   "source": [
    "%matplotlib inline"
   ]
  },
  {
   "cell_type": "code",
   "execution_count": 5,
   "metadata": {},
   "outputs": [],
   "source": [
    "from sklearn.utils import shuffle"
   ]
  },
  {
   "cell_type": "code",
   "execution_count": 6,
   "metadata": {},
   "outputs": [
    {
     "name": "stdout",
     "output_type": "stream",
     "text": [
      "Welcome to JupyROOT 6.15/01\n"
     ]
    }
   ],
   "source": [
    "import Io_tf_binary_general as io"
   ]
  },
  {
   "cell_type": "code",
   "execution_count": 7,
   "metadata": {},
   "outputs": [],
   "source": [
    "#utworze teraz dane jakies\n",
    "#tutaj zachecam do machania tymi domyslnymi wartosciami. Tu niestety tego nie narysowalem, ale \n",
    "# to tworzy takie wlasnie kolko w kolku na plaszczyxnie.\n",
    "def kolko_w_kolku(klasa,sig1=1.,sig2=0.5,R2=2.):\n",
    "    \"\"\"to ma utworzyc dane ktore posluza mi do sprawdzenia czy i jak dziala model\n",
    "    klasa to 0 lub 1\"\"\"\n",
    "    #z=np.random.randint(0,3)\n",
    "    \n",
    "    if klasa==1:\n",
    "        x=np.random.normal(0,sig1)\n",
    "        y=np.random.normal(0,sig1)\n",
    "        if np.random.uniform()<0.3:\n",
    "            k=1\n",
    "        else:\n",
    "            k=2\n",
    "        \n",
    "        #features.append([x,y])\n",
    "        \n",
    "        return {\"pierwsza\":x,\"inna_wlasnosc\":y,\"kategoryczna\":k}\n",
    "    else:\n",
    "        alpha=np.random.uniform()*2*np.pi\n",
    "        delr=np.random.normal(0,sig2)\n",
    "        r=R2+delr\n",
    "        x=np.cos(alpha)*r\n",
    "        y=np.sin(alpha)*r\n",
    "        if np.random.uniform()<0.7:\n",
    "            k=1\n",
    "        else:\n",
    "            k=2\n",
    "        #features.append([x,y])\n",
    "        return {\"pierwsza\":x,\"inna_wlasnosc\":y,\"kategoryczna\":k}"
   ]
  },
  {
   "cell_type": "code",
   "execution_count": 8,
   "metadata": {},
   "outputs": [
    {
     "data": {
      "text/plain": [
       "{'pierwsza': 3.849263011680568,\n",
       " 'inna_wlasnosc': -1.2631816632089146,\n",
       " 'kategoryczna': 1}"
      ]
     },
     "execution_count": 8,
     "metadata": {},
     "output_type": "execute_result"
    }
   ],
   "source": [
    "#wiec tutaj jest przyklad featcherowo przypadku z klasy 1\n",
    "kolko_w_kolku(1)"
   ]
  },
  {
   "cell_type": "code",
   "execution_count": 9,
   "metadata": {},
   "outputs": [
    {
     "data": {
      "text/plain": [
       "'\\np0_train to prawdopodobienstwo, ze przypadek w populacji treningowej oznaczony numerem 0 jest tak na prawde 1 (prawdziwym przypadkiem)\\np1_train to prawdopobienstwo, ze przyp w pop treningowej oznaczony numerem 1 jest tak na prawde 1\\np0_validate oraz p1_validate to to samo tylko odnosi sie do populacji validate \\n'"
      ]
     },
     "execution_count": 9,
     "metadata": {},
     "output_type": "execute_result"
    }
   ],
   "source": [
    "p0_train=0.3\n",
    "p1_train=0.7\n",
    "p0_validate=0.2\n",
    "p1_validate=0.8\n",
    "#to pierwse to prawdopodobienstwo, ze cos z pierwszej populacji jest naprawdę 1\n",
    "\"\"\"\n",
    "p0_train to prawdopodobienstwo, ze przypadek w populacji treningowej oznaczony numerem 0 jest tak na prawde 1 (prawdziwym przypadkiem)\n",
    "p1_train to prawdopobienstwo, ze przyp w pop treningowej oznaczony numerem 1 jest tak na prawde 1\n",
    "p0_validate oraz p1_validate to to samo tylko odnosi sie do populacji validate \n",
    "\"\"\"\n",
    "# to drugie to prawdopodobiensto, ze cos z drugiej populacji jest naprawde 1"
   ]
  },
  {
   "cell_type": "code",
   "execution_count": 10,
   "metadata": {},
   "outputs": [],
   "source": [
    "napis=\"nowa_funkcjonalnosc\"\n",
    "pisacz=io.Io_tf_binary_general(\"train\"+napis,'w') # tutaj 'w' to znaczy write"
   ]
  },
  {
   "cell_type": "code",
   "execution_count": 11,
   "metadata": {},
   "outputs": [],
   "source": [
    "pisacz.write_general(kolko_w_kolku(1),1,przykladowy=True)\n",
    "#wrzucamy przykladowy zeby poznal typy danych ktore mu bedziemy wpychac. tylko jeden mozna przykladowy"
   ]
  },
  {
   "cell_type": "code",
   "execution_count": 12,
   "metadata": {},
   "outputs": [
    {
     "data": {
      "text/plain": [
       "{'pierwsza': (1, 'f'), 'inna_wlasnosc': (1, 'f'), 'kategoryczna': (1, 'i')}"
      ]
     },
     "execution_count": 12,
     "metadata": {},
     "output_type": "execute_result"
    }
   ],
   "source": [
    "pisacz.types()\n",
    "#jakie sa typy to znaczy nazwa featcheru, ile ten featcher ma licz, czy to sa floaty czy integery"
   ]
  },
  {
   "cell_type": "code",
   "execution_count": 13,
   "metadata": {},
   "outputs": [],
   "source": [
    "#tak samo mozna by wpychac im przy pomocy innyc metod o nazwach zaczynajacych sie od write"
   ]
  },
  {
   "cell_type": "code",
   "execution_count": 14,
   "metadata": {},
   "outputs": [],
   "source": [
    "def f(a):\n",
    "    return a**2"
   ]
  },
  {
   "cell_type": "code",
   "execution_count": 15,
   "metadata": {},
   "outputs": [],
   "source": [
    "pisacz.engineer_feature(f,{'a':'pierwsza'},(1,'f'),nazwa=\"naprawde_zapisany_kwadrat_pierwsza\",naprawde_zapisz=True)"
   ]
  },
  {
   "cell_type": "code",
   "execution_count": 16,
   "metadata": {},
   "outputs": [],
   "source": [
    "# tu u gory jest naprawde zapisz, wiec przy zapisywaniu metoda .write costam naprawde zapisze te kwadraty na dysku"
   ]
  },
  {
   "cell_type": "code",
   "execution_count": 17,
   "metadata": {},
   "outputs": [
    {
     "data": {
      "text/plain": [
       "{'pierwsza': (1, 'f'),\n",
       " 'inna_wlasnosc': (1, 'f'),\n",
       " 'kategoryczna': (1, 'i'),\n",
       " 'naprawde_zapisany_kwadrat_pierwsza': (1, 'f')}"
      ]
     },
     "execution_count": 17,
     "metadata": {},
     "output_type": "execute_result"
    }
   ],
   "source": [
    "pisacz.types()"
   ]
  },
  {
   "cell_type": "code",
   "execution_count": 18,
   "metadata": {},
   "outputs": [],
   "source": [
    "pisacz.engineer_feature(f,{'a':'naprawde_zapisany_kwadrat_pierwsza'},(1,'f'),nazwa=\"na_niby_zapisany\",naprawde_zapisz=False)"
   ]
  },
  {
   "cell_type": "code",
   "execution_count": 19,
   "metadata": {},
   "outputs": [],
   "source": [
    "#to u gory bedzie dorabiane w locie a nie naprawde zapisywane"
   ]
  },
  {
   "cell_type": "code",
   "execution_count": 20,
   "metadata": {},
   "outputs": [
    {
     "data": {
      "text/plain": [
       "{'pierwsza': (1, 'f'),\n",
       " 'inna_wlasnosc': (1, 'f'),\n",
       " 'kategoryczna': (1, 'i'),\n",
       " 'naprawde_zapisany_kwadrat_pierwsza': (1, 'f'),\n",
       " 'na_niby_zapisany': (1, 'f')}"
      ]
     },
     "execution_count": 20,
     "metadata": {},
     "output_type": "execute_result"
    }
   ],
   "source": [
    "pisacz.types()"
   ]
  },
  {
   "cell_type": "code",
   "execution_count": 21,
   "metadata": {},
   "outputs": [
    {
     "name": "stderr",
     "output_type": "stream",
     "text": [
      "mkdir: cannot create directory ‘trainnowa_funkcjonalnosc’: File exists\n"
     ]
    }
   ],
   "source": [
    "for i in range(10000):\n",
    "    #print(i)\n",
    "    klasa=np.random.randint(0,2)\n",
    "    if klasa==0:\n",
    "        prawdziwa=int(np.random.uniform()<p0_train)\n",
    "        t=kolko_w_kolku(prawdziwa),0\n",
    "        \n",
    "    else:\n",
    "        prawdziwa=int(np.random.uniform()<p1_train)\n",
    "        t=kolko_w_kolku(prawdziwa),1\n",
    "    #print(t)\n",
    "    pisacz.write_general(*t)"
   ]
  },
  {
   "cell_type": "code",
   "execution_count": 22,
   "metadata": {},
   "outputs": [],
   "source": [
    "pisacz.close()"
   ]
  },
  {
   "cell_type": "code",
   "execution_count": 23,
   "metadata": {},
   "outputs": [],
   "source": [
    "# teraz to samo dla validate na przyklad"
   ]
  },
  {
   "cell_type": "code",
   "execution_count": 24,
   "metadata": {},
   "outputs": [
    {
     "name": "stderr",
     "output_type": "stream",
     "text": [
      "mkdir: cannot create directory ‘validatenowa_funkcjonalnosc’: File exists\n"
     ]
    }
   ],
   "source": [
    "pisacz=io.Io_tf_binary_general(\"validate\"+napis,'w')\n",
    "pisacz.write_general(kolko_w_kolku(1),1,przykladowy=True)\n",
    "pisacz.engineer_feature(f,{'a':'pierwsza'},(1,'f'),nazwa=\"naprawde_zapisany_kwadrat_pierwsza\",naprawde_zapisz=True)\n",
    "pisacz.engineer_feature(f,{'a':'naprawde_zapisany_kwadrat_pierwsza'},(1,'f'),nazwa=\"na_niby_zapisany\",naprawde_zapisz=False)\n",
    "\n",
    "for i in range(10000):\n",
    "    #print(i)\n",
    "    klasa=np.random.randint(0,2)\n",
    "    if klasa==0:\n",
    "        prawdziwa=int(np.random.uniform()<p0_validate)\n",
    "        t=kolko_w_kolku(prawdziwa),0\n",
    "        \n",
    "    else:\n",
    "        prawdziwa=int(np.random.uniform()<p1_validate)\n",
    "        t=kolko_w_kolku(prawdziwa),1\n",
    "    #print(t)\n",
    "    pisacz.write_general(*t)\n",
    "pisacz.close()"
   ]
  },
  {
   "cell_type": "code",
   "execution_count": 25,
   "metadata": {},
   "outputs": [],
   "source": [
    "#to teraz mamy juz nasze 2 datasety to tera mozna na nich trenowac"
   ]
  },
  {
   "cell_type": "code",
   "execution_count": 26,
   "metadata": {},
   "outputs": [],
   "source": [
    "import Dnn_uniwersalny as dnn"
   ]
  },
  {
   "cell_type": "code",
   "execution_count": 27,
   "metadata": {},
   "outputs": [
    {
     "name": "stdout",
     "output_type": "stream",
     "text": [
      "{'pierwsza': FixedLenFeature(shape=[1], dtype=tf.float32, default_value=None), 'inna_wlasnosc': FixedLenFeature(shape=[1], dtype=tf.float32, default_value=None), 'kategoryczna': FixedLenFeature(shape=[1], dtype=tf.int64, default_value=None), 'naprawde_zapisany_kwadrat_pierwsza': FixedLenFeature(shape=[1], dtype=tf.float32, default_value=None), 'label': FixedLenFeature(shape=[], dtype=tf.int64, default_value=None)}\n",
      "taki tam engeenerowany featcher \n",
      "na_niby_zapisany\n",
      "(1, 'f')\n",
      "{'a': 'naprawde_zapisany_kwadrat_pierwsza'}\n"
     ]
    }
   ],
   "source": [
    "model=dnn.Dnn_uniwersalny(\"train\"+napis,[10],\"estimator\"+napis)"
   ]
  },
  {
   "cell_type": "code",
   "execution_count": 28,
   "metadata": {},
   "outputs": [],
   "source": [
    "#ten model ma 10 ukrytych neuronow w swojej jednej ukrytej warstwie"
   ]
  },
  {
   "cell_type": "code",
   "execution_count": 29,
   "metadata": {},
   "outputs": [
    {
     "data": {
      "text/plain": [
       "{'pierwsza': [1, 'f'],\n",
       " 'inna_wlasnosc': [1, 'f'],\n",
       " 'kategoryczna': [1, 'i'],\n",
       " 'naprawde_zapisany_kwadrat_pierwsza': [1, 'f'],\n",
       " 'na_niby_zapisany': (1, 'f')}"
      ]
     },
     "execution_count": 29,
     "metadata": {},
     "output_type": "execute_result"
    }
   ],
   "source": [
    "model.types()"
   ]
  },
  {
   "cell_type": "code",
   "execution_count": 30,
   "metadata": {},
   "outputs": [],
   "source": [
    "#jak widac odczytuje z tego datasetu jakie sa typy"
   ]
  },
  {
   "cell_type": "code",
   "execution_count": 31,
   "metadata": {},
   "outputs": [
    {
     "name": "stdout",
     "output_type": "stream",
     "text": [
      "taki tam engeenerowany featcher \n",
      "nowy_pomysl\n",
      "(1, 'f')\n",
      "{'a': 'na_niby_zapisany'}\n"
     ]
    }
   ],
   "source": [
    "model.engineer_feature(f,{\"a\":\"na_niby_zapisany\"},(1,'f'),\"nowy_pomysl\")"
   ]
  },
  {
   "cell_type": "code",
   "execution_count": 32,
   "metadata": {},
   "outputs": [
    {
     "data": {
      "text/plain": [
       "{'pierwsza': [1, 'f'],\n",
       " 'inna_wlasnosc': [1, 'f'],\n",
       " 'kategoryczna': [1, 'i'],\n",
       " 'naprawde_zapisany_kwadrat_pierwsza': [1, 'f'],\n",
       " 'na_niby_zapisany': (1, 'f'),\n",
       " 'nowy_pomysl': (1, 'f')}"
      ]
     },
     "execution_count": 32,
     "metadata": {},
     "output_type": "execute_result"
    }
   ],
   "source": [
    "model.types()"
   ]
  },
  {
   "cell_type": "code",
   "execution_count": 33,
   "metadata": {},
   "outputs": [],
   "source": [
    "#jak widac tuz przed trenowaniem mozna dorobic sobie kolejny featcher dorabiany on the fly a nie zapisany"
   ]
  },
  {
   "cell_type": "code",
   "execution_count": 34,
   "metadata": {},
   "outputs": [
    {
     "name": "stdout",
     "output_type": "stream",
     "text": [
      "INFO:tensorflow:Using default config.\n",
      "INFO:tensorflow:Using config: {'_model_dir': 'estimatornowa_funkcjonalnosc/tensorflowowy', '_tf_random_seed': None, '_save_summary_steps': 100, '_save_checkpoints_steps': None, '_save_checkpoints_secs': 600, '_session_config': None, '_keep_checkpoint_max': 5, '_keep_checkpoint_every_n_hours': 10000, '_log_step_count_steps': 100, '_train_distribute': None, '_service': None, '_cluster_spec': <tensorflow.python.training.server_lib.ClusterSpec object at 0x7f72b8bf2898>, '_task_type': 'worker', '_task_id': 0, '_global_id_in_cluster': 0, '_master': '', '_evaluation_master': '', '_is_chief': True, '_num_ps_replicas': 0, '_num_worker_replicas': 1}\n"
     ]
    }
   ],
   "source": [
    "model.make_model({\"kategoryczna\":[1,2]})"
   ]
  },
  {
   "cell_type": "code",
   "execution_count": 36,
   "metadata": {},
   "outputs": [],
   "source": [
    "#tu u gory powiedzielismy naszemu modelowi, ze ma featcher kategoryczna sobie one hot encodowac jako \n",
    "#kategoryczny featcher. lista to jest jakie sa wartosci tego naszego kategoryczna featcheru"
   ]
  },
  {
   "cell_type": "code",
   "execution_count": 37,
   "metadata": {},
   "outputs": [],
   "source": [
    "#teraz juz nie mozna dorabiach nowych featcherowo, model jest ustalony\n",
    "#teraz trenowanie"
   ]
  },
  {
   "cell_type": "code",
   "execution_count": 38,
   "metadata": {},
   "outputs": [
    {
     "name": "stdout",
     "output_type": "stream",
     "text": [
      "{'pierwsza': FixedLenFeature(shape=[1], dtype=tf.float32, default_value=None), 'inna_wlasnosc': FixedLenFeature(shape=[1], dtype=tf.float32, default_value=None), 'kategoryczna': FixedLenFeature(shape=[1], dtype=tf.int64, default_value=None), 'naprawde_zapisany_kwadrat_pierwsza': FixedLenFeature(shape=[1], dtype=tf.float32, default_value=None), 'label': FixedLenFeature(shape=[], dtype=tf.int64, default_value=None)}\n",
      "taki tam engeenerowany featcher \n",
      "na_niby_zapisany\n",
      "(1, 'f')\n",
      "{'a': 'naprawde_zapisany_kwadrat_pierwsza'}\n",
      "taki tam engeenerowany featcher \n",
      "nowy_pomysl\n",
      "(1, 'f')\n",
      "{'a': 'na_niby_zapisany'}\n",
      "INFO:tensorflow:Calling model_fn.\n",
      "INFO:tensorflow:Done calling model_fn.\n",
      "INFO:tensorflow:Create CheckpointSaverHook.\n",
      "INFO:tensorflow:Graph was finalized.\n",
      "INFO:tensorflow:Running local_init_op.\n",
      "INFO:tensorflow:Done running local_init_op.\n",
      "INFO:tensorflow:Saving checkpoints for 1 into estimatornowa_funkcjonalnosc/tensorflowowy/model.ckpt.\n",
      "INFO:tensorflow:loss = 91.76752, step = 1\n",
      "INFO:tensorflow:global_step/sec: 28.7758\n",
      "INFO:tensorflow:loss = 81.47598, step = 101 (3.476 sec)\n",
      "INFO:tensorflow:global_step/sec: 30.8447\n",
      "INFO:tensorflow:loss = 83.71219, step = 201 (3.241 sec)\n",
      "INFO:tensorflow:global_step/sec: 31.917\n",
      "INFO:tensorflow:loss = 85.84448, step = 301 (3.134 sec)\n",
      "INFO:tensorflow:global_step/sec: 29.9682\n",
      "INFO:tensorflow:loss = 87.17255, step = 401 (3.336 sec)\n",
      "INFO:tensorflow:global_step/sec: 30.74\n",
      "INFO:tensorflow:loss = 87.480545, step = 501 (3.253 sec)\n",
      "INFO:tensorflow:global_step/sec: 29.6858\n",
      "INFO:tensorflow:loss = 87.12219, step = 601 (3.369 sec)\n",
      "INFO:tensorflow:global_step/sec: 31.6734\n",
      "INFO:tensorflow:loss = 83.94925, step = 701 (3.157 sec)\n",
      "INFO:tensorflow:global_step/sec: 28.4411\n",
      "INFO:tensorflow:loss = 84.69945, step = 801 (3.516 sec)\n",
      "INFO:tensorflow:global_step/sec: 30.3332\n",
      "INFO:tensorflow:loss = 83.99107, step = 901 (3.297 sec)\n",
      "INFO:tensorflow:global_step/sec: 29.8138\n",
      "INFO:tensorflow:loss = 91.7002, step = 1001 (3.354 sec)\n",
      "INFO:tensorflow:global_step/sec: 31.3307\n",
      "INFO:tensorflow:loss = 83.57745, step = 1101 (3.191 sec)\n",
      "INFO:tensorflow:global_step/sec: 31.0702\n",
      "INFO:tensorflow:loss = 86.49253, step = 1201 (3.219 sec)\n",
      "INFO:tensorflow:global_step/sec: 30.0841\n",
      "INFO:tensorflow:loss = 87.83061, step = 1301 (3.324 sec)\n",
      "INFO:tensorflow:global_step/sec: 31.0113\n",
      "INFO:tensorflow:loss = 81.78613, step = 1401 (3.224 sec)\n",
      "INFO:tensorflow:global_step/sec: 29.6049\n",
      "INFO:tensorflow:loss = 82.6661, step = 1501 (3.378 sec)\n",
      "INFO:tensorflow:global_step/sec: 30.9793\n",
      "INFO:tensorflow:loss = 82.939255, step = 1601 (3.228 sec)\n",
      "INFO:tensorflow:global_step/sec: 30.539\n",
      "INFO:tensorflow:loss = 81.926155, step = 1701 (3.274 sec)\n",
      "INFO:tensorflow:global_step/sec: 30.0215\n",
      "INFO:tensorflow:loss = 88.756325, step = 1801 (3.331 sec)\n",
      "INFO:tensorflow:global_step/sec: 30.721\n",
      "INFO:tensorflow:loss = 89.90639, step = 1901 (3.255 sec)\n",
      "INFO:tensorflow:global_step/sec: 31.3226\n",
      "INFO:tensorflow:loss = 83.918655, step = 2001 (3.193 sec)\n",
      "INFO:tensorflow:global_step/sec: 30.1301\n",
      "INFO:tensorflow:loss = 82.54049, step = 2101 (3.319 sec)\n",
      "INFO:tensorflow:global_step/sec: 29.6829\n",
      "INFO:tensorflow:loss = 87.41659, step = 2201 (3.369 sec)\n",
      "INFO:tensorflow:global_step/sec: 32.3699\n",
      "INFO:tensorflow:loss = 83.45932, step = 2301 (3.089 sec)\n",
      "INFO:tensorflow:global_step/sec: 31.5826\n",
      "INFO:tensorflow:loss = 83.9669, step = 2401 (3.166 sec)\n",
      "INFO:tensorflow:global_step/sec: 29.8646\n",
      "INFO:tensorflow:loss = 85.18457, step = 2501 (3.349 sec)\n",
      "INFO:tensorflow:global_step/sec: 29.4233\n",
      "INFO:tensorflow:loss = 84.96277, step = 2601 (3.399 sec)\n",
      "INFO:tensorflow:global_step/sec: 29.509\n",
      "INFO:tensorflow:loss = 82.66478, step = 2701 (3.389 sec)\n",
      "INFO:tensorflow:global_step/sec: 30.6312\n",
      "INFO:tensorflow:loss = 85.30977, step = 2801 (3.265 sec)\n",
      "INFO:tensorflow:global_step/sec: 34.3175\n",
      "INFO:tensorflow:loss = 86.76406, step = 2901 (2.913 sec)\n",
      "INFO:tensorflow:Saving checkpoints for 3000 into estimatornowa_funkcjonalnosc/tensorflowowy/model.ckpt.\n",
      "INFO:tensorflow:Loss for final step: 81.06666.\n"
     ]
    }
   ],
   "source": [
    "model.train()"
   ]
  },
  {
   "cell_type": "code",
   "execution_count": 39,
   "metadata": {},
   "outputs": [],
   "source": [
    "#teraz mozna ewaluwac tak jak bylo w pracy to znaczy narysowac ta krzywa roc czy cos tam"
   ]
  },
  {
   "cell_type": "code",
   "execution_count": 40,
   "metadata": {},
   "outputs": [
    {
     "name": "stdout",
     "output_type": "stream",
     "text": [
      "{'pierwsza': FixedLenFeature(shape=[1], dtype=tf.float32, default_value=None), 'inna_wlasnosc': FixedLenFeature(shape=[1], dtype=tf.float32, default_value=None), 'kategoryczna': FixedLenFeature(shape=[1], dtype=tf.int64, default_value=None), 'naprawde_zapisany_kwadrat_pierwsza': FixedLenFeature(shape=[1], dtype=tf.float32, default_value=None), 'label': FixedLenFeature(shape=[], dtype=tf.int64, default_value=None)}\n",
      "taki tam engeenerowany featcher \n",
      "na_niby_zapisany\n",
      "(1, 'f')\n",
      "{'a': 'naprawde_zapisany_kwadrat_pierwsza'}\n",
      "{'pierwsza': FixedLenFeature(shape=[1], dtype=tf.float32, default_value=None), 'inna_wlasnosc': FixedLenFeature(shape=[1], dtype=tf.float32, default_value=None), 'kategoryczna': FixedLenFeature(shape=[1], dtype=tf.int64, default_value=None), 'naprawde_zapisany_kwadrat_pierwsza': FixedLenFeature(shape=[1], dtype=tf.float32, default_value=None), 'label': FixedLenFeature(shape=[], dtype=tf.int64, default_value=None)}\n",
      "taki tam engeenerowany featcher \n",
      "na_niby_zapisany\n",
      "(1, 'f')\n",
      "{'a': 'naprawde_zapisany_kwadrat_pierwsza'}\n",
      "taki tam engeenerowany featcher \n",
      "nowy_pomysl\n",
      "(1, 'f')\n",
      "{'a': 'na_niby_zapisany'}\n",
      "INFO:tensorflow:Calling model_fn.\n",
      "INFO:tensorflow:Done calling model_fn.\n",
      "INFO:tensorflow:Graph was finalized.\n",
      "INFO:tensorflow:Restoring parameters from estimatornowa_funkcjonalnosc/tensorflowowy/model.ckpt-3000\n",
      "INFO:tensorflow:Running local_init_op.\n",
      "INFO:tensorflow:Done running local_init_op.\n",
      "auc wynosi 0.85519415496394\n"
     ]
    },
    {
     "data": {
      "image/png": "[encoded data removed]",
      "text/plain": [
       "<Figure size 432x288 with 1 Axes>"
      ]
     },
     "metadata": {},
     "output_type": "display_data"
    }
   ],
   "source": [
    "lista_roznych_rzeczy=model.evaluate_jak_z_pracy(p0_validate,p1_validate,folder='validate'+napis)"
   ]
  },
  {
   "cell_type": "code",
   "execution_count": 41,
   "metadata": {},
   "outputs": [],
   "source": [
    "#to nasze auc to jest po prostu area under curve i to jest "
   ]
  },
  {
   "cell_type": "code",
   "execution_count": 44,
   "metadata": {},
   "outputs": [],
   "source": [
    "auc=lista_roznych_rzeczy[0] # bo te rozne_rzeczy to jest dane do tego wykresu ktory widzimy u gory"
   ]
  },
  {
   "cell_type": "code",
   "execution_count": 45,
   "metadata": {},
   "outputs": [
    {
     "data": {
      "text/plain": [
       "0.85519415496394"
      ]
     },
     "execution_count": 45,
     "metadata": {},
     "output_type": "execute_result"
    }
   ],
   "source": [
    "auc"
   ]
  },
  {
   "cell_type": "code",
   "execution_count": 46,
   "metadata": {},
   "outputs": [],
   "source": [
    "#teraz maly eksperyment co sie stanie jak otworze stary model"
   ]
  },
  {
   "cell_type": "code",
   "execution_count": 62,
   "metadata": {},
   "outputs": [
    {
     "name": "stdout",
     "output_type": "stream",
     "text": [
      "{'pierwsza': FixedLenFeature(shape=[1], dtype=tf.float32, default_value=None), 'inna_wlasnosc': FixedLenFeature(shape=[1], dtype=tf.float32, default_value=None), 'kategoryczna': FixedLenFeature(shape=[1], dtype=tf.int64, default_value=None), 'naprawde_zapisany_kwadrat_pierwsza': FixedLenFeature(shape=[1], dtype=tf.float32, default_value=None), 'label': FixedLenFeature(shape=[], dtype=tf.int64, default_value=None)}\n",
      "taki tam engeenerowany featcher \n",
      "na_niby_zapisany\n",
      "(1, 'f')\n",
      "{'a': 'naprawde_zapisany_kwadrat_pierwsza'}\n"
     ]
    },
    {
     "name": "stderr",
     "output_type": "stream",
     "text": [
      "mkdir: cannot create directory ‘estimatornowa_funkcjonalnosc’: File exists\n"
     ]
    }
   ],
   "source": [
    "model_wczytywany=dnn.Dnn_uniwersalny(\"train\"+napis,[10],\"estimator\"+napis,czy_nowy=False)"
   ]
  },
  {
   "cell_type": "code",
   "execution_count": 63,
   "metadata": {},
   "outputs": [
    {
     "name": "stdout",
     "output_type": "stream",
     "text": [
      "taki tam engeenerowany featcher \n",
      "nowy_pomysl\n",
      "(1, 'f')\n",
      "{'a': 'na_niby_zapisany'}\n",
      "INFO:tensorflow:Using default config.\n",
      "INFO:tensorflow:Using config: {'_model_dir': 'estimatornowa_funkcjonalnosc/tensorflowowy', '_tf_random_seed': None, '_save_summary_steps': 100, '_save_checkpoints_steps': None, '_save_checkpoints_secs': 600, '_session_config': None, '_keep_checkpoint_max': 5, '_keep_checkpoint_every_n_hours': 10000, '_log_step_count_steps': 100, '_train_distribute': None, '_service': None, '_cluster_spec': <tensorflow.python.training.server_lib.ClusterSpec object at 0x7f72ab9152e8>, '_task_type': 'worker', '_task_id': 0, '_global_id_in_cluster': 0, '_master': '', '_evaluation_master': '', '_is_chief': True, '_num_ps_replicas': 0, '_num_worker_replicas': 1}\n"
     ]
    }
   ],
   "source": [
    "model_wczytywany.engineer_feature(f,{\"a\":\"na_niby_zapisany\"},(1,'f'),\"nowy_pomysl\")\n",
    "model_wczytywany.make_model({\"kategoryczna\":[1,2]})"
   ]
  },
  {
   "cell_type": "code",
   "execution_count": 64,
   "metadata": {},
   "outputs": [
    {
     "name": "stdout",
     "output_type": "stream",
     "text": [
      "{'pierwsza': FixedLenFeature(shape=[1], dtype=tf.float32, default_value=None), 'inna_wlasnosc': FixedLenFeature(shape=[1], dtype=tf.float32, default_value=None), 'kategoryczna': FixedLenFeature(shape=[1], dtype=tf.int64, default_value=None), 'naprawde_zapisany_kwadrat_pierwsza': FixedLenFeature(shape=[1], dtype=tf.float32, default_value=None), 'label': FixedLenFeature(shape=[], dtype=tf.int64, default_value=None)}\n",
      "taki tam engeenerowany featcher \n",
      "na_niby_zapisany\n",
      "(1, 'f')\n",
      "{'a': 'naprawde_zapisany_kwadrat_pierwsza'}\n",
      "{'pierwsza': FixedLenFeature(shape=[1], dtype=tf.float32, default_value=None), 'inna_wlasnosc': FixedLenFeature(shape=[1], dtype=tf.float32, default_value=None), 'kategoryczna': FixedLenFeature(shape=[1], dtype=tf.int64, default_value=None), 'naprawde_zapisany_kwadrat_pierwsza': FixedLenFeature(shape=[1], dtype=tf.float32, default_value=None), 'label': FixedLenFeature(shape=[], dtype=tf.int64, default_value=None)}\n",
      "taki tam engeenerowany featcher \n",
      "na_niby_zapisany\n",
      "(1, 'f')\n",
      "{'a': 'naprawde_zapisany_kwadrat_pierwsza'}\n",
      "taki tam engeenerowany featcher \n",
      "nowy_pomysl\n",
      "(1, 'f')\n",
      "{'a': 'na_niby_zapisany'}\n",
      "INFO:tensorflow:Calling model_fn.\n",
      "INFO:tensorflow:Done calling model_fn.\n",
      "INFO:tensorflow:Graph was finalized.\n",
      "INFO:tensorflow:Restoring parameters from estimatornowa_funkcjonalnosc/tensorflowowy/model.ckpt-3000\n",
      "INFO:tensorflow:Running local_init_op.\n",
      "INFO:tensorflow:Done running local_init_op.\n",
      "auc wynosi 0.85519415496394\n"
     ]
    },
    {
     "data": {
      "image/png": "[encoded data removed]",
      "text/plain": [
       "<Figure size 432x288 with 1 Axes>"
      ]
     },
     "metadata": {},
     "output_type": "display_data"
    }
   ],
   "source": [
    "lista_roznych_rzeczy_wczytywany=model_wczytywany.evaluate_jak_z_pracy(p0_validate,p1_validate,folder='validate'+napis)"
   ]
  },
  {
   "cell_type": "code",
   "execution_count": 65,
   "metadata": {},
   "outputs": [],
   "source": [
    "#jak widac, postep jest zapisany. bardzo fajno."
   ]
  },
  {
   "cell_type": "code",
   "execution_count": null,
   "metadata": {},
   "outputs": [],
   "source": []
  }
 ],
 "metadata": {
  "kernelspec": {
   "display_name": "Python 3",
   "language": "python",
   "name": "python3"
  },
  "language_info": {
   "codemirror_mode": {
    "name": "ipython",
    "version": 3
   },
   "file_extension": ".py",
   "mimetype": "text/x-python",
   "name": "python",
   "nbconvert_exporter": "python",
   "pygments_lexer": "ipython3",
   "version": "3.6.5"
  }
 },
 "nbformat": 4,
 "nbformat_minor": 2
}
