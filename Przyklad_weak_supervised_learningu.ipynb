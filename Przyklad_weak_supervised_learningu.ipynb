{
 "cells": [
  {
   "cell_type": "code",
   "execution_count": 1,
   "metadata": {},
   "outputs": [],
   "source": [
    "#przyklad weak supervised algorithm"
   ]
  },
  {
   "cell_type": "code",
   "execution_count": 2,
   "metadata": {},
   "outputs": [],
   "source": [
    "import tensorflow as tf"
   ]
  },
  {
   "cell_type": "code",
   "execution_count": 3,
   "metadata": {},
   "outputs": [],
   "source": [
    "import numpy as np"
   ]
  },
  {
   "cell_type": "code",
   "execution_count": 4,
   "metadata": {},
   "outputs": [],
   "source": [
    "import matplotlib.pyplot as plt"
   ]
  },
  {
   "cell_type": "code",
   "execution_count": 5,
   "metadata": {},
   "outputs": [],
   "source": [
    "%matplotlib inline"
   ]
  },
  {
   "cell_type": "code",
   "execution_count": 6,
   "metadata": {},
   "outputs": [],
   "source": [
    "from sklearn.utils import shuffle"
   ]
  },
  {
   "cell_type": "code",
   "execution_count": 7,
   "metadata": {},
   "outputs": [],
   "source": [
    "import Io_tf_binary_general as io"
   ]
  },
  {
   "cell_type": "code",
   "execution_count": 8,
   "metadata": {},
   "outputs": [],
   "source": [
    "#utworze teraz dane jakies\n",
    "#tutaj zachecam do machania tymi domyslnymi wartosciami. Tu niestety tego nie narysowalem, ale \n",
    "# to tworzy takie wlasnie kolko w kolku na plaszczyxnie.\n",
    "def kolko_w_kolku(klasa,sig1=10.,sig2=10.,R2=0.8,N=1000):\n",
    "    \"\"\"to ma utworzyc dane ktore posluza mi do sprawdzenia czy i jak dziala model\n",
    "    klasa to 0 lub 1\"\"\"\n",
    "    #z=np.random.randint(0,3)\n",
    "    \n",
    "    if klasa==1:\n",
    "        x=np.random.normal(0,sig1)\n",
    "        y=np.random.normal(0,sig1)\n",
    "        #features.append([x,y])\n",
    "        \n",
    "        return {\"pierwsza\":x,\"inna_wlasnosc\":y,\"kategoryczna\":2}\n",
    "    else:\n",
    "        alpha=np.random.uniform()*2*np.pi\n",
    "        delr=np.random.normal(0,sig2)\n",
    "        r=R2+delr\n",
    "        x=np.cos(alpha)*r\n",
    "        y=np.sin(alpha)*r\n",
    "        #features.append([x,y])\n",
    "        return {\"pierwsza\":x,\"inna_wlasnosc\":y,\"kategoryczna\":1}"
   ]
  },
  {
   "cell_type": "code",
   "execution_count": 9,
   "metadata": {},
   "outputs": [
    {
     "data": {
      "text/plain": [
       "{'pierwsza': -1.6430003774172686,\n",
       " 'inna_wlasnosc': 1.3601506720271883,\n",
       " 'kategoryczna': 1}"
      ]
     },
     "execution_count": 9,
     "metadata": {},
     "output_type": "execute_result"
    }
   ],
   "source": [
    "kolko_w_kolku(0)"
   ]
  },
  {
   "cell_type": "code",
   "execution_count": 11,
   "metadata": {},
   "outputs": [],
   "source": [
    "p0_train=0.3\n",
    "p1_train=0.7\n",
    "p0_validate=0.2\n",
    "p1_validate=0.8\n",
    "#to pierwse to prawdopodobienstwo, ze cos z pierwszej populacji jest naprawdę 1\n",
    "# to drugie to prawdopodobiensto, ze cos z drugiej populacji jest naprawde 1"
   ]
  },
  {
   "cell_type": "code",
   "execution_count": 12,
   "metadata": {},
   "outputs": [
    {
     "data": {
      "text/plain": [
       "'Tworze datasety ktore odpowiadaja koejno danym treningowym skladajacym sie\\n z labelek takich, ze jak jakas wskazuje 0 to z prawdopodobienstwem 0.3 jednak jest jedynka (rozpadem\\n higgsa), zas jak wskazuje 1 to z prawdopodobienstwem 0.7 jest rzeczywiscie rozpadem. To teraz pisalem o \\n tym datascie \"weak_train\". potem tworze jeszcze weak_validate ktory jest mniejszy ale idea jest taka,\\n ze na weak_validate znamy skad inond te prawdopodobienstwa, a na weak_train nie znamy ich.\\n weak_true tworze tylko po to, by moc sprawdzic, czy policzona auc na danych weak_validate zgodnie\\n z ta praca ktora na poczatku nam przesylal Kalinowski o weak supervised learning zgadza sie\\n z rzeczywistoscia'"
      ]
     },
     "execution_count": 12,
     "metadata": {},
     "output_type": "execute_result"
    }
   ],
   "source": [
    "\"\"\"Tworze datasety ktore odpowiadaja koejno danym treningowym skladajacym sie\n",
    " z labelek takich, ze jak jakas wskazuje 0 to z prawdopodobienstwem 0.3 jednak jest jedynka (rozpadem\n",
    " higgsa), zas jak wskazuje 1 to z prawdopodobienstwem 0.7 jest rzeczywiscie rozpadem. To teraz pisalem o \n",
    " tym datascie \"weak_train\". potem tworze jeszcze weak_validate ktory jest mniejszy ale idea jest taka,\n",
    " ze na weak_validate znamy skad inond te prawdopodobienstwa, a na weak_train nie znamy ich.\n",
    " weak_true tworze tylko po to, by moc sprawdzic, czy policzona auc na danych weak_validate zgodnie\n",
    " z ta praca ktora na poczatku nam przesylal Kalinowski o weak supervised learning zgadza sie\n",
    " z rzeczywistoscia\"\"\""
   ]
  },
  {
   "cell_type": "code",
   "execution_count": 13,
   "metadata": {},
   "outputs": [],
   "source": [
    "pisacz=io.Io_tf_binary_general(\"weak_train\",'w')\n",
    "for i in range(10000):\n",
    "    #print(i)\n",
    "    klasa=np.random.randint(0,2)\n",
    "    if klasa==0:\n",
    "        prawdziwa=int(np.random.uniform()<p0_train)\n",
    "        t=kolko_w_kolku(prawdziwa),0\n",
    "        \n",
    "    else:\n",
    "        prawdziwa=int(np.random.uniform()<p1_train)\n",
    "        t=kolko_w_kolku(prawdziwa),1\n",
    "    #print(t)\n",
    "    pisacz.write_old(*t)\n",
    "pisacz.close()"
   ]
  },
  {
   "cell_type": "code",
   "execution_count": 14,
   "metadata": {},
   "outputs": [],
   "source": [
    "pisacz=io.Io_tf_binary_general(\"weak_validate\",'w')\n",
    "for i in range(1000):\n",
    "    klasa=np.random.randint(0,2)\n",
    "    if klasa==0:\n",
    "        prawdziwa=int(np.random.uniform()<p0_validate)\n",
    "        pisacz.write_old(kolko_w_kolku(prawdziwa),0)\n",
    "    else:\n",
    "        prawdziwa=int(np.random.uniform()<p1_validate)\n",
    "        pisacz.write_old(kolko_w_kolku(prawdziwa),1)\n",
    "pisacz.close()"
   ]
  },
  {
   "cell_type": "code",
   "execution_count": 15,
   "metadata": {},
   "outputs": [],
   "source": [
    "pisacz=io.Io_tf_binary_general(\"weak_true\",'w')\n",
    "for i in range(1000):\n",
    "    klasa=np.random.randint(0,2)\n",
    "    if klasa==0:\n",
    "        prawdziwa=klasa\n",
    "        pisacz.write_old(kolko_w_kolku(prawdziwa),0)\n",
    "    else:\n",
    "        prawdziwa=klasa\n",
    "        pisacz.write_old(kolko_w_kolku(prawdziwa),1)\n",
    "pisacz.close()"
   ]
  },
  {
   "cell_type": "code",
   "execution_count": 16,
   "metadata": {},
   "outputs": [
    {
     "name": "stdout",
     "output_type": "stream",
     "text": [
      "{'pierwsza': FixedLenFeature(shape=[1], dtype=tf.float32, default_value=None), 'inna_wlasnosc': FixedLenFeature(shape=[1], dtype=tf.float32, default_value=None), 'kategoryczna': FixedLenFeature(shape=[1], dtype=tf.int64, default_value=None), 'label': FixedLenFeature(shape=[], dtype=tf.int64, default_value=None)}\n",
      "({'inna_wlasnosc': array([[-12.9351    ],\n",
      "       [  0.19989552]], dtype=float32), 'kategoryczna': array([[1],\n",
      "       [1]]), 'pierwsza': array([[-8.176102 ],\n",
      "       [ 1.1410675]], dtype=float32)}, array([1, 0]))\n",
      "({'inna_wlasnosc': array([[-10.144215],\n",
      "       [ -2.531611]], dtype=float32), 'kategoryczna': array([[2],\n",
      "       [2]]), 'pierwsza': array([[21.326342],\n",
      "       [10.964692]], dtype=float32)}, array([1, 1]))\n",
      "({'inna_wlasnosc': array([[15.954982 ],\n",
      "       [-1.7500517]], dtype=float32), 'kategoryczna': array([[1],\n",
      "       [1]]), 'pierwsza': array([[-10.322932],\n",
      "       [ 13.476486]], dtype=float32)}, array([0, 0]))\n"
     ]
    }
   ],
   "source": [
    "czytacz=io.Io_tf_binary_general(\"weak_validate\",'r')\n",
    "dataset=czytacz.read()\n",
    "BATCH_SIZE=2\n",
    "zbachowany=dataset.shuffle(1000).repeat().batch(BATCH_SIZE)\n",
    "iterator = zbachowany.make_one_shot_iterator()\n",
    "para=iterator.get_next()\n",
    "\n",
    "with tf.Session() as sess:\n",
    "    for i in range(3):\n",
    "        print(sess.run(para))"
   ]
  },
  {
   "cell_type": "code",
   "execution_count": 17,
   "metadata": {},
   "outputs": [],
   "source": [
    "\n",
    "import Dnn_uniwersalny as dnn"
   ]
  },
  {
   "cell_type": "code",
   "execution_count": 18,
   "metadata": {},
   "outputs": [
    {
     "name": "stdout",
     "output_type": "stream",
     "text": [
      "{'pierwsza': FixedLenFeature(shape=[1], dtype=tf.float32, default_value=None), 'inna_wlasnosc': FixedLenFeature(shape=[1], dtype=tf.float32, default_value=None), 'kategoryczna': FixedLenFeature(shape=[1], dtype=tf.int64, default_value=None), 'label': FixedLenFeature(shape=[], dtype=tf.int64, default_value=None)}\n"
     ]
    }
   ],
   "source": [
    "model=dnn.Dnn_uniwersalny(\"weak_train\",[10],\"weak_estimator\")"
   ]
  },
  {
   "cell_type": "code",
   "execution_count": 19,
   "metadata": {},
   "outputs": [],
   "source": [
    "def f(x):\n",
    "    return 5*x\n",
    "model.engineer_feature(f=f,slownik={'x':'pierwsza'},typ=[1,'f'],nazwa='dorobiony')"
   ]
  },
  {
   "cell_type": "code",
   "execution_count": 20,
   "metadata": {},
   "outputs": [
    {
     "name": "stdout",
     "output_type": "stream",
     "text": [
      "INFO:tensorflow:Using default config.\n",
      "INFO:tensorflow:Using config: {'_model_dir': 'weak_estimator', '_tf_random_seed': None, '_save_summary_steps': 100, '_save_checkpoints_steps': None, '_save_checkpoints_secs': 600, '_session_config': None, '_keep_checkpoint_max': 5, '_keep_checkpoint_every_n_hours': 10000, '_log_step_count_steps': 100, '_train_distribute': None, '_service': None, '_cluster_spec': <tensorflow.python.training.server_lib.ClusterSpec object at 0x7f16c471beb8>, '_task_type': 'worker', '_task_id': 0, '_global_id_in_cluster': 0, '_master': '', '_evaluation_master': '', '_is_chief': True, '_num_ps_replicas': 0, '_num_worker_replicas': 1}\n"
     ]
    }
   ],
   "source": [
    "model.make_model({\"kategoryczna\":[0,1,2]})"
   ]
  },
  {
   "cell_type": "code",
   "execution_count": 21,
   "metadata": {},
   "outputs": [
    {
     "name": "stdout",
     "output_type": "stream",
     "text": [
      "{'pierwsza': FixedLenFeature(shape=[1], dtype=tf.float32, default_value=None), 'inna_wlasnosc': FixedLenFeature(shape=[1], dtype=tf.float32, default_value=None), 'kategoryczna': FixedLenFeature(shape=[1], dtype=tf.int64, default_value=None), 'label': FixedLenFeature(shape=[], dtype=tf.int64, default_value=None)}\n",
      "INFO:tensorflow:Calling model_fn.\n",
      "INFO:tensorflow:Done calling model_fn.\n",
      "INFO:tensorflow:Create CheckpointSaverHook.\n",
      "INFO:tensorflow:Graph was finalized.\n",
      "INFO:tensorflow:Restoring parameters from weak_estimator/model.ckpt-3000\n",
      "INFO:tensorflow:Running local_init_op.\n",
      "INFO:tensorflow:Done running local_init_op.\n",
      "INFO:tensorflow:Saving checkpoints for 3001 into weak_estimator/model.ckpt.\n",
      "INFO:tensorflow:loss = 77.51868, step = 3001\n",
      "INFO:tensorflow:global_step/sec: 63.3256\n",
      "INFO:tensorflow:loss = 69.061325, step = 3101 (1.580 sec)\n",
      "INFO:tensorflow:global_step/sec: 68.3764\n",
      "INFO:tensorflow:loss = 81.35245, step = 3201 (1.463 sec)\n",
      "INFO:tensorflow:global_step/sec: 67.3784\n",
      "INFO:tensorflow:loss = 80.18085, step = 3301 (1.484 sec)\n",
      "INFO:tensorflow:global_step/sec: 66.1317\n",
      "INFO:tensorflow:loss = 86.433784, step = 3401 (1.512 sec)\n",
      "INFO:tensorflow:global_step/sec: 68.8704\n",
      "INFO:tensorflow:loss = 81.238464, step = 3501 (1.453 sec)\n",
      "INFO:tensorflow:global_step/sec: 67.4506\n",
      "INFO:tensorflow:loss = 82.47544, step = 3601 (1.483 sec)\n",
      "INFO:tensorflow:global_step/sec: 64.3003\n",
      "INFO:tensorflow:loss = 70.27542, step = 3701 (1.555 sec)\n",
      "INFO:tensorflow:global_step/sec: 58.3773\n",
      "INFO:tensorflow:loss = 78.018814, step = 3801 (1.713 sec)\n",
      "INFO:tensorflow:global_step/sec: 79.2689\n",
      "INFO:tensorflow:loss = 74.27629, step = 3901 (1.261 sec)\n",
      "INFO:tensorflow:global_step/sec: 62.3894\n",
      "INFO:tensorflow:loss = 79.88494, step = 4001 (1.603 sec)\n",
      "INFO:tensorflow:global_step/sec: 68.0424\n",
      "INFO:tensorflow:loss = 75.7229, step = 4101 (1.469 sec)\n",
      "INFO:tensorflow:global_step/sec: 66.6682\n",
      "INFO:tensorflow:loss = 78.762344, step = 4201 (1.500 sec)\n",
      "INFO:tensorflow:global_step/sec: 68.4388\n",
      "INFO:tensorflow:loss = 81.81731, step = 4301 (1.461 sec)\n",
      "INFO:tensorflow:global_step/sec: 69.0802\n",
      "INFO:tensorflow:loss = 78.09276, step = 4401 (1.449 sec)\n",
      "INFO:tensorflow:global_step/sec: 66.4708\n",
      "INFO:tensorflow:loss = 82.9843, step = 4501 (1.504 sec)\n",
      "INFO:tensorflow:global_step/sec: 69.2176\n",
      "INFO:tensorflow:loss = 78.045715, step = 4601 (1.445 sec)\n",
      "INFO:tensorflow:global_step/sec: 66.8831\n",
      "INFO:tensorflow:loss = 77.993484, step = 4701 (1.495 sec)\n",
      "INFO:tensorflow:global_step/sec: 60.2292\n",
      "INFO:tensorflow:loss = 74.306656, step = 4801 (1.660 sec)\n",
      "INFO:tensorflow:global_step/sec: 66.7889\n",
      "INFO:tensorflow:loss = 73.35293, step = 4901 (1.497 sec)\n",
      "INFO:tensorflow:global_step/sec: 80.4764\n",
      "INFO:tensorflow:loss = 86.64355, step = 5001 (1.243 sec)\n",
      "INFO:tensorflow:global_step/sec: 68.0317\n",
      "INFO:tensorflow:loss = 86.371994, step = 5101 (1.469 sec)\n",
      "INFO:tensorflow:global_step/sec: 68.6797\n",
      "INFO:tensorflow:loss = 81.72597, step = 5201 (1.456 sec)\n",
      "INFO:tensorflow:global_step/sec: 67.9361\n",
      "INFO:tensorflow:loss = 75.87196, step = 5301 (1.473 sec)\n",
      "INFO:tensorflow:global_step/sec: 68.0069\n",
      "INFO:tensorflow:loss = 74.65787, step = 5401 (1.470 sec)\n",
      "INFO:tensorflow:global_step/sec: 69.35\n",
      "INFO:tensorflow:loss = 89.53073, step = 5501 (1.442 sec)\n",
      "INFO:tensorflow:global_step/sec: 68.9827\n",
      "INFO:tensorflow:loss = 76.60365, step = 5601 (1.450 sec)\n",
      "INFO:tensorflow:global_step/sec: 70.0198\n",
      "INFO:tensorflow:loss = 75.99913, step = 5701 (1.428 sec)\n",
      "INFO:tensorflow:global_step/sec: 69.0522\n",
      "INFO:tensorflow:loss = 75.36624, step = 5801 (1.448 sec)\n",
      "INFO:tensorflow:global_step/sec: 67.9522\n",
      "INFO:tensorflow:loss = 83.187164, step = 5901 (1.472 sec)\n",
      "INFO:tensorflow:Saving checkpoints for 6000 into weak_estimator/model.ckpt.\n",
      "INFO:tensorflow:Loss for final step: 78.05335.\n"
     ]
    }
   ],
   "source": [
    "model.train() #trenujemy na \"weak_train\""
   ]
  },
  {
   "cell_type": "code",
   "execution_count": 22,
   "metadata": {},
   "outputs": [
    {
     "name": "stdout",
     "output_type": "stream",
     "text": [
      "{'pierwsza': FixedLenFeature(shape=[1], dtype=tf.float32, default_value=None), 'inna_wlasnosc': FixedLenFeature(shape=[1], dtype=tf.float32, default_value=None), 'kategoryczna': FixedLenFeature(shape=[1], dtype=tf.int64, default_value=None), 'label': FixedLenFeature(shape=[], dtype=tf.int64, default_value=None)}\n",
      "{'pierwsza': FixedLenFeature(shape=[1], dtype=tf.float32, default_value=None), 'inna_wlasnosc': FixedLenFeature(shape=[1], dtype=tf.float32, default_value=None), 'kategoryczna': FixedLenFeature(shape=[1], dtype=tf.int64, default_value=None), 'label': FixedLenFeature(shape=[], dtype=tf.int64, default_value=None)}\n",
      "INFO:tensorflow:Calling model_fn.\n",
      "INFO:tensorflow:Done calling model_fn.\n",
      "INFO:tensorflow:Graph was finalized.\n",
      "INFO:tensorflow:Restoring parameters from weak_estimator/model.ckpt-6000\n",
      "INFO:tensorflow:Running local_init_op.\n",
      "INFO:tensorflow:Done running local_init_op.\n",
      "auc wynosi 1.021030461833155\n"
     ]
    },
    {
     "data": {
      "text/plain": [
       "1.021030461833155"
      ]
     },
     "execution_count": 22,
     "metadata": {},
     "output_type": "execute_result"
    },
    {
     "data": {
      "image/png": "[encoded data removed]",
      "text/plain": [
       "<Figure size 432x288 with 1 Axes>"
      ]
     },
     "metadata": {},
     "output_type": "display_data"
    }
   ],
   "source": [
    "auc,xxxx,yyyy,zzz=model.evaluate_jak_z_pracy(0.2,0.8,folder=\"weak_validate\")\n",
    "auc #auc policzona na weak_validate zgodnie z praca "
   ]
  },
  {
   "cell_type": "code",
   "execution_count": 50,
   "metadata": {},
   "outputs": [
    {
     "name": "stdout",
     "output_type": "stream",
     "text": [
      "{'pierwsza': FixedLenFeature(shape=[1], dtype=tf.float32, default_value=None), 'inna_wlasnosc': FixedLenFeature(shape=[1], dtype=tf.float32, default_value=None), 'kategoryczna': FixedLenFeature(shape=[1], dtype=tf.int64, default_value=None), 'label': FixedLenFeature(shape=[], dtype=tf.int64, default_value=None)}\n",
      "INFO:tensorflow:Calling model_fn.\n",
      "WARNING:tensorflow:Trapezoidal rule is known to produce incorrect PR-AUCs; please switch to \"careful_interpolation\" instead.\n",
      "WARNING:tensorflow:Trapezoidal rule is known to produce incorrect PR-AUCs; please switch to \"careful_interpolation\" instead.\n",
      "INFO:tensorflow:Done calling model_fn.\n",
      "INFO:tensorflow:Starting evaluation at 2018-05-21-22:47:04\n",
      "INFO:tensorflow:Graph was finalized.\n",
      "INFO:tensorflow:Restoring parameters from weak_estimator/model.ckpt-3000\n",
      "INFO:tensorflow:Running local_init_op.\n",
      "INFO:tensorflow:Done running local_init_op.\n",
      "INFO:tensorflow:Evaluation [100/1000]\n",
      "INFO:tensorflow:Evaluation [200/1000]\n",
      "INFO:tensorflow:Evaluation [300/1000]\n",
      "INFO:tensorflow:Evaluation [400/1000]\n",
      "INFO:tensorflow:Evaluation [500/1000]\n",
      "INFO:tensorflow:Evaluation [600/1000]\n",
      "INFO:tensorflow:Evaluation [700/1000]\n",
      "INFO:tensorflow:Evaluation [800/1000]\n",
      "INFO:tensorflow:Evaluation [900/1000]\n",
      "INFO:tensorflow:Evaluation [1000/1000]\n",
      "INFO:tensorflow:Finished evaluation at 2018-05-21-22:47:17\n",
      "INFO:tensorflow:Saving dict for global step 3000: accuracy = 1.0, accuracy_baseline = 0.504, auc = 0.99999994, auc_precision_recall = 1.0, average_loss = 0.37088734, global_step = 3000, label/mean = 0.504, loss = 47.47358, precision = 1.0, prediction/mean = 0.48883197, recall = 1.0\n"
     ]
    },
    {
     "data": {
      "text/plain": [
       "{'accuracy': 1.0,\n",
       " 'accuracy_baseline': 0.504,\n",
       " 'auc': 0.99999994,\n",
       " 'auc_precision_recall': 1.0,\n",
       " 'average_loss': 0.37088734,\n",
       " 'label/mean': 0.504,\n",
       " 'loss': 47.47358,\n",
       " 'precision': 1.0,\n",
       " 'prediction/mean': 0.48883197,\n",
       " 'recall': 1.0,\n",
       " 'global_step': 3000}"
      ]
     },
     "execution_count": 50,
     "metadata": {},
     "output_type": "execute_result"
    }
   ],
   "source": [
    "model.evaluate(folder=\"weak_true\")\n",
    "    #auc policzona zgodnie z tym, jak to sie liczy normalnie gdy ma sie dobrze oznaczone dane gdzie\n",
    "    # na pewno byl higgs lub na pewno nie bylo"
   ]
  },
  {
   "cell_type": "code",
   "execution_count": 23,
   "metadata": {},
   "outputs": [
    {
     "data": {
      "text/plain": [
       "'Tutaj nalezy zwrocic swoja uwage na to, ze auc policzone na danych co do ktorych wiemy dokladnie czy\\nsa rozpadem czy nie jest podobne do auc policzonego na podstawie labelek co do ktorych znamy tylko prawdopodobienstwo\\nczy sa rozpadem'"
      ]
     },
     "execution_count": 23,
     "metadata": {},
     "output_type": "execute_result"
    }
   ],
   "source": [
    "\"\"\"Tutaj nalezy zwrocic swoja uwage na to, ze auc policzone na danych co do ktorych wiemy dokladnie czy\n",
    "sa rozpadem czy nie jest podobne do auc policzonego na podstawie labelek co do ktorych znamy tylko prawdopodobienstwo\n",
    "czy sa rozpadem\"\"\"\n",
    "    "
   ]
  },
  {
   "cell_type": "code",
   "execution_count": null,
   "metadata": {},
   "outputs": [],
   "source": []
  },
  {
   "cell_type": "code",
   "execution_count": null,
   "metadata": {},
   "outputs": [],
   "source": []
  },
  {
   "cell_type": "code",
   "execution_count": null,
   "metadata": {},
   "outputs": [],
   "source": []
  },
  {
   "cell_type": "code",
   "execution_count": null,
   "metadata": {},
   "outputs": [],
   "source": [
    "\n",
    "    \n",
    "        \n",
    "    "
   ]
  },
  {
   "cell_type": "code",
   "execution_count": null,
   "metadata": {},
   "outputs": [],
   "source": []
  },
  {
   "cell_type": "code",
   "execution_count": null,
   "metadata": {},
   "outputs": [],
   "source": []
  },
  {
   "cell_type": "code",
   "execution_count": null,
   "metadata": {},
   "outputs": [],
   "source": []
  },
  {
   "cell_type": "code",
   "execution_count": null,
   "metadata": {},
   "outputs": [],
   "source": []
  },
  {
   "cell_type": "code",
   "execution_count": null,
   "metadata": {},
   "outputs": [],
   "source": []
  },
  {
   "cell_type": "code",
   "execution_count": null,
   "metadata": {},
   "outputs": [],
   "source": []
  },
  {
   "cell_type": "code",
   "execution_count": null,
   "metadata": {},
   "outputs": [],
   "source": []
  },
  {
   "cell_type": "code",
   "execution_count": null,
   "metadata": {},
   "outputs": [],
   "source": []
  },
  {
   "cell_type": "code",
   "execution_count": null,
   "metadata": {},
   "outputs": [],
   "source": []
  },
  {
   "cell_type": "code",
   "execution_count": null,
   "metadata": {},
   "outputs": [],
   "source": []
  },
  {
   "cell_type": "code",
   "execution_count": null,
   "metadata": {},
   "outputs": [],
   "source": []
  },
  {
   "cell_type": "code",
   "execution_count": null,
   "metadata": {},
   "outputs": [],
   "source": []
  },
  {
   "cell_type": "code",
   "execution_count": null,
   "metadata": {},
   "outputs": [],
   "source": []
  },
  {
   "cell_type": "code",
   "execution_count": null,
   "metadata": {},
   "outputs": [],
   "source": []
  },
  {
   "cell_type": "code",
   "execution_count": null,
   "metadata": {},
   "outputs": [],
   "source": []
  },
  {
   "cell_type": "code",
   "execution_count": null,
   "metadata": {},
   "outputs": [],
   "source": []
  },
  {
   "cell_type": "code",
   "execution_count": null,
   "metadata": {},
   "outputs": [],
   "source": []
  },
  {
   "cell_type": "code",
   "execution_count": null,
   "metadata": {},
   "outputs": [],
   "source": []
  },
  {
   "cell_type": "code",
   "execution_count": null,
   "metadata": {},
   "outputs": [],
   "source": []
  },
  {
   "cell_type": "code",
   "execution_count": null,
   "metadata": {},
   "outputs": [],
   "source": []
  },
  {
   "cell_type": "code",
   "execution_count": null,
   "metadata": {},
   "outputs": [],
   "source": []
  },
  {
   "cell_type": "code",
   "execution_count": null,
   "metadata": {},
   "outputs": [],
   "source": []
  },
  {
   "cell_type": "code",
   "execution_count": null,
   "metadata": {},
   "outputs": [],
   "source": [
    "\n",
    "    "
   ]
  },
  {
   "cell_type": "code",
   "execution_count": null,
   "metadata": {},
   "outputs": [],
   "source": []
  },
  {
   "cell_type": "code",
   "execution_count": null,
   "metadata": {},
   "outputs": [],
   "source": []
  },
  {
   "cell_type": "code",
   "execution_count": null,
   "metadata": {},
   "outputs": [],
   "source": []
  },
  {
   "cell_type": "code",
   "execution_count": null,
   "metadata": {},
   "outputs": [],
   "source": []
  },
  {
   "cell_type": "code",
   "execution_count": null,
   "metadata": {},
   "outputs": [],
   "source": []
  },
  {
   "cell_type": "code",
   "execution_count": null,
   "metadata": {},
   "outputs": [],
   "source": []
  }
 ],
 "metadata": {
  "kernelspec": {
   "display_name": "Python 3",
   "language": "python",
   "name": "python3"
  },
  "language_info": {
   "codemirror_mode": {
    "name": "ipython",
    "version": 3
   },
   "file_extension": ".py",
   "mimetype": "text/x-python",
   "name": "python",
   "nbconvert_exporter": "python",
   "pygments_lexer": "ipython3",
   "version": "3.6.5"
  }
 },
 "nbformat": 4,
 "nbformat_minor": 2
}
