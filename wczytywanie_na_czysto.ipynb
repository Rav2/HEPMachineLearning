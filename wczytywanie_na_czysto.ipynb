{
 "cells": [
  {
   "cell_type": "code",
   "execution_count": 1,
   "metadata": {},
   "outputs": [
    {
     "name": "stdout",
     "output_type": "stream",
     "text": [
      "Welcome to JupyROOT 6.15/01\n"
     ]
    }
   ],
   "source": [
    "import Io_tf_binary_general as io"
   ]
  },
  {
   "cell_type": "code",
   "execution_count": 2,
   "metadata": {},
   "outputs": [],
   "source": [
    "import numpy as np\n",
    "import matplotlib.pyplot as plt\n",
    "import read_tree as rt"
   ]
  },
  {
   "cell_type": "code",
   "execution_count": 18,
   "metadata": {},
   "outputs": [],
   "source": [
    "def wczytaj_do_pythonowych(sciezka_rootowego):\n",
    "    \"\"\"funkcja zwraca pythonowe w wygodnej do uzycia formie\"\"\"\n",
    "    legs, jets, global_params, properties = rt.read_tree(file_name=sciezka_rootowego)\n",
    "    #te rzeczy sa zle, bo maja niewygodny format oraz global_params[\"nJets30\"] ma\n",
    "    #zdublowane dane, to znaczy [1,1,3,3,5,5 ...]\n",
    "    #mozna to sprawdzic ta metoda\n",
    "    zdublowany_klucz=\"nJets30\"\n",
    "    def czy_zdublowane(tab):\n",
    "        for i in range(len(tab)//2):\n",
    "            if tab[2*i] != tab[2*i+1]:\n",
    "                print (\"kontrprzylad dla tezy, ze to jest zdublowana lista\")\n",
    "                assert False\n",
    "    czy_zdublowane(global_params[zdublowany_klucz])\n",
    "    def przerob_legs_lub_jets(tab):\n",
    "        tab=np.array(tab)\n",
    "        return np.transpose(tab,(2,0,1))\n",
    "    def przerob_global_params_lub_properties(slownik):\n",
    "        wyrzut=[]\n",
    "        jeden_z_kluczy=list(slownik.keys())[0]\n",
    "        #uwaga hakerstwo\n",
    "        liczba_przypadkow=0\n",
    "        if jeden_z_kluczy==zdublowany_klucz:\n",
    "            liczba_przypadkow=len(slownik[jeden_z_kluczy]) //2\n",
    "        else:\n",
    "            liczba_przypadkow=len(slownik[jeden_z_kluczy])\n",
    "        for i in range(liczba_przypadkow):\n",
    "            doczepiany={}\n",
    "            for k in slownik.keys():\n",
    "                if k != zdublowany_klucz:\n",
    "                    doczepiany[k]=slownik[k][i]\n",
    "                else:\n",
    "                    doczepiany[k]=slownik[k][2*i]\n",
    "            wyrzut.append(doczepiany)\n",
    "        return wyrzut\n",
    "    legs=przerob_legs_lub_jets(legs)\n",
    "    jets=przerob_legs_lub_jets(jets)\n",
    "    global_params=przerob_global_params_lub_properties(global_params)\n",
    "    properties=przerob_global_params_lub_properties(properties)\n",
    "    return legs, jets, global_params, properties\n"
   ]
  },
  {
   "cell_type": "code",
   "execution_count": null,
   "metadata": {},
   "outputs": [],
   "source": []
  },
  {
   "cell_type": "code",
   "execution_count": null,
   "metadata": {},
   "outputs": [],
   "source": []
  },
  {
   "cell_type": "code",
   "execution_count": 19,
   "metadata": {},
   "outputs": [
    {
     "name": "stdout",
     "output_type": "stream",
     "text": [
      "[ML]\tOpening root file for python conversion.\n",
      "[ML]\tReading data from TTree.\n",
      "[ML]\tConversion to python successful!\n"
     ]
    }
   ],
   "source": [
    "legs_syg, jets_syg, global_params_syg, properties_syg=\\\n",
    "wczytaj_do_pythonowych(\"data_rootowe_obrobione/MT_GluGlu.root\")"
   ]
  },
  {
   "cell_type": "code",
   "execution_count": 20,
   "metadata": {},
   "outputs": [
    {
     "name": "stdout",
     "output_type": "stream",
     "text": [
      "[ML]\tOpening root file for python conversion.\n",
      "[ML]\tReading data from TTree.\n",
      "[ML]\tConversion to python successful!\n"
     ]
    }
   ],
   "source": [
    "legs_tlo, jets_tlo, global_params_tlo, properties_tlo=\\\n",
    "wczytaj_do_pythonowych(\"data_rootowe_obrobione/MT_WJets.root\")"
   ]
  },
  {
   "cell_type": "code",
   "execution_count": 21,
   "metadata": {},
   "outputs": [],
   "source": [
    "liczba_przypadkow_tlo=len(legs_tlo)\n",
    "liczba_przypadkow_syg=len(legs_syg)"
   ]
  },
  {
   "cell_type": "code",
   "execution_count": 22,
   "metadata": {},
   "outputs": [
    {
     "name": "stdout",
     "output_type": "stream",
     "text": [
      "3087\n",
      "59083\n"
     ]
    }
   ],
   "source": [
    "print(liczba_przypadkow_tlo)\n",
    "print(liczba_przypadkow_syg)"
   ]
  },
  {
   "cell_type": "code",
   "execution_count": 23,
   "metadata": {},
   "outputs": [],
   "source": [
    "#mozna tu zauwazyc pewna dysproporcje. \n",
    "#na szybko mozna ta sytuacje rozwiazac uzywajac wielokrotnie przypadkow tla, tak by\n",
    "#bylo mniej wiecej po rowno tych rzeczy"
   ]
  },
  {
   "cell_type": "code",
   "execution_count": 24,
   "metadata": {},
   "outputs": [],
   "source": [
    "zapisywacz_syg=io.Io_tf_binary_general(\"sygnal\",'w')"
   ]
  },
  {
   "cell_type": "code",
   "execution_count": 25,
   "metadata": {},
   "outputs": [],
   "source": [
    "zapisywacz_tlo=io.Io_tf_binary_general(\"tlo\",'w')"
   ]
  },
  {
   "cell_type": "code",
   "execution_count": 26,
   "metadata": {},
   "outputs": [],
   "source": [
    "for i in range(liczba_przypadkow_syg):\n",
    "    zapisywacz_syg.\\\n",
    "    write_from_tree(legs_syg[i],jets_syg[i],global_params_syg[i],\n",
    "        properties_syg[i],1)"
   ]
  },
  {
   "cell_type": "code",
   "execution_count": 27,
   "metadata": {},
   "outputs": [],
   "source": [
    "for i in range(liczba_przypadkow_tlo):\n",
    "    zapisywacz_tlo.\\\n",
    "    write_from_tree(legs_tlo[i],jets_tlo[i],global_params_tlo[i],\n",
    "        properties_tlo[i],0)"
   ]
  },
  {
   "cell_type": "code",
   "execution_count": 28,
   "metadata": {},
   "outputs": [],
   "source": [
    "zapisywacz_syg.close()\n",
    "zapisywacz_tlo.close()"
   ]
  },
  {
   "cell_type": "code",
   "execution_count": null,
   "metadata": {},
   "outputs": [],
   "source": []
  },
  {
   "cell_type": "code",
   "execution_count": null,
   "metadata": {},
   "outputs": [],
   "source": []
  }
 ],
 "metadata": {
  "kernelspec": {
   "display_name": "Python 3",
   "language": "python",
   "name": "python3"
  },
  "language_info": {
   "codemirror_mode": {
    "name": "ipython",
    "version": 3
   },
   "file_extension": ".py",
   "mimetype": "text/x-python",
   "name": "python",
   "nbconvert_exporter": "python",
   "pygments_lexer": "ipython3",
   "version": "3.6.5"
  }
 },
 "nbformat": 4,
 "nbformat_minor": 2
}
