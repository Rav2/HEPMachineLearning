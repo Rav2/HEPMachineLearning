{
 "cells": [
  {
   "cell_type": "code",
   "execution_count": 1,
   "metadata": {},
   "outputs": [
    {
     "name": "stdout",
     "output_type": "stream",
     "text": [
      "Welcome to JupyROOT 6.15/01\n"
     ]
    }
   ],
   "source": [
    "import Io_tf_binary_general as io"
   ]
  },
  {
   "cell_type": "code",
   "execution_count": 2,
   "metadata": {},
   "outputs": [],
   "source": [
    "import numpy as np\n",
    "import matplotlib.pyplot as plt\n",
    "import read_tree as rt"
   ]
  },
  {
   "cell_type": "code",
   "execution_count": 15,
   "metadata": {},
   "outputs": [],
   "source": [
    "sciezka_sygnalu=\"data_rootowe_obrobione/MT_GluGlu.root\"\n",
    "sciezka_tla=\"data_rootowe_obrobione/MT_WJets.root\""
   ]
  },
  {
   "cell_type": "code",
   "execution_count": 3,
   "metadata": {},
   "outputs": [],
   "source": [
    "def wczytaj_do_pythonowych(sciezka_rootowego):\n",
    "    \"\"\"funkcja zwraca pythonowe w wygodnej do uzycia formie\"\"\"\n",
    "    legs, jets, global_params, properties = rt.read_tree(file_name=sciezka_rootowego)\n",
    "    #te rzeczy sa zle, bo maja niewygodny format oraz global_params[\"nJets30\"] ma\n",
    "    #zdublowane dane, to znaczy [1,1,3,3,5,5 ...]\n",
    "    #mozna to sprawdzic ta metoda\n",
    "    #nJets30 ma od 0 do 6 a nawet do 8,\n",
    "    #leg_1_charge ma -1 oraz 1\n",
    "    #leg_2_charge ma -1 oraz 1\n",
    "    #'leg_2_decayMode' ma 0,1,10\n",
    "    kategoryczne=[\"nJets30\",\"leg_1_charge\",\"leg_2_charge\",'leg_2_decayMode']\n",
    "    zdublowany_klucz=\"nJets30\"\n",
    "    def czy_zdublowane(tab):\n",
    "        for i in range(len(tab)//2):\n",
    "            if tab[2*i] != tab[2*i+1]:\n",
    "                print (\"kontrprzylad dla tezy, ze to jest zdublowana lista\")\n",
    "                assert False\n",
    "    czy_zdublowane(global_params[zdublowany_klucz])\n",
    "    def wyintuj_kategoryczne(slownik):\n",
    "        for k in slownik.keys():\n",
    "            if k in kategoryczne:\n",
    "                slownik[k]=np.array(slownik[k],dtype=int)\n",
    "    wyintuj_kategoryczne(global_params)\n",
    "    wyintuj_kategoryczne(properties)\n",
    "    odrzucane_rzeczy=[\"BJetBetaScore\"]\n",
    "    #jets 1 jest zle, wszystkie dane tam sa stale chyba\n",
    "    del jets[1]\n",
    "    def wyrzuc_odrzucone(slownik):\n",
    "        klucze=list(slownik.keys())\n",
    "        for k in klucze:\n",
    "            if k in odrzucane_rzeczy:\n",
    "                del slownik[k]\n",
    "    wyrzuc_odrzucone(global_params)\n",
    "    wyrzuc_odrzucone(properties)\n",
    "    do_zlogarytmowania_z_dodaniem_0_01=[\"higgsMassTrans\",\"higgsPT\",\"visMass\",\n",
    "                                        \"leg_1_combreliso\",\"leg_2_byCombinedIsolationDeltaBetaCorrRaw3Hits\"]\n",
    "    def zlogarytmoj(slownik):\n",
    "        for k in slownik.keys():\n",
    "            if k in do_zlogarytmowania_z_dodaniem_0_01:\n",
    "                slownik[k]=np.log(np.array(slownik[k])+0.01)\n",
    "    zlogarytmoj(global_params)\n",
    "    zlogarytmoj(properties)\n",
    "    def zlogarytmoj_energie(tab):\n",
    "        for i in range(len(tab)):\n",
    "            tab[i][0]=np.log(np.array(tab[i][0])+0.01)\n",
    "    zlogarytmoj_energie(legs)\n",
    "    zlogarytmoj_energie(jets)\n",
    "    def f1(x):\n",
    "        return np.log((1.-x))\n",
    "    do_zrobienia_f1=[\"leg_2_byIsolationMVArun2v1DBoldDMwLTraw\"]\n",
    "    def zrob_f1(slownik):\n",
    "        for k in slownik.keys():\n",
    "            if k in do_zrobienia_f1:\n",
    "                slownik[k]=f1(np.array(slownik[k]))\n",
    "    zrob_f1(global_params)\n",
    "    zrob_f1(properties)\n",
    "    def przerob_legs_lub_jets(tab):\n",
    "        tab=np.array(tab)\n",
    "        return np.transpose(tab,(2,0,1))\n",
    "    def przerob_global_params_lub_properties(slownik):\n",
    "        wyrzut=[]\n",
    "        jeden_z_kluczy=list(slownik.keys())[0]\n",
    "        #uwaga hakerstwo\n",
    "        liczba_przypadkow=0\n",
    "        if jeden_z_kluczy==zdublowany_klucz:\n",
    "            liczba_przypadkow=len(slownik[jeden_z_kluczy]) //2\n",
    "        else:\n",
    "            liczba_przypadkow=len(slownik[jeden_z_kluczy])\n",
    "        for i in range(liczba_przypadkow):\n",
    "            doczepiany={}\n",
    "            for k in slownik.keys():\n",
    "                if k != zdublowany_klucz:\n",
    "                    doczepiany[k]=slownik[k][i]\n",
    "                else:\n",
    "                    doczepiany[k]=slownik[k][2*i]\n",
    "            wyrzut.append(doczepiany)\n",
    "        return wyrzut\n",
    "    legs=przerob_legs_lub_jets(legs)\n",
    "    jets=przerob_legs_lub_jets(jets)\n",
    "    global_params=przerob_global_params_lub_properties(global_params)\n",
    "    properties=przerob_global_params_lub_properties(properties)\n",
    "    return legs, jets, global_params, properties\n"
   ]
  },
  {
   "cell_type": "code",
   "execution_count": null,
   "metadata": {},
   "outputs": [],
   "source": []
  },
  {
   "cell_type": "code",
   "execution_count": null,
   "metadata": {},
   "outputs": [],
   "source": []
  },
  {
   "cell_type": "code",
   "execution_count": 4,
   "metadata": {},
   "outputs": [
    {
     "name": "stdout",
     "output_type": "stream",
     "text": [
      "[ML]\tOpening root file for python conversion.\n",
      "[ML]\tReading data from TTree.\n",
      "[ML]\tConversion to python successful!\n"
     ]
    }
   ],
   "source": [
    "legs_syg, jets_syg, global_params_syg, properties_syg=\\\n",
    "wczytaj_do_pythonowych(sciezka_sygnalu)"
   ]
  },
  {
   "cell_type": "code",
   "execution_count": 5,
   "metadata": {},
   "outputs": [
    {
     "name": "stdout",
     "output_type": "stream",
     "text": [
      "[ML]\tOpening root file for python conversion.\n",
      "[ML]\tReading data from TTree.\n",
      "[ML]\tConversion to python successful!\n"
     ]
    }
   ],
   "source": [
    "legs_tlo, jets_tlo, global_params_tlo, properties_tlo=\\\n",
    "wczytaj_do_pythonowych(sciezka_tla)"
   ]
  },
  {
   "cell_type": "code",
   "execution_count": 6,
   "metadata": {},
   "outputs": [],
   "source": [
    "liczba_przypadkow_tlo=len(legs_tlo)\n",
    "liczba_przypadkow_syg=len(legs_syg)"
   ]
  },
  {
   "cell_type": "code",
   "execution_count": 7,
   "metadata": {},
   "outputs": [
    {
     "name": "stdout",
     "output_type": "stream",
     "text": [
      "3087\n",
      "59083\n"
     ]
    }
   ],
   "source": [
    "print(liczba_przypadkow_tlo)\n",
    "print(liczba_przypadkow_syg)"
   ]
  },
  {
   "cell_type": "code",
   "execution_count": 8,
   "metadata": {},
   "outputs": [],
   "source": [
    "#mozna tu zauwazyc pewna dysproporcje. \n",
    "#na szybko mozna ta sytuacje rozwiazac uzywajac wielokrotnie przypadkow tla, tak by\n",
    "#bylo mniej wiecej po rowno tych rzeczy"
   ]
  },
  {
   "cell_type": "code",
   "execution_count": 9,
   "metadata": {},
   "outputs": [],
   "source": [
    "zapisywacz_syg=io.Io_tf_binary_general(\"sygnal\",'w')"
   ]
  },
  {
   "cell_type": "code",
   "execution_count": 10,
   "metadata": {},
   "outputs": [],
   "source": [
    "zapisywacz_tlo=io.Io_tf_binary_general(\"tlo\",'w')"
   ]
  },
  {
   "cell_type": "code",
   "execution_count": 11,
   "metadata": {},
   "outputs": [],
   "source": [
    "for i in range(liczba_przypadkow_syg):\n",
    "    zapisywacz_syg.\\\n",
    "    write_from_tree(legs_syg[i],jets_syg[i],global_params_syg[i],\n",
    "        properties_syg[i],1)"
   ]
  },
  {
   "cell_type": "code",
   "execution_count": 12,
   "metadata": {},
   "outputs": [],
   "source": [
    "for i in range(liczba_przypadkow_tlo):\n",
    "    zapisywacz_tlo.\\\n",
    "    write_from_tree(legs_tlo[i],jets_tlo[i],global_params_tlo[i],\n",
    "        properties_tlo[i],0)"
   ]
  },
  {
   "cell_type": "code",
   "execution_count": 13,
   "metadata": {},
   "outputs": [],
   "source": [
    "zapisywacz_syg.close()\n",
    "zapisywacz_tlo.close()"
   ]
  },
  {
   "cell_type": "code",
   "execution_count": null,
   "metadata": {},
   "outputs": [],
   "source": []
  },
  {
   "cell_type": "code",
   "execution_count": null,
   "metadata": {},
   "outputs": [],
   "source": []
  }
 ],
 "metadata": {
  "kernelspec": {
   "display_name": "Python 3",
   "language": "python",
   "name": "python3"
  },
  "language_info": {
   "codemirror_mode": {
    "name": "ipython",
    "version": 3
   },
   "file_extension": ".py",
   "mimetype": "text/x-python",
   "name": "python",
   "nbconvert_exporter": "python",
   "pygments_lexer": "ipython3",
   "version": "3.6.5"
  }
 },
 "nbformat": 4,
 "nbformat_minor": 2
}
