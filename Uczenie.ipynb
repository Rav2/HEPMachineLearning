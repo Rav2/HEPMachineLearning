{
 "cells": [
  {
   "cell_type": "code",
   "execution_count": 1,
   "metadata": {},
   "outputs": [],
   "source": [
    "import tensorflow as tf"
   ]
  },
  {
   "cell_type": "code",
   "execution_count": 2,
   "metadata": {},
   "outputs": [],
   "source": [
    "import model_dnn as mod"
   ]
  },
  {
   "cell_type": "code",
   "execution_count": 3,
   "metadata": {},
   "outputs": [
    {
     "name": "stdout",
     "output_type": "stream",
     "text": [
      "INFO:tensorflow:Using default config.\n",
      "INFO:tensorflow:Using config: {'_model_dir': 'pierwszy_estymator/model', '_tf_random_seed': None, '_save_summary_steps': 100, '_save_checkpoints_steps': None, '_save_checkpoints_secs': 600, '_session_config': None, '_keep_checkpoint_max': 5, '_keep_checkpoint_every_n_hours': 10000, '_log_step_count_steps': 100, '_train_distribute': None, '_service': None, '_cluster_spec': <tensorflow.python.training.server_lib.ClusterSpec object at 0x7fca79b24320>, '_task_type': 'worker', '_task_id': 0, '_global_id_in_cluster': 0, '_master': '', '_evaluation_master': '', '_is_chief': True, '_num_ps_replicas': 0, '_num_worker_replicas': 1}\n",
      "INFO:tensorflow:Calling model_fn.\n",
      "INFO:tensorflow:Done calling model_fn.\n",
      "INFO:tensorflow:Create CheckpointSaverHook.\n",
      "INFO:tensorflow:Graph was finalized.\n",
      "INFO:tensorflow:Running local_init_op.\n",
      "INFO:tensorflow:Done running local_init_op.\n",
      "INFO:tensorflow:Saving checkpoints for 1 into pierwszy_estymator/model/model.ckpt.\n",
      "INFO:tensorflow:loss = 0.5827186, step = 1\n",
      "INFO:tensorflow:Loss for final step: 0.5827186.\n"
     ]
    },
    {
     "data": {
      "text/plain": [
       "<tensorflow.python.estimator.canned.dnn.DNNClassifier at 0x7fcaa828b198>"
      ]
     },
     "execution_count": 3,
     "metadata": {},
     "output_type": "execute_result"
    }
   ],
   "source": [
    "mod.tworz_folder('pierwszy_estymator', 'train', [50, 5], 0.2)"
   ]
  },
  {
   "cell_type": "code",
   "execution_count": 4,
   "metadata": {},
   "outputs": [
    {
     "name": "stdout",
     "output_type": "stream",
     "text": [
      "INFO:tensorflow:Using default config.\n",
      "INFO:tensorflow:Using config: {'_model_dir': 'pierwszy_estymator/model', '_tf_random_seed': None, '_save_summary_steps': 100, '_save_checkpoints_steps': None, '_save_checkpoints_secs': 600, '_session_config': None, '_keep_checkpoint_max': 5, '_keep_checkpoint_every_n_hours': 10000, '_log_step_count_steps': 100, '_train_distribute': None, '_service': None, '_cluster_spec': <tensorflow.python.training.server_lib.ClusterSpec object at 0x7fca70084f98>, '_task_type': 'worker', '_task_id': 0, '_global_id_in_cluster': 0, '_master': '', '_evaluation_master': '', '_is_chief': True, '_num_ps_replicas': 0, '_num_worker_replicas': 1}\n",
      "INFO:tensorflow:Calling model_fn.\n",
      "INFO:tensorflow:Done calling model_fn.\n",
      "INFO:tensorflow:Create CheckpointSaverHook.\n",
      "INFO:tensorflow:Graph was finalized.\n",
      "INFO:tensorflow:Restoring parameters from pierwszy_estymator/model/model.ckpt-1\n",
      "INFO:tensorflow:Running local_init_op.\n",
      "INFO:tensorflow:Done running local_init_op.\n",
      "INFO:tensorflow:Saving checkpoints for 2 into pierwszy_estymator/model/model.ckpt.\n",
      "INFO:tensorflow:loss = 74.70302, step = 2\n",
      "INFO:tensorflow:global_step/sec: 300.419\n",
      "INFO:tensorflow:loss = 39.38015, step = 102 (0.334 sec)\n",
      "INFO:tensorflow:global_step/sec: 634.282\n",
      "INFO:tensorflow:loss = 35.022026, step = 202 (0.157 sec)\n",
      "INFO:tensorflow:global_step/sec: 629.867\n",
      "INFO:tensorflow:loss = 40.39356, step = 302 (0.160 sec)\n",
      "INFO:tensorflow:global_step/sec: 640.21\n",
      "INFO:tensorflow:loss = 34.616364, step = 402 (0.156 sec)\n",
      "INFO:tensorflow:global_step/sec: 783.644\n",
      "INFO:tensorflow:loss = 24.773354, step = 502 (0.128 sec)\n",
      "INFO:tensorflow:global_step/sec: 725.293\n",
      "INFO:tensorflow:loss = 29.472862, step = 602 (0.138 sec)\n",
      "INFO:tensorflow:global_step/sec: 748.1\n",
      "INFO:tensorflow:loss = 26.256296, step = 702 (0.134 sec)\n",
      "INFO:tensorflow:global_step/sec: 693.872\n",
      "INFO:tensorflow:loss = 32.883087, step = 802 (0.145 sec)\n",
      "INFO:tensorflow:global_step/sec: 620.578\n",
      "INFO:tensorflow:loss = 28.167347, step = 902 (0.161 sec)\n",
      "INFO:tensorflow:global_step/sec: 633.894\n",
      "INFO:tensorflow:loss = 34.586483, step = 1002 (0.157 sec)\n",
      "INFO:tensorflow:global_step/sec: 663.614\n",
      "INFO:tensorflow:loss = 32.64459, step = 1102 (0.151 sec)\n",
      "INFO:tensorflow:global_step/sec: 731.566\n",
      "INFO:tensorflow:loss = 25.039417, step = 1202 (0.137 sec)\n",
      "INFO:tensorflow:global_step/sec: 738.399\n",
      "INFO:tensorflow:loss = 29.3645, step = 1302 (0.135 sec)\n",
      "INFO:tensorflow:global_step/sec: 723.56\n",
      "INFO:tensorflow:loss = 38.78459, step = 1402 (0.138 sec)\n",
      "INFO:tensorflow:Saving checkpoints for 1501 into pierwszy_estymator/model/model.ckpt.\n",
      "INFO:tensorflow:Loss for final step: 25.035738.\n",
      "4.563972473144531\n"
     ]
    }
   ],
   "source": [
    "import time\n",
    "\n",
    "start = time.time()\n",
    "mod.train('train', 'pierwszy_estymator', steps = 1500, \n",
    "         batch_size = 100, czy_cache = True)\n",
    "end = time.time()\n",
    "print (end - start)"
   ]
  },
  {
   "cell_type": "code",
   "execution_count": 5,
   "metadata": {},
   "outputs": [],
   "source": [
    "#moja stara klasa dzialala tutaj w czasie 49 sec, zas ta dziala\n",
    "#4.54 (na moim komputerze). przy dluzszym trenowaniu chyba\n",
    "# by dzialalo 20 razy szybciej. "
   ]
  },
  {
   "cell_type": "code",
   "execution_count": 5,
   "metadata": {},
   "outputs": [
    {
     "name": "stdout",
     "output_type": "stream",
     "text": [
      "INFO:tensorflow:Using default config.\n",
      "INFO:tensorflow:Using config: {'_model_dir': 'pierwszy_estymator/model', '_tf_random_seed': None, '_save_summary_steps': 100, '_save_checkpoints_steps': None, '_save_checkpoints_secs': 600, '_session_config': None, '_keep_checkpoint_max': 5, '_keep_checkpoint_every_n_hours': 10000, '_log_step_count_steps': 100, '_train_distribute': None, '_service': None, '_cluster_spec': <tensorflow.python.training.server_lib.ClusterSpec object at 0x7fca79b82940>, '_task_type': 'worker', '_task_id': 0, '_global_id_in_cluster': 0, '_master': '', '_evaluation_master': '', '_is_chief': True, '_num_ps_replicas': 0, '_num_worker_replicas': 1}\n",
      "INFO:tensorflow:Calling model_fn.\n",
      "WARNING:tensorflow:Trapezoidal rule is known to produce incorrect PR-AUCs; please switch to \"careful_interpolation\" instead.\n",
      "WARNING:tensorflow:Trapezoidal rule is known to produce incorrect PR-AUCs; please switch to \"careful_interpolation\" instead.\n",
      "INFO:tensorflow:Done calling model_fn.\n",
      "INFO:tensorflow:Starting evaluation at 2019-01-04-15:47:49\n",
      "INFO:tensorflow:Graph was finalized.\n",
      "INFO:tensorflow:Restoring parameters from pierwszy_estymator/model/model.ckpt-1501\n",
      "INFO:tensorflow:Running local_init_op.\n",
      "INFO:tensorflow:Done running local_init_op.\n",
      "INFO:tensorflow:Finished evaluation at 2019-01-04-15:47:50\n",
      "INFO:tensorflow:Saving dict for global step 1501: accuracy = 0.8903182, accuracy_baseline = 0.5, auc = 0.9571239, auc_precision_recall = 0.9563879, average_loss = 0.2669688, global_step = 1501, label/mean = 0.5, loss = 33.919388, precision = 0.8951337, prediction/mean = 0.5038867, recall = 0.8842248\n"
     ]
    },
    {
     "data": {
      "text/plain": [
       "{'accuracy': 0.8903182,\n",
       " 'accuracy_baseline': 0.5,\n",
       " 'auc': 0.9571239,\n",
       " 'auc_precision_recall': 0.9563879,\n",
       " 'average_loss': 0.2669688,\n",
       " 'label/mean': 0.5,\n",
       " 'loss': 33.919388,\n",
       " 'precision': 0.8951337,\n",
       " 'prediction/mean': 0.5038867,\n",
       " 'recall': 0.8842248,\n",
       " 'global_step': 1501}"
      ]
     },
     "execution_count": 5,
     "metadata": {},
     "output_type": "execute_result"
    }
   ],
   "source": [
    "mod.evaluate('val', 'pierwszy_estymator', 100)"
   ]
  },
  {
   "cell_type": "code",
   "execution_count": null,
   "metadata": {},
   "outputs": [],
   "source": []
  }
 ],
 "metadata": {
  "kernelspec": {
   "display_name": "Python 3",
   "language": "python",
   "name": "python3"
  },
  "language_info": {
   "codemirror_mode": {
    "name": "ipython",
    "version": 3
   },
   "file_extension": ".py",
   "mimetype": "text/x-python",
   "name": "python",
   "nbconvert_exporter": "python",
   "pygments_lexer": "ipython3",
   "version": "3.6.5"
  }
 },
 "nbformat": 4,
 "nbformat_minor": 2
}
