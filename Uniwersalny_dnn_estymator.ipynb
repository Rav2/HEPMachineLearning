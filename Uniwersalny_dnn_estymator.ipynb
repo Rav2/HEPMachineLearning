{
 "cells": [
  {
   "cell_type": "code",
   "execution_count": 1,
   "metadata": {},
   "outputs": [],
   "source": [
    "import tensorflow as tf"
   ]
  },
  {
   "cell_type": "code",
   "execution_count": 2,
   "metadata": {},
   "outputs": [],
   "source": [
    "import numpy as np"
   ]
  },
  {
   "cell_type": "code",
   "execution_count": 3,
   "metadata": {},
   "outputs": [],
   "source": [
    "import matplotlib.pyplot as plt"
   ]
  },
  {
   "cell_type": "code",
   "execution_count": 4,
   "metadata": {},
   "outputs": [],
   "source": [
    "%matplotlib inline"
   ]
  },
  {
   "cell_type": "code",
   "execution_count": 5,
   "metadata": {},
   "outputs": [],
   "source": [
    "from sklearn.utils import shuffle"
   ]
  },
  {
   "cell_type": "code",
   "execution_count": null,
   "metadata": {},
   "outputs": [],
   "source": []
  },
  {
   "cell_type": "code",
   "execution_count": null,
   "metadata": {},
   "outputs": [],
   "source": []
  },
  {
   "cell_type": "code",
   "execution_count": null,
   "metadata": {},
   "outputs": [],
   "source": []
  },
  {
   "cell_type": "code",
   "execution_count": 9,
   "metadata": {
    "collapsed": true
   },
   "outputs": [],
   "source": [
    "#teraz sproboje z tego zrobic jakis dataset"
   ]
  },
  {
   "cell_type": "code",
   "execution_count": 10,
   "metadata": {
    "collapsed": true
   },
   "outputs": [],
   "source": [
    "#f,l=kolko_w_kolku()"
   ]
  },
  {
   "cell_type": "code",
   "execution_count": 11,
   "metadata": {
    "collapsed": true
   },
   "outputs": [],
   "source": [
    "#dataset = tf.data.Dataset.from_tensor_slices((f,l))"
   ]
  },
  {
   "cell_type": "code",
   "execution_count": 12,
   "metadata": {},
   "outputs": [],
   "source": [
    "#BATCH_SIZE=100\n",
    "#zbachowany=dataset.shuffle(1000).repeat().batch(BATCH_SIZE)"
   ]
  },
  {
   "cell_type": "code",
   "execution_count": 13,
   "metadata": {
    "collapsed": true
   },
   "outputs": [],
   "source": [
    "#to jest dataset zaraz zastanowie sie jak go zapisac do pliku i z tego pliku odczytac a teraz jak go czytac?"
   ]
  },
  {
   "cell_type": "code",
   "execution_count": 14,
   "metadata": {
    "collapsed": true
   },
   "outputs": [],
   "source": [
    "#iterator = zbachowany.make_one_shot_iterator()"
   ]
  },
  {
   "cell_type": "code",
   "execution_count": 15,
   "metadata": {
    "collapsed": true
   },
   "outputs": [],
   "source": [
    "#f,l=iterator.get_next()"
   ]
  },
  {
   "cell_type": "code",
   "execution_count": 16,
   "metadata": {},
   "outputs": [],
   "source": [
    "#with tf.Session() as sess:\n",
    "#    for i in range(100):\n",
    "#        sess.run(l)\n",
    "    "
   ]
  },
  {
   "cell_type": "code",
   "execution_count": null,
   "metadata": {
    "collapsed": true
   },
   "outputs": [],
   "source": [
    "\n",
    "    "
   ]
  },
  {
   "cell_type": "code",
   "execution_count": 17,
   "metadata": {},
   "outputs": [],
   "source": [
    "#wrap_float64([5.55,6.85]) #swietnie"
   ]
  },
  {
   "cell_type": "code",
   "execution_count": null,
   "metadata": {
    "collapsed": true
   },
   "outputs": [],
   "source": []
  },
  {
   "cell_type": "code",
   "execution_count": null,
   "metadata": {
    "collapsed": true
   },
   "outputs": [],
   "source": []
  },
  {
   "cell_type": "code",
   "execution_count": 9,
   "metadata": {
    "collapsed": true
   },
   "outputs": [],
   "source": []
  },
  {
   "cell_type": "code",
   "execution_count": null,
   "metadata": {},
   "outputs": [],
   "source": []
  },
  {
   "cell_type": "code",
   "execution_count": null,
   "metadata": {
    "collapsed": true
   },
   "outputs": [],
   "source": []
  },
  {
   "cell_type": "code",
   "execution_count": 12,
   "metadata": {},
   "outputs": [],
   "source": [
    "\n",
    "\n",
    "\"\"\"\n",
    "\n",
    "Podajemy slownik na takich samych zasadach co podawalismy do tamtego Io_tf_binary\n",
    "Tym razem jak podajemy sciezke do pliku to ten plik ma juz byc pelen danych. \n",
    "\n",
    "Na razie w pierwszym rzucie nie bedzie jeszcze danych typu kategorycznego.\n",
    "\n",
    "To ma byc kompatybilne z klasa Io_tf_binary_general\n",
    "\n",
    "__init__(nazwa_folderu,hidden_units,model_dir)\n",
    "        to jest nazwa_folderu odnosi sie do folderu w ktorym pisala klasa\n",
    "        Io_tf_binary_general czy cos\n",
    "        hidden_units to jest lista po ile ma byc ukrytych unitsow. czyli nie podajemy rozmiaru\n",
    "        danych wejsciowych ani wyjsciowych. idziemy od pierwszej (najblizszej inputu) do ostatniej\n",
    "        model_dir to tam bedzie pisac swoje rzeczy nasz model\n",
    "\n",
    "\n",
    "\n",
    "\n",
    "\"\"\"\n",
    "\n",
    "import Io_tf_binary_general as io\n",
    "\n",
    "\n",
    "class Dnn_uniwersalny:\n",
    "    def __init__(self,nazwa_folderu,hidden_units,model_dir):\n",
    "        self.model_dit=model_dir\n",
    "        self.hidden_units=hidden_units\n",
    "        self.wczytywacz=io.Io_tf_binary_general(nazwa_folderu,'r')\n",
    "        self.typy=self.wczytywacz.types()\n",
    "        my_feature_columns = []\n",
    "        for k in self.typy.keys():\n",
    "            if self.typy[k][1]=='f':\n",
    "                t=tf.float32\n",
    "            else:\n",
    "                t=tf.int32\n",
    "            my_feature_columns.append(tf.feature_column.numeric_column(key=k,shape=\\\n",
    "                        (self.typy[k][0],),dtype=t ))\n",
    "        \n",
    "        self.feature_columns=my_feature_columns\n",
    "        \n",
    "        def input_fn( batch_size=100,buffer_size=1000):\n",
    "            \"\"\"input function for training\n",
    "            nazwy to lista nazw feature w kolejnosci wystepowania\"\"\"\n",
    "            dataset=self.wczytywacz.read()\n",
    "            return dataset.shuffle(buffer_size).repeat().batch(batch_size)\n",
    "        self.input_fn=input_fn\n",
    "        \n",
    "        self.classifier = tf.estimator.DNNClassifier(\n",
    "        feature_columns=self.feature_columns,\n",
    "        hidden_units=self.hidden_units,\n",
    "        model_dir=model_dir,\n",
    "        n_classes=2)\n",
    "    def train(self,batch_size=128,buffer_size=1000,steps=3000):\n",
    "        self.classifier.train(\n",
    "        input_fn=lambda:self.input_fn( batch_size,buffer_size),\n",
    "        steps=steps)\n",
    "    def evaluate(self,batch_size=128,buffer_size=1000,steps=1000):\n",
    "        self.last_eval_result = self.classifier.evaluate(\n",
    "        input_fn=lambda:self.input_fn( batch_size,buffer_size),\n",
    "        steps=steps)\n",
    "        return self.last_eval_result\n",
    "    \n",
    "    \n",
    "    \n",
    "    \n",
    "        \n",
    "        \n",
    "        \n",
    "    \n",
    "        "
   ]
  },
  {
   "cell_type": "code",
   "execution_count": 13,
   "metadata": {},
   "outputs": [],
   "source": [
    "#Ta linijka zaklada, ze zrobilismy plik dane_treningowe2 wedlug Io_tf_binary"
   ]
  },
  {
   "cell_type": "code",
   "execution_count": 14,
   "metadata": {},
   "outputs": [
    {
     "name": "stdout",
     "output_type": "stream",
     "text": [
      "INFO:tensorflow:Using default config.\n",
      "INFO:tensorflow:Using config: {'_model_dir': 'weak_estimator', '_tf_random_seed': None, '_save_summary_steps': 100, '_save_checkpoints_steps': None, '_save_checkpoints_secs': 600, '_session_config': None, '_keep_checkpoint_max': 5, '_keep_checkpoint_every_n_hours': 10000, '_log_step_count_steps': 100, '_train_distribute': None, '_service': None, '_cluster_spec': <tensorflow.python.training.server_lib.ClusterSpec object at 0x7fa64d925208>, '_task_type': 'worker', '_task_id': 0, '_global_id_in_cluster': 0, '_master': '', '_evaluation_master': '', '_is_chief': True, '_num_ps_replicas': 0, '_num_worker_replicas': 1}\n"
     ]
    }
   ],
   "source": [
    "model=Dnn_uniwersalny('weak_train',[10],\"weak_estimator\")"
   ]
  },
  {
   "cell_type": "code",
   "execution_count": 15,
   "metadata": {},
   "outputs": [
    {
     "name": "stdout",
     "output_type": "stream",
     "text": [
      "{'pierwsza': FixedLenFeature(shape=[1], dtype=tf.float32, default_value=None), 'inna_wlasnosc': FixedLenFeature(shape=[1], dtype=tf.float32, default_value=None), 'label': FixedLenFeature(shape=[], dtype=tf.int64, default_value=None)}\n",
      "INFO:tensorflow:Calling model_fn.\n",
      "INFO:tensorflow:Done calling model_fn.\n",
      "INFO:tensorflow:Create CheckpointSaverHook.\n",
      "INFO:tensorflow:Graph was finalized.\n",
      "INFO:tensorflow:Running local_init_op.\n",
      "INFO:tensorflow:Done running local_init_op.\n",
      "INFO:tensorflow:Saving checkpoints for 1 into weak_estimator/model.ckpt.\n",
      "INFO:tensorflow:loss = 91.72041, step = 1\n",
      "INFO:tensorflow:global_step/sec: 159.83\n",
      "INFO:tensorflow:loss = 84.346756, step = 101 (0.627 sec)\n",
      "INFO:tensorflow:global_step/sec: 183.737\n",
      "INFO:tensorflow:loss = 83.75353, step = 201 (0.544 sec)\n",
      "INFO:tensorflow:global_step/sec: 194.471\n",
      "INFO:tensorflow:loss = 84.53551, step = 301 (0.516 sec)\n",
      "INFO:tensorflow:global_step/sec: 191.504\n",
      "INFO:tensorflow:loss = 88.83089, step = 401 (0.520 sec)\n",
      "INFO:tensorflow:global_step/sec: 194.374\n",
      "INFO:tensorflow:loss = 85.16959, step = 501 (0.515 sec)\n",
      "INFO:tensorflow:global_step/sec: 192.264\n",
      "INFO:tensorflow:loss = 83.59988, step = 601 (0.520 sec)\n",
      "INFO:tensorflow:global_step/sec: 200.782\n",
      "INFO:tensorflow:loss = 88.092834, step = 701 (0.498 sec)\n",
      "INFO:tensorflow:global_step/sec: 182.213\n",
      "INFO:tensorflow:loss = 88.884796, step = 801 (0.548 sec)\n",
      "INFO:tensorflow:global_step/sec: 185.298\n",
      "INFO:tensorflow:loss = 86.173935, step = 901 (0.540 sec)\n",
      "INFO:tensorflow:global_step/sec: 191.444\n",
      "INFO:tensorflow:loss = 89.752975, step = 1001 (0.522 sec)\n",
      "INFO:tensorflow:global_step/sec: 189.808\n",
      "INFO:tensorflow:loss = 85.99057, step = 1101 (0.527 sec)\n",
      "INFO:tensorflow:global_step/sec: 185.221\n",
      "INFO:tensorflow:loss = 89.91435, step = 1201 (0.540 sec)\n",
      "INFO:tensorflow:global_step/sec: 194.736\n",
      "INFO:tensorflow:loss = 84.9281, step = 1301 (0.514 sec)\n",
      "INFO:tensorflow:global_step/sec: 188.339\n",
      "INFO:tensorflow:loss = 84.85048, step = 1401 (0.531 sec)\n",
      "INFO:tensorflow:global_step/sec: 188.488\n",
      "INFO:tensorflow:loss = 83.16728, step = 1501 (0.530 sec)\n",
      "INFO:tensorflow:global_step/sec: 175.505\n",
      "INFO:tensorflow:loss = 85.482796, step = 1601 (0.570 sec)\n",
      "INFO:tensorflow:global_step/sec: 192.446\n",
      "INFO:tensorflow:loss = 86.4607, step = 1701 (0.520 sec)\n",
      "INFO:tensorflow:global_step/sec: 186.582\n",
      "INFO:tensorflow:loss = 88.00499, step = 1801 (0.535 sec)\n",
      "INFO:tensorflow:global_step/sec: 187.352\n",
      "INFO:tensorflow:loss = 82.95941, step = 1901 (0.534 sec)\n",
      "INFO:tensorflow:global_step/sec: 185.053\n",
      "INFO:tensorflow:loss = 83.722244, step = 2001 (0.541 sec)\n",
      "INFO:tensorflow:global_step/sec: 169.539\n",
      "INFO:tensorflow:loss = 83.689514, step = 2101 (0.593 sec)\n",
      "INFO:tensorflow:global_step/sec: 176.916\n",
      "INFO:tensorflow:loss = 85.92981, step = 2201 (0.563 sec)\n",
      "INFO:tensorflow:global_step/sec: 196.778\n",
      "INFO:tensorflow:loss = 84.686554, step = 2301 (0.510 sec)\n",
      "INFO:tensorflow:global_step/sec: 182.047\n",
      "INFO:tensorflow:loss = 84.577255, step = 2401 (0.549 sec)\n",
      "INFO:tensorflow:global_step/sec: 186.526\n",
      "INFO:tensorflow:loss = 88.84481, step = 2501 (0.536 sec)\n",
      "INFO:tensorflow:global_step/sec: 187.665\n",
      "INFO:tensorflow:loss = 86.349174, step = 2601 (0.534 sec)\n",
      "INFO:tensorflow:global_step/sec: 166.46\n",
      "INFO:tensorflow:loss = 83.10368, step = 2701 (0.601 sec)\n",
      "INFO:tensorflow:global_step/sec: 162.392\n",
      "INFO:tensorflow:loss = 86.52405, step = 2801 (0.614 sec)\n",
      "INFO:tensorflow:global_step/sec: 196.873\n",
      "INFO:tensorflow:loss = 88.92258, step = 2901 (0.508 sec)\n",
      "INFO:tensorflow:Saving checkpoints for 3000 into weak_estimator/model.ckpt.\n",
      "INFO:tensorflow:Loss for final step: 86.53033.\n"
     ]
    }
   ],
   "source": [
    "model.train()"
   ]
  },
  {
   "cell_type": "code",
   "execution_count": 16,
   "metadata": {},
   "outputs": [
    {
     "name": "stdout",
     "output_type": "stream",
     "text": [
      "{'pierwsza': FixedLenFeature(shape=[1], dtype=tf.float32, default_value=None), 'inna_wlasnosc': FixedLenFeature(shape=[1], dtype=tf.float32, default_value=None), 'label': FixedLenFeature(shape=[], dtype=tf.int64, default_value=None)}\n",
      "INFO:tensorflow:Calling model_fn.\n",
      "WARNING:tensorflow:Trapezoidal rule is known to produce incorrect PR-AUCs; please switch to \"careful_interpolation\" instead.\n",
      "WARNING:tensorflow:Trapezoidal rule is known to produce incorrect PR-AUCs; please switch to \"careful_interpolation\" instead.\n",
      "INFO:tensorflow:Done calling model_fn.\n",
      "INFO:tensorflow:Starting evaluation at 2018-05-13-13:37:59\n",
      "INFO:tensorflow:Graph was finalized.\n",
      "INFO:tensorflow:Restoring parameters from weak_estimator/model.ckpt-3000\n",
      "INFO:tensorflow:Running local_init_op.\n",
      "INFO:tensorflow:Done running local_init_op.\n",
      "INFO:tensorflow:Evaluation [100/1000]\n",
      "INFO:tensorflow:Evaluation [200/1000]\n",
      "INFO:tensorflow:Evaluation [300/1000]\n",
      "INFO:tensorflow:Evaluation [400/1000]\n",
      "INFO:tensorflow:Evaluation [500/1000]\n",
      "INFO:tensorflow:Evaluation [600/1000]\n",
      "INFO:tensorflow:Evaluation [700/1000]\n",
      "INFO:tensorflow:Evaluation [800/1000]\n",
      "INFO:tensorflow:Evaluation [900/1000]\n",
      "INFO:tensorflow:Evaluation [1000/1000]\n",
      "INFO:tensorflow:Finished evaluation at 2018-05-13-13:38:07\n",
      "INFO:tensorflow:Saving dict for global step 3000: accuracy = 0.6055781, accuracy_baseline = 0.5031328, auc = 0.6215453, auc_precision_recall = 0.59210587, average_loss = 0.6676708, global_step = 3000, label/mean = 0.5031328, loss = 85.46186, precision = 0.5866298, prediction/mean = 0.5049913, recall = 0.7315725\n"
     ]
    },
    {
     "data": {
      "text/plain": [
       "{'accuracy': 0.6055781,\n",
       " 'accuracy_baseline': 0.5031328,\n",
       " 'auc': 0.6215453,\n",
       " 'auc_precision_recall': 0.59210587,\n",
       " 'average_loss': 0.6676708,\n",
       " 'label/mean': 0.5031328,\n",
       " 'loss': 85.46186,\n",
       " 'precision': 0.5866298,\n",
       " 'prediction/mean': 0.5049913,\n",
       " 'recall': 0.7315725,\n",
       " 'global_step': 3000}"
      ]
     },
     "execution_count": 16,
     "metadata": {},
     "output_type": "execute_result"
    }
   ],
   "source": [
    "model.evaluate()"
   ]
  },
  {
   "cell_type": "code",
   "execution_count": 11,
   "metadata": {},
   "outputs": [],
   "source": []
  },
  {
   "cell_type": "code",
   "execution_count": 12,
   "metadata": {},
   "outputs": [],
   "source": []
  },
  {
   "cell_type": "code",
   "execution_count": null,
   "metadata": {},
   "outputs": [],
   "source": []
  },
  {
   "cell_type": "code",
   "execution_count": null,
   "metadata": {},
   "outputs": [],
   "source": []
  },
  {
   "cell_type": "code",
   "execution_count": 22,
   "metadata": {
    "collapsed": true
   },
   "outputs": [],
   "source": []
  },
  {
   "cell_type": "code",
   "execution_count": 24,
   "metadata": {
    "collapsed": true
   },
   "outputs": [],
   "source": []
  },
  {
   "cell_type": "code",
   "execution_count": null,
   "metadata": {
    "collapsed": true
   },
   "outputs": [],
   "source": []
  },
  {
   "cell_type": "code",
   "execution_count": 25,
   "metadata": {
    "collapsed": true
   },
   "outputs": [],
   "source": []
  },
  {
   "cell_type": "code",
   "execution_count": null,
   "metadata": {},
   "outputs": [],
   "source": []
  },
  {
   "cell_type": "code",
   "execution_count": null,
   "metadata": {
    "collapsed": true
   },
   "outputs": [],
   "source": []
  },
  {
   "cell_type": "code",
   "execution_count": 27,
   "metadata": {
    "collapsed": true
   },
   "outputs": [],
   "source": []
  },
  {
   "cell_type": "code",
   "execution_count": null,
   "metadata": {},
   "outputs": [],
   "source": []
  },
  {
   "cell_type": "code",
   "execution_count": null,
   "metadata": {},
   "outputs": [],
   "source": []
  },
  {
   "cell_type": "code",
   "execution_count": null,
   "metadata": {},
   "outputs": [],
   "source": []
  },
  {
   "cell_type": "code",
   "execution_count": null,
   "metadata": {},
   "outputs": [],
   "source": []
  },
  {
   "cell_type": "code",
   "execution_count": null,
   "metadata": {
    "collapsed": true
   },
   "outputs": [],
   "source": []
  },
  {
   "cell_type": "code",
   "execution_count": null,
   "metadata": {},
   "outputs": [],
   "source": [
    "\n",
    "    "
   ]
  },
  {
   "cell_type": "code",
   "execution_count": null,
   "metadata": {
    "collapsed": true
   },
   "outputs": [],
   "source": []
  },
  {
   "cell_type": "code",
   "execution_count": null,
   "metadata": {
    "collapsed": true
   },
   "outputs": [],
   "source": []
  }
 ],
 "metadata": {
  "kernelspec": {
   "display_name": "Python 3",
   "language": "python",
   "name": "python3"
  },
  "language_info": {
   "codemirror_mode": {
    "name": "ipython",
    "version": 3
   },
   "file_extension": ".py",
   "mimetype": "text/x-python",
   "name": "python",
   "nbconvert_exporter": "python",
   "pygments_lexer": "ipython3",
   "version": "3.6.5"
  }
 },
 "nbformat": 4,
 "nbformat_minor": 2
}
